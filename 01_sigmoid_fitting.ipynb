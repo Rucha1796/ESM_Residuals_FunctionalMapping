{
  "nbformat": 4,
  "nbformat_minor": 0,
  "metadata": {
    "colab": {
      "provenance": []
    },
    "kernelspec": {
      "name": "python3",
      "display_name": "Python 3"
    },
    "language_info": {
      "name": "python"
    }
  },
  "cells": [
    {
      "cell_type": "code",
      "source": [
        "!fusermount -u /content/gdrive"
      ],
      "metadata": {
        "id": "zUkqO77_WMwn"
      },
      "execution_count": null,
      "outputs": []
    },
    {
      "cell_type": "code",
      "source": [
        "from google.colab import drive\n",
        "drive.mount('/content/gdrive', force_remount=True)"
      ],
      "metadata": {
        "colab": {
          "base_uri": "https://localhost:8080/"
        },
        "id": "Cv4PO-7-WO01",
        "outputId": "1fbcf667-7f33-472c-c4ad-1153bcefb8bf"
      },
      "execution_count": null,
      "outputs": [
        {
          "output_type": "stream",
          "name": "stdout",
          "text": [
            "Mounted at /content/gdrive\n"
          ]
        }
      ]
    },
    {
      "cell_type": "code",
      "source": [
        "# Imports and Setup\n",
        "\n",
        "import pandas as pd\n",
        "import numpy as np\n",
        "import matplotlib.pyplot as plt\n",
        "import seaborn as sns\n",
        "from scipy.stats import pearsonr\n",
        "from scipy.stats import norm, fisher_exact\n",
        "from scipy.optimize import curve_fit\n",
        "from statsmodels.stats.multitest import fdrcorrection\n",
        "\n",
        "sns.set(style=\"whitegrid\")\n",
        "\n",
        "print(\"Imports done!\")"
      ],
      "metadata": {
        "colab": {
          "base_uri": "https://localhost:8080/"
        },
        "id": "90AalLIg9-Q5",
        "outputId": "5d01f07e-47b6-47dd-dfee-e74c19437acf"
      },
      "execution_count": null,
      "outputs": [
        {
          "output_type": "stream",
          "name": "stdout",
          "text": [
            "Imports done!\n"
          ]
        }
      ]
    },
    {
      "cell_type": "code",
      "source": [
        "# Load Input Files\n",
        "\n",
        "base_dir = \"/content/gdrive/MyDrive/Datasets\"\n",
        "\n",
        "mut_domainome_file = f\"{base_dir}/mutated_domainome_merged_filtered.txt\"\n",
        "esm_file = f\"{base_dir}/mut1vfl_annotated.csv\"\n",
        "ranked_domains_file = f\"{base_dir}/domain_QC_summary_reproducibility_ranked.txt\"\n",
        "\n",
        "mut_df = pd.read_csv(mut_domainome_file, sep=\"\\t\")\n",
        "esm_df = pd.read_csv(esm_file)\n",
        "ranked_domains = pd.read_csv(ranked_domains_file, sep=\"\\t\")\n",
        "\n",
        "print(\"mut_df shape:\", mut_df.shape)\n",
        "print(\"esm_df shape:\", esm_df.shape)\n",
        "print(\"ranked_domains shape:\", ranked_domains.shape)\n",
        "\n",
        "\n",
        "print(\"\\nmut_df columns:\", mut_df.columns.tolist())\n",
        "print(\"esm_df columns:\", esm_df.columns.tolist())\n",
        "print(\"ranked_domains columns:\", ranked_domains.columns.tolist())\n",
        "\n",
        "#Keep only relevant columns from ESM\n",
        "esm_df = esm_df[[\"aa_seq\", \"esm1vfl_score\", 'entropy']]\n",
        "#print(\"\\nesm_df after column filtering:\", esm_df.shape)"
      ],
      "metadata": {
        "colab": {
          "base_uri": "https://localhost:8080/"
        },
        "id": "Sc8RfGq9-AIK",
        "outputId": "46ddcd76-9368-499d-c63b-39b46534c76e"
      },
      "execution_count": null,
      "outputs": [
        {
          "output_type": "stream",
          "name": "stdout",
          "text": [
            "mut_df shape: (602882, 110)\n",
            "esm_df shape: (595220, 14)\n",
            "ranked_domains shape: (522, 36)\n",
            "\n",
            "mut_df columns: ['wt_seq', 'aa_seq', 'dom_ID', 'variant_ID', 'pos', 'pos_in_uniprot', 'WT', 'wt_aa', 'mut_aa', 'nt_seq', 'Nham_nt', 'Nham_aa', 'Nmut_codons', 'indel', 'STOP', 'STOP_readthrough', 'count_e1_s0', 'count_e2_s0', 'count_e3_s0', 'count_e1_s1', 'count_e2_s1', 'count_e3_s1', 'mean_count', 'fitness1_uncorr', 'fitness2_uncorr', 'fitness3_uncorr', 'sigma1_uncorr', 'sigma2_uncorr', 'sigma3_uncorr', 'fitness', 'sigma', 'growthrate1', 'growthrate1_sigma', 'growthrate2', 'growthrate2_sigma', 'growthrate3', 'growthrate3_sigma', 'growthrate', 'growthrate_sigma', 'library', 'missing', 'dead', 'secondary_structure_code', 'secondary_structure', 'Phi', 'Psi', 'Area', 'sasa_all', 'rsasa_all', 'sasa_sidechain', 'rsasa_sidechain', 'sasa_mainchain', 'rsasa_mainchain', 'sasa_nonpolar', 'rsasa_nonpolar', 'sasa_polar', 'rsasa_polar', 'pLDDT', 'vdw_inter', 'vdw_intra', 'sb_inter', 'sb_intra', 'hbbb_inter', 'hbbb_intra', 'hbsb_inter', 'hbsb_intra', 'hbss_inter', 'hbss_intra', 'hp_inter', 'hp_intra', 'pc_inter', 'pc_intra', 'ps_inter', 'ps_intra', 'ts_inter', 'ts_intra', 'wb_inter', 'wb_intra', 'V1', 'PC1', 'PC2', 'PC3', 'PC4', 'PC5', 'PC6', 'PC7', 'PC8', 'PC9', 'PC10', 'PC11', 'PC12', 'PC13', 'PC14', 'PC15', 'PC16', 'PC17', 'PC18', 'PC19', 'PC20', 'dom_ID_library', 'PFAM_ID', 'wt_gr', 'delta_gr', 'dead_gr', 'scaled_gr', 'scaled_gr_sigma', 'dom_ID_lib', 'proline', 'core', 'mut_class']\n",
            "esm_df columns: ['seq_id', 'mut_name', 'pos', 'pos.1', 'raw_logit', 'log_prob', 'esm1vfl_score', 'max_logit', 'mean_logit', 'entropy', 'aa_max_logit', 'variant_ID', 'aa_seq', 'wt_seq']\n",
            "ranked_domains columns: ['doms_lib', 'library', 'nvars', 'uniprot_ID', 'doms', 'cors_nostops', 'cors_nostops_ct30', 'cors_pc1', 'wt_gr', 'wt_gr_sigma', 'wt_gr_percentile', 'gr_range', 'gr_range_perc90', 'median_stops', 'median_synonyms', 'domlength', 'corsasa', 'median_surface_gr', 'median_core_gr', 'median_core_gr_polarmuts', 'wt_gr_diff_to_perc95', 'completeness', 'surface_minus_core', 'wt_position', 'PFAM_ID', 'Organism', 'PC1', 'PC2', 'PC3', 'PC4', 'dom_ID', 'organism', 'rank', 'nvars_human', 'totalvars', 'totalvars_human']\n"
          ]
        }
      ]
    },
    {
      "cell_type": "code",
      "source": [
        "esm_df.head()"
      ],
      "metadata": {
        "colab": {
          "base_uri": "https://localhost:8080/",
          "height": 206
        },
        "id": "F-99dchJYFc2",
        "outputId": "6a082907-182a-4da6-89a7-42621d8f17a3"
      },
      "execution_count": null,
      "outputs": [
        {
          "output_type": "execute_result",
          "data": {
            "text/plain": [
              "                   aa_seq  esm1vfl_score   entropy\n",
              "0  KCKVCGKGFRQASTLCRHKIIH     -13.788274  0.014301\n",
              "1  RCKVCGKGFRQASTLCRHKIIH     -13.782727  0.014301\n",
              "2  HCKVCGKGFRQASTLCRHKIIH     -13.540111  0.014301\n",
              "3  ECKVCGKGFRQASTLCRHKIIH      -8.389194  0.014301\n",
              "4  DCKVCGKGFRQASTLCRHKIIH     -11.883451  0.014301"
            ],
            "text/html": [
              "\n",
              "  <div id=\"df-a1e6683b-7631-4cd8-84db-931b8131d0ea\" class=\"colab-df-container\">\n",
              "    <div>\n",
              "<style scoped>\n",
              "    .dataframe tbody tr th:only-of-type {\n",
              "        vertical-align: middle;\n",
              "    }\n",
              "\n",
              "    .dataframe tbody tr th {\n",
              "        vertical-align: top;\n",
              "    }\n",
              "\n",
              "    .dataframe thead th {\n",
              "        text-align: right;\n",
              "    }\n",
              "</style>\n",
              "<table border=\"1\" class=\"dataframe\">\n",
              "  <thead>\n",
              "    <tr style=\"text-align: right;\">\n",
              "      <th></th>\n",
              "      <th>aa_seq</th>\n",
              "      <th>esm1vfl_score</th>\n",
              "      <th>entropy</th>\n",
              "    </tr>\n",
              "  </thead>\n",
              "  <tbody>\n",
              "    <tr>\n",
              "      <th>0</th>\n",
              "      <td>KCKVCGKGFRQASTLCRHKIIH</td>\n",
              "      <td>-13.788274</td>\n",
              "      <td>0.014301</td>\n",
              "    </tr>\n",
              "    <tr>\n",
              "      <th>1</th>\n",
              "      <td>RCKVCGKGFRQASTLCRHKIIH</td>\n",
              "      <td>-13.782727</td>\n",
              "      <td>0.014301</td>\n",
              "    </tr>\n",
              "    <tr>\n",
              "      <th>2</th>\n",
              "      <td>HCKVCGKGFRQASTLCRHKIIH</td>\n",
              "      <td>-13.540111</td>\n",
              "      <td>0.014301</td>\n",
              "    </tr>\n",
              "    <tr>\n",
              "      <th>3</th>\n",
              "      <td>ECKVCGKGFRQASTLCRHKIIH</td>\n",
              "      <td>-8.389194</td>\n",
              "      <td>0.014301</td>\n",
              "    </tr>\n",
              "    <tr>\n",
              "      <th>4</th>\n",
              "      <td>DCKVCGKGFRQASTLCRHKIIH</td>\n",
              "      <td>-11.883451</td>\n",
              "      <td>0.014301</td>\n",
              "    </tr>\n",
              "  </tbody>\n",
              "</table>\n",
              "</div>\n",
              "    <div class=\"colab-df-buttons\">\n",
              "\n",
              "  <div class=\"colab-df-container\">\n",
              "    <button class=\"colab-df-convert\" onclick=\"convertToInteractive('df-a1e6683b-7631-4cd8-84db-931b8131d0ea')\"\n",
              "            title=\"Convert this dataframe to an interactive table.\"\n",
              "            style=\"display:none;\">\n",
              "\n",
              "  <svg xmlns=\"http://www.w3.org/2000/svg\" height=\"24px\" viewBox=\"0 -960 960 960\">\n",
              "    <path d=\"M120-120v-720h720v720H120Zm60-500h600v-160H180v160Zm220 220h160v-160H400v160Zm0 220h160v-160H400v160ZM180-400h160v-160H180v160Zm440 0h160v-160H620v160ZM180-180h160v-160H180v160Zm440 0h160v-160H620v160Z\"/>\n",
              "  </svg>\n",
              "    </button>\n",
              "\n",
              "  <style>\n",
              "    .colab-df-container {\n",
              "      display:flex;\n",
              "      gap: 12px;\n",
              "    }\n",
              "\n",
              "    .colab-df-convert {\n",
              "      background-color: #E8F0FE;\n",
              "      border: none;\n",
              "      border-radius: 50%;\n",
              "      cursor: pointer;\n",
              "      display: none;\n",
              "      fill: #1967D2;\n",
              "      height: 32px;\n",
              "      padding: 0 0 0 0;\n",
              "      width: 32px;\n",
              "    }\n",
              "\n",
              "    .colab-df-convert:hover {\n",
              "      background-color: #E2EBFA;\n",
              "      box-shadow: 0px 1px 2px rgba(60, 64, 67, 0.3), 0px 1px 3px 1px rgba(60, 64, 67, 0.15);\n",
              "      fill: #174EA6;\n",
              "    }\n",
              "\n",
              "    .colab-df-buttons div {\n",
              "      margin-bottom: 4px;\n",
              "    }\n",
              "\n",
              "    [theme=dark] .colab-df-convert {\n",
              "      background-color: #3B4455;\n",
              "      fill: #D2E3FC;\n",
              "    }\n",
              "\n",
              "    [theme=dark] .colab-df-convert:hover {\n",
              "      background-color: #434B5C;\n",
              "      box-shadow: 0px 1px 3px 1px rgba(0, 0, 0, 0.15);\n",
              "      filter: drop-shadow(0px 1px 2px rgba(0, 0, 0, 0.3));\n",
              "      fill: #FFFFFF;\n",
              "    }\n",
              "  </style>\n",
              "\n",
              "    <script>\n",
              "      const buttonEl =\n",
              "        document.querySelector('#df-a1e6683b-7631-4cd8-84db-931b8131d0ea button.colab-df-convert');\n",
              "      buttonEl.style.display =\n",
              "        google.colab.kernel.accessAllowed ? 'block' : 'none';\n",
              "\n",
              "      async function convertToInteractive(key) {\n",
              "        const element = document.querySelector('#df-a1e6683b-7631-4cd8-84db-931b8131d0ea');\n",
              "        const dataTable =\n",
              "          await google.colab.kernel.invokeFunction('convertToInteractive',\n",
              "                                                    [key], {});\n",
              "        if (!dataTable) return;\n",
              "\n",
              "        const docLinkHtml = 'Like what you see? Visit the ' +\n",
              "          '<a target=\"_blank\" href=https://colab.research.google.com/notebooks/data_table.ipynb>data table notebook</a>'\n",
              "          + ' to learn more about interactive tables.';\n",
              "        element.innerHTML = '';\n",
              "        dataTable['output_type'] = 'display_data';\n",
              "        await google.colab.output.renderOutput(dataTable, element);\n",
              "        const docLink = document.createElement('div');\n",
              "        docLink.innerHTML = docLinkHtml;\n",
              "        element.appendChild(docLink);\n",
              "      }\n",
              "    </script>\n",
              "  </div>\n",
              "\n",
              "\n",
              "<div id=\"df-0f8ff75b-7d02-4a4b-91b1-80c7611ec1d5\">\n",
              "  <button class=\"colab-df-quickchart\" onclick=\"quickchart('df-0f8ff75b-7d02-4a4b-91b1-80c7611ec1d5')\"\n",
              "            title=\"Suggest charts\"\n",
              "            style=\"display:none;\">\n",
              "\n",
              "<svg xmlns=\"http://www.w3.org/2000/svg\" height=\"24px\"viewBox=\"0 0 24 24\"\n",
              "     width=\"24px\">\n",
              "    <g>\n",
              "        <path d=\"M19 3H5c-1.1 0-2 .9-2 2v14c0 1.1.9 2 2 2h14c1.1 0 2-.9 2-2V5c0-1.1-.9-2-2-2zM9 17H7v-7h2v7zm4 0h-2V7h2v10zm4 0h-2v-4h2v4z\"/>\n",
              "    </g>\n",
              "</svg>\n",
              "  </button>\n",
              "\n",
              "<style>\n",
              "  .colab-df-quickchart {\n",
              "      --bg-color: #E8F0FE;\n",
              "      --fill-color: #1967D2;\n",
              "      --hover-bg-color: #E2EBFA;\n",
              "      --hover-fill-color: #174EA6;\n",
              "      --disabled-fill-color: #AAA;\n",
              "      --disabled-bg-color: #DDD;\n",
              "  }\n",
              "\n",
              "  [theme=dark] .colab-df-quickchart {\n",
              "      --bg-color: #3B4455;\n",
              "      --fill-color: #D2E3FC;\n",
              "      --hover-bg-color: #434B5C;\n",
              "      --hover-fill-color: #FFFFFF;\n",
              "      --disabled-bg-color: #3B4455;\n",
              "      --disabled-fill-color: #666;\n",
              "  }\n",
              "\n",
              "  .colab-df-quickchart {\n",
              "    background-color: var(--bg-color);\n",
              "    border: none;\n",
              "    border-radius: 50%;\n",
              "    cursor: pointer;\n",
              "    display: none;\n",
              "    fill: var(--fill-color);\n",
              "    height: 32px;\n",
              "    padding: 0;\n",
              "    width: 32px;\n",
              "  }\n",
              "\n",
              "  .colab-df-quickchart:hover {\n",
              "    background-color: var(--hover-bg-color);\n",
              "    box-shadow: 0 1px 2px rgba(60, 64, 67, 0.3), 0 1px 3px 1px rgba(60, 64, 67, 0.15);\n",
              "    fill: var(--button-hover-fill-color);\n",
              "  }\n",
              "\n",
              "  .colab-df-quickchart-complete:disabled,\n",
              "  .colab-df-quickchart-complete:disabled:hover {\n",
              "    background-color: var(--disabled-bg-color);\n",
              "    fill: var(--disabled-fill-color);\n",
              "    box-shadow: none;\n",
              "  }\n",
              "\n",
              "  .colab-df-spinner {\n",
              "    border: 2px solid var(--fill-color);\n",
              "    border-color: transparent;\n",
              "    border-bottom-color: var(--fill-color);\n",
              "    animation:\n",
              "      spin 1s steps(1) infinite;\n",
              "  }\n",
              "\n",
              "  @keyframes spin {\n",
              "    0% {\n",
              "      border-color: transparent;\n",
              "      border-bottom-color: var(--fill-color);\n",
              "      border-left-color: var(--fill-color);\n",
              "    }\n",
              "    20% {\n",
              "      border-color: transparent;\n",
              "      border-left-color: var(--fill-color);\n",
              "      border-top-color: var(--fill-color);\n",
              "    }\n",
              "    30% {\n",
              "      border-color: transparent;\n",
              "      border-left-color: var(--fill-color);\n",
              "      border-top-color: var(--fill-color);\n",
              "      border-right-color: var(--fill-color);\n",
              "    }\n",
              "    40% {\n",
              "      border-color: transparent;\n",
              "      border-right-color: var(--fill-color);\n",
              "      border-top-color: var(--fill-color);\n",
              "    }\n",
              "    60% {\n",
              "      border-color: transparent;\n",
              "      border-right-color: var(--fill-color);\n",
              "    }\n",
              "    80% {\n",
              "      border-color: transparent;\n",
              "      border-right-color: var(--fill-color);\n",
              "      border-bottom-color: var(--fill-color);\n",
              "    }\n",
              "    90% {\n",
              "      border-color: transparent;\n",
              "      border-bottom-color: var(--fill-color);\n",
              "    }\n",
              "  }\n",
              "</style>\n",
              "\n",
              "  <script>\n",
              "    async function quickchart(key) {\n",
              "      const quickchartButtonEl =\n",
              "        document.querySelector('#' + key + ' button');\n",
              "      quickchartButtonEl.disabled = true;  // To prevent multiple clicks.\n",
              "      quickchartButtonEl.classList.add('colab-df-spinner');\n",
              "      try {\n",
              "        const charts = await google.colab.kernel.invokeFunction(\n",
              "            'suggestCharts', [key], {});\n",
              "      } catch (error) {\n",
              "        console.error('Error during call to suggestCharts:', error);\n",
              "      }\n",
              "      quickchartButtonEl.classList.remove('colab-df-spinner');\n",
              "      quickchartButtonEl.classList.add('colab-df-quickchart-complete');\n",
              "    }\n",
              "    (() => {\n",
              "      let quickchartButtonEl =\n",
              "        document.querySelector('#df-0f8ff75b-7d02-4a4b-91b1-80c7611ec1d5 button');\n",
              "      quickchartButtonEl.style.display =\n",
              "        google.colab.kernel.accessAllowed ? 'block' : 'none';\n",
              "    })();\n",
              "  </script>\n",
              "</div>\n",
              "\n",
              "    </div>\n",
              "  </div>\n"
            ],
            "application/vnd.google.colaboratory.intrinsic+json": {
              "type": "dataframe",
              "variable_name": "esm_df"
            }
          },
          "metadata": {},
          "execution_count": 24
        }
      ]
    },
    {
      "cell_type": "code",
      "source": [
        "#Merge ESM1v scores\n",
        "mut_merged = pd.merge(mut_df, esm_df, on=\"aa_seq\", how=\"left\")\n",
        "\n",
        "print(\"After merge, shape:\", mut_merged.shape)\n",
        "#Check how many rows have NA ESM1v + mutated\n",
        "na_mask = mut_merged[\"esm1vfl_score\"].isna() & (mut_merged[\"WT\"] == False)\n",
        "print(\"Rows with NA ESM1v & mutated:\", na_mask.sum())\n",
        "\n",
        "#Drop mutants without ESM1v\n",
        "mut_merged = mut_merged[~na_mask]\n",
        "print(\"After dropping those, shape:\", mut_merged.shape)\n",
        "\n",
        "print(mut_merged.head(5))"
      ],
      "metadata": {
        "colab": {
          "base_uri": "https://localhost:8080/"
        },
        "id": "W35esQo0-MkQ",
        "outputId": "00c6522d-c9fc-405b-d717-805ec4abeb1b"
      },
      "execution_count": null,
      "outputs": [
        {
          "output_type": "stream",
          "name": "stdout",
          "text": [
            "After merge, shape: (605281, 112)\n",
            "Rows with NA ESM1v & mutated: 36901\n",
            "After dropping those, shape: (568380, 112)\n",
            "                   wt_seq                  aa_seq               dom_ID  \\\n",
            "2  ACEQCGKSFARKDMLKEHMRVH  AAEQCGKSFARKDMLKEHMRVH  P57071_PF00096_1085   \n",
            "4  ACEQCGKSFARKDMLKEHMRVH  ACAQCGKSFARKDMLKEHMRVH  P57071_PF00096_1085   \n",
            "5  ACEQCGKSFARKDMLKEHMRVH  ACCQCGKSFARKDMLKEHMRVH  P57071_PF00096_1085   \n",
            "6  ACEQCGKSFARKDMLKEHMRVH  ACDQCGKSFARKDMLKEHMRVH  P57071_PF00096_1085   \n",
            "8  ACEQCGKSFARKDMLKEHMRVH  ACEACGKSFARKDMLKEHMRVH  P57071_PF00096_1085   \n",
            "\n",
            "                variant_ID  pos  pos_in_uniprot     WT wt_aa mut_aa  nt_seq  \\\n",
            "2  P57071_PF00096_1085_C2A  2.0          1086.0  False     C      A     NaN   \n",
            "4  P57071_PF00096_1085_E3A  3.0          1087.0  False     E      A     NaN   \n",
            "5  P57071_PF00096_1085_E3C  3.0          1087.0  False     E      C     NaN   \n",
            "6  P57071_PF00096_1085_E3D  3.0          1087.0  False     E      D     NaN   \n",
            "8  P57071_PF00096_1085_Q4A  4.0          1088.0  False     Q      A     NaN   \n",
            "\n",
            "   ...  delta_gr   dead_gr  scaled_gr scaled_gr_sigma              dom_ID_lib  \\\n",
            "2  ... -0.022340  0.025905  -0.309755        0.096451  P57071_PF00096_1085_A1   \n",
            "4  ... -0.028431  0.025905  -0.394199        0.110932  P57071_PF00096_1085_A1   \n",
            "5  ...  0.006947  0.025905   0.096326        0.077868  P57071_PF00096_1085_A1   \n",
            "6  ...  0.013324  0.025905   0.184738        0.121529  P57071_PF00096_1085_A1   \n",
            "8  ... -0.019745  0.025905  -0.273774        0.089167  P57071_PF00096_1085_A1   \n",
            "\n",
            "  proline     core    mut_class  esm1vfl_score   entropy  \n",
            "2   False     core  hydrophobic      -4.115774  1.202878  \n",
            "4   False  surface  hydrophobic      -1.474950  2.801559  \n",
            "5   False  surface          NaN      -2.220344  2.801559  \n",
            "6   False  surface        polar      -0.864370  2.801559  \n",
            "8   False  surface  hydrophobic      -1.458115  2.834164  \n",
            "\n",
            "[5 rows x 112 columns]\n"
          ]
        }
      ]
    },
    {
      "cell_type": "code",
      "source": [
        "mut_merged.shape"
      ],
      "metadata": {
        "colab": {
          "base_uri": "https://localhost:8080/"
        },
        "id": "NUGZuKytXZa8",
        "outputId": "ad7f7ec2-91af-4cfa-b404-24d61df6c83b"
      },
      "execution_count": null,
      "outputs": [
        {
          "output_type": "execute_result",
          "data": {
            "text/plain": [
              "(568380, 112)"
            ]
          },
          "metadata": {},
          "execution_count": 26
        }
      ]
    },
    {
      "cell_type": "code",
      "source": [
        "#ESM Range Per Domain\n",
        "\n",
        "mut_merged[\"PFAM_ID\"] = mut_merged[\"dom_ID\"].str.split(\"_\", expand=True)[1]\n",
        "\n",
        "def quantile_range(series):\n",
        "    return np.diff(np.quantile(series.dropna(), [0.025, 0.975]))[0] if len(series.dropna()) > 0 else 0\n",
        "\n",
        "esm1v_range_df = (mut_merged.groupby(\"dom_ID\")[\"esm1vfl_score\"].apply(lambda s: quantile_range(s)).reset_index(name=\"range_esm\"))\n",
        "\n",
        "# Quick distribution of range_esm\n",
        "plt.figure(figsize=(6,4))\n",
        "sns.histplot(data=esm1v_range_df, x=\"range_esm\", bins=50, kde=True)\n",
        "plt.title(\"Distribution of range_esm per domain\")\n",
        "plt.show()"
      ],
      "metadata": {
        "colab": {
          "base_uri": "https://localhost:8080/",
          "height": 419
        },
        "id": "Nx0dX2B4DeOz",
        "outputId": "28352d0b-4ed4-4a82-bb0f-49a47f2f2e72"
      },
      "execution_count": null,
      "outputs": [
        {
          "output_type": "display_data",
          "data": {
            "text/plain": [
              "<Figure size 600x400 with 1 Axes>"
            ],
            "image/png": "[encoded data removed]"
          },
          "metadata": {}
        }
      ]
    },
    {
      "cell_type": "markdown",
      "source": [
        "Both plots have a big cluster around 12–15, and a visible drop-off below 10. There’s a spike at 0, which reflects: domains with only one variant, or domains where the ESM model gives the same score to all mutations"
      ],
      "metadata": {
        "id": "tI5FByt4dbcd"
      }
    },
    {
      "cell_type": "markdown",
      "source": [
        "I am trying to pick the best protein domains for training or analyzing mutation effects, ones where the data is reliable and meaningful.\n",
        "\n",
        "A big range means the model sees some mutations as good, and some as bad which is want we want.performs as a quility measure. The ESM model gives different scores for different mutations in this domain\n"
      ],
      "metadata": {
        "id": "nXy5PCvdbvo4"
      }
    },
    {
      "cell_type": "code",
      "source": [
        "#Filter out narrow ESM range domains\n",
        "\n",
        "good_domains = esm1v_range_df.loc[esm1v_range_df[\"range_esm\"] > 10, \"dom_ID\"]\n",
        "print(\"Number of domains with range_esm > 10:\", len(good_domains))\n",
        "\n",
        "wt_low = ranked_domains.loc[ranked_domains[\"wt_gr_percentile\"] < 0.3, \"dom_ID\"]\n",
        "print(\"Number of domains with wt_gr_percentile < 0.3:\", len(wt_low))\n",
        "\n",
        "doms_for_fitting = sorted(set(good_domains).intersection(set(wt_low)))\n",
        "print(\"Number of final domains for fitting:\", len(doms_for_fitting))\n",
        "\n",
        "print(\"\\nSample of doms_for_fitting:\", doms_for_fitting[:10])"
      ],
      "metadata": {
        "colab": {
          "base_uri": "https://localhost:8080/"
        },
        "id": "xOLHw6FCDs19",
        "outputId": "3ad60cc0-de46-4d3b-fa99-2361bc716757"
      },
      "execution_count": null,
      "outputs": [
        {
          "output_type": "stream",
          "name": "stdout",
          "text": [
            "Number of domains with range_esm > 10: 425\n",
            "Number of domains with wt_gr_percentile < 0.3: 478\n",
            "Number of final domains for fitting: 392\n",
            "\n",
            "Sample of doms_for_fitting: ['A1X283_PF00018_155', 'A1X283_PF00018_222', 'O00308_PF00397_440', 'O00330_PF02817_181', 'O14640_PF00778_4', 'O14776_PF01846_645', 'O14776_PF01846_727', 'O14776_PF01846_793', 'O14776_PF01846_897', 'O14776_PF01846_955']\n"
          ]
        }
      ]
    },
    {
      "cell_type": "code",
      "source": [
        "\n",
        "#Pre-fit Setup\n",
        "\n",
        "mut_merged[\"scaled_gr_tofit\"] = mut_merged[\"scaled_gr\"] + 1\n",
        "\n",
        "\n",
        "#define a sigmoid function\n",
        "def sigmoid(x, xmid, scale):\n",
        "  return 1.0 / (1.0 + np.exp(-(x - xmid) / scale))\n",
        "\n",
        "import math\n",
        "from math import inf\n",
        "\n",
        "# Debug function to see domain-level stats\n",
        "def debug_domain_check(df_dom):\n",
        "  print(\"    len:\", len(df_dom))\n",
        "  if len(df_dom) > 0:\n",
        "    print(\"    esm1vfl_score range:\", df_dom[\"esm1vfl_score\"].min(),\n",
        "          df_dom[\"esm1vfl_score\"].max())\n",
        "    print(\"    scaled_gr_tofit range:\", df_dom[\"scaled_gr_tofit\"].min(),\n",
        "          df_dom[\"scaled_gr_tofit\"].max())"
      ],
      "metadata": {
        "id": "UTOeEitPEAve"
      },
      "execution_count": null,
      "outputs": []
    },
    {
      "cell_type": "code",
      "source": [
        "#Sigmoid Fitting\n",
        "\n",
        "import math\n",
        "\n",
        "data_out = []\n",
        "\n",
        "for dom in doms_for_fitting:\n",
        "  df_sub = mut_merged[(mut_merged[\"dom_ID\"] == dom) & (mut_merged[\"mean_count\"] > 9)\n",
        "  & (~mut_merged[\"STOP\"].fillna(False).astype(bool)) & (mut_merged[\"PFAM_ID\"] != \"rockdoms\")].copy()\n",
        "\n",
        "  print(f\"\\nFitting domain: {dom}\")\n",
        "  debug_domain_check(df_sub)\n",
        "\n",
        "  if len(df_sub) < 10:\n",
        "      print(\"    Skipped, too few rows.\")\n",
        "      continue\n",
        "\n",
        "\n",
        "  df_sub = df_sub[\n",
        "      (~df_sub[\"esm1vfl_score\"].isna()) &\n",
        "      (~df_sub[\"scaled_gr_tofit\"].isna())]\n",
        "\n",
        "  df_sub = df_sub.sort_values(\"esm1vfl_score\")\n",
        "  if len(df_sub) < 10:\n",
        "      print(\"    Skipped, too few after removing NAs.\")\n",
        "      continue\n",
        "\n",
        "  x = df_sub[\"esm1vfl_score\"].values\n",
        "  y = df_sub[\"scaled_gr_tofit\"].values\n",
        "\n",
        "  #Weighted approach: w = (max(y) - min(y) - y)**2\n",
        "  y_min, y_max = y.min(), y.max()\n",
        "  w = (y_max - y_min - y)**2\n",
        "\n",
        "  best_deviance = math.inf\n",
        "  best_params = None\n",
        "\n",
        "\n",
        "  xmid_starts = np.arange(-5, -10.5, -0.5)\n",
        "  scal_starts = np.geomspace(0.001, 1, 100)\n",
        "\n",
        "  for xmid_start in xmid_starts:\n",
        "      for scale_start in scal_starts:\n",
        "          try:\n",
        "\n",
        "                #clip w to avoid zero or negative\n",
        "                w_clipped = np.clip(w, 1e-9, np.inf)\n",
        "                sigma = 1 / np.sqrt(w_clipped)\n",
        "\n",
        "                popt, pcov = curve_fit(f=sigmoid,xdata=x, ydata=y, p0=[xmid_start, scale_start], bounds=([-25, 0.0], [0.0, 1.0]),\n",
        "                    sigma=sigma, absolute_sigma=False)\n",
        "                y_pred = sigmoid(x, *popt)\n",
        "\n",
        "                #Weighted deviance\n",
        "                deviance = np.sum((y - y_pred)**2 * w)\n",
        "                if deviance < best_deviance:\n",
        "                  best_deviance = deviance\n",
        "                  best_params = popt\n",
        "          except RuntimeError:\n",
        "                continue\n",
        "\n",
        "  if best_params is None:\n",
        "        print(\"Did not find any successful fit for this domain.\")\n",
        "        continue\n",
        "\n",
        "    #If we got a best fit:\n",
        "  print(f\"    best_params: xmid={best_params[0]:.3f}, scale={best_params[1]:.4f}, deviance={best_deviance:.3f}\")\n",
        "  y_pred_final = sigmoid(x, *best_params)\n",
        "  df_sub = df_sub.copy()\n",
        "  df_sub[\"sigmoid_pred\"] = y_pred_final\n",
        "  df_sub[\"esm1v_residual\"] = y - y_pred_final\n",
        "  data_out.append(df_sub)\n",
        "\n",
        "if len(data_out) == 0:\n",
        "    raise ValueError(\"No objects to concatenate — no domain fits succeeded. Check logs above!\")\n",
        "\n",
        "df_res = pd.concat(data_out, axis=0)\n",
        "print(\"\\nAll done fitting. df_res shape:\", df_res.shape)"
      ],
      "metadata": {
        "colab": {
          "base_uri": "https://localhost:8080/"
        },
        "id": "NPZ3XmutEGAy",
        "outputId": "23e8bdc9-e2a6-491d-82f4-cd56d544508e"
      },
      "execution_count": null,
      "outputs": [
        {
          "metadata": {
            "tags": null
          },
          "name": "stderr",
          "output_type": "stream",
          "text": [
            "<ipython-input-35-cfc9933a455f>:12: FutureWarning: Downcasting object dtype arrays on .fillna, .ffill, .bfill is deprecated and will change in a future version. Call result.infer_objects(copy=False) instead. To opt-in to the future behavior, set `pd.set_option('future.no_silent_downcasting', True)`\n",
            "  & (~mut_merged[\"STOP\"].fillna(False).astype(bool))\n",
            "<ipython-input-34-bc8a3a2bcc8a>:11: RuntimeWarning: overflow encountered in exp\n",
            "  return 1.0 / (1.0 + np.exp(-(x - xmid) / scale))\n"
          ]
        },
        {
          "metadata": {
            "tags": null
          },
          "name": "stdout",
          "output_type": "stream",
          "text": [
            "\n",
            "Fitting domain: A1X283_PF00018_155\n",
            "    len: 957\n",
            "    esm1vfl_score range: -21.38083839416504 2.2166008949279785\n",
            "    scaled_gr_tofit range: -0.21726561480038997 1.192703910118299\n",
            "    best_params: xmid=-12.798, scale=1.0000, deviance=77.171\n",
            "\n",
            "Fitting domain: A1X283_PF00018_222\n",
            "    len: 1045\n",
            "    esm1vfl_score range: -21.597877502441406 2.377678394317627\n",
            "    scaled_gr_tofit range: -0.63469418822461 1.199671029036637\n"
          ]
        },
        {
          "metadata": {
            "tags": null
          },
          "name": "stderr",
          "output_type": "stream",
          "text": [
            "<ipython-input-35-cfc9933a455f>:12: FutureWarning: Downcasting object dtype arrays on .fillna, .ffill, .bfill is deprecated and will change in a future version. Call result.infer_objects(copy=False) instead. To opt-in to the future behavior, set `pd.set_option('future.no_silent_downcasting', True)`\n",
            "  & (~mut_merged[\"STOP\"].fillna(False).astype(bool))\n",
            "<ipython-input-34-bc8a3a2bcc8a>:11: RuntimeWarning: overflow encountered in exp\n",
            "  return 1.0 / (1.0 + np.exp(-(x - xmid) / scale))\n"
          ]
        },
        {
          "metadata": {
            "tags": null
          },
          "name": "stdout",
          "output_type": "stream",
          "text": [
            "    best_params: xmid=-15.846, scale=1.0000, deviance=211.526\n"
          ]
        },
        {
          "metadata": {
            "tags": null
          },
          "name": "stderr",
          "output_type": "stream",
          "text": [
            "<ipython-input-35-cfc9933a455f>:12: FutureWarning: Downcasting object dtype arrays on .fillna, .ffill, .bfill is deprecated and will change in a future version. Call result.infer_objects(copy=False) instead. To opt-in to the future behavior, set `pd.set_option('future.no_silent_downcasting', True)`\n",
            "  & (~mut_merged[\"STOP\"].fillna(False).astype(bool))\n",
            "<ipython-input-34-bc8a3a2bcc8a>:11: RuntimeWarning: overflow encountered in exp\n",
            "  return 1.0 / (1.0 + np.exp(-(x - xmid) / scale))\n"
          ]
        },
        {
          "metadata": {
            "tags": null
          },
          "name": "stdout",
          "output_type": "stream",
          "text": [
            "\n",
            "Fitting domain: O00308_PF00397_440\n",
            "    len: 999\n",
            "    esm1vfl_score range: -20.3867244720459 1.9587860107421875\n",
            "    scaled_gr_tofit range: -0.35848400108874 1.345699371432338\n",
            "    best_params: xmid=-12.985, scale=1.0000, deviance=98.718\n"
          ]
        },
        {
          "metadata": {
            "tags": null
          },
          "name": "stderr",
          "output_type": "stream",
          "text": [
            "<ipython-input-35-cfc9933a455f>:12: FutureWarning: Downcasting object dtype arrays on .fillna, .ffill, .bfill is deprecated and will change in a future version. Call result.infer_objects(copy=False) instead. To opt-in to the future behavior, set `pd.set_option('future.no_silent_downcasting', True)`\n",
            "  & (~mut_merged[\"STOP\"].fillna(False).astype(bool))\n",
            "<ipython-input-34-bc8a3a2bcc8a>:11: RuntimeWarning: overflow encountered in exp\n",
            "  return 1.0 / (1.0 + np.exp(-(x - xmid) / scale))\n"
          ]
        },
        {
          "metadata": {
            "tags": null
          },
          "name": "stdout",
          "output_type": "stream",
          "text": [
            "\n",
            "Fitting domain: O00330_PF02817_181\n",
            "    len: 881\n",
            "    esm1vfl_score range: -20.22767639160156 3.623762607574463\n",
            "    scaled_gr_tofit range: -0.2877983073769299 1.538896350227804\n",
            "    best_params: xmid=-10.537, scale=1.0000, deviance=230.434\n",
            "\n",
            "Fitting domain: O14640_PF00778_4\n",
            "    len: 1413\n",
            "    esm1vfl_score range: -21.549278259277344 6.884057998657227\n",
            "    scaled_gr_tofit range: -0.23451200209215006 1.566235638153385\n"
          ]
        },
        {
          "metadata": {
            "tags": null
          },
          "name": "stderr",
          "output_type": "stream",
          "text": [
            "<ipython-input-35-cfc9933a455f>:12: FutureWarning: Downcasting object dtype arrays on .fillna, .ffill, .bfill is deprecated and will change in a future version. Call result.infer_objects(copy=False) instead. To opt-in to the future behavior, set `pd.set_option('future.no_silent_downcasting', True)`\n",
            "  & (~mut_merged[\"STOP\"].fillna(False).astype(bool))\n",
            "<ipython-input-34-bc8a3a2bcc8a>:11: RuntimeWarning: overflow encountered in exp\n",
            "  return 1.0 / (1.0 + np.exp(-(x - xmid) / scale))\n"
          ]
        },
        {
          "metadata": {
            "tags": null
          },
          "name": "stdout",
          "output_type": "stream",
          "text": [
            "    best_params: xmid=-12.520, scale=1.0000, deviance=384.962\n",
            "\n",
            "Fitting domain: O14776_PF01846_645\n",
            "    len: 1288\n",
            "    esm1vfl_score range: -22.60670757293701 -1.404897689819336\n",
            "    scaled_gr_tofit range: -0.3094510387367799 1.155592260784473\n"
          ]
        },
        {
          "metadata": {
            "tags": null
          },
          "name": "stderr",
          "output_type": "stream",
          "text": [
            "<ipython-input-35-cfc9933a455f>:12: FutureWarning: Downcasting object dtype arrays on .fillna, .ffill, .bfill is deprecated and will change in a future version. Call result.infer_objects(copy=False) instead. To opt-in to the future behavior, set `pd.set_option('future.no_silent_downcasting', True)`\n",
            "  & (~mut_merged[\"STOP\"].fillna(False).astype(bool))\n",
            "<ipython-input-34-bc8a3a2bcc8a>:11: RuntimeWarning: overflow encountered in exp\n",
            "  return 1.0 / (1.0 + np.exp(-(x - xmid) / scale))\n"
          ]
        },
        {
          "metadata": {
            "tags": null
          },
          "name": "stdout",
          "output_type": "stream",
          "text": [
            "    best_params: xmid=-15.533, scale=1.0000, deviance=99.364\n",
            "\n",
            "Fitting domain: O14776_PF01846_727\n",
            "    len: 907\n",
            "    esm1vfl_score range: -22.04563450813293 -0.8064862833296934\n",
            "    scaled_gr_tofit range: -0.50893316851481 1.225795575258028\n"
          ]
        },
        {
          "metadata": {
            "tags": null
          },
          "name": "stderr",
          "output_type": "stream",
          "text": [
            "<ipython-input-35-cfc9933a455f>:12: FutureWarning: Downcasting object dtype arrays on .fillna, .ffill, .bfill is deprecated and will change in a future version. Call result.infer_objects(copy=False) instead. To opt-in to the future behavior, set `pd.set_option('future.no_silent_downcasting', True)`\n",
            "  & (~mut_merged[\"STOP\"].fillna(False).astype(bool))\n",
            "<ipython-input-34-bc8a3a2bcc8a>:11: RuntimeWarning: overflow encountered in exp\n",
            "  return 1.0 / (1.0 + np.exp(-(x - xmid) / scale))\n"
          ]
        },
        {
          "metadata": {
            "tags": null
          },
          "name": "stdout",
          "output_type": "stream",
          "text": [
            "    best_params: xmid=-12.830, scale=1.0000, deviance=168.989\n",
            "\n",
            "Fitting domain: O14776_PF01846_793\n",
            "    len: 1162\n",
            "    esm1vfl_score range: -22.34562983151656 1.600510934266964\n",
            "    scaled_gr_tofit range: -0.31408226703810005 1.131339383795475\n"
          ]
        },
        {
          "metadata": {
            "tags": null
          },
          "name": "stderr",
          "output_type": "stream",
          "text": [
            "<ipython-input-35-cfc9933a455f>:12: FutureWarning: Downcasting object dtype arrays on .fillna, .ffill, .bfill is deprecated and will change in a future version. Call result.infer_objects(copy=False) instead. To opt-in to the future behavior, set `pd.set_option('future.no_silent_downcasting', True)`\n",
            "  & (~mut_merged[\"STOP\"].fillna(False).astype(bool))\n",
            "<ipython-input-34-bc8a3a2bcc8a>:11: RuntimeWarning: overflow encountered in exp\n",
            "  return 1.0 / (1.0 + np.exp(-(x - xmid) / scale))\n"
          ]
        },
        {
          "metadata": {
            "tags": null
          },
          "name": "stdout",
          "output_type": "stream",
          "text": [
            "    best_params: xmid=-12.326, scale=1.0000, deviance=99.825\n",
            "\n",
            "Fitting domain: O14776_PF01846_897\n",
            "    len: 1055\n",
            "    esm1vfl_score range: -17.09153864401675 1.38123791091156\n",
            "    scaled_gr_tofit range: -0.7018054634369 1.4355713797174001\n"
          ]
        },
        {
          "metadata": {
            "tags": null
          },
          "name": "stderr",
          "output_type": "stream",
          "text": [
            "<ipython-input-35-cfc9933a455f>:12: FutureWarning: Downcasting object dtype arrays on .fillna, .ffill, .bfill is deprecated and will change in a future version. Call result.infer_objects(copy=False) instead. To opt-in to the future behavior, set `pd.set_option('future.no_silent_downcasting', True)`\n",
            "  & (~mut_merged[\"STOP\"].fillna(False).astype(bool))\n",
            "<ipython-input-34-bc8a3a2bcc8a>:11: RuntimeWarning: overflow encountered in exp\n",
            "  return 1.0 / (1.0 + np.exp(-(x - xmid) / scale))\n"
          ]
        },
        {
          "metadata": {
            "tags": null
          },
          "name": "stdout",
          "output_type": "stream",
          "text": [
            "    best_params: xmid=-8.555, scale=1.0000, deviance=369.474\n",
            "\n",
            "Fitting domain: O14776_PF01846_955\n",
            "    len: 779\n",
            "    esm1vfl_score range: -18.253791392946 1.7622535204165324\n",
            "    scaled_gr_tofit range: -0.29659608596769993 1.394812556801493\n"
          ]
        },
        {
          "metadata": {
            "tags": null
          },
          "name": "stderr",
          "output_type": "stream",
          "text": [
            "<ipython-input-35-cfc9933a455f>:12: FutureWarning: Downcasting object dtype arrays on .fillna, .ffill, .bfill is deprecated and will change in a future version. Call result.infer_objects(copy=False) instead. To opt-in to the future behavior, set `pd.set_option('future.no_silent_downcasting', True)`\n",
            "  & (~mut_merged[\"STOP\"].fillna(False).astype(bool))\n",
            "<ipython-input-34-bc8a3a2bcc8a>:11: RuntimeWarning: overflow encountered in exp\n",
            "  return 1.0 / (1.0 + np.exp(-(x - xmid) / scale))\n"
          ]
        },
        {
          "metadata": {
            "tags": null
          },
          "name": "stdout",
          "output_type": "stream",
          "text": [
            "    best_params: xmid=-8.310, scale=1.0000, deviance=185.454\n",
            "\n",
            "Fitting domain: O14813_PF00046_92\n",
            "    len: 1008\n",
            "    esm1vfl_score range: -24.32471466064453 -2.372140884399414\n",
            "    scaled_gr_tofit range: -0.17979468574718993 1.412500045798333\n"
          ]
        },
        {
          "metadata": {
            "tags": null
          },
          "name": "stderr",
          "output_type": "stream",
          "text": [
            "<ipython-input-35-cfc9933a455f>:12: FutureWarning: Downcasting object dtype arrays on .fillna, .ffill, .bfill is deprecated and will change in a future version. Call result.infer_objects(copy=False) instead. To opt-in to the future behavior, set `pd.set_option('future.no_silent_downcasting', True)`\n",
            "  & (~mut_merged[\"STOP\"].fillna(False).astype(bool))\n",
            "<ipython-input-34-bc8a3a2bcc8a>:11: RuntimeWarning: overflow encountered in exp\n",
            "  return 1.0 / (1.0 + np.exp(-(x - xmid) / scale))\n"
          ]
        },
        {
          "metadata": {
            "tags": null
          },
          "name": "stdout",
          "output_type": "stream",
          "text": [
            "    best_params: xmid=-12.353, scale=1.0000, deviance=188.120\n",
            "\n",
            "Fitting domain: O14901_PF00096_395\n",
            "    len: 448\n",
            "    esm1vfl_score range: -24.142730712890625 -2.452545166015625\n",
            "    scaled_gr_tofit range: -0.31224183143628004 1.7073432340872912\n"
          ]
        },
        {
          "metadata": {
            "tags": null
          },
          "name": "stderr",
          "output_type": "stream",
          "text": [
            "<ipython-input-35-cfc9933a455f>:12: FutureWarning: Downcasting object dtype arrays on .fillna, .ffill, .bfill is deprecated and will change in a future version. Call result.infer_objects(copy=False) instead. To opt-in to the future behavior, set `pd.set_option('future.no_silent_downcasting', True)`\n",
            "  & (~mut_merged[\"STOP\"].fillna(False).astype(bool))\n",
            "<ipython-input-34-bc8a3a2bcc8a>:11: RuntimeWarning: overflow encountered in exp\n",
            "  return 1.0 / (1.0 + np.exp(-(x - xmid) / scale))\n"
          ]
        },
        {
          "metadata": {
            "tags": null
          },
          "name": "stdout",
          "output_type": "stream",
          "text": [
            "    best_params: xmid=-16.632, scale=1.0000, deviance=216.209\n",
            "\n",
            "Fitting domain: O14936_PF00595_488\n",
            "    len: 1520\n",
            "    esm1vfl_score range: -22.35559463500977 1.7646082639694214\n",
            "    scaled_gr_tofit range: -0.31906128924305 1.175408247570677\n"
          ]
        },
        {
          "metadata": {
            "tags": null
          },
          "name": "stderr",
          "output_type": "stream",
          "text": [
            "<ipython-input-35-cfc9933a455f>:12: FutureWarning: Downcasting object dtype arrays on .fillna, .ffill, .bfill is deprecated and will change in a future version. Call result.infer_objects(copy=False) instead. To opt-in to the future behavior, set `pd.set_option('future.no_silent_downcasting', True)`\n",
            "  & (~mut_merged[\"STOP\"].fillna(False).astype(bool))\n",
            "<ipython-input-34-bc8a3a2bcc8a>:11: RuntimeWarning: overflow encountered in exp\n",
            "  return 1.0 / (1.0 + np.exp(-(x - xmid) / scale))\n"
          ]
        },
        {
          "metadata": {
            "tags": null
          },
          "name": "stdout",
          "output_type": "stream",
          "text": [
            "    best_params: xmid=-14.910, scale=1.0000, deviance=105.439\n",
            "\n",
            "Fitting domain: O15151_PF00641_299\n",
            "    len: 567\n",
            "    esm1vfl_score range: -20.65844345092773 0.5980319976806641\n",
            "    scaled_gr_tofit range: -0.4511097229574801 1.44756548996784\n"
          ]
        },
        {
          "metadata": {
            "tags": null
          },
          "name": "stderr",
          "output_type": "stream",
          "text": [
            "<ipython-input-35-cfc9933a455f>:12: FutureWarning: Downcasting object dtype arrays on .fillna, .ffill, .bfill is deprecated and will change in a future version. Call result.infer_objects(copy=False) instead. To opt-in to the future behavior, set `pd.set_option('future.no_silent_downcasting', True)`\n",
            "  & (~mut_merged[\"STOP\"].fillna(False).astype(bool))\n",
            "<ipython-input-34-bc8a3a2bcc8a>:11: RuntimeWarning: overflow encountered in exp\n",
            "  return 1.0 / (1.0 + np.exp(-(x - xmid) / scale))\n"
          ]
        },
        {
          "metadata": {
            "tags": null
          },
          "name": "stdout",
          "output_type": "stream",
          "text": [
            "    best_params: xmid=-13.288, scale=1.0000, deviance=108.297\n",
            "\n",
            "Fitting domain: O15265_PF08313_334\n",
            "    len: 1123\n",
            "    esm1vfl_score range: -21.59033393859864 0.9525928497314452\n",
            "    scaled_gr_tofit range: -0.17710932333684992 1.189707110711192\n"
          ]
        },
        {
          "metadata": {
            "tags": null
          },
          "name": "stderr",
          "output_type": "stream",
          "text": [
            "<ipython-input-35-cfc9933a455f>:12: FutureWarning: Downcasting object dtype arrays on .fillna, .ffill, .bfill is deprecated and will change in a future version. Call result.infer_objects(copy=False) instead. To opt-in to the future behavior, set `pd.set_option('future.no_silent_downcasting', True)`\n",
            "  & (~mut_merged[\"STOP\"].fillna(False).astype(bool))\n",
            "<ipython-input-34-bc8a3a2bcc8a>:11: RuntimeWarning: overflow encountered in exp\n",
            "  return 1.0 / (1.0 + np.exp(-(x - xmid) / scale))\n"
          ]
        },
        {
          "metadata": {
            "tags": null
          },
          "name": "stdout",
          "output_type": "stream",
          "text": [
            "    best_params: xmid=-14.231, scale=1.0000, deviance=72.841\n",
            "\n",
            "Fitting domain: O15266_PF00046_119\n",
            "    len: 1008\n",
            "    esm1vfl_score range: -24.91684341430664 -4.274346828460693\n",
            "    scaled_gr_tofit range: -0.3811189041985601 1.560764124610627\n"
          ]
        },
        {
          "metadata": {
            "tags": null
          },
          "name": "stderr",
          "output_type": "stream",
          "text": [
            "<ipython-input-35-cfc9933a455f>:12: FutureWarning: Downcasting object dtype arrays on .fillna, .ffill, .bfill is deprecated and will change in a future version. Call result.infer_objects(copy=False) instead. To opt-in to the future behavior, set `pd.set_option('future.no_silent_downcasting', True)`\n",
            "  & (~mut_merged[\"STOP\"].fillna(False).astype(bool))\n",
            "<ipython-input-34-bc8a3a2bcc8a>:11: RuntimeWarning: overflow encountered in exp\n",
            "  return 1.0 / (1.0 + np.exp(-(x - xmid) / scale))\n"
          ]
        },
        {
          "metadata": {
            "tags": null
          },
          "name": "stdout",
          "output_type": "stream",
          "text": [
            "    best_params: xmid=-16.651, scale=1.0000, deviance=294.100\n",
            "\n",
            "Fitting domain: O15405_PF00505_256\n",
            "    len: 1229\n",
            "    esm1vfl_score range: -23.5651798248291 -0.5519503951072693\n",
            "    scaled_gr_tofit range: -0.29693588242653 1.509479241957096\n"
          ]
        },
        {
          "metadata": {
            "tags": null
          },
          "name": "stderr",
          "output_type": "stream",
          "text": [
            "<ipython-input-35-cfc9933a455f>:12: FutureWarning: Downcasting object dtype arrays on .fillna, .ffill, .bfill is deprecated and will change in a future version. Call result.infer_objects(copy=False) instead. To opt-in to the future behavior, set `pd.set_option('future.no_silent_downcasting', True)`\n",
            "  & (~mut_merged[\"STOP\"].fillna(False).astype(bool))\n",
            "<ipython-input-34-bc8a3a2bcc8a>:11: RuntimeWarning: overflow encountered in exp\n",
            "  return 1.0 / (1.0 + np.exp(-(x - xmid) / scale))\n"
          ]
        },
        {
          "metadata": {
            "tags": null
          },
          "name": "stdout",
          "output_type": "stream",
          "text": [
            "    best_params: xmid=-16.471, scale=1.0000, deviance=254.853\n",
            "\n",
            "Fitting domain: O15541_PF00642_198\n",
            "    len: 471\n",
            "    esm1vfl_score range: -20.509973526000977 -3.2681684494018555\n",
            "    scaled_gr_tofit range: -0.31639645683017004 1.852824596212838\n"
          ]
        },
        {
          "metadata": {
            "tags": null
          },
          "name": "stderr",
          "output_type": "stream",
          "text": [
            "<ipython-input-35-cfc9933a455f>:12: FutureWarning: Downcasting object dtype arrays on .fillna, .ffill, .bfill is deprecated and will change in a future version. Call result.infer_objects(copy=False) instead. To opt-in to the future behavior, set `pd.set_option('future.no_silent_downcasting', True)`\n",
            "  & (~mut_merged[\"STOP\"].fillna(False).astype(bool))\n",
            "<ipython-input-34-bc8a3a2bcc8a>:11: RuntimeWarning: overflow encountered in exp\n",
            "  return 1.0 / (1.0 + np.exp(-(x - xmid) / scale))\n"
          ]
        },
        {
          "metadata": {
            "tags": null
          },
          "name": "stdout",
          "output_type": "stream",
          "text": [
            "    best_params: xmid=-16.397, scale=1.0000, deviance=207.891\n",
            "\n",
            "Fitting domain: O43167_PF00096_351\n",
            "    len: 413\n",
            "    esm1vfl_score range: -23.09167861938477 0.2678146362304687\n",
            "    scaled_gr_tofit range: -0.3563729928594299 1.429601561700773\n"
          ]
        },
        {
          "metadata": {
            "tags": null
          },
          "name": "stderr",
          "output_type": "stream",
          "text": [
            "<ipython-input-35-cfc9933a455f>:12: FutureWarning: Downcasting object dtype arrays on .fillna, .ffill, .bfill is deprecated and will change in a future version. Call result.infer_objects(copy=False) instead. To opt-in to the future behavior, set `pd.set_option('future.no_silent_downcasting', True)`\n",
            "  & (~mut_merged[\"STOP\"].fillna(False).astype(bool))\n",
            "<ipython-input-34-bc8a3a2bcc8a>:11: RuntimeWarning: overflow encountered in exp\n",
            "  return 1.0 / (1.0 + np.exp(-(x - xmid) / scale))\n"
          ]
        },
        {
          "metadata": {
            "tags": null
          },
          "name": "stdout",
          "output_type": "stream",
          "text": [
            "    best_params: xmid=-14.619, scale=1.0000, deviance=79.748\n",
            "\n",
            "Fitting domain: O43167_PF00096_435\n",
            "    len: 361\n",
            "    esm1vfl_score range: -21.81208038330078 -1.6863837242126465\n",
            "    scaled_gr_tofit range: -0.2760057518049901 1.558347844737441\n"
          ]
        },
        {
          "metadata": {
            "tags": null
          },
          "name": "stderr",
          "output_type": "stream",
          "text": [
            "<ipython-input-35-cfc9933a455f>:12: FutureWarning: Downcasting object dtype arrays on .fillna, .ffill, .bfill is deprecated and will change in a future version. Call result.infer_objects(copy=False) instead. To opt-in to the future behavior, set `pd.set_option('future.no_silent_downcasting', True)`\n",
            "  & (~mut_merged[\"STOP\"].fillna(False).astype(bool))\n",
            "<ipython-input-34-bc8a3a2bcc8a>:11: RuntimeWarning: overflow encountered in exp\n",
            "  return 1.0 / (1.0 + np.exp(-(x - xmid) / scale))\n"
          ]
        },
        {
          "metadata": {
            "tags": null
          },
          "name": "stdout",
          "output_type": "stream",
          "text": [
            "    best_params: xmid=-9.415, scale=1.0000, deviance=93.303\n",
            "\n",
            "Fitting domain: O43186_PF00046_41\n",
            "    len: 964\n",
            "    esm1vfl_score range: -22.97175025939941 4.433929443359375\n",
            "    scaled_gr_tofit range: -0.11285095645896992 1.583063843051585\n"
          ]
        },
        {
          "metadata": {
            "tags": null
          },
          "name": "stderr",
          "output_type": "stream",
          "text": [
            "<ipython-input-35-cfc9933a455f>:12: FutureWarning: Downcasting object dtype arrays on .fillna, .ffill, .bfill is deprecated and will change in a future version. Call result.infer_objects(copy=False) instead. To opt-in to the future behavior, set `pd.set_option('future.no_silent_downcasting', True)`\n",
            "  & (~mut_merged[\"STOP\"].fillna(False).astype(bool))\n",
            "<ipython-input-34-bc8a3a2bcc8a>:11: RuntimeWarning: overflow encountered in exp\n",
            "  return 1.0 / (1.0 + np.exp(-(x - xmid) / scale))\n"
          ]
        },
        {
          "metadata": {
            "tags": null
          },
          "name": "stdout",
          "output_type": "stream",
          "text": [
            "    best_params: xmid=-14.580, scale=1.0000, deviance=173.283\n",
            "\n",
            "Fitting domain: O43295_PF00018_745\n",
            "    len: 979\n",
            "    esm1vfl_score range: -21.818568229675293 3.839820384979248\n",
            "    scaled_gr_tofit range: -0.15760242207423003 1.177765673052285\n"
          ]
        },
        {
          "metadata": {
            "tags": null
          },
          "name": "stderr",
          "output_type": "stream",
          "text": [
            "<ipython-input-35-cfc9933a455f>:12: FutureWarning: Downcasting object dtype arrays on .fillna, .ffill, .bfill is deprecated and will change in a future version. Call result.infer_objects(copy=False) instead. To opt-in to the future behavior, set `pd.set_option('future.no_silent_downcasting', True)`\n",
            "  & (~mut_merged[\"STOP\"].fillna(False).astype(bool))\n",
            "<ipython-input-34-bc8a3a2bcc8a>:11: RuntimeWarning: overflow encountered in exp\n",
            "  return 1.0 / (1.0 + np.exp(-(x - xmid) / scale))\n"
          ]
        },
        {
          "metadata": {
            "tags": null
          },
          "name": "stdout",
          "output_type": "stream",
          "text": [
            "    best_params: xmid=-13.768, scale=1.0000, deviance=42.409\n",
            "\n",
            "Fitting domain: O43353_PF00619_438\n",
            "    len: 1282\n",
            "    esm1vfl_score range: -20.38622665405273 0.1627852916717529\n",
            "    scaled_gr_tofit range: -0.40578387236032 1.5423685098787\n"
          ]
        },
        {
          "metadata": {
            "tags": null
          },
          "name": "stderr",
          "output_type": "stream",
          "text": [
            "<ipython-input-35-cfc9933a455f>:12: FutureWarning: Downcasting object dtype arrays on .fillna, .ffill, .bfill is deprecated and will change in a future version. Call result.infer_objects(copy=False) instead. To opt-in to the future behavior, set `pd.set_option('future.no_silent_downcasting', True)`\n",
            "  & (~mut_merged[\"STOP\"].fillna(False).astype(bool))\n",
            "<ipython-input-34-bc8a3a2bcc8a>:11: RuntimeWarning: overflow encountered in exp\n",
            "  return 1.0 / (1.0 + np.exp(-(x - xmid) / scale))\n"
          ]
        },
        {
          "metadata": {
            "tags": null
          },
          "name": "stdout",
          "output_type": "stream",
          "text": [
            "    best_params: xmid=-7.487, scale=1.0000, deviance=392.715\n",
            "\n",
            "Fitting domain: O43395_PF01480_10\n",
            "    len: 1203\n",
            "    esm1vfl_score range: -18.340496063232425 1.7232887744903564\n",
            "    scaled_gr_tofit range: -0.26123616183959997 1.456352807770127\n"
          ]
        },
        {
          "metadata": {
            "tags": null
          },
          "name": "stderr",
          "output_type": "stream",
          "text": [
            "<ipython-input-35-cfc9933a455f>:12: FutureWarning: Downcasting object dtype arrays on .fillna, .ffill, .bfill is deprecated and will change in a future version. Call result.infer_objects(copy=False) instead. To opt-in to the future behavior, set `pd.set_option('future.no_silent_downcasting', True)`\n",
            "  & (~mut_merged[\"STOP\"].fillna(False).astype(bool))\n",
            "<ipython-input-34-bc8a3a2bcc8a>:11: RuntimeWarning: overflow encountered in exp\n",
            "  return 1.0 / (1.0 + np.exp(-(x - xmid) / scale))\n"
          ]
        },
        {
          "metadata": {
            "tags": null
          },
          "name": "stdout",
          "output_type": "stream",
          "text": [
            "    best_params: xmid=-8.435, scale=1.0000, deviance=204.595\n",
            "\n",
            "Fitting domain: O43586_PF00018_361\n",
            "    len: 1009\n",
            "    esm1vfl_score range: -22.085453033447266 1.8946218490600584\n",
            "    scaled_gr_tofit range: -0.1685729439880801 1.11890436664548\n"
          ]
        },
        {
          "metadata": {
            "tags": null
          },
          "name": "stderr",
          "output_type": "stream",
          "text": [
            "<ipython-input-35-cfc9933a455f>:12: FutureWarning: Downcasting object dtype arrays on .fillna, .ffill, .bfill is deprecated and will change in a future version. Call result.infer_objects(copy=False) instead. To opt-in to the future behavior, set `pd.set_option('future.no_silent_downcasting', True)`\n",
            "  & (~mut_merged[\"STOP\"].fillna(False).astype(bool))\n",
            "<ipython-input-34-bc8a3a2bcc8a>:11: RuntimeWarning: overflow encountered in exp\n",
            "  return 1.0 / (1.0 + np.exp(-(x - xmid) / scale))\n"
          ]
        },
        {
          "metadata": {
            "tags": null
          },
          "name": "stdout",
          "output_type": "stream",
          "text": [
            "    best_params: xmid=-10.600, scale=1.0000, deviance=49.773\n",
            "\n",
            "Fitting domain: O60341_PF04433_186\n",
            "    len: 1477\n",
            "    esm1vfl_score range: -17.659645080566406 0.6091156005859375\n",
            "    scaled_gr_tofit range: -0.2166376740590299 1.146741470856647\n"
          ]
        },
        {
          "metadata": {
            "tags": null
          },
          "name": "stderr",
          "output_type": "stream",
          "text": [
            "<ipython-input-35-cfc9933a455f>:12: FutureWarning: Downcasting object dtype arrays on .fillna, .ffill, .bfill is deprecated and will change in a future version. Call result.infer_objects(copy=False) instead. To opt-in to the future behavior, set `pd.set_option('future.no_silent_downcasting', True)`\n",
            "  & (~mut_merged[\"STOP\"].fillna(False).astype(bool))\n",
            "<ipython-input-34-bc8a3a2bcc8a>:11: RuntimeWarning: overflow encountered in exp\n",
            "  return 1.0 / (1.0 + np.exp(-(x - xmid) / scale))\n"
          ]
        },
        {
          "metadata": {
            "tags": null
          },
          "name": "stdout",
          "output_type": "stream",
          "text": [
            "    best_params: xmid=-5.593, scale=1.0000, deviance=115.215\n",
            "\n",
            "Fitting domain: O60481_PF00096_389\n",
            "    len: 419\n",
            "    esm1vfl_score range: -24.980615615844727 0.662816047668457\n",
            "    scaled_gr_tofit range: -0.4256074294127099 1.66294707949506\n"
          ]
        },
        {
          "metadata": {
            "tags": null
          },
          "name": "stderr",
          "output_type": "stream",
          "text": [
            "<ipython-input-35-cfc9933a455f>:12: FutureWarning: Downcasting object dtype arrays on .fillna, .ffill, .bfill is deprecated and will change in a future version. Call result.infer_objects(copy=False) instead. To opt-in to the future behavior, set `pd.set_option('future.no_silent_downcasting', True)`\n",
            "  & (~mut_merged[\"STOP\"].fillna(False).astype(bool))\n",
            "<ipython-input-34-bc8a3a2bcc8a>:11: RuntimeWarning: overflow encountered in exp\n",
            "  return 1.0 / (1.0 + np.exp(-(x - xmid) / scale))\n"
          ]
        },
        {
          "metadata": {
            "tags": null
          },
          "name": "stdout",
          "output_type": "stream",
          "text": [
            "    best_params: xmid=-18.330, scale=1.0000, deviance=200.706\n"
          ]
        },
        {
          "metadata": {
            "tags": null
          },
          "name": "stderr",
          "output_type": "stream",
          "text": [
            "<ipython-input-35-cfc9933a455f>:12: FutureWarning: Downcasting object dtype arrays on .fillna, .ffill, .bfill is deprecated and will change in a future version. Call result.infer_objects(copy=False) instead. To opt-in to the future behavior, set `pd.set_option('future.no_silent_downcasting', True)`\n",
            "  & (~mut_merged[\"STOP\"].fillna(False).astype(bool))\n",
            "<ipython-input-34-bc8a3a2bcc8a>:11: RuntimeWarning: overflow encountered in exp\n",
            "  return 1.0 / (1.0 + np.exp(-(x - xmid) / scale))\n"
          ]
        },
        {
          "metadata": {
            "tags": null
          },
          "name": "stdout",
          "output_type": "stream",
          "text": [
            "\n",
            "Fitting domain: O75112_PF00595_1\n",
            "    len: 1559\n",
            "    esm1vfl_score range: -24.24002456665039 0.9352865219116212\n",
            "    scaled_gr_tofit range: -0.34659044349637 1.172782663709955\n",
            "    best_params: xmid=-16.175, scale=1.0000, deviance=172.428\n",
            "\n",
            "Fitting domain: O75360_PF00046_71\n",
            "    len: 1008\n",
            "    esm1vfl_score range: -21.290037155151367 2.559783458709717\n",
            "    scaled_gr_tofit range: -0.30425728003509 1.460143093629429\n"
          ]
        },
        {
          "metadata": {
            "tags": null
          },
          "name": "stderr",
          "output_type": "stream",
          "text": [
            "<ipython-input-35-cfc9933a455f>:12: FutureWarning: Downcasting object dtype arrays on .fillna, .ffill, .bfill is deprecated and will change in a future version. Call result.infer_objects(copy=False) instead. To opt-in to the future behavior, set `pd.set_option('future.no_silent_downcasting', True)`\n",
            "  & (~mut_merged[\"STOP\"].fillna(False).astype(bool))\n",
            "<ipython-input-34-bc8a3a2bcc8a>:11: RuntimeWarning: overflow encountered in exp\n",
            "  return 1.0 / (1.0 + np.exp(-(x - xmid) / scale))\n"
          ]
        },
        {
          "metadata": {
            "tags": null
          },
          "name": "stdout",
          "output_type": "stream",
          "text": [
            "    best_params: xmid=-12.109, scale=1.0000, deviance=188.219\n",
            "\n",
            "Fitting domain: O75366_PF02209_785\n",
            "    len: 600\n",
            "    esm1vfl_score range: -16.682472229003906 0.3509807586669922\n",
            "    scaled_gr_tofit range: -0.39710357637984006 1.355450397064952\n"
          ]
        },
        {
          "metadata": {
            "tags": null
          },
          "name": "stderr",
          "output_type": "stream",
          "text": [
            "<ipython-input-35-cfc9933a455f>:12: FutureWarning: Downcasting object dtype arrays on .fillna, .ffill, .bfill is deprecated and will change in a future version. Call result.infer_objects(copy=False) instead. To opt-in to the future behavior, set `pd.set_option('future.no_silent_downcasting', True)`\n",
            "  & (~mut_merged[\"STOP\"].fillna(False).astype(bool))\n",
            "<ipython-input-34-bc8a3a2bcc8a>:11: RuntimeWarning: overflow encountered in exp\n",
            "  return 1.0 / (1.0 + np.exp(-(x - xmid) / scale))\n"
          ]
        },
        {
          "metadata": {
            "tags": null
          },
          "name": "stdout",
          "output_type": "stream",
          "text": [
            "    best_params: xmid=-9.386, scale=1.0000, deviance=130.228\n",
            "\n",
            "Fitting domain: O75382_PF00643_111\n",
            "    len: 725\n",
            "    esm1vfl_score range: -19.52082633972168 -0.5022854208946228\n",
            "    scaled_gr_tofit range: -0.6819325958132301 1.718856407937644\n"
          ]
        },
        {
          "metadata": {
            "tags": null
          },
          "name": "stderr",
          "output_type": "stream",
          "text": [
            "<ipython-input-35-cfc9933a455f>:12: FutureWarning: Downcasting object dtype arrays on .fillna, .ffill, .bfill is deprecated and will change in a future version. Call result.infer_objects(copy=False) instead. To opt-in to the future behavior, set `pd.set_option('future.no_silent_downcasting', True)`\n",
            "  & (~mut_merged[\"STOP\"].fillna(False).astype(bool))\n",
            "<ipython-input-34-bc8a3a2bcc8a>:11: RuntimeWarning: overflow encountered in exp\n",
            "  return 1.0 / (1.0 + np.exp(-(x - xmid) / scale))\n"
          ]
        },
        {
          "metadata": {
            "tags": null
          },
          "name": "stdout",
          "output_type": "stream",
          "text": [
            "    best_params: xmid=-12.108, scale=1.0000, deviance=239.995\n",
            "\n",
            "Fitting domain: O75400_PF00397_176\n",
            "    len: 963\n",
            "    esm1vfl_score range: -22.08026885986328 0.6437416076660156\n",
            "    scaled_gr_tofit range: -0.34594485734719993 1.769802857754146\n"
          ]
        },
        {
          "metadata": {
            "tags": null
          },
          "name": "stderr",
          "output_type": "stream",
          "text": [
            "<ipython-input-35-cfc9933a455f>:12: FutureWarning: Downcasting object dtype arrays on .fillna, .ffill, .bfill is deprecated and will change in a future version. Call result.infer_objects(copy=False) instead. To opt-in to the future behavior, set `pd.set_option('future.no_silent_downcasting', True)`\n",
            "  & (~mut_merged[\"STOP\"].fillna(False).astype(bool))\n",
            "<ipython-input-34-bc8a3a2bcc8a>:11: RuntimeWarning: overflow encountered in exp\n",
            "  return 1.0 / (1.0 + np.exp(-(x - xmid) / scale))\n"
          ]
        },
        {
          "metadata": {
            "tags": null
          },
          "name": "stdout",
          "output_type": "stream",
          "text": [
            "    best_params: xmid=-14.457, scale=1.0000, deviance=343.463\n"
          ]
        },
        {
          "metadata": {
            "tags": null
          },
          "name": "stderr",
          "output_type": "stream",
          "text": [
            "<ipython-input-35-cfc9933a455f>:12: FutureWarning: Downcasting object dtype arrays on .fillna, .ffill, .bfill is deprecated and will change in a future version. Call result.infer_objects(copy=False) instead. To opt-in to the future behavior, set `pd.set_option('future.no_silent_downcasting', True)`\n",
            "  & (~mut_merged[\"STOP\"].fillna(False).astype(bool))\n",
            "<ipython-input-34-bc8a3a2bcc8a>:11: RuntimeWarning: overflow encountered in exp\n",
            "  return 1.0 / (1.0 + np.exp(-(x - xmid) / scale))\n"
          ]
        },
        {
          "metadata": {
            "tags": null
          },
          "name": "stdout",
          "output_type": "stream",
          "text": [
            "\n",
            "Fitting domain: O75400_PF01846_395\n",
            "    len: 909\n",
            "    esm1vfl_score range: -24.21212387084961 -1.9779900312423704\n",
            "    scaled_gr_tofit range: -0.26063874971524004 1.405967097323462\n",
            "    best_params: xmid=-13.872, scale=1.0000, deviance=163.753\n",
            "\n",
            "Fitting domain: O75400_PF01846_459\n",
            "    len: 919\n",
            "    esm1vfl_score range: -22.78513526916504 0.1197695732116699\n",
            "    scaled_gr_tofit range: -0.2832479714734 1.481172823658459\n"
          ]
        },
        {
          "metadata": {
            "tags": null
          },
          "name": "stderr",
          "output_type": "stream",
          "text": [
            "<ipython-input-35-cfc9933a455f>:12: FutureWarning: Downcasting object dtype arrays on .fillna, .ffill, .bfill is deprecated and will change in a future version. Call result.infer_objects(copy=False) instead. To opt-in to the future behavior, set `pd.set_option('future.no_silent_downcasting', True)`\n",
            "  & (~mut_merged[\"STOP\"].fillna(False).astype(bool))\n",
            "<ipython-input-34-bc8a3a2bcc8a>:11: RuntimeWarning: overflow encountered in exp\n",
            "  return 1.0 / (1.0 + np.exp(-(x - xmid) / scale))\n"
          ]
        },
        {
          "metadata": {
            "tags": null
          },
          "name": "stdout",
          "output_type": "stream",
          "text": [
            "    best_params: xmid=-12.825, scale=1.0000, deviance=232.222\n"
          ]
        },
        {
          "metadata": {
            "tags": null
          },
          "name": "stderr",
          "output_type": "stream",
          "text": [
            "<ipython-input-35-cfc9933a455f>:12: FutureWarning: Downcasting object dtype arrays on .fillna, .ffill, .bfill is deprecated and will change in a future version. Call result.infer_objects(copy=False) instead. To opt-in to the future behavior, set `pd.set_option('future.no_silent_downcasting', True)`\n",
            "  & (~mut_merged[\"STOP\"].fillna(False).astype(bool))\n",
            "<ipython-input-34-bc8a3a2bcc8a>:11: RuntimeWarning: overflow encountered in exp\n",
            "  return 1.0 / (1.0 + np.exp(-(x - xmid) / scale))\n"
          ]
        },
        {
          "metadata": {
            "tags": null
          },
          "name": "stdout",
          "output_type": "stream",
          "text": [
            "\n",
            "Fitting domain: O75400_PF01846_670\n",
            "    len: 914\n",
            "    esm1vfl_score range: -21.2714900970459 0.2927312850952148\n",
            "    scaled_gr_tofit range: -0.15666571926032002 1.678621280111267\n",
            "    best_params: xmid=-12.169, scale=1.0000, deviance=246.494\n",
            "\n",
            "Fitting domain: O75400_PF01846_745\n",
            "    len: 1064\n",
            "    esm1vfl_score range: -22.341941833496094 0.7558413147926331\n",
            "    scaled_gr_tofit range: -0.2538480644033101 1.220989077391664\n"
          ]
        },
        {
          "metadata": {
            "tags": null
          },
          "name": "stderr",
          "output_type": "stream",
          "text": [
            "<ipython-input-35-cfc9933a455f>:12: FutureWarning: Downcasting object dtype arrays on .fillna, .ffill, .bfill is deprecated and will change in a future version. Call result.infer_objects(copy=False) instead. To opt-in to the future behavior, set `pd.set_option('future.no_silent_downcasting', True)`\n",
            "  & (~mut_merged[\"STOP\"].fillna(False).astype(bool))\n",
            "<ipython-input-34-bc8a3a2bcc8a>:11: RuntimeWarning: overflow encountered in exp\n",
            "  return 1.0 / (1.0 + np.exp(-(x - xmid) / scale))\n"
          ]
        },
        {
          "metadata": {
            "tags": null
          },
          "name": "stdout",
          "output_type": "stream",
          "text": [
            "    best_params: xmid=-13.041, scale=1.0000, deviance=110.194\n",
            "\n",
            "Fitting domain: O75478_PF04433_375\n",
            "    len: 1162\n",
            "    esm1vfl_score range: -17.05545425415039 -0.3589909076690674\n",
            "    scaled_gr_tofit range: -0.1236764414715299 1.4192331930109199\n"
          ]
        },
        {
          "metadata": {
            "tags": null
          },
          "name": "stderr",
          "output_type": "stream",
          "text": [
            "<ipython-input-35-cfc9933a455f>:12: FutureWarning: Downcasting object dtype arrays on .fillna, .ffill, .bfill is deprecated and will change in a future version. Call result.infer_objects(copy=False) instead. To opt-in to the future behavior, set `pd.set_option('future.no_silent_downcasting', True)`\n",
            "  & (~mut_merged[\"STOP\"].fillna(False).astype(bool))\n",
            "<ipython-input-34-bc8a3a2bcc8a>:11: RuntimeWarning: overflow encountered in exp\n",
            "  return 1.0 / (1.0 + np.exp(-(x - xmid) / scale))\n"
          ]
        },
        {
          "metadata": {
            "tags": null
          },
          "name": "stdout",
          "output_type": "stream",
          "text": [
            "    best_params: xmid=-6.460, scale=1.0000, deviance=105.637\n",
            "\n",
            "Fitting domain: O75534_PF00313_184\n",
            "    len: 1232\n",
            "    esm1vfl_score range: -22.67519760131836 -0.4096260070800781\n",
            "    scaled_gr_tofit range: -0.28489795602243007 1.288669248089616\n"
          ]
        },
        {
          "metadata": {
            "tags": null
          },
          "name": "stderr",
          "output_type": "stream",
          "text": [
            "<ipython-input-35-cfc9933a455f>:12: FutureWarning: Downcasting object dtype arrays on .fillna, .ffill, .bfill is deprecated and will change in a future version. Call result.infer_objects(copy=False) instead. To opt-in to the future behavior, set `pd.set_option('future.no_silent_downcasting', True)`\n",
            "  & (~mut_merged[\"STOP\"].fillna(False).astype(bool))\n",
            "<ipython-input-34-bc8a3a2bcc8a>:11: RuntimeWarning: overflow encountered in exp\n",
            "  return 1.0 / (1.0 + np.exp(-(x - xmid) / scale))\n"
          ]
        },
        {
          "metadata": {
            "tags": null
          },
          "name": "stdout",
          "output_type": "stream",
          "text": [
            "    best_params: xmid=-13.924, scale=1.0000, deviance=175.296\n",
            "\n",
            "Fitting domain: O75534_PF00313_23\n",
            "    len: 1196\n",
            "    esm1vfl_score range: -20.873449325561523 -0.6022128462791443\n",
            "    scaled_gr_tofit range: -0.16220952791084997 1.113723106897209\n"
          ]
        },
        {
          "metadata": {
            "tags": null
          },
          "name": "stderr",
          "output_type": "stream",
          "text": [
            "<ipython-input-35-cfc9933a455f>:12: FutureWarning: Downcasting object dtype arrays on .fillna, .ffill, .bfill is deprecated and will change in a future version. Call result.infer_objects(copy=False) instead. To opt-in to the future behavior, set `pd.set_option('future.no_silent_downcasting', True)`\n",
            "  & (~mut_merged[\"STOP\"].fillna(False).astype(bool))\n",
            "<ipython-input-34-bc8a3a2bcc8a>:11: RuntimeWarning: overflow encountered in exp\n",
            "  return 1.0 / (1.0 + np.exp(-(x - xmid) / scale))\n"
          ]
        },
        {
          "metadata": {
            "tags": null
          },
          "name": "stdout",
          "output_type": "stream",
          "text": [
            "    best_params: xmid=-14.493, scale=1.0000, deviance=34.683\n"
          ]
        },
        {
          "metadata": {
            "tags": null
          },
          "name": "stderr",
          "output_type": "stream",
          "text": [
            "<ipython-input-35-cfc9933a455f>:12: FutureWarning: Downcasting object dtype arrays on .fillna, .ffill, .bfill is deprecated and will change in a future version. Call result.infer_objects(copy=False) instead. To opt-in to the future behavior, set `pd.set_option('future.no_silent_downcasting', True)`\n",
            "  & (~mut_merged[\"STOP\"].fillna(False).astype(bool))\n",
            "<ipython-input-34-bc8a3a2bcc8a>:11: RuntimeWarning: overflow encountered in exp\n",
            "  return 1.0 / (1.0 + np.exp(-(x - xmid) / scale))\n"
          ]
        },
        {
          "metadata": {
            "tags": null
          },
          "name": "stdout",
          "output_type": "stream",
          "text": [
            "\n",
            "Fitting domain: O75534_PF00313_347\n",
            "    len: 1071\n",
            "    esm1vfl_score range: -21.41201400756836 2.6832728385925293\n",
            "    scaled_gr_tofit range: -0.31848442570712 1.336766220141367\n",
            "    best_params: xmid=-11.406, scale=1.0000, deviance=174.602\n",
            "\n",
            "Fitting domain: O75554_PF06220_8\n",
            "    len: 594\n",
            "    esm1vfl_score range: -22.40213966369629 -0.8159723281860352\n",
            "    scaled_gr_tofit range: -0.5904704605983 1.4041103560865649\n"
          ]
        },
        {
          "metadata": {
            "tags": null
          },
          "name": "stderr",
          "output_type": "stream",
          "text": [
            "<ipython-input-35-cfc9933a455f>:12: FutureWarning: Downcasting object dtype arrays on .fillna, .ffill, .bfill is deprecated and will change in a future version. Call result.infer_objects(copy=False) instead. To opt-in to the future behavior, set `pd.set_option('future.no_silent_downcasting', True)`\n",
            "  & (~mut_merged[\"STOP\"].fillna(False).astype(bool))\n",
            "<ipython-input-34-bc8a3a2bcc8a>:11: RuntimeWarning: overflow encountered in exp\n",
            "  return 1.0 / (1.0 + np.exp(-(x - xmid) / scale))\n"
          ]
        },
        {
          "metadata": {
            "tags": null
          },
          "name": "stdout",
          "output_type": "stream",
          "text": [
            "    best_params: xmid=-15.195, scale=1.0000, deviance=166.945\n"
          ]
        },
        {
          "metadata": {
            "tags": null
          },
          "name": "stderr",
          "output_type": "stream",
          "text": [
            "<ipython-input-35-cfc9933a455f>:12: FutureWarning: Downcasting object dtype arrays on .fillna, .ffill, .bfill is deprecated and will change in a future version. Call result.infer_objects(copy=False) instead. To opt-in to the future behavior, set `pd.set_option('future.no_silent_downcasting', True)`\n",
            "  & (~mut_merged[\"STOP\"].fillna(False).astype(bool))\n",
            "<ipython-input-34-bc8a3a2bcc8a>:11: RuntimeWarning: overflow encountered in exp\n",
            "  return 1.0 / (1.0 + np.exp(-(x - xmid) / scale))\n"
          ]
        },
        {
          "metadata": {
            "tags": null
          },
          "name": "stdout",
          "output_type": "stream",
          "text": [
            "\n",
            "Fitting domain: O75970_PF00595_372\n",
            "    len: 1674\n",
            "    esm1vfl_score range: -20.67341947555542 0.9171097278594972\n",
            "    scaled_gr_tofit range: -0.21215499793987003 1.367970818255021\n",
            "    best_params: xmid=-7.500, scale=1.0000, deviance=158.378\n",
            "\n",
            "Fitting domain: O94830_PF00536_389\n",
            "    len: 1065\n",
            "    esm1vfl_score range: -19.465909957885746 1.5341068506240845\n",
            "    scaled_gr_tofit range: -0.9217310147248301 1.977287329666618\n"
          ]
        },
        {
          "metadata": {
            "tags": null
          },
          "name": "stderr",
          "output_type": "stream",
          "text": [
            "<ipython-input-35-cfc9933a455f>:12: FutureWarning: Downcasting object dtype arrays on .fillna, .ffill, .bfill is deprecated and will change in a future version. Call result.infer_objects(copy=False) instead. To opt-in to the future behavior, set `pd.set_option('future.no_silent_downcasting', True)`\n",
            "  & (~mut_merged[\"STOP\"].fillna(False).astype(bool))\n",
            "<ipython-input-34-bc8a3a2bcc8a>:11: RuntimeWarning: overflow encountered in exp\n",
            "  return 1.0 / (1.0 + np.exp(-(x - xmid) / scale))\n"
          ]
        },
        {
          "metadata": {
            "tags": null
          },
          "name": "stdout",
          "output_type": "stream",
          "text": [
            "    best_params: xmid=-12.138, scale=1.0000, deviance=1000.937\n",
            "\n",
            "Fitting domain: O94885_PF00536_630\n",
            "    len: 1314\n",
            "    esm1vfl_score range: -21.18769212612833 1.5250675677166343\n",
            "    scaled_gr_tofit range: -0.3529572197108799 1.5146711177476\n"
          ]
        },
        {
          "metadata": {
            "tags": null
          },
          "name": "stderr",
          "output_type": "stream",
          "text": [
            "<ipython-input-35-cfc9933a455f>:12: FutureWarning: Downcasting object dtype arrays on .fillna, .ffill, .bfill is deprecated and will change in a future version. Call result.infer_objects(copy=False) instead. To opt-in to the future behavior, set `pd.set_option('future.no_silent_downcasting', True)`\n",
            "  & (~mut_merged[\"STOP\"].fillna(False).astype(bool))\n",
            "<ipython-input-34-bc8a3a2bcc8a>:11: RuntimeWarning: overflow encountered in exp\n",
            "  return 1.0 / (1.0 + np.exp(-(x - xmid) / scale))\n"
          ]
        },
        {
          "metadata": {
            "tags": null
          },
          "name": "stdout",
          "output_type": "stream",
          "text": [
            "    best_params: xmid=-11.175, scale=1.0000, deviance=277.019\n"
          ]
        },
        {
          "metadata": {
            "tags": null
          },
          "name": "stderr",
          "output_type": "stream",
          "text": [
            "<ipython-input-35-cfc9933a455f>:12: FutureWarning: Downcasting object dtype arrays on .fillna, .ffill, .bfill is deprecated and will change in a future version. Call result.infer_objects(copy=False) instead. To opt-in to the future behavior, set `pd.set_option('future.no_silent_downcasting', True)`\n",
            "  & (~mut_merged[\"STOP\"].fillna(False).astype(bool))\n",
            "<ipython-input-34-bc8a3a2bcc8a>:11: RuntimeWarning: overflow encountered in exp\n",
            "  return 1.0 / (1.0 + np.exp(-(x - xmid) / scale))\n"
          ]
        },
        {
          "metadata": {
            "tags": null
          },
          "name": "stdout",
          "output_type": "stream",
          "text": [
            "\n",
            "Fitting domain: O94929_PF00412_149\n",
            "    len: 1061\n",
            "    esm1vfl_score range: -19.020170211791992 1.7076754570007324\n",
            "    scaled_gr_tofit range: -0.3006999543681099 1.336907584000687\n",
            "    best_params: xmid=-11.904, scale=1.0000, deviance=128.037\n"
          ]
        },
        {
          "metadata": {
            "tags": null
          },
          "name": "stderr",
          "output_type": "stream",
          "text": [
            "<ipython-input-35-cfc9933a455f>:12: FutureWarning: Downcasting object dtype arrays on .fillna, .ffill, .bfill is deprecated and will change in a future version. Call result.infer_objects(copy=False) instead. To opt-in to the future behavior, set `pd.set_option('future.no_silent_downcasting', True)`\n",
            "  & (~mut_merged[\"STOP\"].fillna(False).astype(bool))\n",
            "<ipython-input-34-bc8a3a2bcc8a>:11: RuntimeWarning: overflow encountered in exp\n",
            "  return 1.0 / (1.0 + np.exp(-(x - xmid) / scale))\n"
          ]
        },
        {
          "metadata": {
            "tags": null
          },
          "name": "stdout",
          "output_type": "stream",
          "text": [
            "\n",
            "Fitting domain: O94929_PF00412_210\n",
            "    len: 1063\n",
            "    esm1vfl_score range: -19.15699005126953 -1.035616397857666\n",
            "    scaled_gr_tofit range: -0.26604012260918997 1.8618124008116679\n",
            "    best_params: xmid=-13.130, scale=1.0000, deviance=313.460\n"
          ]
        },
        {
          "metadata": {
            "tags": null
          },
          "name": "stderr",
          "output_type": "stream",
          "text": [
            "<ipython-input-35-cfc9933a455f>:12: FutureWarning: Downcasting object dtype arrays on .fillna, .ffill, .bfill is deprecated and will change in a future version. Call result.infer_objects(copy=False) instead. To opt-in to the future behavior, set `pd.set_option('future.no_silent_downcasting', True)`\n",
            "  & (~mut_merged[\"STOP\"].fillna(False).astype(bool))\n",
            "<ipython-input-34-bc8a3a2bcc8a>:11: RuntimeWarning: overflow encountered in exp\n",
            "  return 1.0 / (1.0 + np.exp(-(x - xmid) / scale))\n"
          ]
        },
        {
          "metadata": {
            "tags": null
          },
          "name": "stdout",
          "output_type": "stream",
          "text": [
            "\n",
            "Fitting domain: O94993_PF00505_338\n",
            "    len: 1134\n",
            "    esm1vfl_score range: -24.602882385253903 -2.079159736633301\n",
            "    scaled_gr_tofit range: -0.46165255493567003 1.333875296707303\n",
            "    best_params: xmid=-14.339, scale=1.0000, deviance=255.733\n",
            "\n",
            "Fitting domain: O95076_PF00046_155\n",
            "    len: 974\n",
            "    esm1vfl_score range: -24.17597389221192 -0.7241024971008301\n",
            "    scaled_gr_tofit range: -0.21906442939100002 1.365513590599674\n"
          ]
        },
        {
          "metadata": {
            "tags": null
          },
          "name": "stderr",
          "output_type": "stream",
          "text": [
            "<ipython-input-35-cfc9933a455f>:12: FutureWarning: Downcasting object dtype arrays on .fillna, .ffill, .bfill is deprecated and will change in a future version. Call result.infer_objects(copy=False) instead. To opt-in to the future behavior, set `pd.set_option('future.no_silent_downcasting', True)`\n",
            "  & (~mut_merged[\"STOP\"].fillna(False).astype(bool))\n",
            "<ipython-input-34-bc8a3a2bcc8a>:11: RuntimeWarning: overflow encountered in exp\n",
            "  return 1.0 / (1.0 + np.exp(-(x - xmid) / scale))\n"
          ]
        },
        {
          "metadata": {
            "tags": null
          },
          "name": "stdout",
          "output_type": "stream",
          "text": [
            "    best_params: xmid=-14.728, scale=1.0000, deviance=147.970\n",
            "\n",
            "Fitting domain: O95155_PF04564_1229\n",
            "    len: 1184\n",
            "    esm1vfl_score range: -19.084477414163 1.817339958205155\n",
            "    scaled_gr_tofit range: -0.17488311160206993 1.391946063969796\n"
          ]
        },
        {
          "metadata": {
            "tags": null
          },
          "name": "stderr",
          "output_type": "stream",
          "text": [
            "<ipython-input-35-cfc9933a455f>:12: FutureWarning: Downcasting object dtype arrays on .fillna, .ffill, .bfill is deprecated and will change in a future version. Call result.infer_objects(copy=False) instead. To opt-in to the future behavior, set `pd.set_option('future.no_silent_downcasting', True)`\n",
            "  & (~mut_merged[\"STOP\"].fillna(False).astype(bool))\n",
            "<ipython-input-34-bc8a3a2bcc8a>:11: RuntimeWarning: overflow encountered in exp\n",
            "  return 1.0 / (1.0 + np.exp(-(x - xmid) / scale))\n"
          ]
        },
        {
          "metadata": {
            "tags": null
          },
          "name": "stdout",
          "output_type": "stream",
          "text": [
            "    best_params: xmid=-6.906, scale=1.0000, deviance=136.173\n",
            "\n",
            "Fitting domain: O95218_PF00641_11\n",
            "    len: 474\n",
            "    esm1vfl_score range: -22.05615425109864 -5.516465663909912\n",
            "    scaled_gr_tofit range: -0.2750192049718201 2.2550674450986197\n"
          ]
        },
        {
          "metadata": {
            "tags": null
          },
          "name": "stderr",
          "output_type": "stream",
          "text": [
            "<ipython-input-35-cfc9933a455f>:12: FutureWarning: Downcasting object dtype arrays on .fillna, .ffill, .bfill is deprecated and will change in a future version. Call result.infer_objects(copy=False) instead. To opt-in to the future behavior, set `pd.set_option('future.no_silent_downcasting', True)`\n",
            "  & (~mut_merged[\"STOP\"].fillna(False).astype(bool))\n",
            "<ipython-input-34-bc8a3a2bcc8a>:11: RuntimeWarning: overflow encountered in exp\n",
            "  return 1.0 / (1.0 + np.exp(-(x - xmid) / scale))\n"
          ]
        },
        {
          "metadata": {
            "tags": null
          },
          "name": "stdout",
          "output_type": "stream",
          "text": [
            "    best_params: xmid=-16.308, scale=1.0000, deviance=228.728\n",
            "\n",
            "Fitting domain: O95218_PF00641_9\n",
            "    len: 447\n",
            "    esm1vfl_score range: -22.05615425109864 -5.516465663909912\n",
            "    scaled_gr_tofit range: -0.32925406965604 1.633989905004055\n"
          ]
        },
        {
          "metadata": {
            "tags": null
          },
          "name": "stderr",
          "output_type": "stream",
          "text": [
            "<ipython-input-35-cfc9933a455f>:12: FutureWarning: Downcasting object dtype arrays on .fillna, .ffill, .bfill is deprecated and will change in a future version. Call result.infer_objects(copy=False) instead. To opt-in to the future behavior, set `pd.set_option('future.no_silent_downcasting', True)`\n",
            "  & (~mut_merged[\"STOP\"].fillna(False).astype(bool))\n",
            "<ipython-input-34-bc8a3a2bcc8a>:11: RuntimeWarning: overflow encountered in exp\n",
            "  return 1.0 / (1.0 + np.exp(-(x - xmid) / scale))\n"
          ]
        },
        {
          "metadata": {
            "tags": null
          },
          "name": "stdout",
          "output_type": "stream",
          "text": [
            "    best_params: xmid=-15.777, scale=1.0000, deviance=170.615\n",
            "\n",
            "Fitting domain: O95267_PF00130_539\n",
            "    len: 928\n",
            "    esm1vfl_score range: -20.302446365356445 4.963831901550293\n",
            "    scaled_gr_tofit range: -0.29118160282709993 1.318686903867206\n"
          ]
        },
        {
          "metadata": {
            "tags": null
          },
          "name": "stderr",
          "output_type": "stream",
          "text": [
            "<ipython-input-35-cfc9933a455f>:12: FutureWarning: Downcasting object dtype arrays on .fillna, .ffill, .bfill is deprecated and will change in a future version. Call result.infer_objects(copy=False) instead. To opt-in to the future behavior, set `pd.set_option('future.no_silent_downcasting', True)`\n",
            "  & (~mut_merged[\"STOP\"].fillna(False).astype(bool))\n",
            "<ipython-input-34-bc8a3a2bcc8a>:11: RuntimeWarning: overflow encountered in exp\n",
            "  return 1.0 / (1.0 + np.exp(-(x - xmid) / scale))\n"
          ]
        },
        {
          "metadata": {
            "tags": null
          },
          "name": "stdout",
          "output_type": "stream",
          "text": [
            "    best_params: xmid=-12.155, scale=1.0000, deviance=95.499\n"
          ]
        },
        {
          "metadata": {
            "tags": null
          },
          "name": "stderr",
          "output_type": "stream",
          "text": [
            "<ipython-input-35-cfc9933a455f>:12: FutureWarning: Downcasting object dtype arrays on .fillna, .ffill, .bfill is deprecated and will change in a future version. Call result.infer_objects(copy=False) instead. To opt-in to the future behavior, set `pd.set_option('future.no_silent_downcasting', True)`\n",
            "  & (~mut_merged[\"STOP\"].fillna(False).astype(bool))\n",
            "<ipython-input-34-bc8a3a2bcc8a>:11: RuntimeWarning: overflow encountered in exp\n",
            "  return 1.0 / (1.0 + np.exp(-(x - xmid) / scale))\n"
          ]
        },
        {
          "metadata": {
            "tags": null
          },
          "name": "stdout",
          "output_type": "stream",
          "text": [
            "\n",
            "Fitting domain: O95343_PF00046_212\n",
            "    len: 935\n",
            "    esm1vfl_score range: -24.49504280090332 2.044485569000244\n",
            "    scaled_gr_tofit range: -0.22953281945625004 1.396791728638701\n",
            "    best_params: xmid=-13.322, scale=1.0000, deviance=168.681\n",
            "\n",
            "Fitting domain: O95475_PF00046_134\n",
            "    len: 950\n",
            "    esm1vfl_score range: -23.70903968811035 2.044485569000244\n",
            "    scaled_gr_tofit range: -0.12968456467918998 1.568468899110367\n"
          ]
        },
        {
          "metadata": {
            "tags": null
          },
          "name": "stderr",
          "output_type": "stream",
          "text": [
            "<ipython-input-35-cfc9933a455f>:12: FutureWarning: Downcasting object dtype arrays on .fillna, .ffill, .bfill is deprecated and will change in a future version. Call result.infer_objects(copy=False) instead. To opt-in to the future behavior, set `pd.set_option('future.no_silent_downcasting', True)`\n",
            "  & (~mut_merged[\"STOP\"].fillna(False).astype(bool))\n",
            "<ipython-input-34-bc8a3a2bcc8a>:11: RuntimeWarning: overflow encountered in exp\n",
            "  return 1.0 / (1.0 + np.exp(-(x - xmid) / scale))\n"
          ]
        },
        {
          "metadata": {
            "tags": null
          },
          "name": "stdout",
          "output_type": "stream",
          "text": [
            "    best_params: xmid=-13.123, scale=1.0000, deviance=200.611\n",
            "\n",
            "Fitting domain: O95718_PF00105_100\n",
            "    len: 1452\n",
            "    esm1vfl_score range: -23.176170349121094 -0.6359567642211914\n",
            "    scaled_gr_tofit range: -0.48505999089607 1.445190631138607\n"
          ]
        },
        {
          "metadata": {
            "tags": null
          },
          "name": "stderr",
          "output_type": "stream",
          "text": [
            "<ipython-input-35-cfc9933a455f>:12: FutureWarning: Downcasting object dtype arrays on .fillna, .ffill, .bfill is deprecated and will change in a future version. Call result.infer_objects(copy=False) instead. To opt-in to the future behavior, set `pd.set_option('future.no_silent_downcasting', True)`\n",
            "  & (~mut_merged[\"STOP\"].fillna(False).astype(bool))\n",
            "<ipython-input-34-bc8a3a2bcc8a>:11: RuntimeWarning: overflow encountered in exp\n",
            "  return 1.0 / (1.0 + np.exp(-(x - xmid) / scale))\n"
          ]
        },
        {
          "metadata": {
            "tags": null
          },
          "name": "stdout",
          "output_type": "stream",
          "text": [
            "    best_params: xmid=-17.175, scale=1.0000, deviance=462.516\n",
            "\n",
            "Fitting domain: O95793_PF00035_183\n",
            "    len: 1195\n",
            "    esm1vfl_score range: -23.94889640808105 2.920426368713379\n",
            "    scaled_gr_tofit range: -0.40542666751772005 1.216115637200911\n"
          ]
        },
        {
          "metadata": {
            "tags": null
          },
          "name": "stderr",
          "output_type": "stream",
          "text": [
            "<ipython-input-35-cfc9933a455f>:12: FutureWarning: Downcasting object dtype arrays on .fillna, .ffill, .bfill is deprecated and will change in a future version. Call result.infer_objects(copy=False) instead. To opt-in to the future behavior, set `pd.set_option('future.no_silent_downcasting', True)`\n",
            "  & (~mut_merged[\"STOP\"].fillna(False).astype(bool))\n",
            "<ipython-input-34-bc8a3a2bcc8a>:11: RuntimeWarning: overflow encountered in exp\n",
            "  return 1.0 / (1.0 + np.exp(-(x - xmid) / scale))\n"
          ]
        },
        {
          "metadata": {
            "tags": null
          },
          "name": "stdout",
          "output_type": "stream",
          "text": [
            "    best_params: xmid=-13.653, scale=1.0000, deviance=187.982\n",
            "\n",
            "Fitting domain: O95817_PF00397_11\n",
            "    len: 889\n",
            "    esm1vfl_score range: -20.677255630493164 -1.415517807006836\n",
            "    scaled_gr_tofit range: -0.33086277735690994 2.5616449441006397\n"
          ]
        },
        {
          "metadata": {
            "tags": null
          },
          "name": "stderr",
          "output_type": "stream",
          "text": [
            "<ipython-input-35-cfc9933a455f>:12: FutureWarning: Downcasting object dtype arrays on .fillna, .ffill, .bfill is deprecated and will change in a future version. Call result.infer_objects(copy=False) instead. To opt-in to the future behavior, set `pd.set_option('future.no_silent_downcasting', True)`\n",
            "  & (~mut_merged[\"STOP\"].fillna(False).astype(bool))\n",
            "<ipython-input-34-bc8a3a2bcc8a>:11: RuntimeWarning: overflow encountered in exp\n",
            "  return 1.0 / (1.0 + np.exp(-(x - xmid) / scale))\n"
          ]
        },
        {
          "metadata": {
            "tags": null
          },
          "name": "stdout",
          "output_type": "stream",
          "text": [
            "    best_params: xmid=-11.449, scale=1.0000, deviance=740.961\n",
            "\n",
            "Fitting domain: O95835_PF00627_98\n",
            "    len: 772\n",
            "    esm1vfl_score range: -17.770806381125855 3.050006296231064\n",
            "    scaled_gr_tofit range: -0.34141848264113994 1.249267357938927\n"
          ]
        },
        {
          "metadata": {
            "tags": null
          },
          "name": "stderr",
          "output_type": "stream",
          "text": [
            "<ipython-input-35-cfc9933a455f>:12: FutureWarning: Downcasting object dtype arrays on .fillna, .ffill, .bfill is deprecated and will change in a future version. Call result.infer_objects(copy=False) instead. To opt-in to the future behavior, set `pd.set_option('future.no_silent_downcasting', True)`\n",
            "  & (~mut_merged[\"STOP\"].fillna(False).astype(bool))\n",
            "<ipython-input-34-bc8a3a2bcc8a>:11: RuntimeWarning: overflow encountered in exp\n",
            "  return 1.0 / (1.0 + np.exp(-(x - xmid) / scale))\n"
          ]
        },
        {
          "metadata": {
            "tags": null
          },
          "name": "stdout",
          "output_type": "stream",
          "text": [
            "    best_params: xmid=-6.895, scale=1.0000, deviance=65.815\n",
            "\n",
            "Fitting domain: P00519_PF00018_64\n",
            "    len: 892\n",
            "    esm1vfl_score range: -21.70743363415606 0.4420948028564453\n",
            "    scaled_gr_tofit range: -0.17856433296180008 1.4399451423954779\n"
          ]
        },
        {
          "metadata": {
            "tags": null
          },
          "name": "stderr",
          "output_type": "stream",
          "text": [
            "<ipython-input-35-cfc9933a455f>:12: FutureWarning: Downcasting object dtype arrays on .fillna, .ffill, .bfill is deprecated and will change in a future version. Call result.infer_objects(copy=False) instead. To opt-in to the future behavior, set `pd.set_option('future.no_silent_downcasting', True)`\n",
            "  & (~mut_merged[\"STOP\"].fillna(False).astype(bool))\n",
            "<ipython-input-34-bc8a3a2bcc8a>:11: RuntimeWarning: overflow encountered in exp\n",
            "  return 1.0 / (1.0 + np.exp(-(x - xmid) / scale))\n"
          ]
        },
        {
          "metadata": {
            "tags": null
          },
          "name": "stdout",
          "output_type": "stream",
          "text": [
            "    best_params: xmid=-12.422, scale=1.0000, deviance=89.730\n",
            "\n",
            "Fitting domain: P02417_PF01281_1\n",
            "    len: 714\n",
            "    esm1vfl_score range: -15.219101905822754 3.734951972961426\n",
            "    scaled_gr_tofit range: -0.25290866604578 1.23103022393858\n"
          ]
        },
        {
          "metadata": {
            "tags": null
          },
          "name": "stderr",
          "output_type": "stream",
          "text": [
            "<ipython-input-35-cfc9933a455f>:12: FutureWarning: Downcasting object dtype arrays on .fillna, .ffill, .bfill is deprecated and will change in a future version. Call result.infer_objects(copy=False) instead. To opt-in to the future behavior, set `pd.set_option('future.no_silent_downcasting', True)`\n",
            "  & (~mut_merged[\"STOP\"].fillna(False).astype(bool))\n",
            "<ipython-input-34-bc8a3a2bcc8a>:11: RuntimeWarning: overflow encountered in exp\n",
            "  return 1.0 / (1.0 + np.exp(-(x - xmid) / scale))\n"
          ]
        },
        {
          "metadata": {
            "tags": null
          },
          "name": "stdout",
          "output_type": "stream",
          "text": [
            "    best_params: xmid=-8.845, scale=1.0000, deviance=78.701\n",
            "\n",
            "Fitting domain: P02585_PF13499_1\n",
            "    len: 1137\n",
            "    esm1vfl_score range: -17.338685989379883 1.9911036491394043\n",
            "    scaled_gr_tofit range: -0.53705786589531 1.241535204886513\n"
          ]
        },
        {
          "metadata": {
            "tags": null
          },
          "name": "stderr",
          "output_type": "stream",
          "text": [
            "<ipython-input-35-cfc9933a455f>:12: FutureWarning: Downcasting object dtype arrays on .fillna, .ffill, .bfill is deprecated and will change in a future version. Call result.infer_objects(copy=False) instead. To opt-in to the future behavior, set `pd.set_option('future.no_silent_downcasting', True)`\n",
            "  & (~mut_merged[\"STOP\"].fillna(False).astype(bool))\n",
            "<ipython-input-34-bc8a3a2bcc8a>:11: RuntimeWarning: overflow encountered in exp\n",
            "  return 1.0 / (1.0 + np.exp(-(x - xmid) / scale))\n"
          ]
        },
        {
          "metadata": {
            "tags": null
          },
          "name": "stdout",
          "output_type": "stream",
          "text": [
            "    best_params: xmid=-11.172, scale=1.0000, deviance=112.047\n",
            "\n",
            "Fitting domain: P02633_PF01023_1\n",
            "    len: 1486\n",
            "    esm1vfl_score range: -17.867637634277344 0.4973886013031006\n",
            "    scaled_gr_tofit range: -2.0757674287902 1.279382581604055\n"
          ]
        },
        {
          "metadata": {
            "tags": null
          },
          "name": "stderr",
          "output_type": "stream",
          "text": [
            "<ipython-input-35-cfc9933a455f>:12: FutureWarning: Downcasting object dtype arrays on .fillna, .ffill, .bfill is deprecated and will change in a future version. Call result.infer_objects(copy=False) instead. To opt-in to the future behavior, set `pd.set_option('future.no_silent_downcasting', True)`\n",
            "  & (~mut_merged[\"STOP\"].fillna(False).astype(bool))\n",
            "<ipython-input-34-bc8a3a2bcc8a>:11: RuntimeWarning: overflow encountered in exp\n",
            "  return 1.0 / (1.0 + np.exp(-(x - xmid) / scale))\n"
          ]
        },
        {
          "metadata": {
            "tags": null
          },
          "name": "stdout",
          "output_type": "stream",
          "text": [
            "    best_params: xmid=-11.720, scale=1.0000, deviance=1261.961\n",
            "\n",
            "Fitting domain: P02640_PF02209_762\n",
            "    len: 1235\n",
            "    esm1vfl_score range: -18.281055450439453 0.0697474479675293\n",
            "    scaled_gr_tofit range: -0.34860202658039996 1.3318815067155119\n"
          ]
        },
        {
          "metadata": {
            "tags": null
          },
          "name": "stderr",
          "output_type": "stream",
          "text": [
            "<ipython-input-35-cfc9933a455f>:12: FutureWarning: Downcasting object dtype arrays on .fillna, .ffill, .bfill is deprecated and will change in a future version. Call result.infer_objects(copy=False) instead. To opt-in to the future behavior, set `pd.set_option('future.no_silent_downcasting', True)`\n",
            "  & (~mut_merged[\"STOP\"].fillna(False).astype(bool))\n",
            "<ipython-input-34-bc8a3a2bcc8a>:11: RuntimeWarning: overflow encountered in exp\n",
            "  return 1.0 / (1.0 + np.exp(-(x - xmid) / scale))\n"
          ]
        },
        {
          "metadata": {
            "tags": null
          },
          "name": "stdout",
          "output_type": "stream",
          "text": [
            "    best_params: xmid=-9.580, scale=1.0000, deviance=133.304\n",
            "\n",
            "Fitting domain: P02640_PF02209_792\n",
            "    len: 624\n",
            "    esm1vfl_score range: -18.281055450439453 0.0697474479675293\n",
            "    scaled_gr_tofit range: -0.2574502357811801 1.6038943545129452\n"
          ]
        },
        {
          "metadata": {
            "tags": null
          },
          "name": "stderr",
          "output_type": "stream",
          "text": [
            "<ipython-input-35-cfc9933a455f>:12: FutureWarning: Downcasting object dtype arrays on .fillna, .ffill, .bfill is deprecated and will change in a future version. Call result.infer_objects(copy=False) instead. To opt-in to the future behavior, set `pd.set_option('future.no_silent_downcasting', True)`\n",
            "  & (~mut_merged[\"STOP\"].fillna(False).astype(bool))\n",
            "<ipython-input-34-bc8a3a2bcc8a>:11: RuntimeWarning: overflow encountered in exp\n",
            "  return 1.0 / (1.0 + np.exp(-(x - xmid) / scale))\n"
          ]
        },
        {
          "metadata": {
            "tags": null
          },
          "name": "stdout",
          "output_type": "stream",
          "text": [
            "    best_params: xmid=-9.731, scale=1.0000, deviance=116.163\n"
          ]
        },
        {
          "metadata": {
            "tags": null
          },
          "name": "stderr",
          "output_type": "stream",
          "text": [
            "<ipython-input-35-cfc9933a455f>:12: FutureWarning: Downcasting object dtype arrays on .fillna, .ffill, .bfill is deprecated and will change in a future version. Call result.infer_objects(copy=False) instead. To opt-in to the future behavior, set `pd.set_option('future.no_silent_downcasting', True)`\n",
            "  & (~mut_merged[\"STOP\"].fillna(False).astype(bool))\n",
            "<ipython-input-34-bc8a3a2bcc8a>:11: RuntimeWarning: overflow encountered in exp\n",
            "  return 1.0 / (1.0 + np.exp(-(x - xmid) / scale))\n"
          ]
        },
        {
          "metadata": {
            "tags": null
          },
          "name": "stdout",
          "output_type": "stream",
          "text": [
            "\n",
            "Fitting domain: P03034_PF01381_4\n",
            "    len: 1408\n",
            "    esm1vfl_score range: -16.824066162109375 2.4302399158477783\n",
            "    scaled_gr_tofit range: -0.37097748227333005 1.40960253023235\n",
            "    best_params: xmid=-7.009, scale=1.0000, deviance=240.168\n",
            "\n",
            "Fitting domain: P04049_PF02196_58\n",
            "    len: 1230\n",
            "    esm1vfl_score range: -19.031879425048828 1.9433709383010864\n",
            "    scaled_gr_tofit range: -0.1927085609366701 1.3740014146833701\n"
          ]
        },
        {
          "metadata": {
            "tags": null
          },
          "name": "stderr",
          "output_type": "stream",
          "text": [
            "<ipython-input-35-cfc9933a455f>:12: FutureWarning: Downcasting object dtype arrays on .fillna, .ffill, .bfill is deprecated and will change in a future version. Call result.infer_objects(copy=False) instead. To opt-in to the future behavior, set `pd.set_option('future.no_silent_downcasting', True)`\n",
            "  & (~mut_merged[\"STOP\"].fillna(False).astype(bool))\n",
            "<ipython-input-34-bc8a3a2bcc8a>:11: RuntimeWarning: overflow encountered in exp\n",
            "  return 1.0 / (1.0 + np.exp(-(x - xmid) / scale))\n"
          ]
        },
        {
          "metadata": {
            "tags": null
          },
          "name": "stdout",
          "output_type": "stream",
          "text": [
            "    best_params: xmid=-8.160, scale=1.0000, deviance=180.240\n"
          ]
        },
        {
          "metadata": {
            "tags": null
          },
          "name": "stderr",
          "output_type": "stream",
          "text": [
            "<ipython-input-35-cfc9933a455f>:12: FutureWarning: Downcasting object dtype arrays on .fillna, .ffill, .bfill is deprecated and will change in a future version. Call result.infer_objects(copy=False) instead. To opt-in to the future behavior, set `pd.set_option('future.no_silent_downcasting', True)`\n",
            "  & (~mut_merged[\"STOP\"].fillna(False).astype(bool))\n",
            "<ipython-input-34-bc8a3a2bcc8a>:11: RuntimeWarning: overflow encountered in exp\n",
            "  return 1.0 / (1.0 + np.exp(-(x - xmid) / scale))\n"
          ]
        },
        {
          "metadata": {
            "tags": null
          },
          "name": "stdout",
          "output_type": "stream",
          "text": [
            "\n",
            "Fitting domain: P04150_PF00105_419\n",
            "    len: 1392\n",
            "    esm1vfl_score range: -23.563751220703125 -1.358290672302246\n",
            "    scaled_gr_tofit range: -0.39746242523204 1.189885266955825\n",
            "    best_params: xmid=-15.968, scale=1.0000, deviance=138.499\n"
          ]
        },
        {
          "metadata": {
            "tags": null
          },
          "name": "stderr",
          "output_type": "stream",
          "text": [
            "<ipython-input-35-cfc9933a455f>:12: FutureWarning: Downcasting object dtype arrays on .fillna, .ffill, .bfill is deprecated and will change in a future version. Call result.infer_objects(copy=False) instead. To opt-in to the future behavior, set `pd.set_option('future.no_silent_downcasting', True)`\n",
            "  & (~mut_merged[\"STOP\"].fillna(False).astype(bool))\n"
          ]
        },
        {
          "metadata": {
            "tags": null
          },
          "name": "stdout",
          "output_type": "stream",
          "text": [
            "\n",
            "Fitting domain: P05813_PF00030_31\n",
            "    len: 1649\n",
            "    esm1vfl_score range: -18.523765563964844 0.2258715629577636\n",
            "    scaled_gr_tofit range: -0.27522316947010994 1.371339711358829\n"
          ]
        },
        {
          "metadata": {
            "tags": null
          },
          "name": "stderr",
          "output_type": "stream",
          "text": [
            "<ipython-input-34-bc8a3a2bcc8a>:11: RuntimeWarning: overflow encountered in exp\n",
            "  return 1.0 / (1.0 + np.exp(-(x - xmid) / scale))\n"
          ]
        },
        {
          "metadata": {
            "tags": null
          },
          "name": "stdout",
          "output_type": "stream",
          "text": [
            "    best_params: xmid=-9.195, scale=1.0000, deviance=224.645\n"
          ]
        },
        {
          "metadata": {
            "tags": null
          },
          "name": "stderr",
          "output_type": "stream",
          "text": [
            "<ipython-input-35-cfc9933a455f>:12: FutureWarning: Downcasting object dtype arrays on .fillna, .ffill, .bfill is deprecated and will change in a future version. Call result.infer_objects(copy=False) instead. To opt-in to the future behavior, set `pd.set_option('future.no_silent_downcasting', True)`\n",
            "  & (~mut_merged[\"STOP\"].fillna(False).astype(bool))\n",
            "<ipython-input-34-bc8a3a2bcc8a>:11: RuntimeWarning: overflow encountered in exp\n",
            "  return 1.0 / (1.0 + np.exp(-(x - xmid) / scale))\n"
          ]
        },
        {
          "metadata": {
            "tags": null
          },
          "name": "stdout",
          "output_type": "stream",
          "text": [
            "\n",
            "Fitting domain: P06239_PF00018_63\n",
            "    len: 1036\n",
            "    esm1vfl_score range: -19.88214111328125 3.240572452545166\n",
            "    scaled_gr_tofit range: -0.28210233782614 1.285025424800768\n",
            "    best_params: xmid=-8.345, scale=1.0000, deviance=88.674\n",
            "\n",
            "Fitting domain: P06241_PF00018_83\n",
            "    len: 1136\n",
            "    esm1vfl_score range: -23.51114273071289 0.3098039627075195\n",
            "    scaled_gr_tofit range: -0.2864071311379299 1.223060645845412\n"
          ]
        },
        {
          "metadata": {
            "tags": null
          },
          "name": "stderr",
          "output_type": "stream",
          "text": [
            "<ipython-input-35-cfc9933a455f>:12: FutureWarning: Downcasting object dtype arrays on .fillna, .ffill, .bfill is deprecated and will change in a future version. Call result.infer_objects(copy=False) instead. To opt-in to the future behavior, set `pd.set_option('future.no_silent_downcasting', True)`\n",
            "  & (~mut_merged[\"STOP\"].fillna(False).astype(bool))\n",
            "<ipython-input-34-bc8a3a2bcc8a>:11: RuntimeWarning: overflow encountered in exp\n",
            "  return 1.0 / (1.0 + np.exp(-(x - xmid) / scale))\n"
          ]
        },
        {
          "metadata": {
            "tags": null
          },
          "name": "stdout",
          "output_type": "stream",
          "text": [
            "    best_params: xmid=-13.052, scale=1.0000, deviance=57.224\n",
            "\n",
            "Fitting domain: P07315_PF00030_4\n",
            "    len: 1130\n",
            "    esm1vfl_score range: -15.130292892456056 1.3703439235687256\n",
            "    scaled_gr_tofit range: -0.22645422062629006 1.316780946061388\n"
          ]
        },
        {
          "metadata": {
            "tags": null
          },
          "name": "stderr",
          "output_type": "stream",
          "text": [
            "<ipython-input-35-cfc9933a455f>:12: FutureWarning: Downcasting object dtype arrays on .fillna, .ffill, .bfill is deprecated and will change in a future version. Call result.infer_objects(copy=False) instead. To opt-in to the future behavior, set `pd.set_option('future.no_silent_downcasting', True)`\n",
            "  & (~mut_merged[\"STOP\"].fillna(False).astype(bool))\n",
            "<ipython-input-34-bc8a3a2bcc8a>:11: RuntimeWarning: overflow encountered in exp\n",
            "  return 1.0 / (1.0 + np.exp(-(x - xmid) / scale))\n"
          ]
        },
        {
          "metadata": {
            "tags": null
          },
          "name": "stdout",
          "output_type": "stream",
          "text": [
            "    best_params: xmid=-8.053, scale=1.0000, deviance=98.252\n",
            "\n",
            "Fitting domain: P07315_PF00030_91\n",
            "    len: 1211\n",
            "    esm1vfl_score range: -15.927472114562988 2.0819196701049805\n",
            "    scaled_gr_tofit range: -0.18738466800824005 1.212392167299166\n"
          ]
        },
        {
          "metadata": {
            "tags": null
          },
          "name": "stderr",
          "output_type": "stream",
          "text": [
            "<ipython-input-35-cfc9933a455f>:12: FutureWarning: Downcasting object dtype arrays on .fillna, .ffill, .bfill is deprecated and will change in a future version. Call result.infer_objects(copy=False) instead. To opt-in to the future behavior, set `pd.set_option('future.no_silent_downcasting', True)`\n",
            "  & (~mut_merged[\"STOP\"].fillna(False).astype(bool))\n",
            "<ipython-input-34-bc8a3a2bcc8a>:11: RuntimeWarning: overflow encountered in exp\n",
            "  return 1.0 / (1.0 + np.exp(-(x - xmid) / scale))\n"
          ]
        },
        {
          "metadata": {
            "tags": null
          },
          "name": "stdout",
          "output_type": "stream",
          "text": [
            "    best_params: xmid=-5.247, scale=1.0000, deviance=104.966\n",
            "\n",
            "Fitting domain: P07316_PF00030_1\n",
            "    len: 657\n",
            "    esm1vfl_score range: -13.961071014404297 0.8427452445030212\n",
            "    scaled_gr_tofit range: -0.31808816427794007 1.282963379693939\n"
          ]
        },
        {
          "metadata": {
            "tags": null
          },
          "name": "stderr",
          "output_type": "stream",
          "text": [
            "<ipython-input-35-cfc9933a455f>:12: FutureWarning: Downcasting object dtype arrays on .fillna, .ffill, .bfill is deprecated and will change in a future version. Call result.infer_objects(copy=False) instead. To opt-in to the future behavior, set `pd.set_option('future.no_silent_downcasting', True)`\n",
            "  & (~mut_merged[\"STOP\"].fillna(False).astype(bool))\n",
            "<ipython-input-34-bc8a3a2bcc8a>:11: RuntimeWarning: overflow encountered in exp\n",
            "  return 1.0 / (1.0 + np.exp(-(x - xmid) / scale))\n"
          ]
        },
        {
          "metadata": {
            "tags": null
          },
          "name": "stdout",
          "output_type": "stream",
          "text": [
            "    best_params: xmid=-8.548, scale=1.0000, deviance=90.177\n",
            "\n",
            "Fitting domain: P08151_PF00096_363\n",
            "    len: 494\n",
            "    esm1vfl_score range: -24.45710729283924 -0.4249332615865313\n",
            "    scaled_gr_tofit range: -0.23941842245717004 1.7205657635008849\n"
          ]
        },
        {
          "metadata": {
            "tags": null
          },
          "name": "stderr",
          "output_type": "stream",
          "text": [
            "<ipython-input-35-cfc9933a455f>:12: FutureWarning: Downcasting object dtype arrays on .fillna, .ffill, .bfill is deprecated and will change in a future version. Call result.infer_objects(copy=False) instead. To opt-in to the future behavior, set `pd.set_option('future.no_silent_downcasting', True)`\n",
            "  & (~mut_merged[\"STOP\"].fillna(False).astype(bool))\n",
            "<ipython-input-34-bc8a3a2bcc8a>:11: RuntimeWarning: overflow encountered in exp\n",
            "  return 1.0 / (1.0 + np.exp(-(x - xmid) / scale))\n"
          ]
        },
        {
          "metadata": {
            "tags": null
          },
          "name": "stdout",
          "output_type": "stream",
          "text": [
            "    best_params: xmid=-18.152, scale=1.0000, deviance=200.768\n",
            "\n",
            "Fitting domain: P08235_PF00105_600\n",
            "    len: 1268\n",
            "    esm1vfl_score range: -23.22450256347656 3.2187891006469727\n",
            "    scaled_gr_tofit range: -0.36932421358230005 1.137615044803476\n"
          ]
        },
        {
          "metadata": {
            "tags": null
          },
          "name": "stderr",
          "output_type": "stream",
          "text": [
            "<ipython-input-35-cfc9933a455f>:12: FutureWarning: Downcasting object dtype arrays on .fillna, .ffill, .bfill is deprecated and will change in a future version. Call result.infer_objects(copy=False) instead. To opt-in to the future behavior, set `pd.set_option('future.no_silent_downcasting', True)`\n",
            "  & (~mut_merged[\"STOP\"].fillna(False).astype(bool))\n",
            "<ipython-input-34-bc8a3a2bcc8a>:11: RuntimeWarning: overflow encountered in exp\n",
            "  return 1.0 / (1.0 + np.exp(-(x - xmid) / scale))\n"
          ]
        },
        {
          "metadata": {
            "tags": null
          },
          "name": "stdout",
          "output_type": "stream",
          "text": [
            "    best_params: xmid=-16.404, scale=1.0000, deviance=133.660\n",
            "\n",
            "Fitting domain: P08631_PF00018_80\n",
            "    len: 777\n",
            "    esm1vfl_score range: -21.09256362915039 0.4098536968231201\n",
            "    scaled_gr_tofit range: -0.14989700938080008 1.238151285627188\n"
          ]
        },
        {
          "metadata": {
            "tags": null
          },
          "name": "stderr",
          "output_type": "stream",
          "text": [
            "<ipython-input-35-cfc9933a455f>:12: FutureWarning: Downcasting object dtype arrays on .fillna, .ffill, .bfill is deprecated and will change in a future version. Call result.infer_objects(copy=False) instead. To opt-in to the future behavior, set `pd.set_option('future.no_silent_downcasting', True)`\n",
            "  & (~mut_merged[\"STOP\"].fillna(False).astype(bool))\n",
            "<ipython-input-34-bc8a3a2bcc8a>:11: RuntimeWarning: overflow encountered in exp\n",
            "  return 1.0 / (1.0 + np.exp(-(x - xmid) / scale))\n"
          ]
        },
        {
          "metadata": {
            "tags": null
          },
          "name": "stdout",
          "output_type": "stream",
          "text": [
            "    best_params: xmid=-10.216, scale=1.0000, deviance=37.356\n",
            "\n",
            "Fitting domain: P09086_PF00157_200\n",
            "    len: 1254\n",
            "    esm1vfl_score range: -24.54658317565918 0.460087776184082\n",
            "    scaled_gr_tofit range: -0.22611215934126006 1.172911868640018\n"
          ]
        },
        {
          "metadata": {
            "tags": null
          },
          "name": "stderr",
          "output_type": "stream",
          "text": [
            "<ipython-input-35-cfc9933a455f>:12: FutureWarning: Downcasting object dtype arrays on .fillna, .ffill, .bfill is deprecated and will change in a future version. Call result.infer_objects(copy=False) instead. To opt-in to the future behavior, set `pd.set_option('future.no_silent_downcasting', True)`\n",
            "  & (~mut_merged[\"STOP\"].fillna(False).astype(bool))\n",
            "<ipython-input-34-bc8a3a2bcc8a>:11: RuntimeWarning: overflow encountered in exp\n",
            "  return 1.0 / (1.0 + np.exp(-(x - xmid) / scale))\n"
          ]
        },
        {
          "metadata": {
            "tags": null
          },
          "name": "stdout",
          "output_type": "stream",
          "text": [
            "    best_params: xmid=-17.260, scale=1.0000, deviance=89.155\n"
          ]
        },
        {
          "metadata": {
            "tags": null
          },
          "name": "stderr",
          "output_type": "stream",
          "text": [
            "<ipython-input-35-cfc9933a455f>:12: FutureWarning: Downcasting object dtype arrays on .fillna, .ffill, .bfill is deprecated and will change in a future version. Call result.infer_objects(copy=False) instead. To opt-in to the future behavior, set `pd.set_option('future.no_silent_downcasting', True)`\n",
            "  & (~mut_merged[\"STOP\"].fillna(False).astype(bool))\n",
            "<ipython-input-34-bc8a3a2bcc8a>:11: RuntimeWarning: overflow encountered in exp\n",
            "  return 1.0 / (1.0 + np.exp(-(x - xmid) / scale))\n"
          ]
        },
        {
          "metadata": {
            "tags": null
          },
          "name": "stdout",
          "output_type": "stream",
          "text": [
            "\n",
            "Fitting domain: P09327_PF02209_793\n",
            "    len: 623\n",
            "    esm1vfl_score range: -18.94224739074707 0.9314939975738524\n",
            "    scaled_gr_tofit range: -0.29272425621456 1.66561969358929\n",
            "    best_params: xmid=-9.788, scale=1.0000, deviance=192.082\n"
          ]
        },
        {
          "metadata": {
            "tags": null
          },
          "name": "stderr",
          "output_type": "stream",
          "text": [
            "<ipython-input-35-cfc9933a455f>:12: FutureWarning: Downcasting object dtype arrays on .fillna, .ffill, .bfill is deprecated and will change in a future version. Call result.infer_objects(copy=False) instead. To opt-in to the future behavior, set `pd.set_option('future.no_silent_downcasting', True)`\n",
            "  & (~mut_merged[\"STOP\"].fillna(False).astype(bool))\n",
            "<ipython-input-34-bc8a3a2bcc8a>:11: RuntimeWarning: overflow encountered in exp\n",
            "  return 1.0 / (1.0 + np.exp(-(x - xmid) / scale))\n"
          ]
        },
        {
          "metadata": {
            "tags": null
          },
          "name": "stdout",
          "output_type": "stream",
          "text": [
            "\n",
            "Fitting domain: P0A9X9_PF00313_3\n",
            "    len: 1270\n",
            "    esm1vfl_score range: -19.747303009033203 0.852050244808197\n",
            "    scaled_gr_tofit range: -0.34479872214111995 1.167149964609074\n",
            "    best_params: xmid=-11.306, scale=1.0000, deviance=102.252\n"
          ]
        },
        {
          "metadata": {
            "tags": null
          },
          "name": "stderr",
          "output_type": "stream",
          "text": [
            "<ipython-input-35-cfc9933a455f>:12: FutureWarning: Downcasting object dtype arrays on .fillna, .ffill, .bfill is deprecated and will change in a future version. Call result.infer_objects(copy=False) instead. To opt-in to the future behavior, set `pd.set_option('future.no_silent_downcasting', True)`\n",
            "  & (~mut_merged[\"STOP\"].fillna(False).astype(bool))\n",
            "<ipython-input-34-bc8a3a2bcc8a>:11: RuntimeWarning: overflow encountered in exp\n",
            "  return 1.0 / (1.0 + np.exp(-(x - xmid) / scale))\n"
          ]
        },
        {
          "metadata": {
            "tags": null
          },
          "name": "stdout",
          "output_type": "stream",
          "text": [
            "\n",
            "Fitting domain: P0CI26_PF00643_87\n",
            "    len: 877\n",
            "    esm1vfl_score range: -15.96242904663086 3.635966300964356\n",
            "    scaled_gr_tofit range: -0.26633540499694 1.693699405684435\n",
            "    best_params: xmid=-6.964, scale=1.0000, deviance=221.669\n"
          ]
        },
        {
          "metadata": {
            "tags": null
          },
          "name": "stderr",
          "output_type": "stream",
          "text": [
            "<ipython-input-35-cfc9933a455f>:12: FutureWarning: Downcasting object dtype arrays on .fillna, .ffill, .bfill is deprecated and will change in a future version. Call result.infer_objects(copy=False) instead. To opt-in to the future behavior, set `pd.set_option('future.no_silent_downcasting', True)`\n",
            "  & (~mut_merged[\"STOP\"].fillna(False).astype(bool))\n",
            "<ipython-input-34-bc8a3a2bcc8a>:11: RuntimeWarning: overflow encountered in exp\n",
            "  return 1.0 / (1.0 + np.exp(-(x - xmid) / scale))\n"
          ]
        },
        {
          "metadata": {
            "tags": null
          },
          "name": "stdout",
          "output_type": "stream",
          "text": [
            "\n",
            "Fitting domain: P10242_PF00249_143\n",
            "    len: 958\n",
            "    esm1vfl_score range: -23.577556610107425 -3.0500707626342773\n",
            "    scaled_gr_tofit range: -0.44670250069035 1.258133980206895\n",
            "    best_params: xmid=-17.510, scale=1.0000, deviance=144.528\n"
          ]
        },
        {
          "metadata": {
            "tags": null
          },
          "name": "stderr",
          "output_type": "stream",
          "text": [
            "<ipython-input-35-cfc9933a455f>:12: FutureWarning: Downcasting object dtype arrays on .fillna, .ffill, .bfill is deprecated and will change in a future version. Call result.infer_objects(copy=False) instead. To opt-in to the future behavior, set `pd.set_option('future.no_silent_downcasting', True)`\n",
            "  & (~mut_merged[\"STOP\"].fillna(False).astype(bool))\n",
            "<ipython-input-34-bc8a3a2bcc8a>:11: RuntimeWarning: overflow encountered in exp\n",
            "  return 1.0 / (1.0 + np.exp(-(x - xmid) / scale))\n"
          ]
        },
        {
          "metadata": {
            "tags": null
          },
          "name": "stdout",
          "output_type": "stream",
          "text": [
            "\n",
            "Fitting domain: P10242_PF00249_40\n",
            "    len: 810\n",
            "    esm1vfl_score range: -23.83161354064941 -3.243721008300781\n",
            "    scaled_gr_tofit range: -0.3784817191551899 1.389973984516735\n",
            "    best_params: xmid=-16.156, scale=1.0000, deviance=133.786\n",
            "\n",
            "Fitting domain: P10275_PF00105_557\n",
            "    len: 974\n",
            "    esm1vfl_score range: -23.807937622070312 -3.918411254882813\n",
            "    scaled_gr_tofit range: -0.4461684654233 1.215550558903379\n"
          ]
        },
        {
          "metadata": {
            "tags": null
          },
          "name": "stderr",
          "output_type": "stream",
          "text": [
            "<ipython-input-35-cfc9933a455f>:12: FutureWarning: Downcasting object dtype arrays on .fillna, .ffill, .bfill is deprecated and will change in a future version. Call result.infer_objects(copy=False) instead. To opt-in to the future behavior, set `pd.set_option('future.no_silent_downcasting', True)`\n",
            "  & (~mut_merged[\"STOP\"].fillna(False).astype(bool))\n",
            "<ipython-input-34-bc8a3a2bcc8a>:11: RuntimeWarning: overflow encountered in exp\n",
            "  return 1.0 / (1.0 + np.exp(-(x - xmid) / scale))\n"
          ]
        },
        {
          "metadata": {
            "tags": null
          },
          "name": "stdout",
          "output_type": "stream",
          "text": [
            "    best_params: xmid=-16.805, scale=1.0000, deviance=164.049\n",
            "\n",
            "Fitting domain: P10398_PF02196_21\n",
            "    len: 1119\n",
            "    esm1vfl_score range: -20.62549591064453 1.695091724395752\n",
            "    scaled_gr_tofit range: -0.15558745491085002 1.258496855570233\n"
          ]
        },
        {
          "metadata": {
            "tags": null
          },
          "name": "stderr",
          "output_type": "stream",
          "text": [
            "<ipython-input-35-cfc9933a455f>:12: FutureWarning: Downcasting object dtype arrays on .fillna, .ffill, .bfill is deprecated and will change in a future version. Call result.infer_objects(copy=False) instead. To opt-in to the future behavior, set `pd.set_option('future.no_silent_downcasting', True)`\n",
            "  & (~mut_merged[\"STOP\"].fillna(False).astype(bool))\n",
            "<ipython-input-34-bc8a3a2bcc8a>:11: RuntimeWarning: overflow encountered in exp\n",
            "  return 1.0 / (1.0 + np.exp(-(x - xmid) / scale))\n"
          ]
        },
        {
          "metadata": {
            "tags": null
          },
          "name": "stdout",
          "output_type": "stream",
          "text": [
            "    best_params: xmid=-10.322, scale=1.0000, deviance=104.083\n",
            "\n",
            "Fitting domain: P10589_PF00105_83\n",
            "    len: 1401\n",
            "    esm1vfl_score range: -23.64654922485352 -2.886413097381592\n",
            "    scaled_gr_tofit range: -0.5110961931564699 1.600006305125987\n"
          ]
        },
        {
          "metadata": {
            "tags": null
          },
          "name": "stderr",
          "output_type": "stream",
          "text": [
            "<ipython-input-35-cfc9933a455f>:12: FutureWarning: Downcasting object dtype arrays on .fillna, .ffill, .bfill is deprecated and will change in a future version. Call result.infer_objects(copy=False) instead. To opt-in to the future behavior, set `pd.set_option('future.no_silent_downcasting', True)`\n",
            "  & (~mut_merged[\"STOP\"].fillna(False).astype(bool))\n",
            "<ipython-input-34-bc8a3a2bcc8a>:11: RuntimeWarning: overflow encountered in exp\n",
            "  return 1.0 / (1.0 + np.exp(-(x - xmid) / scale))\n"
          ]
        },
        {
          "metadata": {
            "tags": null
          },
          "name": "stdout",
          "output_type": "stream",
          "text": [
            "    best_params: xmid=-17.832, scale=1.0000, deviance=599.987\n",
            "\n",
            "Fitting domain: P10826_PF00105_85\n",
            "    len: 1457\n",
            "    esm1vfl_score range: -24.0821533203125 0.6978607177734375\n",
            "    scaled_gr_tofit range: -0.52834844281371 1.35271842347477\n"
          ]
        },
        {
          "metadata": {
            "tags": null
          },
          "name": "stderr",
          "output_type": "stream",
          "text": [
            "<ipython-input-35-cfc9933a455f>:12: FutureWarning: Downcasting object dtype arrays on .fillna, .ffill, .bfill is deprecated and will change in a future version. Call result.infer_objects(copy=False) instead. To opt-in to the future behavior, set `pd.set_option('future.no_silent_downcasting', True)`\n",
            "  & (~mut_merged[\"STOP\"].fillna(False).astype(bool))\n",
            "<ipython-input-34-bc8a3a2bcc8a>:11: RuntimeWarning: overflow encountered in exp\n",
            "  return 1.0 / (1.0 + np.exp(-(x - xmid) / scale))\n"
          ]
        },
        {
          "metadata": {
            "tags": null
          },
          "name": "stdout",
          "output_type": "stream",
          "text": [
            "    best_params: xmid=-16.470, scale=1.0000, deviance=420.819\n",
            "\n",
            "Fitting domain: P11182_PF02817_171\n",
            "    len: 689\n",
            "    esm1vfl_score range: -20.79914283752441 1.0986170768737793\n",
            "    scaled_gr_tofit range: -0.3764987209069901 1.145452121685027\n"
          ]
        },
        {
          "metadata": {
            "tags": null
          },
          "name": "stderr",
          "output_type": "stream",
          "text": [
            "<ipython-input-35-cfc9933a455f>:12: FutureWarning: Downcasting object dtype arrays on .fillna, .ffill, .bfill is deprecated and will change in a future version. Call result.infer_objects(copy=False) instead. To opt-in to the future behavior, set `pd.set_option('future.no_silent_downcasting', True)`\n",
            "  & (~mut_merged[\"STOP\"].fillna(False).astype(bool))\n",
            "<ipython-input-34-bc8a3a2bcc8a>:11: RuntimeWarning: overflow encountered in exp\n",
            "  return 1.0 / (1.0 + np.exp(-(x - xmid) / scale))\n"
          ]
        },
        {
          "metadata": {
            "tags": null
          },
          "name": "stdout",
          "output_type": "stream",
          "text": [
            "    best_params: xmid=-13.189, scale=1.0000, deviance=68.091\n",
            "\n",
            "Fitting domain: P11308_PF02198_117\n",
            "    len: 1512\n",
            "    esm1vfl_score range: -23.408706665039062 0.3040585517883301\n",
            "    scaled_gr_tofit range: -0.40189832184544994 1.327704900682606\n"
          ]
        },
        {
          "metadata": {
            "tags": null
          },
          "name": "stderr",
          "output_type": "stream",
          "text": [
            "<ipython-input-35-cfc9933a455f>:12: FutureWarning: Downcasting object dtype arrays on .fillna, .ffill, .bfill is deprecated and will change in a future version. Call result.infer_objects(copy=False) instead. To opt-in to the future behavior, set `pd.set_option('future.no_silent_downcasting', True)`\n",
            "  & (~mut_merged[\"STOP\"].fillna(False).astype(bool))\n",
            "<ipython-input-34-bc8a3a2bcc8a>:11: RuntimeWarning: overflow encountered in exp\n",
            "  return 1.0 / (1.0 + np.exp(-(x - xmid) / scale))\n"
          ]
        },
        {
          "metadata": {
            "tags": null
          },
          "name": "stdout",
          "output_type": "stream",
          "text": [
            "    best_params: xmid=-14.203, scale=1.0000, deviance=169.754\n",
            "\n",
            "Fitting domain: P11844_PF00030_85\n",
            "    len: 1684\n",
            "    esm1vfl_score range: -15.832161903381348 1.0933237075805664\n",
            "    scaled_gr_tofit range: -0.3473990053118501 1.714390636976616\n"
          ]
        },
        {
          "metadata": {
            "tags": null
          },
          "name": "stderr",
          "output_type": "stream",
          "text": [
            "<ipython-input-35-cfc9933a455f>:12: FutureWarning: Downcasting object dtype arrays on .fillna, .ffill, .bfill is deprecated and will change in a future version. Call result.infer_objects(copy=False) instead. To opt-in to the future behavior, set `pd.set_option('future.no_silent_downcasting', True)`\n",
            "  & (~mut_merged[\"STOP\"].fillna(False).astype(bool))\n",
            "<ipython-input-34-bc8a3a2bcc8a>:11: RuntimeWarning: overflow encountered in exp\n",
            "  return 1.0 / (1.0 + np.exp(-(x - xmid) / scale))\n"
          ]
        },
        {
          "metadata": {
            "tags": null
          },
          "name": "stdout",
          "output_type": "stream",
          "text": [
            "    best_params: xmid=-7.031, scale=1.0000, deviance=558.342\n",
            "\n",
            "Fitting domain: P11961_PF02817_126\n",
            "    len: 876\n",
            "    esm1vfl_score range: -23.677000045776367 1.0824813842773438\n",
            "    scaled_gr_tofit range: -0.3247119314981799 1.421034764613391\n"
          ]
        },
        {
          "metadata": {
            "tags": null
          },
          "name": "stderr",
          "output_type": "stream",
          "text": [
            "<ipython-input-35-cfc9933a455f>:12: FutureWarning: Downcasting object dtype arrays on .fillna, .ffill, .bfill is deprecated and will change in a future version. Call result.infer_objects(copy=False) instead. To opt-in to the future behavior, set `pd.set_option('future.no_silent_downcasting', True)`\n",
            "  & (~mut_merged[\"STOP\"].fillna(False).astype(bool))\n",
            "<ipython-input-34-bc8a3a2bcc8a>:11: RuntimeWarning: overflow encountered in exp\n",
            "  return 1.0 / (1.0 + np.exp(-(x - xmid) / scale))\n"
          ]
        },
        {
          "metadata": {
            "tags": null
          },
          "name": "stdout",
          "output_type": "stream",
          "text": [
            "    best_params: xmid=-15.439, scale=1.0000, deviance=122.220\n",
            "\n",
            "Fitting domain: P12931_PF00018_87\n",
            "    len: 893\n",
            "    esm1vfl_score range: -22.81146812438965 0.0888094902038574\n",
            "    scaled_gr_tofit range: -0.16030678623429995 1.39599823678429\n"
          ]
        },
        {
          "metadata": {
            "tags": null
          },
          "name": "stderr",
          "output_type": "stream",
          "text": [
            "<ipython-input-35-cfc9933a455f>:12: FutureWarning: Downcasting object dtype arrays on .fillna, .ffill, .bfill is deprecated and will change in a future version. Call result.infer_objects(copy=False) instead. To opt-in to the future behavior, set `pd.set_option('future.no_silent_downcasting', True)`\n",
            "  & (~mut_merged[\"STOP\"].fillna(False).astype(bool))\n",
            "<ipython-input-34-bc8a3a2bcc8a>:11: RuntimeWarning: overflow encountered in exp\n",
            "  return 1.0 / (1.0 + np.exp(-(x - xmid) / scale))\n"
          ]
        },
        {
          "metadata": {
            "tags": null
          },
          "name": "stdout",
          "output_type": "stream",
          "text": [
            "    best_params: xmid=-10.354, scale=1.0000, deviance=76.394\n",
            "\n",
            "Fitting domain: P12956_PF02037_558\n",
            "    len: 881\n",
            "    esm1vfl_score range: -23.00630187988281 0.4629814624786377\n",
            "    scaled_gr_tofit range: -0.25881051226743 1.2997767717526871\n"
          ]
        },
        {
          "metadata": {
            "tags": null
          },
          "name": "stderr",
          "output_type": "stream",
          "text": [
            "<ipython-input-35-cfc9933a455f>:12: FutureWarning: Downcasting object dtype arrays on .fillna, .ffill, .bfill is deprecated and will change in a future version. Call result.infer_objects(copy=False) instead. To opt-in to the future behavior, set `pd.set_option('future.no_silent_downcasting', True)`\n",
            "  & (~mut_merged[\"STOP\"].fillna(False).astype(bool))\n",
            "<ipython-input-34-bc8a3a2bcc8a>:11: RuntimeWarning: overflow encountered in exp\n",
            "  return 1.0 / (1.0 + np.exp(-(x - xmid) / scale))\n"
          ]
        },
        {
          "metadata": {
            "tags": null
          },
          "name": "stdout",
          "output_type": "stream",
          "text": [
            "    best_params: xmid=-9.696, scale=1.0000, deviance=96.969\n",
            "\n",
            "Fitting domain: P13796_PF13499_13\n",
            "    len: 1511\n",
            "    esm1vfl_score range: -22.01943588256836 1.6972668170928955\n",
            "    scaled_gr_tofit range: -0.3830619181871999 1.203095271053654\n"
          ]
        },
        {
          "metadata": {
            "tags": null
          },
          "name": "stderr",
          "output_type": "stream",
          "text": [
            "<ipython-input-35-cfc9933a455f>:12: FutureWarning: Downcasting object dtype arrays on .fillna, .ffill, .bfill is deprecated and will change in a future version. Call result.infer_objects(copy=False) instead. To opt-in to the future behavior, set `pd.set_option('future.no_silent_downcasting', True)`\n",
            "  & (~mut_merged[\"STOP\"].fillna(False).astype(bool))\n",
            "<ipython-input-34-bc8a3a2bcc8a>:11: RuntimeWarning: overflow encountered in exp\n",
            "  return 1.0 / (1.0 + np.exp(-(x - xmid) / scale))\n"
          ]
        },
        {
          "metadata": {
            "tags": null
          },
          "name": "stdout",
          "output_type": "stream",
          "text": [
            "    best_params: xmid=-13.327, scale=1.0000, deviance=137.329\n",
            "\n",
            "Fitting domain: P13984_PF02270_177\n",
            "    len: 1153\n",
            "    esm1vfl_score range: -21.06944465637207 11.023386001586914\n",
            "    scaled_gr_tofit range: -0.24212468619968996 1.131343669787254\n"
          ]
        },
        {
          "metadata": {
            "tags": null
          },
          "name": "stderr",
          "output_type": "stream",
          "text": [
            "<ipython-input-35-cfc9933a455f>:12: FutureWarning: Downcasting object dtype arrays on .fillna, .ffill, .bfill is deprecated and will change in a future version. Call result.infer_objects(copy=False) instead. To opt-in to the future behavior, set `pd.set_option('future.no_silent_downcasting', True)`\n",
            "  & (~mut_merged[\"STOP\"].fillna(False).astype(bool))\n",
            "<ipython-input-34-bc8a3a2bcc8a>:11: RuntimeWarning: overflow encountered in exp\n",
            "  return 1.0 / (1.0 + np.exp(-(x - xmid) / scale))\n"
          ]
        },
        {
          "metadata": {
            "tags": null
          },
          "name": "stdout",
          "output_type": "stream",
          "text": [
            "    best_params: xmid=-13.769, scale=1.0000, deviance=70.534\n",
            "\n",
            "Fitting domain: P14598_PF00018_157\n",
            "    len: 1230\n",
            "    esm1vfl_score range: -21.85771751403809 1.932760238647461\n",
            "    scaled_gr_tofit range: -0.28998742689305 1.178612009361985\n"
          ]
        },
        {
          "metadata": {
            "tags": null
          },
          "name": "stderr",
          "output_type": "stream",
          "text": [
            "<ipython-input-35-cfc9933a455f>:12: FutureWarning: Downcasting object dtype arrays on .fillna, .ffill, .bfill is deprecated and will change in a future version. Call result.infer_objects(copy=False) instead. To opt-in to the future behavior, set `pd.set_option('future.no_silent_downcasting', True)`\n",
            "  & (~mut_merged[\"STOP\"].fillna(False).astype(bool))\n",
            "<ipython-input-34-bc8a3a2bcc8a>:11: RuntimeWarning: overflow encountered in exp\n",
            "  return 1.0 / (1.0 + np.exp(-(x - xmid) / scale))\n"
          ]
        },
        {
          "metadata": {
            "tags": null
          },
          "name": "stdout",
          "output_type": "stream",
          "text": [
            "    best_params: xmid=-11.210, scale=1.0000, deviance=107.777\n",
            "\n",
            "Fitting domain: P14653_PF00046_208\n",
            "    len: 970\n",
            "    esm1vfl_score range: -24.15421485900879 -0.0510635375976562\n",
            "    scaled_gr_tofit range: -0.3053710987171401 1.445239926708018\n"
          ]
        },
        {
          "metadata": {
            "tags": null
          },
          "name": "stderr",
          "output_type": "stream",
          "text": [
            "<ipython-input-35-cfc9933a455f>:12: FutureWarning: Downcasting object dtype arrays on .fillna, .ffill, .bfill is deprecated and will change in a future version. Call result.infer_objects(copy=False) instead. To opt-in to the future behavior, set `pd.set_option('future.no_silent_downcasting', True)`\n",
            "  & (~mut_merged[\"STOP\"].fillna(False).astype(bool))\n",
            "<ipython-input-34-bc8a3a2bcc8a>:11: RuntimeWarning: overflow encountered in exp\n",
            "  return 1.0 / (1.0 + np.exp(-(x - xmid) / scale))\n"
          ]
        },
        {
          "metadata": {
            "tags": null
          },
          "name": "stdout",
          "output_type": "stream",
          "text": [
            "    best_params: xmid=-12.168, scale=1.0000, deviance=208.617\n",
            "\n",
            "Fitting domain: P14859_PF00157_285\n",
            "    len: 1205\n",
            "    esm1vfl_score range: -25.347213745117188 0.460087776184082\n",
            "    scaled_gr_tofit range: -0.18771545246389 1.142352896057991\n"
          ]
        },
        {
          "metadata": {
            "tags": null
          },
          "name": "stderr",
          "output_type": "stream",
          "text": [
            "<ipython-input-35-cfc9933a455f>:12: FutureWarning: Downcasting object dtype arrays on .fillna, .ffill, .bfill is deprecated and will change in a future version. Call result.infer_objects(copy=False) instead. To opt-in to the future behavior, set `pd.set_option('future.no_silent_downcasting', True)`\n",
            "  & (~mut_merged[\"STOP\"].fillna(False).astype(bool))\n",
            "<ipython-input-34-bc8a3a2bcc8a>:11: RuntimeWarning: overflow encountered in exp\n",
            "  return 1.0 / (1.0 + np.exp(-(x - xmid) / scale))\n"
          ]
        },
        {
          "metadata": {
            "tags": null
          },
          "name": "stdout",
          "output_type": "stream",
          "text": [
            "    best_params: xmid=-17.483, scale=1.0000, deviance=61.807\n",
            "\n",
            "Fitting domain: P14921_PF02198_55\n",
            "    len: 1471\n",
            "    esm1vfl_score range: -22.670196533203125 1.332763910293579\n",
            "    scaled_gr_tofit range: -0.15118492010068008 1.170199263387849\n"
          ]
        },
        {
          "metadata": {
            "tags": null
          },
          "name": "stderr",
          "output_type": "stream",
          "text": [
            "<ipython-input-35-cfc9933a455f>:12: FutureWarning: Downcasting object dtype arrays on .fillna, .ffill, .bfill is deprecated and will change in a future version. Call result.infer_objects(copy=False) instead. To opt-in to the future behavior, set `pd.set_option('future.no_silent_downcasting', True)`\n",
            "  & (~mut_merged[\"STOP\"].fillna(False).astype(bool))\n",
            "<ipython-input-34-bc8a3a2bcc8a>:11: RuntimeWarning: overflow encountered in exp\n",
            "  return 1.0 / (1.0 + np.exp(-(x - xmid) / scale))\n"
          ]
        },
        {
          "metadata": {
            "tags": null
          },
          "name": "stdout",
          "output_type": "stream",
          "text": [
            "    best_params: xmid=-10.869, scale=1.0000, deviance=64.241\n",
            "\n",
            "Fitting domain: P15056_PF02196_153\n",
            "    len: 1434\n",
            "    esm1vfl_score range: -22.79285430908203 -5.286898612976074\n",
            "    scaled_gr_tofit range: -0.27204600140730006 1.135439851917011\n"
          ]
        },
        {
          "metadata": {
            "tags": null
          },
          "name": "stderr",
          "output_type": "stream",
          "text": [
            "<ipython-input-35-cfc9933a455f>:12: FutureWarning: Downcasting object dtype arrays on .fillna, .ffill, .bfill is deprecated and will change in a future version. Call result.infer_objects(copy=False) instead. To opt-in to the future behavior, set `pd.set_option('future.no_silent_downcasting', True)`\n",
            "  & (~mut_merged[\"STOP\"].fillna(False).astype(bool))\n",
            "<ipython-input-34-bc8a3a2bcc8a>:11: RuntimeWarning: overflow encountered in exp\n",
            "  return 1.0 / (1.0 + np.exp(-(x - xmid) / scale))\n"
          ]
        },
        {
          "metadata": {
            "tags": null
          },
          "name": "stdout",
          "output_type": "stream",
          "text": [
            "    best_params: xmid=-17.086, scale=1.0000, deviance=101.410\n"
          ]
        },
        {
          "metadata": {
            "tags": null
          },
          "name": "stderr",
          "output_type": "stream",
          "text": [
            "<ipython-input-35-cfc9933a455f>:12: FutureWarning: Downcasting object dtype arrays on .fillna, .ffill, .bfill is deprecated and will change in a future version. Call result.infer_objects(copy=False) instead. To opt-in to the future behavior, set `pd.set_option('future.no_silent_downcasting', True)`\n",
            "  & (~mut_merged[\"STOP\"].fillna(False).astype(bool))\n",
            "<ipython-input-34-bc8a3a2bcc8a>:11: RuntimeWarning: overflow encountered in exp\n",
            "  return 1.0 / (1.0 + np.exp(-(x - xmid) / scale))\n"
          ]
        },
        {
          "metadata": {
            "tags": null
          },
          "name": "stdout",
          "output_type": "stream",
          "text": [
            "\n",
            "Fitting domain: P15498_PF00018_592\n",
            "    len: 1205\n",
            "    esm1vfl_score range: -20.676603317260746 2.4231228828430176\n",
            "    scaled_gr_tofit range: -0.17449427281610008 1.192730620195337\n",
            "    best_params: xmid=-9.703, scale=1.0000, deviance=81.750\n"
          ]
        },
        {
          "metadata": {
            "tags": null
          },
          "name": "stderr",
          "output_type": "stream",
          "text": [
            "<ipython-input-35-cfc9933a455f>:12: FutureWarning: Downcasting object dtype arrays on .fillna, .ffill, .bfill is deprecated and will change in a future version. Call result.infer_objects(copy=False) instead. To opt-in to the future behavior, set `pd.set_option('future.no_silent_downcasting', True)`\n",
            "  & (~mut_merged[\"STOP\"].fillna(False).astype(bool))\n",
            "<ipython-input-34-bc8a3a2bcc8a>:11: RuntimeWarning: overflow encountered in exp\n",
            "  return 1.0 / (1.0 + np.exp(-(x - xmid) / scale))\n"
          ]
        },
        {
          "metadata": {
            "tags": null
          },
          "name": "stdout",
          "output_type": "stream",
          "text": [
            "\n",
            "Fitting domain: P15498_PF00018_782\n",
            "    len: 1116\n",
            "    esm1vfl_score range: -22.70088577270508 0.6028070449829102\n",
            "    scaled_gr_tofit range: -0.21139310572923997 1.231675764892106\n",
            "    best_params: xmid=-10.213, scale=1.0000, deviance=97.981\n"
          ]
        },
        {
          "metadata": {
            "tags": null
          },
          "name": "stderr",
          "output_type": "stream",
          "text": [
            "<ipython-input-35-cfc9933a455f>:12: FutureWarning: Downcasting object dtype arrays on .fillna, .ffill, .bfill is deprecated and will change in a future version. Call result.infer_objects(copy=False) instead. To opt-in to the future behavior, set `pd.set_option('future.no_silent_downcasting', True)`\n",
            "  & (~mut_merged[\"STOP\"].fillna(False).astype(bool))\n",
            "<ipython-input-34-bc8a3a2bcc8a>:11: RuntimeWarning: overflow encountered in exp\n",
            "  return 1.0 / (1.0 + np.exp(-(x - xmid) / scale))\n"
          ]
        },
        {
          "metadata": {
            "tags": null
          },
          "name": "stdout",
          "output_type": "stream",
          "text": [
            "\n",
            "Fitting domain: P16885_PF00018_772\n",
            "    len: 824\n",
            "    esm1vfl_score range: -18.125689620176907 1.3137227039300088\n",
            "    scaled_gr_tofit range: -0.1388876045656 1.2458861160103991\n",
            "    best_params: xmid=-5.314, scale=1.0000, deviance=75.220\n"
          ]
        },
        {
          "metadata": {
            "tags": null
          },
          "name": "stderr",
          "output_type": "stream",
          "text": [
            "<ipython-input-35-cfc9933a455f>:12: FutureWarning: Downcasting object dtype arrays on .fillna, .ffill, .bfill is deprecated and will change in a future version. Call result.infer_objects(copy=False) instead. To opt-in to the future behavior, set `pd.set_option('future.no_silent_downcasting', True)`\n",
            "  & (~mut_merged[\"STOP\"].fillna(False).astype(bool))\n",
            "<ipython-input-34-bc8a3a2bcc8a>:11: RuntimeWarning: overflow encountered in exp\n",
            "  return 1.0 / (1.0 + np.exp(-(x - xmid) / scale))\n"
          ]
        },
        {
          "metadata": {
            "tags": null
          },
          "name": "stdout",
          "output_type": "stream",
          "text": [
            "\n",
            "Fitting domain: P16989_PF00313_84\n",
            "    len: 1606\n",
            "    esm1vfl_score range: -22.512693405151367 -2.0901198387146\n",
            "    scaled_gr_tofit range: -0.35349526640580997 1.366007947058749\n",
            "    best_params: xmid=-14.083, scale=1.0000, deviance=331.350\n",
            "\n",
            "Fitting domain: P17480_PF00505_408\n",
            "    len: 1159\n",
            "    esm1vfl_score range: -22.4153060913086 1.649380803108215\n",
            "    scaled_gr_tofit range: -0.50488299289235 1.103980881674486\n"
          ]
        },
        {
          "metadata": {
            "tags": null
          },
          "name": "stderr",
          "output_type": "stream",
          "text": [
            "<ipython-input-35-cfc9933a455f>:12: FutureWarning: Downcasting object dtype arrays on .fillna, .ffill, .bfill is deprecated and will change in a future version. Call result.infer_objects(copy=False) instead. To opt-in to the future behavior, set `pd.set_option('future.no_silent_downcasting', True)`\n",
            "  & (~mut_merged[\"STOP\"].fillna(False).astype(bool))\n",
            "<ipython-input-34-bc8a3a2bcc8a>:11: RuntimeWarning: overflow encountered in exp\n",
            "  return 1.0 / (1.0 + np.exp(-(x - xmid) / scale))\n"
          ]
        },
        {
          "metadata": {
            "tags": null
          },
          "name": "stdout",
          "output_type": "stream",
          "text": [
            "    best_params: xmid=-15.449, scale=1.0000, deviance=146.168\n",
            "\n",
            "Fitting domain: P19793_PF00105_132\n",
            "    len: 1188\n",
            "    esm1vfl_score range: -24.583045959472656 -1.1476025581359863\n",
            "    scaled_gr_tofit range: -0.3052039912759501 1.209839741582986\n"
          ]
        },
        {
          "metadata": {
            "tags": null
          },
          "name": "stderr",
          "output_type": "stream",
          "text": [
            "<ipython-input-35-cfc9933a455f>:12: FutureWarning: Downcasting object dtype arrays on .fillna, .ffill, .bfill is deprecated and will change in a future version. Call result.infer_objects(copy=False) instead. To opt-in to the future behavior, set `pd.set_option('future.no_silent_downcasting', True)`\n",
            "  & (~mut_merged[\"STOP\"].fillna(False).astype(bool))\n",
            "<ipython-input-34-bc8a3a2bcc8a>:11: RuntimeWarning: overflow encountered in exp\n",
            "  return 1.0 / (1.0 + np.exp(-(x - xmid) / scale))\n"
          ]
        },
        {
          "metadata": {
            "tags": null
          },
          "name": "stdout",
          "output_type": "stream",
          "text": [
            "    best_params: xmid=-16.200, scale=1.0000, deviance=141.504\n",
            "\n",
            "Fitting domain: P19878_PF00018_241\n",
            "    len: 1089\n",
            "    esm1vfl_score range: -22.70021629333496 -0.1847701668739318\n",
            "    scaled_gr_tofit range: -0.23217822438075997 1.298513205735358\n"
          ]
        },
        {
          "metadata": {
            "tags": null
          },
          "name": "stderr",
          "output_type": "stream",
          "text": [
            "<ipython-input-35-cfc9933a455f>:12: FutureWarning: Downcasting object dtype arrays on .fillna, .ffill, .bfill is deprecated and will change in a future version. Call result.infer_objects(copy=False) instead. To opt-in to the future behavior, set `pd.set_option('future.no_silent_downcasting', True)`\n",
            "  & (~mut_merged[\"STOP\"].fillna(False).astype(bool))\n",
            "<ipython-input-34-bc8a3a2bcc8a>:11: RuntimeWarning: overflow encountered in exp\n",
            "  return 1.0 / (1.0 + np.exp(-(x - xmid) / scale))\n"
          ]
        },
        {
          "metadata": {
            "tags": null
          },
          "name": "stdout",
          "output_type": "stream",
          "text": [
            "    best_params: xmid=-10.118, scale=1.0000, deviance=127.348\n",
            "\n",
            "Fitting domain: P19878_PF00018_456\n",
            "    len: 1116\n",
            "    esm1vfl_score range: -23.76939010620117 3.021740674972534\n",
            "    scaled_gr_tofit range: -0.2727504027562 2.16572555962497\n"
          ]
        },
        {
          "metadata": {
            "tags": null
          },
          "name": "stderr",
          "output_type": "stream",
          "text": [
            "<ipython-input-35-cfc9933a455f>:12: FutureWarning: Downcasting object dtype arrays on .fillna, .ffill, .bfill is deprecated and will change in a future version. Call result.infer_objects(copy=False) instead. To opt-in to the future behavior, set `pd.set_option('future.no_silent_downcasting', True)`\n",
            "  & (~mut_merged[\"STOP\"].fillna(False).astype(bool))\n",
            "<ipython-input-34-bc8a3a2bcc8a>:11: RuntimeWarning: overflow encountered in exp\n",
            "  return 1.0 / (1.0 + np.exp(-(x - xmid) / scale))\n"
          ]
        },
        {
          "metadata": {
            "tags": null
          },
          "name": "stdout",
          "output_type": "stream",
          "text": [
            "    best_params: xmid=-8.457, scale=1.0000, deviance=857.150\n",
            "\n",
            "Fitting domain: P19878_PF00564_353\n",
            "    len: 1232\n",
            "    esm1vfl_score range: -17.01507568359375 1.6942378282546997\n",
            "    scaled_gr_tofit range: -0.2485100725423599 1.516093364588842\n"
          ]
        },
        {
          "metadata": {
            "tags": null
          },
          "name": "stderr",
          "output_type": "stream",
          "text": [
            "<ipython-input-35-cfc9933a455f>:12: FutureWarning: Downcasting object dtype arrays on .fillna, .ffill, .bfill is deprecated and will change in a future version. Call result.infer_objects(copy=False) instead. To opt-in to the future behavior, set `pd.set_option('future.no_silent_downcasting', True)`\n",
            "  & (~mut_merged[\"STOP\"].fillna(False).astype(bool))\n",
            "<ipython-input-34-bc8a3a2bcc8a>:11: RuntimeWarning: overflow encountered in exp\n",
            "  return 1.0 / (1.0 + np.exp(-(x - xmid) / scale))\n"
          ]
        },
        {
          "metadata": {
            "tags": null
          },
          "name": "stdout",
          "output_type": "stream",
          "text": [
            "    best_params: xmid=-5.312, scale=1.0000, deviance=213.229\n",
            "\n",
            "Fitting domain: P20264_PF00046_408\n",
            "    len: 952\n",
            "    esm1vfl_score range: -25.22671890258789 -0.1165142059326171\n",
            "    scaled_gr_tofit range: -0.30136998165491 1.247534685055972\n"
          ]
        },
        {
          "metadata": {
            "tags": null
          },
          "name": "stderr",
          "output_type": "stream",
          "text": [
            "<ipython-input-35-cfc9933a455f>:12: FutureWarning: Downcasting object dtype arrays on .fillna, .ffill, .bfill is deprecated and will change in a future version. Call result.infer_objects(copy=False) instead. To opt-in to the future behavior, set `pd.set_option('future.no_silent_downcasting', True)`\n",
            "  & (~mut_merged[\"STOP\"].fillna(False).astype(bool))\n",
            "<ipython-input-34-bc8a3a2bcc8a>:11: RuntimeWarning: overflow encountered in exp\n",
            "  return 1.0 / (1.0 + np.exp(-(x - xmid) / scale))\n"
          ]
        },
        {
          "metadata": {
            "tags": null
          },
          "name": "stdout",
          "output_type": "stream",
          "text": [
            "    best_params: xmid=-16.118, scale=1.0000, deviance=133.027\n",
            "\n",
            "Fitting domain: P20264_PF00157_320\n",
            "    len: 1020\n",
            "    esm1vfl_score range: -24.324756622314453 -4.877367973327637\n",
            "    scaled_gr_tofit range: -0.22261912929375005 1.401655447551113\n"
          ]
        },
        {
          "metadata": {
            "tags": null
          },
          "name": "stderr",
          "output_type": "stream",
          "text": [
            "<ipython-input-35-cfc9933a455f>:12: FutureWarning: Downcasting object dtype arrays on .fillna, .ffill, .bfill is deprecated and will change in a future version. Call result.infer_objects(copy=False) instead. To opt-in to the future behavior, set `pd.set_option('future.no_silent_downcasting', True)`\n",
            "  & (~mut_merged[\"STOP\"].fillna(False).astype(bool))\n",
            "<ipython-input-34-bc8a3a2bcc8a>:11: RuntimeWarning: overflow encountered in exp\n",
            "  return 1.0 / (1.0 + np.exp(-(x - xmid) / scale))\n"
          ]
        },
        {
          "metadata": {
            "tags": null
          },
          "name": "stdout",
          "output_type": "stream",
          "text": [
            "    best_params: xmid=-15.871, scale=1.0000, deviance=171.517\n",
            "\n",
            "Fitting domain: P20265_PF00046_356\n",
            "    len: 1030\n",
            "    esm1vfl_score range: -25.33589553833008 -0.2262716293334961\n",
            "    scaled_gr_tofit range: -0.24779202802319 1.265310030626192\n"
          ]
        },
        {
          "metadata": {
            "tags": null
          },
          "name": "stderr",
          "output_type": "stream",
          "text": [
            "<ipython-input-35-cfc9933a455f>:12: FutureWarning: Downcasting object dtype arrays on .fillna, .ffill, .bfill is deprecated and will change in a future version. Call result.infer_objects(copy=False) instead. To opt-in to the future behavior, set `pd.set_option('future.no_silent_downcasting', True)`\n",
            "  & (~mut_merged[\"STOP\"].fillna(False).astype(bool))\n",
            "<ipython-input-34-bc8a3a2bcc8a>:11: RuntimeWarning: overflow encountered in exp\n",
            "  return 1.0 / (1.0 + np.exp(-(x - xmid) / scale))\n"
          ]
        },
        {
          "metadata": {
            "tags": null
          },
          "name": "stdout",
          "output_type": "stream",
          "text": [
            "    best_params: xmid=-15.190, scale=1.0000, deviance=141.856\n",
            "\n",
            "Fitting domain: P20265_PF00157_262\n",
            "    len: 1382\n",
            "    esm1vfl_score range: -24.12555313110352 -3.199967384338379\n",
            "    scaled_gr_tofit range: -0.48283053717018 1.265256453879503\n"
          ]
        },
        {
          "metadata": {
            "tags": null
          },
          "name": "stderr",
          "output_type": "stream",
          "text": [
            "<ipython-input-35-cfc9933a455f>:12: FutureWarning: Downcasting object dtype arrays on .fillna, .ffill, .bfill is deprecated and will change in a future version. Call result.infer_objects(copy=False) instead. To opt-in to the future behavior, set `pd.set_option('future.no_silent_downcasting', True)`\n",
            "  & (~mut_merged[\"STOP\"].fillna(False).astype(bool))\n",
            "<ipython-input-34-bc8a3a2bcc8a>:11: RuntimeWarning: overflow encountered in exp\n",
            "  return 1.0 / (1.0 + np.exp(-(x - xmid) / scale))\n"
          ]
        },
        {
          "metadata": {
            "tags": null
          },
          "name": "stdout",
          "output_type": "stream",
          "text": [
            "    best_params: xmid=-17.860, scale=1.0000, deviance=243.031\n",
            "\n",
            "Fitting domain: P20936_PF00018_281\n",
            "    len: 1157\n",
            "    esm1vfl_score range: -20.732359170913696 0.328472375869751\n",
            "    scaled_gr_tofit range: -0.2785064241352999 1.234030535320853\n"
          ]
        },
        {
          "metadata": {
            "tags": null
          },
          "name": "stderr",
          "output_type": "stream",
          "text": [
            "<ipython-input-35-cfc9933a455f>:12: FutureWarning: Downcasting object dtype arrays on .fillna, .ffill, .bfill is deprecated and will change in a future version. Call result.infer_objects(copy=False) instead. To opt-in to the future behavior, set `pd.set_option('future.no_silent_downcasting', True)`\n",
            "  & (~mut_merged[\"STOP\"].fillna(False).astype(bool))\n",
            "<ipython-input-34-bc8a3a2bcc8a>:11: RuntimeWarning: overflow encountered in exp\n",
            "  return 1.0 / (1.0 + np.exp(-(x - xmid) / scale))\n"
          ]
        },
        {
          "metadata": {
            "tags": null
          },
          "name": "stdout",
          "output_type": "stream",
          "text": [
            "    best_params: xmid=-9.800, scale=1.0000, deviance=144.470\n",
            "\n",
            "Fitting domain: P22492_PF00538_44\n",
            "    len: 1170\n",
            "    esm1vfl_score range: -19.197566986083984 1.6955112218856812\n",
            "    scaled_gr_tofit range: -0.52486681032926 1.566449328511863\n"
          ]
        },
        {
          "metadata": {
            "tags": null
          },
          "name": "stderr",
          "output_type": "stream",
          "text": [
            "<ipython-input-35-cfc9933a455f>:12: FutureWarning: Downcasting object dtype arrays on .fillna, .ffill, .bfill is deprecated and will change in a future version. Call result.infer_objects(copy=False) instead. To opt-in to the future behavior, set `pd.set_option('future.no_silent_downcasting', True)`\n",
            "  & (~mut_merged[\"STOP\"].fillna(False).astype(bool))\n",
            "<ipython-input-34-bc8a3a2bcc8a>:11: RuntimeWarning: overflow encountered in exp\n",
            "  return 1.0 / (1.0 + np.exp(-(x - xmid) / scale))\n"
          ]
        },
        {
          "metadata": {
            "tags": null
          },
          "name": "stdout",
          "output_type": "stream",
          "text": [
            "    best_params: xmid=-12.232, scale=1.0000, deviance=335.066\n",
            "\n",
            "Fitting domain: P22681_PF00627_854\n",
            "    len: 838\n",
            "    esm1vfl_score range: -23.71745681762696 1.556437611579895\n",
            "    scaled_gr_tofit range: -0.36303179460620005 2.1707605762660203\n"
          ]
        },
        {
          "metadata": {
            "tags": null
          },
          "name": "stderr",
          "output_type": "stream",
          "text": [
            "<ipython-input-35-cfc9933a455f>:12: FutureWarning: Downcasting object dtype arrays on .fillna, .ffill, .bfill is deprecated and will change in a future version. Call result.infer_objects(copy=False) instead. To opt-in to the future behavior, set `pd.set_option('future.no_silent_downcasting', True)`\n",
            "  & (~mut_merged[\"STOP\"].fillna(False).astype(bool))\n",
            "<ipython-input-34-bc8a3a2bcc8a>:11: RuntimeWarning: overflow encountered in exp\n",
            "  return 1.0 / (1.0 + np.exp(-(x - xmid) / scale))\n"
          ]
        },
        {
          "metadata": {
            "tags": null
          },
          "name": "stdout",
          "output_type": "stream",
          "text": [
            "    best_params: xmid=-14.496, scale=1.0000, deviance=500.555\n"
          ]
        },
        {
          "metadata": {
            "tags": null
          },
          "name": "stderr",
          "output_type": "stream",
          "text": [
            "<ipython-input-35-cfc9933a455f>:12: FutureWarning: Downcasting object dtype arrays on .fillna, .ffill, .bfill is deprecated and will change in a future version. Call result.infer_objects(copy=False) instead. To opt-in to the future behavior, set `pd.set_option('future.no_silent_downcasting', True)`\n",
            "  & (~mut_merged[\"STOP\"].fillna(False).astype(bool))\n",
            "<ipython-input-34-bc8a3a2bcc8a>:11: RuntimeWarning: overflow encountered in exp\n",
            "  return 1.0 / (1.0 + np.exp(-(x - xmid) / scale))\n"
          ]
        },
        {
          "metadata": {
            "tags": null
          },
          "name": "stdout",
          "output_type": "stream",
          "text": [
            "\n",
            "Fitting domain: P23759_PF00046_219\n",
            "    len: 997\n",
            "    esm1vfl_score range: -23.583824157714844 -2.331015110015869\n",
            "    scaled_gr_tofit range: -0.2106434993295201 1.68452421069866\n",
            "    best_params: xmid=-16.849, scale=1.0000, deviance=305.458\n"
          ]
        },
        {
          "metadata": {
            "tags": null
          },
          "name": "stderr",
          "output_type": "stream",
          "text": [
            "<ipython-input-35-cfc9933a455f>:12: FutureWarning: Downcasting object dtype arrays on .fillna, .ffill, .bfill is deprecated and will change in a future version. Call result.infer_objects(copy=False) instead. To opt-in to the future behavior, set `pd.set_option('future.no_silent_downcasting', True)`\n",
            "  & (~mut_merged[\"STOP\"].fillna(False).astype(bool))\n",
            "<ipython-input-34-bc8a3a2bcc8a>:11: RuntimeWarning: overflow encountered in exp\n",
            "  return 1.0 / (1.0 + np.exp(-(x - xmid) / scale))\n"
          ]
        },
        {
          "metadata": {
            "tags": null
          },
          "name": "stdout",
          "output_type": "stream",
          "text": [
            "\n",
            "Fitting domain: P25490_PF00096_384\n",
            "    len: 457\n",
            "    esm1vfl_score range: -23.019166946411133 -2.254509449005127\n",
            "    scaled_gr_tofit range: -0.3447793914808699 1.643203683105785\n",
            "    best_params: xmid=-15.768, scale=1.0000, deviance=125.859\n"
          ]
        },
        {
          "metadata": {
            "tags": null
          },
          "name": "stderr",
          "output_type": "stream",
          "text": [
            "<ipython-input-35-cfc9933a455f>:12: FutureWarning: Downcasting object dtype arrays on .fillna, .ffill, .bfill is deprecated and will change in a future version. Call result.infer_objects(copy=False) instead. To opt-in to the future behavior, set `pd.set_option('future.no_silent_downcasting', True)`\n",
            "  & (~mut_merged[\"STOP\"].fillna(False).astype(bool))\n",
            "<ipython-input-34-bc8a3a2bcc8a>:11: RuntimeWarning: overflow encountered in exp\n",
            "  return 1.0 / (1.0 + np.exp(-(x - xmid) / scale))\n"
          ]
        },
        {
          "metadata": {
            "tags": null
          },
          "name": "stdout",
          "output_type": "stream",
          "text": [
            "\n",
            "Fitting domain: P25685_PF00226_4\n",
            "    len: 1113\n",
            "    esm1vfl_score range: -21.34843063354492 -0.4865894913673401\n",
            "    scaled_gr_tofit range: -0.49288221699196 1.5878159599787058\n",
            "    best_params: xmid=-13.179, scale=1.0000, deviance=256.774\n"
          ]
        },
        {
          "metadata": {
            "tags": null
          },
          "name": "stderr",
          "output_type": "stream",
          "text": [
            "<ipython-input-35-cfc9933a455f>:12: FutureWarning: Downcasting object dtype arrays on .fillna, .ffill, .bfill is deprecated and will change in a future version. Call result.infer_objects(copy=False) instead. To opt-in to the future behavior, set `pd.set_option('future.no_silent_downcasting', True)`\n",
            "  & (~mut_merged[\"STOP\"].fillna(False).astype(bool))\n",
            "<ipython-input-34-bc8a3a2bcc8a>:11: RuntimeWarning: overflow encountered in exp\n",
            "  return 1.0 / (1.0 + np.exp(-(x - xmid) / scale))\n"
          ]
        },
        {
          "metadata": {
            "tags": null
          },
          "name": "stdout",
          "output_type": "stream",
          "text": [
            "\n",
            "Fitting domain: P26367_PF00046_213\n",
            "    len: 955\n",
            "    esm1vfl_score range: -25.2130126953125 -2.0595569610595703\n",
            "    scaled_gr_tofit range: -0.16583704616015993 1.3008296688047931\n",
            "    best_params: xmid=-16.453, scale=1.0000, deviance=98.953\n"
          ]
        },
        {
          "metadata": {
            "tags": null
          },
          "name": "stderr",
          "output_type": "stream",
          "text": [
            "<ipython-input-35-cfc9933a455f>:12: FutureWarning: Downcasting object dtype arrays on .fillna, .ffill, .bfill is deprecated and will change in a future version. Call result.infer_objects(copy=False) instead. To opt-in to the future behavior, set `pd.set_option('future.no_silent_downcasting', True)`\n",
            "  & (~mut_merged[\"STOP\"].fillna(False).astype(bool))\n",
            "<ipython-input-34-bc8a3a2bcc8a>:11: RuntimeWarning: overflow encountered in exp\n",
            "  return 1.0 / (1.0 + np.exp(-(x - xmid) / scale))\n"
          ]
        },
        {
          "metadata": {
            "tags": null
          },
          "name": "stdout",
          "output_type": "stream",
          "text": [
            "\n",
            "Fitting domain: P26651_PF00642_105\n",
            "    len: 459\n",
            "    esm1vfl_score range: -20.40646743774414 -0.2676582336425781\n",
            "    scaled_gr_tofit range: -0.41270459751621 1.5241204263276291\n",
            "    best_params: xmid=-13.811, scale=1.0000, deviance=142.184\n",
            "\n",
            "Fitting domain: P28069_PF00157_130\n",
            "    len: 1237\n",
            "    esm1vfl_score range: -21.415891647338867 0.6060624122619629\n",
            "    scaled_gr_tofit range: -0.18274083680343 1.490918685649721\n"
          ]
        },
        {
          "metadata": {
            "tags": null
          },
          "name": "stderr",
          "output_type": "stream",
          "text": [
            "<ipython-input-35-cfc9933a455f>:12: FutureWarning: Downcasting object dtype arrays on .fillna, .ffill, .bfill is deprecated and will change in a future version. Call result.infer_objects(copy=False) instead. To opt-in to the future behavior, set `pd.set_option('future.no_silent_downcasting', True)`\n",
            "  & (~mut_merged[\"STOP\"].fillna(False).astype(bool))\n",
            "<ipython-input-34-bc8a3a2bcc8a>:11: RuntimeWarning: overflow encountered in exp\n",
            "  return 1.0 / (1.0 + np.exp(-(x - xmid) / scale))\n"
          ]
        },
        {
          "metadata": {
            "tags": null
          },
          "name": "stdout",
          "output_type": "stream",
          "text": [
            "    best_params: xmid=-10.402, scale=1.0000, deviance=197.177\n",
            "\n",
            "Fitting domain: P28360_PF00046_174\n",
            "    len: 957\n",
            "    esm1vfl_score range: -23.911243438720703 -0.2190613746643066\n",
            "    scaled_gr_tofit range: -0.2790319429256001 1.837690159583509\n"
          ]
        },
        {
          "metadata": {
            "tags": null
          },
          "name": "stderr",
          "output_type": "stream",
          "text": [
            "<ipython-input-35-cfc9933a455f>:12: FutureWarning: Downcasting object dtype arrays on .fillna, .ffill, .bfill is deprecated and will change in a future version. Call result.infer_objects(copy=False) instead. To opt-in to the future behavior, set `pd.set_option('future.no_silent_downcasting', True)`\n",
            "  & (~mut_merged[\"STOP\"].fillna(False).astype(bool))\n",
            "<ipython-input-34-bc8a3a2bcc8a>:11: RuntimeWarning: overflow encountered in exp\n",
            "  return 1.0 / (1.0 + np.exp(-(x - xmid) / scale))\n"
          ]
        },
        {
          "metadata": {
            "tags": null
          },
          "name": "stdout",
          "output_type": "stream",
          "text": [
            "    best_params: xmid=-16.083, scale=1.0000, deviance=396.676\n",
            "\n",
            "Fitting domain: P32081_PF00313_1\n",
            "    len: 1250\n",
            "    esm1vfl_score range: -19.74856185913086 0.4969730675220489\n",
            "    scaled_gr_tofit range: -0.30048121723663 1.0852911701865442\n"
          ]
        },
        {
          "metadata": {
            "tags": null
          },
          "name": "stderr",
          "output_type": "stream",
          "text": [
            "<ipython-input-35-cfc9933a455f>:12: FutureWarning: Downcasting object dtype arrays on .fillna, .ffill, .bfill is deprecated and will change in a future version. Call result.infer_objects(copy=False) instead. To opt-in to the future behavior, set `pd.set_option('future.no_silent_downcasting', True)`\n",
            "  & (~mut_merged[\"STOP\"].fillna(False).astype(bool))\n",
            "<ipython-input-34-bc8a3a2bcc8a>:11: RuntimeWarning: overflow encountered in exp\n",
            "  return 1.0 / (1.0 + np.exp(-(x - xmid) / scale))\n"
          ]
        },
        {
          "metadata": {
            "tags": null
          },
          "name": "stdout",
          "output_type": "stream",
          "text": [
            "    best_params: xmid=-11.569, scale=1.0000, deviance=57.846\n"
          ]
        },
        {
          "metadata": {
            "tags": null
          },
          "name": "stderr",
          "output_type": "stream",
          "text": [
            "<ipython-input-35-cfc9933a455f>:12: FutureWarning: Downcasting object dtype arrays on .fillna, .ffill, .bfill is deprecated and will change in a future version. Call result.infer_objects(copy=False) instead. To opt-in to the future behavior, set `pd.set_option('future.no_silent_downcasting', True)`\n",
            "  & (~mut_merged[\"STOP\"].fillna(False).astype(bool))\n",
            "<ipython-input-34-bc8a3a2bcc8a>:11: RuntimeWarning: overflow encountered in exp\n",
            "  return 1.0 / (1.0 + np.exp(-(x - xmid) / scale))\n",
            "/usr/local/lib/python3.11/dist-packages/scipy/optimize/_minpack_py.py:1037: RuntimeWarning: divide by zero encountered in divide\n",
            "  pcov = np.dot(VT.T / s**2, VT)\n"
          ]
        },
        {
          "metadata": {
            "tags": null
          },
          "name": "stdout",
          "output_type": "stream",
          "text": [
            "\n",
            "Fitting domain: P32243_PF00046_40\n",
            "    len: 989\n",
            "    esm1vfl_score range: -23.92389297485352 1.896885871887207\n",
            "    scaled_gr_tofit range: -0.18121693229572 1.779796958531373\n",
            "    best_params: xmid=-16.314, scale=1.0000, deviance=327.435\n"
          ]
        },
        {
          "metadata": {
            "tags": null
          },
          "name": "stderr",
          "output_type": "stream",
          "text": [
            "<ipython-input-35-cfc9933a455f>:12: FutureWarning: Downcasting object dtype arrays on .fillna, .ffill, .bfill is deprecated and will change in a future version. Call result.infer_objects(copy=False) instead. To opt-in to the future behavior, set `pd.set_option('future.no_silent_downcasting', True)`\n",
            "  & (~mut_merged[\"STOP\"].fillna(False).astype(bool))\n",
            "<ipython-input-34-bc8a3a2bcc8a>:11: RuntimeWarning: overflow encountered in exp\n",
            "  return 1.0 / (1.0 + np.exp(-(x - xmid) / scale))\n"
          ]
        },
        {
          "metadata": {
            "tags": null
          },
          "name": "stdout",
          "output_type": "stream",
          "text": [
            "\n",
            "Fitting domain: P35251_PF00533_405\n",
            "    len: 1271\n",
            "    esm1vfl_score range: -19.8923909577568 1.6831836591997629\n",
            "    scaled_gr_tofit range: -0.21777138379383 1.281210291367806\n",
            "    best_params: xmid=-8.506, scale=1.0000, deviance=142.007\n",
            "\n",
            "Fitting domain: P35548_PF00046_144\n",
            "    len: 999\n",
            "    esm1vfl_score range: -24.158008575439453 -0.2190613746643066\n",
            "    scaled_gr_tofit range: -0.23410482248170994 1.43489420811436\n"
          ]
        },
        {
          "metadata": {
            "tags": null
          },
          "name": "stderr",
          "output_type": "stream",
          "text": [
            "<ipython-input-35-cfc9933a455f>:12: FutureWarning: Downcasting object dtype arrays on .fillna, .ffill, .bfill is deprecated and will change in a future version. Call result.infer_objects(copy=False) instead. To opt-in to the future behavior, set `pd.set_option('future.no_silent_downcasting', True)`\n",
            "  & (~mut_merged[\"STOP\"].fillna(False).astype(bool))\n",
            "<ipython-input-34-bc8a3a2bcc8a>:11: RuntimeWarning: overflow encountered in exp\n",
            "  return 1.0 / (1.0 + np.exp(-(x - xmid) / scale))\n"
          ]
        },
        {
          "metadata": {
            "tags": null
          },
          "name": "stdout",
          "output_type": "stream",
          "text": [
            "    best_params: xmid=-16.200, scale=1.0000, deviance=176.081\n",
            "\n",
            "Fitting domain: P35711_PF00505_557\n",
            "    len: 1134\n",
            "    esm1vfl_score range: -25.237279891967773 1.0303053855895996\n",
            "    scaled_gr_tofit range: -0.27052289660019 1.392830404379098\n"
          ]
        },
        {
          "metadata": {
            "tags": null
          },
          "name": "stderr",
          "output_type": "stream",
          "text": [
            "<ipython-input-35-cfc9933a455f>:12: FutureWarning: Downcasting object dtype arrays on .fillna, .ffill, .bfill is deprecated and will change in a future version. Call result.infer_objects(copy=False) instead. To opt-in to the future behavior, set `pd.set_option('future.no_silent_downcasting', True)`\n",
            "  & (~mut_merged[\"STOP\"].fillna(False).astype(bool))\n",
            "<ipython-input-34-bc8a3a2bcc8a>:11: RuntimeWarning: overflow encountered in exp\n",
            "  return 1.0 / (1.0 + np.exp(-(x - xmid) / scale))\n"
          ]
        },
        {
          "metadata": {
            "tags": null
          },
          "name": "stdout",
          "output_type": "stream",
          "text": [
            "    best_params: xmid=-17.458, scale=1.0000, deviance=185.093\n",
            "\n",
            "Fitting domain: P35712_PF00505_622\n",
            "    len: 1236\n",
            "    esm1vfl_score range: -24.88570213317871 -0.699496328830719\n",
            "    scaled_gr_tofit range: -0.44199821929093996 1.550160209450784\n"
          ]
        },
        {
          "metadata": {
            "tags": null
          },
          "name": "stderr",
          "output_type": "stream",
          "text": [
            "<ipython-input-35-cfc9933a455f>:12: FutureWarning: Downcasting object dtype arrays on .fillna, .ffill, .bfill is deprecated and will change in a future version. Call result.infer_objects(copy=False) instead. To opt-in to the future behavior, set `pd.set_option('future.no_silent_downcasting', True)`\n",
            "  & (~mut_merged[\"STOP\"].fillna(False).astype(bool))\n",
            "<ipython-input-34-bc8a3a2bcc8a>:11: RuntimeWarning: overflow encountered in exp\n",
            "  return 1.0 / (1.0 + np.exp(-(x - xmid) / scale))\n"
          ]
        },
        {
          "metadata": {
            "tags": null
          },
          "name": "stdout",
          "output_type": "stream",
          "text": [
            "    best_params: xmid=-17.113, scale=1.0000, deviance=419.894\n",
            "\n",
            "Fitting domain: P35713_PF00505_87\n",
            "    len: 1159\n",
            "    esm1vfl_score range: -25.546459197998047 1.4178600311279297\n",
            "    scaled_gr_tofit range: -0.4104419740919101 1.578204865476732\n"
          ]
        },
        {
          "metadata": {
            "tags": null
          },
          "name": "stderr",
          "output_type": "stream",
          "text": [
            "<ipython-input-35-cfc9933a455f>:12: FutureWarning: Downcasting object dtype arrays on .fillna, .ffill, .bfill is deprecated and will change in a future version. Call result.infer_objects(copy=False) instead. To opt-in to the future behavior, set `pd.set_option('future.no_silent_downcasting', True)`\n",
            "  & (~mut_merged[\"STOP\"].fillna(False).astype(bool))\n",
            "<ipython-input-34-bc8a3a2bcc8a>:11: RuntimeWarning: overflow encountered in exp\n",
            "  return 1.0 / (1.0 + np.exp(-(x - xmid) / scale))\n"
          ]
        },
        {
          "metadata": {
            "tags": null
          },
          "name": "stdout",
          "output_type": "stream",
          "text": [
            "    best_params: xmid=-14.263, scale=1.0000, deviance=394.438\n",
            "\n",
            "Fitting domain: P35716_PF00505_50\n",
            "    len: 1224\n",
            "    esm1vfl_score range: -24.205293655395508 3.8043603897094727\n",
            "    scaled_gr_tofit range: -0.37098711854253996 1.5851943112652531\n"
          ]
        },
        {
          "metadata": {
            "tags": null
          },
          "name": "stderr",
          "output_type": "stream",
          "text": [
            "<ipython-input-35-cfc9933a455f>:12: FutureWarning: Downcasting object dtype arrays on .fillna, .ffill, .bfill is deprecated and will change in a future version. Call result.infer_objects(copy=False) instead. To opt-in to the future behavior, set `pd.set_option('future.no_silent_downcasting', True)`\n",
            "  & (~mut_merged[\"STOP\"].fillna(False).astype(bool))\n",
            "<ipython-input-34-bc8a3a2bcc8a>:11: RuntimeWarning: overflow encountered in exp\n",
            "  return 1.0 / (1.0 + np.exp(-(x - xmid) / scale))\n"
          ]
        },
        {
          "metadata": {
            "tags": null
          },
          "name": "stdout",
          "output_type": "stream",
          "text": [
            "    best_params: xmid=-16.584, scale=1.0000, deviance=404.845\n",
            "\n",
            "Fitting domain: P39880_PF02376_548\n",
            "    len: 1488\n",
            "    esm1vfl_score range: -17.186212812563067 1.890745583408889\n",
            "    scaled_gr_tofit range: -0.24226677031762 1.187230569440205\n"
          ]
        },
        {
          "metadata": {
            "tags": null
          },
          "name": "stderr",
          "output_type": "stream",
          "text": [
            "<ipython-input-35-cfc9933a455f>:12: FutureWarning: Downcasting object dtype arrays on .fillna, .ffill, .bfill is deprecated and will change in a future version. Call result.infer_objects(copy=False) instead. To opt-in to the future behavior, set `pd.set_option('future.no_silent_downcasting', True)`\n",
            "  & (~mut_merged[\"STOP\"].fillna(False).astype(bool))\n",
            "<ipython-input-34-bc8a3a2bcc8a>:11: RuntimeWarning: overflow encountered in exp\n",
            "  return 1.0 / (1.0 + np.exp(-(x - xmid) / scale))\n"
          ]
        },
        {
          "metadata": {
            "tags": null
          },
          "name": "stdout",
          "output_type": "stream",
          "text": [
            "    best_params: xmid=-5.728, scale=1.0000, deviance=116.068\n",
            "\n",
            "Fitting domain: P39940_PF00397_324\n",
            "    len: 732\n",
            "    esm1vfl_score range: -23.03387260437012 1.3806133270263672\n",
            "    scaled_gr_tofit range: -0.41257067449819007 1.413803637233371\n"
          ]
        },
        {
          "metadata": {
            "tags": null
          },
          "name": "stderr",
          "output_type": "stream",
          "text": [
            "<ipython-input-35-cfc9933a455f>:12: FutureWarning: Downcasting object dtype arrays on .fillna, .ffill, .bfill is deprecated and will change in a future version. Call result.infer_objects(copy=False) instead. To opt-in to the future behavior, set `pd.set_option('future.no_silent_downcasting', True)`\n",
            "  & (~mut_merged[\"STOP\"].fillna(False).astype(bool))\n",
            "<ipython-input-34-bc8a3a2bcc8a>:11: RuntimeWarning: overflow encountered in exp\n",
            "  return 1.0 / (1.0 + np.exp(-(x - xmid) / scale))\n"
          ]
        },
        {
          "metadata": {
            "tags": null
          },
          "name": "stdout",
          "output_type": "stream",
          "text": [
            "    best_params: xmid=-14.505, scale=1.0000, deviance=136.272\n",
            "\n",
            "Fitting domain: P40040_PF02037_1\n",
            "    len: 913\n",
            "    esm1vfl_score range: -19.04735565185547 0.7733089923858643\n",
            "    scaled_gr_tofit range: -0.5399129512646801 1.403099650025461\n"
          ]
        },
        {
          "metadata": {
            "tags": null
          },
          "name": "stderr",
          "output_type": "stream",
          "text": [
            "<ipython-input-35-cfc9933a455f>:12: FutureWarning: Downcasting object dtype arrays on .fillna, .ffill, .bfill is deprecated and will change in a future version. Call result.infer_objects(copy=False) instead. To opt-in to the future behavior, set `pd.set_option('future.no_silent_downcasting', True)`\n",
            "  & (~mut_merged[\"STOP\"].fillna(False).astype(bool))\n",
            "<ipython-input-34-bc8a3a2bcc8a>:11: RuntimeWarning: overflow encountered in exp\n",
            "  return 1.0 / (1.0 + np.exp(-(x - xmid) / scale))\n"
          ]
        },
        {
          "metadata": {
            "tags": null
          },
          "name": "stdout",
          "output_type": "stream",
          "text": [
            "    best_params: xmid=-9.276, scale=1.0000, deviance=157.337\n",
            "\n",
            "Fitting domain: P41002_PF00646_28\n",
            "    len: 976\n",
            "    esm1vfl_score range: -15.285676956176758 4.532723426818848\n",
            "    scaled_gr_tofit range: -0.15547043399771 1.4203023174697749\n"
          ]
        },
        {
          "metadata": {
            "tags": null
          },
          "name": "stderr",
          "output_type": "stream",
          "text": [
            "<ipython-input-35-cfc9933a455f>:12: FutureWarning: Downcasting object dtype arrays on .fillna, .ffill, .bfill is deprecated and will change in a future version. Call result.infer_objects(copy=False) instead. To opt-in to the future behavior, set `pd.set_option('future.no_silent_downcasting', True)`\n",
            "  & (~mut_merged[\"STOP\"].fillna(False).astype(bool))\n",
            "<ipython-input-34-bc8a3a2bcc8a>:11: RuntimeWarning: overflow encountered in exp\n",
            "  return 1.0 / (1.0 + np.exp(-(x - xmid) / scale))\n"
          ]
        },
        {
          "metadata": {
            "tags": null
          },
          "name": "stdout",
          "output_type": "stream",
          "text": [
            "    best_params: xmid=-5.104, scale=1.0000, deviance=83.745\n"
          ]
        },
        {
          "metadata": {
            "tags": null
          },
          "name": "stderr",
          "output_type": "stream",
          "text": [
            "<ipython-input-35-cfc9933a455f>:12: FutureWarning: Downcasting object dtype arrays on .fillna, .ffill, .bfill is deprecated and will change in a future version. Call result.infer_objects(copy=False) instead. To opt-in to the future behavior, set `pd.set_option('future.no_silent_downcasting', True)`\n",
            "  & (~mut_merged[\"STOP\"].fillna(False).astype(bool))\n",
            "<ipython-input-34-bc8a3a2bcc8a>:11: RuntimeWarning: overflow encountered in exp\n",
            "  return 1.0 / (1.0 + np.exp(-(x - xmid) / scale))\n"
          ]
        },
        {
          "metadata": {
            "tags": null
          },
          "name": "stdout",
          "output_type": "stream",
          "text": [
            "\n",
            "Fitting domain: P41016_PF00313_1\n",
            "    len: 1174\n",
            "    esm1vfl_score range: -20.027563095092773 -0.0161428451538085\n",
            "    scaled_gr_tofit range: -0.19107396470042004 1.106263332830362\n",
            "    best_params: xmid=-12.624, scale=1.0000, deviance=26.464\n",
            "\n",
            "Fitting domain: P41225_PF00505_140\n",
            "    len: 1110\n",
            "    esm1vfl_score range: -24.908349990844727 0.955902099609375\n",
            "    scaled_gr_tofit range: -0.22350376941542005 1.462194672982701\n"
          ]
        },
        {
          "metadata": {
            "tags": null
          },
          "name": "stderr",
          "output_type": "stream",
          "text": [
            "<ipython-input-35-cfc9933a455f>:12: FutureWarning: Downcasting object dtype arrays on .fillna, .ffill, .bfill is deprecated and will change in a future version. Call result.infer_objects(copy=False) instead. To opt-in to the future behavior, set `pd.set_option('future.no_silent_downcasting', True)`\n",
            "  & (~mut_merged[\"STOP\"].fillna(False).astype(bool))\n",
            "<ipython-input-34-bc8a3a2bcc8a>:11: RuntimeWarning: overflow encountered in exp\n",
            "  return 1.0 / (1.0 + np.exp(-(x - xmid) / scale))\n"
          ]
        },
        {
          "metadata": {
            "tags": null
          },
          "name": "stdout",
          "output_type": "stream",
          "text": [
            "    best_params: xmid=-16.619, scale=1.0000, deviance=228.244\n",
            "\n",
            "Fitting domain: P41229_PF00628_319\n",
            "    len: 897\n",
            "    esm1vfl_score range: -17.153192355165917 0.2155121754715114\n",
            "    scaled_gr_tofit range: -0.16924496758959995 1.450694314770552\n"
          ]
        },
        {
          "metadata": {
            "tags": null
          },
          "name": "stderr",
          "output_type": "stream",
          "text": [
            "<ipython-input-35-cfc9933a455f>:12: FutureWarning: Downcasting object dtype arrays on .fillna, .ffill, .bfill is deprecated and will change in a future version. Call result.infer_objects(copy=False) instead. To opt-in to the future behavior, set `pd.set_option('future.no_silent_downcasting', True)`\n",
            "  & (~mut_merged[\"STOP\"].fillna(False).astype(bool))\n",
            "<ipython-input-34-bc8a3a2bcc8a>:11: RuntimeWarning: overflow encountered in exp\n",
            "  return 1.0 / (1.0 + np.exp(-(x - xmid) / scale))\n"
          ]
        },
        {
          "metadata": {
            "tags": null
          },
          "name": "stdout",
          "output_type": "stream",
          "text": [
            "    best_params: xmid=-9.440, scale=1.0000, deviance=64.813\n",
            "\n",
            "Fitting domain: P43320_PF00030_106\n",
            "    len: 1046\n",
            "    esm1vfl_score range: -18.12735939025879 2.146864652633667\n",
            "    scaled_gr_tofit range: -0.71592292087942 1.290984716984626\n"
          ]
        },
        {
          "metadata": {
            "tags": null
          },
          "name": "stderr",
          "output_type": "stream",
          "text": [
            "<ipython-input-35-cfc9933a455f>:12: FutureWarning: Downcasting object dtype arrays on .fillna, .ffill, .bfill is deprecated and will change in a future version. Call result.infer_objects(copy=False) instead. To opt-in to the future behavior, set `pd.set_option('future.no_silent_downcasting', True)`\n",
            "  & (~mut_merged[\"STOP\"].fillna(False).astype(bool))\n",
            "<ipython-input-34-bc8a3a2bcc8a>:11: RuntimeWarning: overflow encountered in exp\n",
            "  return 1.0 / (1.0 + np.exp(-(x - xmid) / scale))\n"
          ]
        },
        {
          "metadata": {
            "tags": null
          },
          "name": "stdout",
          "output_type": "stream",
          "text": [
            "    best_params: xmid=-10.625, scale=1.0000, deviance=291.492\n",
            "\n",
            "Fitting domain: P43354_PF00105_260\n",
            "    len: 663\n",
            "    esm1vfl_score range: -25.04977035522461 -3.1912946701049805\n",
            "    scaled_gr_tofit range: -0.50687142265294 1.296198629827428\n"
          ]
        },
        {
          "metadata": {
            "tags": null
          },
          "name": "stderr",
          "output_type": "stream",
          "text": [
            "<ipython-input-35-cfc9933a455f>:12: FutureWarning: Downcasting object dtype arrays on .fillna, .ffill, .bfill is deprecated and will change in a future version. Call result.infer_objects(copy=False) instead. To opt-in to the future behavior, set `pd.set_option('future.no_silent_downcasting', True)`\n",
            "  & (~mut_merged[\"STOP\"].fillna(False).astype(bool))\n",
            "<ipython-input-34-bc8a3a2bcc8a>:11: RuntimeWarning: overflow encountered in exp\n",
            "  return 1.0 / (1.0 + np.exp(-(x - xmid) / scale))\n"
          ]
        },
        {
          "metadata": {
            "tags": null
          },
          "name": "stdout",
          "output_type": "stream",
          "text": [
            "    best_params: xmid=-17.412, scale=1.0000, deviance=150.555\n",
            "\n",
            "Fitting domain: P45973_PF00385_21\n",
            "    len: 891\n",
            "    esm1vfl_score range: -18.735837936401367 1.0549540519714355\n",
            "    scaled_gr_tofit range: -0.14165063383822996 1.15357336082711\n"
          ]
        },
        {
          "metadata": {
            "tags": null
          },
          "name": "stderr",
          "output_type": "stream",
          "text": [
            "<ipython-input-35-cfc9933a455f>:12: FutureWarning: Downcasting object dtype arrays on .fillna, .ffill, .bfill is deprecated and will change in a future version. Call result.infer_objects(copy=False) instead. To opt-in to the future behavior, set `pd.set_option('future.no_silent_downcasting', True)`\n",
            "  & (~mut_merged[\"STOP\"].fillna(False).astype(bool))\n",
            "<ipython-input-34-bc8a3a2bcc8a>:11: RuntimeWarning: overflow encountered in exp\n",
            "  return 1.0 / (1.0 + np.exp(-(x - xmid) / scale))\n"
          ]
        },
        {
          "metadata": {
            "tags": null
          },
          "name": "stdout",
          "output_type": "stream",
          "text": [
            "    best_params: xmid=-10.679, scale=1.0000, deviance=43.282\n",
            "\n",
            "Fitting domain: P46934_PF00397_836\n",
            "    len: 849\n",
            "    esm1vfl_score range: -19.934917558351465 -0.8462426594322309\n",
            "    scaled_gr_tofit range: -0.38008255815562997 1.381360375292618\n"
          ]
        },
        {
          "metadata": {
            "tags": null
          },
          "name": "stderr",
          "output_type": "stream",
          "text": [
            "<ipython-input-35-cfc9933a455f>:12: FutureWarning: Downcasting object dtype arrays on .fillna, .ffill, .bfill is deprecated and will change in a future version. Call result.infer_objects(copy=False) instead. To opt-in to the future behavior, set `pd.set_option('future.no_silent_downcasting', True)`\n",
            "  & (~mut_merged[\"STOP\"].fillna(False).astype(bool))\n",
            "<ipython-input-34-bc8a3a2bcc8a>:11: RuntimeWarning: overflow encountered in exp\n",
            "  return 1.0 / (1.0 + np.exp(-(x - xmid) / scale))\n"
          ]
        },
        {
          "metadata": {
            "tags": null
          },
          "name": "stdout",
          "output_type": "stream",
          "text": [
            "    best_params: xmid=-10.902, scale=1.0000, deviance=136.172\n",
            "\n",
            "Fitting domain: P46937_PF00397_162\n",
            "    len: 900\n",
            "    esm1vfl_score range: -22.56707763671875 1.9013320207595823\n",
            "    scaled_gr_tofit range: -0.44831381150176997 1.333833126208917\n"
          ]
        },
        {
          "metadata": {
            "tags": null
          },
          "name": "stderr",
          "output_type": "stream",
          "text": [
            "<ipython-input-35-cfc9933a455f>:12: FutureWarning: Downcasting object dtype arrays on .fillna, .ffill, .bfill is deprecated and will change in a future version. Call result.infer_objects(copy=False) instead. To opt-in to the future behavior, set `pd.set_option('future.no_silent_downcasting', True)`\n",
            "  & (~mut_merged[\"STOP\"].fillna(False).astype(bool))\n",
            "<ipython-input-34-bc8a3a2bcc8a>:11: RuntimeWarning: overflow encountered in exp\n",
            "  return 1.0 / (1.0 + np.exp(-(x - xmid) / scale))\n"
          ]
        },
        {
          "metadata": {
            "tags": null
          },
          "name": "stdout",
          "output_type": "stream",
          "text": [
            "    best_params: xmid=-14.827, scale=1.0000, deviance=148.929\n",
            "\n",
            "Fitting domain: P46937_PF00397_165\n",
            "    len: 834\n",
            "    esm1vfl_score range: -22.56707763671875 1.9013320207595823\n",
            "    scaled_gr_tofit range: -0.2977893021909701 1.4539988015078151\n"
          ]
        },
        {
          "metadata": {
            "tags": null
          },
          "name": "stderr",
          "output_type": "stream",
          "text": [
            "<ipython-input-35-cfc9933a455f>:12: FutureWarning: Downcasting object dtype arrays on .fillna, .ffill, .bfill is deprecated and will change in a future version. Call result.infer_objects(copy=False) instead. To opt-in to the future behavior, set `pd.set_option('future.no_silent_downcasting', True)`\n",
            "  & (~mut_merged[\"STOP\"].fillna(False).astype(bool))\n",
            "<ipython-input-34-bc8a3a2bcc8a>:11: RuntimeWarning: overflow encountered in exp\n",
            "  return 1.0 / (1.0 + np.exp(-(x - xmid) / scale))\n"
          ]
        },
        {
          "metadata": {
            "tags": null
          },
          "name": "stdout",
          "output_type": "stream",
          "text": [
            "    best_params: xmid=-14.270, scale=1.0000, deviance=167.540\n"
          ]
        },
        {
          "metadata": {
            "tags": null
          },
          "name": "stderr",
          "output_type": "stream",
          "text": [
            "<ipython-input-35-cfc9933a455f>:12: FutureWarning: Downcasting object dtype arrays on .fillna, .ffill, .bfill is deprecated and will change in a future version. Call result.infer_objects(copy=False) instead. To opt-in to the future behavior, set `pd.set_option('future.no_silent_downcasting', True)`\n",
            "  & (~mut_merged[\"STOP\"].fillna(False).astype(bool))\n",
            "<ipython-input-34-bc8a3a2bcc8a>:11: RuntimeWarning: overflow encountered in exp\n",
            "  return 1.0 / (1.0 + np.exp(-(x - xmid) / scale))\n"
          ]
        },
        {
          "metadata": {
            "tags": null
          },
          "name": "stdout",
          "output_type": "stream",
          "text": [
            "\n",
            "Fitting domain: P46937_PF00397_226\n",
            "    len: 868\n",
            "    esm1vfl_score range: -22.698705673217773 -0.7169575095176697\n",
            "    scaled_gr_tofit range: -0.3565303474968 1.420704431002497\n",
            "    best_params: xmid=-15.379, scale=1.0000, deviance=163.425\n",
            "\n",
            "Fitting domain: P47974_PF00642_193\n",
            "    len: 435\n",
            "    esm1vfl_score range: -22.72112846374512 -2.36317777633667\n",
            "    scaled_gr_tofit range: -0.26895606686529994 1.813044883304789\n"
          ]
        },
        {
          "metadata": {
            "tags": null
          },
          "name": "stderr",
          "output_type": "stream",
          "text": [
            "<ipython-input-35-cfc9933a455f>:12: FutureWarning: Downcasting object dtype arrays on .fillna, .ffill, .bfill is deprecated and will change in a future version. Call result.infer_objects(copy=False) instead. To opt-in to the future behavior, set `pd.set_option('future.no_silent_downcasting', True)`\n",
            "  & (~mut_merged[\"STOP\"].fillna(False).astype(bool))\n",
            "<ipython-input-34-bc8a3a2bcc8a>:11: RuntimeWarning: overflow encountered in exp\n",
            "  return 1.0 / (1.0 + np.exp(-(x - xmid) / scale))\n"
          ]
        },
        {
          "metadata": {
            "tags": null
          },
          "name": "stdout",
          "output_type": "stream",
          "text": [
            "    best_params: xmid=-17.365, scale=1.0000, deviance=136.960\n"
          ]
        },
        {
          "metadata": {
            "tags": null
          },
          "name": "stderr",
          "output_type": "stream",
          "text": [
            "<ipython-input-35-cfc9933a455f>:12: FutureWarning: Downcasting object dtype arrays on .fillna, .ffill, .bfill is deprecated and will change in a future version. Call result.infer_objects(copy=False) instead. To opt-in to the future behavior, set `pd.set_option('future.no_silent_downcasting', True)`\n",
            "  & (~mut_merged[\"STOP\"].fillna(False).astype(bool))\n",
            "<ipython-input-34-bc8a3a2bcc8a>:11: RuntimeWarning: overflow encountered in exp\n",
            "  return 1.0 / (1.0 + np.exp(-(x - xmid) / scale))\n"
          ]
        },
        {
          "metadata": {
            "tags": null
          },
          "name": "stdout",
          "output_type": "stream",
          "text": [
            "\n",
            "Fitting domain: P48431_PF00505_42\n",
            "    len: 1220\n",
            "    esm1vfl_score range: -25.123779296875 -2.046274185180664\n",
            "    scaled_gr_tofit range: -0.37501282710994 1.335265847137853\n",
            "    best_params: xmid=-16.806, scale=1.0000, deviance=266.925\n",
            "\n",
            "Fitting domain: P49335_PF00046_280\n",
            "    len: 970\n",
            "    esm1vfl_score range: -24.924793243408203 0.4541206359863281\n",
            "    scaled_gr_tofit range: -0.24622142607395991 1.841662743910708\n"
          ]
        },
        {
          "metadata": {
            "tags": null
          },
          "name": "stderr",
          "output_type": "stream",
          "text": [
            "<ipython-input-35-cfc9933a455f>:12: FutureWarning: Downcasting object dtype arrays on .fillna, .ffill, .bfill is deprecated and will change in a future version. Call result.infer_objects(copy=False) instead. To opt-in to the future behavior, set `pd.set_option('future.no_silent_downcasting', True)`\n",
            "  & (~mut_merged[\"STOP\"].fillna(False).astype(bool))\n",
            "<ipython-input-34-bc8a3a2bcc8a>:11: RuntimeWarning: overflow encountered in exp\n",
            "  return 1.0 / (1.0 + np.exp(-(x - xmid) / scale))\n"
          ]
        },
        {
          "metadata": {
            "tags": null
          },
          "name": "stdout",
          "output_type": "stream",
          "text": [
            "    best_params: xmid=-14.039, scale=1.0000, deviance=430.056\n",
            "\n",
            "Fitting domain: P49792_PF00641_1414\n",
            "    len: 342\n",
            "    esm1vfl_score range: -13.063867908078754 -0.6127355186354215\n",
            "    scaled_gr_tofit range: -0.5805004129087601 1.494286356598221\n"
          ]
        },
        {
          "metadata": {
            "tags": null
          },
          "name": "stderr",
          "output_type": "stream",
          "text": [
            "<ipython-input-35-cfc9933a455f>:12: FutureWarning: Downcasting object dtype arrays on .fillna, .ffill, .bfill is deprecated and will change in a future version. Call result.infer_objects(copy=False) instead. To opt-in to the future behavior, set `pd.set_option('future.no_silent_downcasting', True)`\n",
            "  & (~mut_merged[\"STOP\"].fillna(False).astype(bool))\n",
            "<ipython-input-34-bc8a3a2bcc8a>:11: RuntimeWarning: overflow encountered in exp\n",
            "  return 1.0 / (1.0 + np.exp(-(x - xmid) / scale))\n",
            "/usr/local/lib/python3.11/dist-packages/scipy/optimize/_minpack_py.py:1037: RuntimeWarning: divide by zero encountered in divide\n",
            "  pcov = np.dot(VT.T / s**2, VT)\n",
            "/usr/local/lib/python3.11/dist-packages/scipy/optimize/_minpack_py.py:1037: RuntimeWarning: overflow encountered in divide\n",
            "  pcov = np.dot(VT.T / s**2, VT)\n"
          ]
        },
        {
          "metadata": {
            "tags": null
          },
          "name": "stdout",
          "output_type": "stream",
          "text": [
            "    best_params: xmid=-5.952, scale=1.0000, deviance=83.538\n",
            "\n",
            "Fitting domain: P49792_PF00641_1478\n",
            "    len: 562\n",
            "    esm1vfl_score range: -16.245535611230782 -1.0308748790201787\n",
            "    scaled_gr_tofit range: -3.1229256120259903 1.599311791914442\n"
          ]
        },
        {
          "metadata": {
            "tags": null
          },
          "name": "stderr",
          "output_type": "stream",
          "text": [
            "<ipython-input-35-cfc9933a455f>:12: FutureWarning: Downcasting object dtype arrays on .fillna, .ffill, .bfill is deprecated and will change in a future version. Call result.infer_objects(copy=False) instead. To opt-in to the future behavior, set `pd.set_option('future.no_silent_downcasting', True)`\n",
            "  & (~mut_merged[\"STOP\"].fillna(False).astype(bool))\n",
            "<ipython-input-34-bc8a3a2bcc8a>:11: RuntimeWarning: overflow encountered in exp\n",
            "  return 1.0 / (1.0 + np.exp(-(x - xmid) / scale))\n"
          ]
        },
        {
          "metadata": {
            "tags": null
          },
          "name": "stdout",
          "output_type": "stream",
          "text": [
            "    best_params: xmid=-7.863, scale=1.0000, deviance=2322.128\n",
            "\n",
            "Fitting domain: P50539_PF00010_70\n",
            "    len: 928\n",
            "    esm1vfl_score range: -23.17926406860352 0.2039210796356201\n",
            "    scaled_gr_tofit range: -0.23236957880891995 1.615365379029901\n"
          ]
        },
        {
          "metadata": {
            "tags": null
          },
          "name": "stderr",
          "output_type": "stream",
          "text": [
            "<ipython-input-35-cfc9933a455f>:12: FutureWarning: Downcasting object dtype arrays on .fillna, .ffill, .bfill is deprecated and will change in a future version. Call result.infer_objects(copy=False) instead. To opt-in to the future behavior, set `pd.set_option('future.no_silent_downcasting', True)`\n",
            "  & (~mut_merged[\"STOP\"].fillna(False).astype(bool))\n",
            "<ipython-input-34-bc8a3a2bcc8a>:11: RuntimeWarning: overflow encountered in exp\n",
            "  return 1.0 / (1.0 + np.exp(-(x - xmid) / scale))\n"
          ]
        },
        {
          "metadata": {
            "tags": null
          },
          "name": "stdout",
          "output_type": "stream",
          "text": [
            "    best_params: xmid=-14.545, scale=1.0000, deviance=236.346\n",
            "\n",
            "Fitting domain: P51451_PF00018_59\n",
            "    len: 1080\n",
            "    esm1vfl_score range: -19.917137145996094 0.9047961831092834\n",
            "    scaled_gr_tofit range: -0.28659859247792996 1.202013662709483\n"
          ]
        },
        {
          "metadata": {
            "tags": null
          },
          "name": "stderr",
          "output_type": "stream",
          "text": [
            "<ipython-input-35-cfc9933a455f>:12: FutureWarning: Downcasting object dtype arrays on .fillna, .ffill, .bfill is deprecated and will change in a future version. Call result.infer_objects(copy=False) instead. To opt-in to the future behavior, set `pd.set_option('future.no_silent_downcasting', True)`\n",
            "  & (~mut_merged[\"STOP\"].fillna(False).astype(bool))\n",
            "<ipython-input-34-bc8a3a2bcc8a>:11: RuntimeWarning: overflow encountered in exp\n",
            "  return 1.0 / (1.0 + np.exp(-(x - xmid) / scale))\n"
          ]
        },
        {
          "metadata": {
            "tags": null
          },
          "name": "stdout",
          "output_type": "stream",
          "text": [
            "    best_params: xmid=-7.145, scale=1.0000, deviance=90.710\n",
            "\n",
            "Fitting domain: P51508_PF00096_331\n",
            "    len: 388\n",
            "    esm1vfl_score range: -13.95677375793457 -0.4522557258605957\n",
            "    scaled_gr_tofit range: -1.1102144097199602 1.523137479950028\n"
          ]
        },
        {
          "metadata": {
            "tags": null
          },
          "name": "stderr",
          "output_type": "stream",
          "text": [
            "<ipython-input-35-cfc9933a455f>:12: FutureWarning: Downcasting object dtype arrays on .fillna, .ffill, .bfill is deprecated and will change in a future version. Call result.infer_objects(copy=False) instead. To opt-in to the future behavior, set `pd.set_option('future.no_silent_downcasting', True)`\n",
            "  & (~mut_merged[\"STOP\"].fillna(False).astype(bool))\n",
            "<ipython-input-34-bc8a3a2bcc8a>:11: RuntimeWarning: overflow encountered in exp\n",
            "  return 1.0 / (1.0 + np.exp(-(x - xmid) / scale))\n"
          ]
        },
        {
          "metadata": {
            "tags": null
          },
          "name": "stdout",
          "output_type": "stream",
          "text": [
            "    best_params: xmid=-8.450, scale=1.0000, deviance=298.047\n",
            "\n",
            "Fitting domain: P51508_PF00096_555\n",
            "    len: 409\n",
            "    esm1vfl_score range: -17.157148361206055 -0.0098228454589843\n",
            "    scaled_gr_tofit range: -0.21640593969976996 1.494148448095633\n"
          ]
        },
        {
          "metadata": {
            "tags": null
          },
          "name": "stderr",
          "output_type": "stream",
          "text": [
            "<ipython-input-35-cfc9933a455f>:12: FutureWarning: Downcasting object dtype arrays on .fillna, .ffill, .bfill is deprecated and will change in a future version. Call result.infer_objects(copy=False) instead. To opt-in to the future behavior, set `pd.set_option('future.no_silent_downcasting', True)`\n",
            "  & (~mut_merged[\"STOP\"].fillna(False).astype(bool))\n",
            "<ipython-input-34-bc8a3a2bcc8a>:11: RuntimeWarning: overflow encountered in exp\n",
            "  return 1.0 / (1.0 + np.exp(-(x - xmid) / scale))\n"
          ]
        },
        {
          "metadata": {
            "tags": null
          },
          "name": "stdout",
          "output_type": "stream",
          "text": [
            "    best_params: xmid=-8.863, scale=1.0000, deviance=71.840\n"
          ]
        },
        {
          "metadata": {
            "tags": null
          },
          "name": "stderr",
          "output_type": "stream",
          "text": [
            "<ipython-input-35-cfc9933a455f>:12: FutureWarning: Downcasting object dtype arrays on .fillna, .ffill, .bfill is deprecated and will change in a future version. Call result.infer_objects(copy=False) instead. To opt-in to the future behavior, set `pd.set_option('future.no_silent_downcasting', True)`\n",
            "  & (~mut_merged[\"STOP\"].fillna(False).astype(bool))\n",
            "<ipython-input-34-bc8a3a2bcc8a>:11: RuntimeWarning: overflow encountered in exp\n",
            "  return 1.0 / (1.0 + np.exp(-(x - xmid) / scale))\n"
          ]
        },
        {
          "metadata": {
            "tags": null
          },
          "name": "stdout",
          "output_type": "stream",
          "text": [
            "\n",
            "Fitting domain: P51608_PF01429_91\n",
            "    len: 1364\n",
            "    esm1vfl_score range: -20.603065490722656 -0.1050257682800293\n",
            "    scaled_gr_tofit range: -0.8085081335120601 1.4206795015539209\n",
            "    best_params: xmid=-12.510, scale=1.0000, deviance=571.329\n",
            "\n",
            "Fitting domain: P51687_PF00173_87\n",
            "    len: 1275\n",
            "    esm1vfl_score range: -18.53668975830078 -0.1387910842895507\n",
            "    scaled_gr_tofit range: -0.36021526059739006 1.73321487508085\n"
          ]
        },
        {
          "metadata": {
            "tags": null
          },
          "name": "stderr",
          "output_type": "stream",
          "text": [
            "<ipython-input-35-cfc9933a455f>:12: FutureWarning: Downcasting object dtype arrays on .fillna, .ffill, .bfill is deprecated and will change in a future version. Call result.infer_objects(copy=False) instead. To opt-in to the future behavior, set `pd.set_option('future.no_silent_downcasting', True)`\n",
            "  & (~mut_merged[\"STOP\"].fillna(False).astype(bool))\n",
            "<ipython-input-34-bc8a3a2bcc8a>:11: RuntimeWarning: overflow encountered in exp\n",
            "  return 1.0 / (1.0 + np.exp(-(x - xmid) / scale))\n"
          ]
        },
        {
          "metadata": {
            "tags": null
          },
          "name": "stdout",
          "output_type": "stream",
          "text": [
            "    best_params: xmid=-10.330, scale=1.0000, deviance=370.792\n",
            "\n",
            "Fitting domain: P53673_PF00030_14\n",
            "    len: 1260\n",
            "    esm1vfl_score range: -17.305036544799805 0.6357384920120239\n",
            "    scaled_gr_tofit range: -0.19094507005298 1.207650402818168\n"
          ]
        },
        {
          "metadata": {
            "tags": null
          },
          "name": "stderr",
          "output_type": "stream",
          "text": [
            "<ipython-input-35-cfc9933a455f>:12: FutureWarning: Downcasting object dtype arrays on .fillna, .ffill, .bfill is deprecated and will change in a future version. Call result.infer_objects(copy=False) instead. To opt-in to the future behavior, set `pd.set_option('future.no_silent_downcasting', True)`\n",
            "  & (~mut_merged[\"STOP\"].fillna(False).astype(bool))\n",
            "<ipython-input-34-bc8a3a2bcc8a>:11: RuntimeWarning: overflow encountered in exp\n",
            "  return 1.0 / (1.0 + np.exp(-(x - xmid) / scale))\n"
          ]
        },
        {
          "metadata": {
            "tags": null
          },
          "name": "stdout",
          "output_type": "stream",
          "text": [
            "    best_params: xmid=-7.674, scale=1.0000, deviance=88.031\n"
          ]
        },
        {
          "metadata": {
            "tags": null
          },
          "name": "stderr",
          "output_type": "stream",
          "text": [
            "<ipython-input-35-cfc9933a455f>:12: FutureWarning: Downcasting object dtype arrays on .fillna, .ffill, .bfill is deprecated and will change in a future version. Call result.infer_objects(copy=False) instead. To opt-in to the future behavior, set `pd.set_option('future.no_silent_downcasting', True)`\n",
            "  & (~mut_merged[\"STOP\"].fillna(False).astype(bool))\n",
            "<ipython-input-34-bc8a3a2bcc8a>:11: RuntimeWarning: overflow encountered in exp\n",
            "  return 1.0 / (1.0 + np.exp(-(x - xmid) / scale))\n"
          ]
        },
        {
          "metadata": {
            "tags": null
          },
          "name": "stdout",
          "output_type": "stream",
          "text": [
            "\n",
            "Fitting domain: P54277_PF00505_572\n",
            "    len: 840\n",
            "    esm1vfl_score range: -21.740846633911133 0.037449836730957\n",
            "    scaled_gr_tofit range: -0.86879312672691 1.3221568613754209\n",
            "    best_params: xmid=-10.554, scale=1.0000, deviance=240.192\n",
            "\n",
            "Fitting domain: P54727_PF00627_186\n",
            "    len: 740\n",
            "    esm1vfl_score range: -22.152362823486328 -0.8770475387573242\n",
            "    scaled_gr_tofit range: -0.1846643859902699 1.3773739252690609\n"
          ]
        },
        {
          "metadata": {
            "tags": null
          },
          "name": "stderr",
          "output_type": "stream",
          "text": [
            "<ipython-input-35-cfc9933a455f>:12: FutureWarning: Downcasting object dtype arrays on .fillna, .ffill, .bfill is deprecated and will change in a future version. Call result.infer_objects(copy=False) instead. To opt-in to the future behavior, set `pd.set_option('future.no_silent_downcasting', True)`\n",
            "  & (~mut_merged[\"STOP\"].fillna(False).astype(bool))\n",
            "<ipython-input-34-bc8a3a2bcc8a>:11: RuntimeWarning: overflow encountered in exp\n",
            "  return 1.0 / (1.0 + np.exp(-(x - xmid) / scale))\n"
          ]
        },
        {
          "metadata": {
            "tags": null
          },
          "name": "stdout",
          "output_type": "stream",
          "text": [
            "    best_params: xmid=-14.403, scale=1.0000, deviance=77.829\n",
            "\n",
            "Fitting domain: P54727_PF00627_361\n",
            "    len: 666\n",
            "    esm1vfl_score range: -23.83602905273437 -3.812643527984619\n",
            "    scaled_gr_tofit range: -0.19579513584684993 1.298140029276268\n"
          ]
        },
        {
          "metadata": {
            "tags": null
          },
          "name": "stderr",
          "output_type": "stream",
          "text": [
            "<ipython-input-35-cfc9933a455f>:12: FutureWarning: Downcasting object dtype arrays on .fillna, .ffill, .bfill is deprecated and will change in a future version. Call result.infer_objects(copy=False) instead. To opt-in to the future behavior, set `pd.set_option('future.no_silent_downcasting', True)`\n",
            "  & (~mut_merged[\"STOP\"].fillna(False).astype(bool))\n",
            "<ipython-input-34-bc8a3a2bcc8a>:11: RuntimeWarning: overflow encountered in exp\n",
            "  return 1.0 / (1.0 + np.exp(-(x - xmid) / scale))\n"
          ]
        },
        {
          "metadata": {
            "tags": null
          },
          "name": "stdout",
          "output_type": "stream",
          "text": [
            "    best_params: xmid=-16.013, scale=1.0000, deviance=64.211\n",
            "\n",
            "Fitting domain: P54821_PF00046_96\n",
            "    len: 1014\n",
            "    esm1vfl_score range: -25.150409698486328 1.6997003555297852\n",
            "    scaled_gr_tofit range: -0.2990878146473299 1.638112193056906\n"
          ]
        },
        {
          "metadata": {
            "tags": null
          },
          "name": "stderr",
          "output_type": "stream",
          "text": [
            "<ipython-input-35-cfc9933a455f>:12: FutureWarning: Downcasting object dtype arrays on .fillna, .ffill, .bfill is deprecated and will change in a future version. Call result.infer_objects(copy=False) instead. To opt-in to the future behavior, set `pd.set_option('future.no_silent_downcasting', True)`\n",
            "  & (~mut_merged[\"STOP\"].fillna(False).astype(bool))\n",
            "<ipython-input-34-bc8a3a2bcc8a>:11: RuntimeWarning: overflow encountered in exp\n",
            "  return 1.0 / (1.0 + np.exp(-(x - xmid) / scale))\n"
          ]
        },
        {
          "metadata": {
            "tags": null
          },
          "name": "stdout",
          "output_type": "stream",
          "text": [
            "    best_params: xmid=-14.071, scale=1.0000, deviance=393.850\n",
            "\n",
            "Fitting domain: P55072_PF02359_26\n",
            "    len: 1451\n",
            "    esm1vfl_score range: -20.38787078857422 1.1185550689697266\n",
            "    scaled_gr_tofit range: -0.20955343450681996 1.27408860326272\n"
          ]
        },
        {
          "metadata": {
            "tags": null
          },
          "name": "stderr",
          "output_type": "stream",
          "text": [
            "<ipython-input-35-cfc9933a455f>:12: FutureWarning: Downcasting object dtype arrays on .fillna, .ffill, .bfill is deprecated and will change in a future version. Call result.infer_objects(copy=False) instead. To opt-in to the future behavior, set `pd.set_option('future.no_silent_downcasting', True)`\n",
            "  & (~mut_merged[\"STOP\"].fillna(False).astype(bool))\n",
            "<ipython-input-34-bc8a3a2bcc8a>:11: RuntimeWarning: overflow encountered in exp\n",
            "  return 1.0 / (1.0 + np.exp(-(x - xmid) / scale))\n"
          ]
        },
        {
          "metadata": {
            "tags": null
          },
          "name": "stdout",
          "output_type": "stream",
          "text": [
            "    best_params: xmid=-12.241, scale=1.0000, deviance=99.547\n",
            "\n",
            "Fitting domain: P55895_PF13341_415\n",
            "    len: 964\n",
            "    esm1vfl_score range: -16.971454620361328 1.032658338546753\n",
            "    scaled_gr_tofit range: -0.25852034528336 1.2091972195025331\n"
          ]
        },
        {
          "metadata": {
            "tags": null
          },
          "name": "stderr",
          "output_type": "stream",
          "text": [
            "<ipython-input-35-cfc9933a455f>:12: FutureWarning: Downcasting object dtype arrays on .fillna, .ffill, .bfill is deprecated and will change in a future version. Call result.infer_objects(copy=False) instead. To opt-in to the future behavior, set `pd.set_option('future.no_silent_downcasting', True)`\n",
            "  & (~mut_merged[\"STOP\"].fillna(False).astype(bool))\n",
            "<ipython-input-34-bc8a3a2bcc8a>:11: RuntimeWarning: overflow encountered in exp\n",
            "  return 1.0 / (1.0 + np.exp(-(x - xmid) / scale))\n"
          ]
        },
        {
          "metadata": {
            "tags": null
          },
          "name": "stdout",
          "output_type": "stream",
          "text": [
            "    best_params: xmid=-8.166, scale=1.0000, deviance=66.634\n",
            "\n",
            "Fitting domain: P56915_PF00046_162\n",
            "    len: 928\n",
            "    esm1vfl_score range: -22.54766845703125 1.1661028861999512\n",
            "    scaled_gr_tofit range: -0.29776466689592995 1.512237901056116\n"
          ]
        },
        {
          "metadata": {
            "tags": null
          },
          "name": "stderr",
          "output_type": "stream",
          "text": [
            "<ipython-input-35-cfc9933a455f>:12: FutureWarning: Downcasting object dtype arrays on .fillna, .ffill, .bfill is deprecated and will change in a future version. Call result.infer_objects(copy=False) instead. To opt-in to the future behavior, set `pd.set_option('future.no_silent_downcasting', True)`\n",
            "  & (~mut_merged[\"STOP\"].fillna(False).astype(bool))\n",
            "<ipython-input-34-bc8a3a2bcc8a>:11: RuntimeWarning: overflow encountered in exp\n",
            "  return 1.0 / (1.0 + np.exp(-(x - xmid) / scale))\n"
          ]
        },
        {
          "metadata": {
            "tags": null
          },
          "name": "stdout",
          "output_type": "stream",
          "text": [
            "    best_params: xmid=-12.984, scale=1.0000, deviance=222.447\n"
          ]
        },
        {
          "metadata": {
            "tags": null
          },
          "name": "stderr",
          "output_type": "stream",
          "text": [
            "<ipython-input-35-cfc9933a455f>:12: FutureWarning: Downcasting object dtype arrays on .fillna, .ffill, .bfill is deprecated and will change in a future version. Call result.infer_objects(copy=False) instead. To opt-in to the future behavior, set `pd.set_option('future.no_silent_downcasting', True)`\n",
            "  & (~mut_merged[\"STOP\"].fillna(False).astype(bool))\n",
            "<ipython-input-34-bc8a3a2bcc8a>:11: RuntimeWarning: overflow encountered in exp\n",
            "  return 1.0 / (1.0 + np.exp(-(x - xmid) / scale))\n"
          ]
        },
        {
          "metadata": {
            "tags": null
          },
          "name": "stdout",
          "output_type": "stream",
          "text": [
            "\n",
            "Fitting domain: P60002_PF05129_3\n",
            "    len: 1346\n",
            "    esm1vfl_score range: -19.757123947143555 2.432741403579712\n",
            "    scaled_gr_tofit range: -0.45242598550794 1.366490097463422\n",
            "    best_params: xmid=-12.574, scale=1.0000, deviance=218.327\n",
            "\n",
            "Fitting domain: P60321_PF05741_63\n",
            "    len: 878\n",
            "    esm1vfl_score range: -15.510425567626951 2.799041748046875\n",
            "    scaled_gr_tofit range: -0.43626442793032005 1.31354858706682\n"
          ]
        },
        {
          "metadata": {
            "tags": null
          },
          "name": "stderr",
          "output_type": "stream",
          "text": [
            "<ipython-input-35-cfc9933a455f>:12: FutureWarning: Downcasting object dtype arrays on .fillna, .ffill, .bfill is deprecated and will change in a future version. Call result.infer_objects(copy=False) instead. To opt-in to the future behavior, set `pd.set_option('future.no_silent_downcasting', True)`\n",
            "  & (~mut_merged[\"STOP\"].fillna(False).astype(bool))\n",
            "<ipython-input-34-bc8a3a2bcc8a>:11: RuntimeWarning: overflow encountered in exp\n",
            "  return 1.0 / (1.0 + np.exp(-(x - xmid) / scale))\n"
          ]
        },
        {
          "metadata": {
            "tags": null
          },
          "name": "stdout",
          "output_type": "stream",
          "text": [
            "    best_params: xmid=-10.338, scale=1.0000, deviance=136.666\n",
            "\n",
            "Fitting domain: P61024_PF01111_1\n",
            "    len: 1472\n",
            "    esm1vfl_score range: -19.22504234313965 0.7378008365631104\n",
            "    scaled_gr_tofit range: -0.5415951352803401 1.573086056523054\n"
          ]
        },
        {
          "metadata": {
            "tags": null
          },
          "name": "stderr",
          "output_type": "stream",
          "text": [
            "<ipython-input-35-cfc9933a455f>:12: FutureWarning: Downcasting object dtype arrays on .fillna, .ffill, .bfill is deprecated and will change in a future version. Call result.infer_objects(copy=False) instead. To opt-in to the future behavior, set `pd.set_option('future.no_silent_downcasting', True)`\n",
            "  & (~mut_merged[\"STOP\"].fillna(False).astype(bool))\n",
            "<ipython-input-34-bc8a3a2bcc8a>:11: RuntimeWarning: overflow encountered in exp\n",
            "  return 1.0 / (1.0 + np.exp(-(x - xmid) / scale))\n"
          ]
        },
        {
          "metadata": {
            "tags": null
          },
          "name": "stdout",
          "output_type": "stream",
          "text": [
            "    best_params: xmid=-10.810, scale=1.0000, deviance=494.154\n",
            "\n",
            "Fitting domain: P61086_PF00627_158\n",
            "    len: 713\n",
            "    esm1vfl_score range: -18.600830078125 0.09816575050354\n",
            "    scaled_gr_tofit range: -0.37245540634871 1.335690549106684\n"
          ]
        },
        {
          "metadata": {
            "tags": null
          },
          "name": "stderr",
          "output_type": "stream",
          "text": [
            "<ipython-input-35-cfc9933a455f>:12: FutureWarning: Downcasting object dtype arrays on .fillna, .ffill, .bfill is deprecated and will change in a future version. Call result.infer_objects(copy=False) instead. To opt-in to the future behavior, set `pd.set_option('future.no_silent_downcasting', True)`\n",
            "  & (~mut_merged[\"STOP\"].fillna(False).astype(bool))\n",
            "<ipython-input-34-bc8a3a2bcc8a>:11: RuntimeWarning: overflow encountered in exp\n",
            "  return 1.0 / (1.0 + np.exp(-(x - xmid) / scale))\n"
          ]
        },
        {
          "metadata": {
            "tags": null
          },
          "name": "stdout",
          "output_type": "stream",
          "text": [
            "    best_params: xmid=-8.246, scale=1.0000, deviance=93.662\n",
            "\n",
            "Fitting domain: P61960_PF03671_4\n",
            "    len: 1128\n",
            "    esm1vfl_score range: -18.776968002319336 1.1383419036865234\n",
            "    scaled_gr_tofit range: -0.22060838126655002 1.422227466169242\n"
          ]
        },
        {
          "metadata": {
            "tags": null
          },
          "name": "stderr",
          "output_type": "stream",
          "text": [
            "<ipython-input-35-cfc9933a455f>:12: FutureWarning: Downcasting object dtype arrays on .fillna, .ffill, .bfill is deprecated and will change in a future version. Call result.infer_objects(copy=False) instead. To opt-in to the future behavior, set `pd.set_option('future.no_silent_downcasting', True)`\n",
            "  & (~mut_merged[\"STOP\"].fillna(False).astype(bool))\n",
            "<ipython-input-34-bc8a3a2bcc8a>:11: RuntimeWarning: overflow encountered in exp\n",
            "  return 1.0 / (1.0 + np.exp(-(x - xmid) / scale))\n"
          ]
        },
        {
          "metadata": {
            "tags": null
          },
          "name": "stdout",
          "output_type": "stream",
          "text": [
            "    best_params: xmid=-12.674, scale=1.0000, deviance=167.353\n",
            "\n",
            "Fitting domain: P62993_PF00018_159\n",
            "    len: 1047\n",
            "    esm1vfl_score range: -21.740345001220703 2.517455577850342\n",
            "    scaled_gr_tofit range: -0.15063454124405995 1.25103342324083\n"
          ]
        },
        {
          "metadata": {
            "tags": null
          },
          "name": "stderr",
          "output_type": "stream",
          "text": [
            "<ipython-input-35-cfc9933a455f>:12: FutureWarning: Downcasting object dtype arrays on .fillna, .ffill, .bfill is deprecated and will change in a future version. Call result.infer_objects(copy=False) instead. To opt-in to the future behavior, set `pd.set_option('future.no_silent_downcasting', True)`\n",
            "  & (~mut_merged[\"STOP\"].fillna(False).astype(bool))\n",
            "<ipython-input-34-bc8a3a2bcc8a>:11: RuntimeWarning: overflow encountered in exp\n",
            "  return 1.0 / (1.0 + np.exp(-(x - xmid) / scale))\n"
          ]
        },
        {
          "metadata": {
            "tags": null
          },
          "name": "stdout",
          "output_type": "stream",
          "text": [
            "    best_params: xmid=-11.688, scale=1.0000, deviance=71.108\n",
            "\n",
            "Fitting domain: P67809_PF00313_52\n",
            "    len: 1730\n",
            "    esm1vfl_score range: -23.05657196044922 0.3851327896118164\n",
            "    scaled_gr_tofit range: -0.26450645320455 1.103391433433496\n"
          ]
        },
        {
          "metadata": {
            "tags": null
          },
          "name": "stderr",
          "output_type": "stream",
          "text": [
            "<ipython-input-35-cfc9933a455f>:12: FutureWarning: Downcasting object dtype arrays on .fillna, .ffill, .bfill is deprecated and will change in a future version. Call result.infer_objects(copy=False) instead. To opt-in to the future behavior, set `pd.set_option('future.no_silent_downcasting', True)`\n",
            "  & (~mut_merged[\"STOP\"].fillna(False).astype(bool))\n",
            "<ipython-input-34-bc8a3a2bcc8a>:11: RuntimeWarning: overflow encountered in exp\n",
            "  return 1.0 / (1.0 + np.exp(-(x - xmid) / scale))\n"
          ]
        },
        {
          "metadata": {
            "tags": null
          },
          "name": "stdout",
          "output_type": "stream",
          "text": [
            "    best_params: xmid=-15.664, scale=1.0000, deviance=106.385\n",
            "\n",
            "Fitting domain: P78352_PF00595_157\n",
            "    len: 1677\n",
            "    esm1vfl_score range: -24.50882339477539 1.3211193084716797\n",
            "    scaled_gr_tofit range: -0.11069296193181 1.161330798272391\n"
          ]
        },
        {
          "metadata": {
            "tags": null
          },
          "name": "stderr",
          "output_type": "stream",
          "text": [
            "<ipython-input-35-cfc9933a455f>:12: FutureWarning: Downcasting object dtype arrays on .fillna, .ffill, .bfill is deprecated and will change in a future version. Call result.infer_objects(copy=False) instead. To opt-in to the future behavior, set `pd.set_option('future.no_silent_downcasting', True)`\n",
            "  & (~mut_merged[\"STOP\"].fillna(False).astype(bool))\n",
            "<ipython-input-34-bc8a3a2bcc8a>:11: RuntimeWarning: overflow encountered in exp\n",
            "  return 1.0 / (1.0 + np.exp(-(x - xmid) / scale))\n"
          ]
        },
        {
          "metadata": {
            "tags": null
          },
          "name": "stdout",
          "output_type": "stream",
          "text": [
            "    best_params: xmid=-12.812, scale=1.0000, deviance=81.402\n",
            "\n",
            "Fitting domain: P78352_PF00595_309\n",
            "    len: 1673\n",
            "    esm1vfl_score range: -24.26596450805664 1.8881502151489256\n",
            "    scaled_gr_tofit range: -0.16497295391409006 1.7435928116299921\n"
          ]
        },
        {
          "metadata": {
            "tags": null
          },
          "name": "stderr",
          "output_type": "stream",
          "text": [
            "<ipython-input-35-cfc9933a455f>:12: FutureWarning: Downcasting object dtype arrays on .fillna, .ffill, .bfill is deprecated and will change in a future version. Call result.infer_objects(copy=False) instead. To opt-in to the future behavior, set `pd.set_option('future.no_silent_downcasting', True)`\n",
            "  & (~mut_merged[\"STOP\"].fillna(False).astype(bool))\n",
            "<ipython-input-34-bc8a3a2bcc8a>:11: RuntimeWarning: overflow encountered in exp\n",
            "  return 1.0 / (1.0 + np.exp(-(x - xmid) / scale))\n"
          ]
        },
        {
          "metadata": {
            "tags": null
          },
          "name": "stdout",
          "output_type": "stream",
          "text": [
            "    best_params: xmid=-13.083, scale=1.0000, deviance=378.883\n",
            "\n",
            "Fitting domain: P78352_PF00595_60\n",
            "    len: 1757\n",
            "    esm1vfl_score range: -23.16986846923828 1.8092955350875848\n",
            "    scaled_gr_tofit range: -0.5547630400346 1.236106630073251\n"
          ]
        },
        {
          "metadata": {
            "tags": null
          },
          "name": "stderr",
          "output_type": "stream",
          "text": [
            "<ipython-input-35-cfc9933a455f>:12: FutureWarning: Downcasting object dtype arrays on .fillna, .ffill, .bfill is deprecated and will change in a future version. Call result.infer_objects(copy=False) instead. To opt-in to the future behavior, set `pd.set_option('future.no_silent_downcasting', True)`\n",
            "  & (~mut_merged[\"STOP\"].fillna(False).astype(bool))\n",
            "<ipython-input-34-bc8a3a2bcc8a>:11: RuntimeWarning: overflow encountered in exp\n",
            "  return 1.0 / (1.0 + np.exp(-(x - xmid) / scale))\n"
          ]
        },
        {
          "metadata": {
            "tags": null
          },
          "name": "stdout",
          "output_type": "stream",
          "text": [
            "    best_params: xmid=-17.336, scale=1.0000, deviance=237.063\n",
            "\n",
            "Fitting domain: P78424_PF00046_609\n",
            "    len: 866\n",
            "    esm1vfl_score range: -24.17616271972656 -0.6637306213378906\n",
            "    scaled_gr_tofit range: -0.18943167214815992 1.258862134436719\n"
          ]
        },
        {
          "metadata": {
            "tags": null
          },
          "name": "stderr",
          "output_type": "stream",
          "text": [
            "<ipython-input-35-cfc9933a455f>:12: FutureWarning: Downcasting object dtype arrays on .fillna, .ffill, .bfill is deprecated and will change in a future version. Call result.infer_objects(copy=False) instead. To opt-in to the future behavior, set `pd.set_option('future.no_silent_downcasting', True)`\n",
            "  & (~mut_merged[\"STOP\"].fillna(False).astype(bool))\n",
            "<ipython-input-34-bc8a3a2bcc8a>:11: RuntimeWarning: overflow encountered in exp\n",
            "  return 1.0 / (1.0 + np.exp(-(x - xmid) / scale))\n"
          ]
        },
        {
          "metadata": {
            "tags": null
          },
          "name": "stdout",
          "output_type": "stream",
          "text": [
            "    best_params: xmid=-15.819, scale=1.0000, deviance=78.434\n",
            "\n",
            "Fitting domain: P78545_PF02198_50\n",
            "    len: 1186\n",
            "    esm1vfl_score range: -19.113296508789062 0.9079105854034424\n",
            "    scaled_gr_tofit range: -0.20719773220980997 1.216517841800987\n"
          ]
        },
        {
          "metadata": {
            "tags": null
          },
          "name": "stderr",
          "output_type": "stream",
          "text": [
            "<ipython-input-35-cfc9933a455f>:12: FutureWarning: Downcasting object dtype arrays on .fillna, .ffill, .bfill is deprecated and will change in a future version. Call result.infer_objects(copy=False) instead. To opt-in to the future behavior, set `pd.set_option('future.no_silent_downcasting', True)`\n",
            "  & (~mut_merged[\"STOP\"].fillna(False).astype(bool))\n",
            "<ipython-input-34-bc8a3a2bcc8a>:11: RuntimeWarning: overflow encountered in exp\n",
            "  return 1.0 / (1.0 + np.exp(-(x - xmid) / scale))\n"
          ]
        },
        {
          "metadata": {
            "tags": null
          },
          "name": "stdout",
          "output_type": "stream",
          "text": [
            "    best_params: xmid=-8.803, scale=1.0000, deviance=30.791\n"
          ]
        },
        {
          "metadata": {
            "tags": null
          },
          "name": "stderr",
          "output_type": "stream",
          "text": [
            "<ipython-input-35-cfc9933a455f>:12: FutureWarning: Downcasting object dtype arrays on .fillna, .ffill, .bfill is deprecated and will change in a future version. Call result.infer_objects(copy=False) instead. To opt-in to the future behavior, set `pd.set_option('future.no_silent_downcasting', True)`\n",
            "  & (~mut_merged[\"STOP\"].fillna(False).astype(bool))\n",
            "<ipython-input-34-bc8a3a2bcc8a>:11: RuntimeWarning: overflow encountered in exp\n",
            "  return 1.0 / (1.0 + np.exp(-(x - xmid) / scale))\n"
          ]
        },
        {
          "metadata": {
            "tags": null
          },
          "name": "stdout",
          "output_type": "stream",
          "text": [
            "\n",
            "Fitting domain: P78563_PF00035_80\n",
            "    len: 1119\n",
            "    esm1vfl_score range: -23.65155029296875 2.3394007682800293\n",
            "    scaled_gr_tofit range: -0.1262181512868601 1.314577840878769\n",
            "    best_params: xmid=-14.583, scale=1.0000, deviance=84.639\n"
          ]
        },
        {
          "metadata": {
            "tags": null
          },
          "name": "stderr",
          "output_type": "stream",
          "text": [
            "<ipython-input-35-cfc9933a455f>:12: FutureWarning: Downcasting object dtype arrays on .fillna, .ffill, .bfill is deprecated and will change in a future version. Call result.infer_objects(copy=False) instead. To opt-in to the future behavior, set `pd.set_option('future.no_silent_downcasting', True)`\n",
            "  & (~mut_merged[\"STOP\"].fillna(False).astype(bool))\n",
            "<ipython-input-34-bc8a3a2bcc8a>:11: RuntimeWarning: overflow encountered in exp\n",
            "  return 1.0 / (1.0 + np.exp(-(x - xmid) / scale))\n"
          ]
        },
        {
          "metadata": {
            "tags": null
          },
          "name": "stdout",
          "output_type": "stream",
          "text": [
            "\n",
            "Fitting domain: P82979_PF02037_3\n",
            "    len: 695\n",
            "    esm1vfl_score range: -20.67782020568848 1.4918190240859983\n",
            "    scaled_gr_tofit range: -0.2695292638409501 1.218669355247268\n",
            "    best_params: xmid=-13.049, scale=1.0000, deviance=49.340\n",
            "\n",
            "Fitting domain: P98175_PF00641_214\n",
            "    len: 465\n",
            "    esm1vfl_score range: -20.83364486694336 -1.2737219333648682\n",
            "    scaled_gr_tofit range: -0.39935046224540005 1.77181558461672\n"
          ]
        },
        {
          "metadata": {
            "tags": null
          },
          "name": "stderr",
          "output_type": "stream",
          "text": [
            "<ipython-input-35-cfc9933a455f>:12: FutureWarning: Downcasting object dtype arrays on .fillna, .ffill, .bfill is deprecated and will change in a future version. Call result.infer_objects(copy=False) instead. To opt-in to the future behavior, set `pd.set_option('future.no_silent_downcasting', True)`\n",
            "  & (~mut_merged[\"STOP\"].fillna(False).astype(bool))\n",
            "<ipython-input-34-bc8a3a2bcc8a>:11: RuntimeWarning: overflow encountered in exp\n",
            "  return 1.0 / (1.0 + np.exp(-(x - xmid) / scale))\n"
          ]
        },
        {
          "metadata": {
            "tags": null
          },
          "name": "stdout",
          "output_type": "stream",
          "text": [
            "    best_params: xmid=-15.586, scale=1.0000, deviance=164.825\n"
          ]
        },
        {
          "metadata": {
            "tags": null
          },
          "name": "stderr",
          "output_type": "stream",
          "text": [
            "<ipython-input-35-cfc9933a455f>:12: FutureWarning: Downcasting object dtype arrays on .fillna, .ffill, .bfill is deprecated and will change in a future version. Call result.infer_objects(copy=False) instead. To opt-in to the future behavior, set `pd.set_option('future.no_silent_downcasting', True)`\n",
            "  & (~mut_merged[\"STOP\"].fillna(False).astype(bool))\n",
            "<ipython-input-34-bc8a3a2bcc8a>:11: RuntimeWarning: overflow encountered in exp\n",
            "  return 1.0 / (1.0 + np.exp(-(x - xmid) / scale))\n"
          ]
        },
        {
          "metadata": {
            "tags": null
          },
          "name": "stdout",
          "output_type": "stream",
          "text": [
            "\n",
            "Fitting domain: Q00839_PF02037_6\n",
            "    len: 682\n",
            "    esm1vfl_score range: -23.77392578125 3.6273326873779297\n",
            "    scaled_gr_tofit range: -0.86713860946997 1.255401141233649\n",
            "    best_params: xmid=-13.249, scale=1.0000, deviance=256.310\n"
          ]
        },
        {
          "metadata": {
            "tags": null
          },
          "name": "stderr",
          "output_type": "stream",
          "text": [
            "<ipython-input-35-cfc9933a455f>:12: FutureWarning: Downcasting object dtype arrays on .fillna, .ffill, .bfill is deprecated and will change in a future version. Call result.infer_objects(copy=False) instead. To opt-in to the future behavior, set `pd.set_option('future.no_silent_downcasting', True)`\n",
            "  & (~mut_merged[\"STOP\"].fillna(False).astype(bool))\n",
            "<ipython-input-34-bc8a3a2bcc8a>:11: RuntimeWarning: overflow encountered in exp\n",
            "  return 1.0 / (1.0 + np.exp(-(x - xmid) / scale))\n"
          ]
        },
        {
          "metadata": {
            "tags": null
          },
          "name": "stdout",
          "output_type": "stream",
          "text": [
            "\n",
            "Fitting domain: Q00987_PF00641_299\n",
            "    len: 278\n",
            "    esm1vfl_score range: -20.574037551879883 -1.348569393157959\n",
            "    scaled_gr_tofit range: -0.5037373167750101 1.379765337414747\n",
            "    best_params: xmid=-12.668, scale=1.0000, deviance=50.822\n",
            "\n",
            "Fitting domain: Q01543_PF02198_116\n",
            "    len: 1280\n",
            "    esm1vfl_score range: -22.29229164123535 2.6955389976501465\n",
            "    scaled_gr_tofit range: -0.3165382304961599 1.359770776878009\n"
          ]
        },
        {
          "metadata": {
            "tags": null
          },
          "name": "stderr",
          "output_type": "stream",
          "text": [
            "<ipython-input-35-cfc9933a455f>:12: FutureWarning: Downcasting object dtype arrays on .fillna, .ffill, .bfill is deprecated and will change in a future version. Call result.infer_objects(copy=False) instead. To opt-in to the future behavior, set `pd.set_option('future.no_silent_downcasting', True)`\n",
            "  & (~mut_merged[\"STOP\"].fillna(False).astype(bool))\n",
            "<ipython-input-34-bc8a3a2bcc8a>:11: RuntimeWarning: overflow encountered in exp\n",
            "  return 1.0 / (1.0 + np.exp(-(x - xmid) / scale))\n"
          ]
        },
        {
          "metadata": {
            "tags": null
          },
          "name": "stdout",
          "output_type": "stream",
          "text": [
            "    best_params: xmid=-14.107, scale=1.0000, deviance=160.541\n"
          ]
        },
        {
          "metadata": {
            "tags": null
          },
          "name": "stderr",
          "output_type": "stream",
          "text": [
            "<ipython-input-35-cfc9933a455f>:12: FutureWarning: Downcasting object dtype arrays on .fillna, .ffill, .bfill is deprecated and will change in a future version. Call result.infer_objects(copy=False) instead. To opt-in to the future behavior, set `pd.set_option('future.no_silent_downcasting', True)`\n",
            "  & (~mut_merged[\"STOP\"].fillna(False).astype(bool))\n",
            "<ipython-input-34-bc8a3a2bcc8a>:11: RuntimeWarning: overflow encountered in exp\n",
            "  return 1.0 / (1.0 + np.exp(-(x - xmid) / scale))\n"
          ]
        },
        {
          "metadata": {
            "tags": null
          },
          "name": "stdout",
          "output_type": "stream",
          "text": [
            "\n",
            "Fitting domain: Q01826_PF02376_371\n",
            "    len: 1419\n",
            "    esm1vfl_score range: -24.22729110717773 -1.1358041763305664\n",
            "    scaled_gr_tofit range: -0.1742850164818499 1.589382428657614\n",
            "    best_params: xmid=-15.281, scale=1.0000, deviance=287.450\n",
            "\n",
            "Fitting domain: Q01826_PF02376_494\n",
            "    len: 994\n",
            "    esm1vfl_score range: -23.488170623779297 1.4142496585845947\n",
            "    scaled_gr_tofit range: -0.21295769728957992 1.226352724144152\n"
          ]
        },
        {
          "metadata": {
            "tags": null
          },
          "name": "stderr",
          "output_type": "stream",
          "text": [
            "<ipython-input-35-cfc9933a455f>:12: FutureWarning: Downcasting object dtype arrays on .fillna, .ffill, .bfill is deprecated and will change in a future version. Call result.infer_objects(copy=False) instead. To opt-in to the future behavior, set `pd.set_option('future.no_silent_downcasting', True)`\n",
            "  & (~mut_merged[\"STOP\"].fillna(False).astype(bool))\n",
            "<ipython-input-34-bc8a3a2bcc8a>:11: RuntimeWarning: overflow encountered in exp\n",
            "  return 1.0 / (1.0 + np.exp(-(x - xmid) / scale))\n"
          ]
        },
        {
          "metadata": {
            "tags": null
          },
          "name": "stdout",
          "output_type": "stream",
          "text": [
            "    best_params: xmid=-12.992, scale=1.0000, deviance=99.896\n",
            "\n",
            "Fitting domain: Q01826_PF16557_178\n",
            "    len: 1174\n",
            "    esm1vfl_score range: -23.6170711517334 -1.4279985427856443\n",
            "    scaled_gr_tofit range: -0.1469931417283299 1.323760210886603\n"
          ]
        },
        {
          "metadata": {
            "tags": null
          },
          "name": "stderr",
          "output_type": "stream",
          "text": [
            "<ipython-input-35-cfc9933a455f>:12: FutureWarning: Downcasting object dtype arrays on .fillna, .ffill, .bfill is deprecated and will change in a future version. Call result.infer_objects(copy=False) instead. To opt-in to the future behavior, set `pd.set_option('future.no_silent_downcasting', True)`\n",
            "  & (~mut_merged[\"STOP\"].fillna(False).astype(bool))\n",
            "<ipython-input-34-bc8a3a2bcc8a>:11: RuntimeWarning: overflow encountered in exp\n",
            "  return 1.0 / (1.0 + np.exp(-(x - xmid) / scale))\n"
          ]
        },
        {
          "metadata": {
            "tags": null
          },
          "name": "stdout",
          "output_type": "stream",
          "text": [
            "    best_params: xmid=-14.795, scale=1.0000, deviance=119.041\n",
            "\n",
            "Fitting domain: Q01851_PF00157_266\n",
            "    len: 1354\n",
            "    esm1vfl_score range: -24.3435001373291 -2.054413318634033\n",
            "    scaled_gr_tofit range: -0.28391708613549005 1.1494741364956629\n"
          ]
        },
        {
          "metadata": {
            "tags": null
          },
          "name": "stderr",
          "output_type": "stream",
          "text": [
            "<ipython-input-35-cfc9933a455f>:12: FutureWarning: Downcasting object dtype arrays on .fillna, .ffill, .bfill is deprecated and will change in a future version. Call result.infer_objects(copy=False) instead. To opt-in to the future behavior, set `pd.set_option('future.no_silent_downcasting', True)`\n",
            "  & (~mut_merged[\"STOP\"].fillna(False).astype(bool))\n",
            "<ipython-input-34-bc8a3a2bcc8a>:11: RuntimeWarning: overflow encountered in exp\n",
            "  return 1.0 / (1.0 + np.exp(-(x - xmid) / scale))\n"
          ]
        },
        {
          "metadata": {
            "tags": null
          },
          "name": "stdout",
          "output_type": "stream",
          "text": [
            "    best_params: xmid=-16.905, scale=1.0000, deviance=111.524\n",
            "\n",
            "Fitting domain: Q01860_PF00157_134\n",
            "    len: 1186\n",
            "    esm1vfl_score range: -20.059776306152344 2.1830196380615234\n",
            "    scaled_gr_tofit range: -0.37045632454179 1.680717872754332\n"
          ]
        },
        {
          "metadata": {
            "tags": null
          },
          "name": "stderr",
          "output_type": "stream",
          "text": [
            "<ipython-input-35-cfc9933a455f>:12: FutureWarning: Downcasting object dtype arrays on .fillna, .ffill, .bfill is deprecated and will change in a future version. Call result.infer_objects(copy=False) instead. To opt-in to the future behavior, set `pd.set_option('future.no_silent_downcasting', True)`\n",
            "  & (~mut_merged[\"STOP\"].fillna(False).astype(bool))\n",
            "<ipython-input-34-bc8a3a2bcc8a>:11: RuntimeWarning: overflow encountered in exp\n",
            "  return 1.0 / (1.0 + np.exp(-(x - xmid) / scale))\n"
          ]
        },
        {
          "metadata": {
            "tags": null
          },
          "name": "stdout",
          "output_type": "stream",
          "text": [
            "    best_params: xmid=-10.151, scale=1.0000, deviance=416.900\n",
            "\n",
            "Fitting domain: Q03052_PF00157_247\n",
            "    len: 1449\n",
            "    esm1vfl_score range: -24.86407470703125 0.1191315650939941\n",
            "    scaled_gr_tofit range: -0.4336948724605201 1.489688781454867\n"
          ]
        },
        {
          "metadata": {
            "tags": null
          },
          "name": "stderr",
          "output_type": "stream",
          "text": [
            "<ipython-input-35-cfc9933a455f>:12: FutureWarning: Downcasting object dtype arrays on .fillna, .ffill, .bfill is deprecated and will change in a future version. Call result.infer_objects(copy=False) instead. To opt-in to the future behavior, set `pd.set_option('future.no_silent_downcasting', True)`\n",
            "  & (~mut_merged[\"STOP\"].fillna(False).astype(bool))\n",
            "<ipython-input-34-bc8a3a2bcc8a>:11: RuntimeWarning: overflow encountered in exp\n",
            "  return 1.0 / (1.0 + np.exp(-(x - xmid) / scale))\n"
          ]
        },
        {
          "metadata": {
            "tags": null
          },
          "name": "stdout",
          "output_type": "stream",
          "text": [
            "    best_params: xmid=-17.424, scale=1.0000, deviance=345.595\n",
            "\n",
            "Fitting domain: Q03181_PF00105_71\n",
            "    len: 1394\n",
            "    esm1vfl_score range: -22.302095413208008 2.436579704284668\n",
            "    scaled_gr_tofit range: -0.38489737426376003 1.393743339137386\n"
          ]
        },
        {
          "metadata": {
            "tags": null
          },
          "name": "stderr",
          "output_type": "stream",
          "text": [
            "<ipython-input-35-cfc9933a455f>:12: FutureWarning: Downcasting object dtype arrays on .fillna, .ffill, .bfill is deprecated and will change in a future version. Call result.infer_objects(copy=False) instead. To opt-in to the future behavior, set `pd.set_option('future.no_silent_downcasting', True)`\n",
            "  & (~mut_merged[\"STOP\"].fillna(False).astype(bool))\n",
            "<ipython-input-34-bc8a3a2bcc8a>:11: RuntimeWarning: overflow encountered in exp\n",
            "  return 1.0 / (1.0 + np.exp(-(x - xmid) / scale))\n"
          ]
        },
        {
          "metadata": {
            "tags": null
          },
          "name": "stdout",
          "output_type": "stream",
          "text": [
            "    best_params: xmid=-15.369, scale=1.0000, deviance=303.634\n",
            "\n",
            "Fitting domain: Q05066_PF00505_61\n",
            "    len: 1132\n",
            "    esm1vfl_score range: -20.628074645996094 4.055028438568115\n",
            "    scaled_gr_tofit range: -0.30087087530742007 2.09056508193474\n"
          ]
        },
        {
          "metadata": {
            "tags": null
          },
          "name": "stderr",
          "output_type": "stream",
          "text": [
            "<ipython-input-35-cfc9933a455f>:12: FutureWarning: Downcasting object dtype arrays on .fillna, .ffill, .bfill is deprecated and will change in a future version. Call result.infer_objects(copy=False) instead. To opt-in to the future behavior, set `pd.set_option('future.no_silent_downcasting', True)`\n",
            "  & (~mut_merged[\"STOP\"].fillna(False).astype(bool))\n",
            "<ipython-input-34-bc8a3a2bcc8a>:11: RuntimeWarning: overflow encountered in exp\n",
            "  return 1.0 / (1.0 + np.exp(-(x - xmid) / scale))\n"
          ]
        },
        {
          "metadata": {
            "tags": null
          },
          "name": "stdout",
          "output_type": "stream",
          "text": [
            "    best_params: xmid=-9.105, scale=1.0000, deviance=724.945\n"
          ]
        },
        {
          "metadata": {
            "tags": null
          },
          "name": "stderr",
          "output_type": "stream",
          "text": [
            "<ipython-input-35-cfc9933a455f>:12: FutureWarning: Downcasting object dtype arrays on .fillna, .ffill, .bfill is deprecated and will change in a future version. Call result.infer_objects(copy=False) instead. To opt-in to the future behavior, set `pd.set_option('future.no_silent_downcasting', True)`\n",
            "  & (~mut_merged[\"STOP\"].fillna(False).astype(bool))\n",
            "<ipython-input-34-bc8a3a2bcc8a>:11: RuntimeWarning: overflow encountered in exp\n",
            "  return 1.0 / (1.0 + np.exp(-(x - xmid) / scale))\n"
          ]
        },
        {
          "metadata": {
            "tags": null
          },
          "name": "stdout",
          "output_type": "stream",
          "text": [
            "\n",
            "Fitting domain: Q05195_PF00010_58\n",
            "    len: 932\n",
            "    esm1vfl_score range: -21.19707489013672 -0.3652229309082031\n",
            "    scaled_gr_tofit range: -0.34597876431983 1.43081302058478\n",
            "    best_params: xmid=-14.275, scale=1.0000, deviance=238.646\n",
            "\n",
            "Fitting domain: Q05655_PF00130_228\n",
            "    len: 997\n",
            "    esm1vfl_score range: -22.37271308898925 1.7443413734436035\n",
            "    scaled_gr_tofit range: -0.16127264267866992 1.320971555694965\n"
          ]
        },
        {
          "metadata": {
            "tags": null
          },
          "name": "stderr",
          "output_type": "stream",
          "text": [
            "<ipython-input-35-cfc9933a455f>:12: FutureWarning: Downcasting object dtype arrays on .fillna, .ffill, .bfill is deprecated and will change in a future version. Call result.infer_objects(copy=False) instead. To opt-in to the future behavior, set `pd.set_option('future.no_silent_downcasting', True)`\n",
            "  & (~mut_merged[\"STOP\"].fillna(False).astype(bool))\n",
            "<ipython-input-34-bc8a3a2bcc8a>:11: RuntimeWarning: overflow encountered in exp\n",
            "  return 1.0 / (1.0 + np.exp(-(x - xmid) / scale))\n"
          ]
        },
        {
          "metadata": {
            "tags": null
          },
          "name": "stdout",
          "output_type": "stream",
          "text": [
            "    best_params: xmid=-13.961, scale=1.0000, deviance=74.901\n",
            "\n",
            "Fitting domain: Q06187_PF00018_215\n",
            "    len: 1102\n",
            "    esm1vfl_score range: -21.40217018127441 2.859041690826416\n",
            "    scaled_gr_tofit range: -0.20420689967352001 1.160172371641372\n"
          ]
        },
        {
          "metadata": {
            "tags": null
          },
          "name": "stderr",
          "output_type": "stream",
          "text": [
            "<ipython-input-35-cfc9933a455f>:12: FutureWarning: Downcasting object dtype arrays on .fillna, .ffill, .bfill is deprecated and will change in a future version. Call result.infer_objects(copy=False) instead. To opt-in to the future behavior, set `pd.set_option('future.no_silent_downcasting', True)`\n",
            "  & (~mut_merged[\"STOP\"].fillna(False).astype(bool))\n",
            "<ipython-input-34-bc8a3a2bcc8a>:11: RuntimeWarning: overflow encountered in exp\n",
            "  return 1.0 / (1.0 + np.exp(-(x - xmid) / scale))\n"
          ]
        },
        {
          "metadata": {
            "tags": null
          },
          "name": "stdout",
          "output_type": "stream",
          "text": [
            "    best_params: xmid=-11.795, scale=1.0000, deviance=39.081\n",
            "\n",
            "Fitting domain: Q06546_PF02198_172\n",
            "    len: 1453\n",
            "    esm1vfl_score range: -19.636892318725582 2.052586793899536\n",
            "    scaled_gr_tofit range: -0.23254182041263993 1.146361327132793\n"
          ]
        },
        {
          "metadata": {
            "tags": null
          },
          "name": "stderr",
          "output_type": "stream",
          "text": [
            "<ipython-input-35-cfc9933a455f>:12: FutureWarning: Downcasting object dtype arrays on .fillna, .ffill, .bfill is deprecated and will change in a future version. Call result.infer_objects(copy=False) instead. To opt-in to the future behavior, set `pd.set_option('future.no_silent_downcasting', True)`\n",
            "  & (~mut_merged[\"STOP\"].fillna(False).astype(bool))\n",
            "<ipython-input-34-bc8a3a2bcc8a>:11: RuntimeWarning: overflow encountered in exp\n",
            "  return 1.0 / (1.0 + np.exp(-(x - xmid) / scale))\n"
          ]
        },
        {
          "metadata": {
            "tags": null
          },
          "name": "stdout",
          "output_type": "stream",
          "text": [
            "    best_params: xmid=-8.240, scale=1.0000, deviance=73.949\n",
            "\n",
            "Fitting domain: Q06787_PF00013_217\n",
            "    len: 1184\n",
            "    esm1vfl_score range: -21.737184524536133 -0.9960203170776368\n",
            "    scaled_gr_tofit range: -0.3996064610460299 1.217724992209436\n"
          ]
        },
        {
          "metadata": {
            "tags": null
          },
          "name": "stderr",
          "output_type": "stream",
          "text": [
            "<ipython-input-35-cfc9933a455f>:12: FutureWarning: Downcasting object dtype arrays on .fillna, .ffill, .bfill is deprecated and will change in a future version. Call result.infer_objects(copy=False) instead. To opt-in to the future behavior, set `pd.set_option('future.no_silent_downcasting', True)`\n",
            "  & (~mut_merged[\"STOP\"].fillna(False).astype(bool))\n",
            "<ipython-input-34-bc8a3a2bcc8a>:11: RuntimeWarning: overflow encountered in exp\n",
            "  return 1.0 / (1.0 + np.exp(-(x - xmid) / scale))\n"
          ]
        },
        {
          "metadata": {
            "tags": null
          },
          "name": "stdout",
          "output_type": "stream",
          "text": [
            "    best_params: xmid=-13.538, scale=1.0000, deviance=190.890\n",
            "\n",
            "Fitting domain: Q06945_PF00505_60\n",
            "    len: 1198\n",
            "    esm1vfl_score range: -24.39706039428711 -4.6295552253723145\n",
            "    scaled_gr_tofit range: -0.2896902484022199 1.339052785601457\n"
          ]
        },
        {
          "metadata": {
            "tags": null
          },
          "name": "stderr",
          "output_type": "stream",
          "text": [
            "<ipython-input-35-cfc9933a455f>:12: FutureWarning: Downcasting object dtype arrays on .fillna, .ffill, .bfill is deprecated and will change in a future version. Call result.infer_objects(copy=False) instead. To opt-in to the future behavior, set `pd.set_option('future.no_silent_downcasting', True)`\n",
            "  & (~mut_merged[\"STOP\"].fillna(False).astype(bool))\n",
            "<ipython-input-34-bc8a3a2bcc8a>:11: RuntimeWarning: overflow encountered in exp\n",
            "  return 1.0 / (1.0 + np.exp(-(x - xmid) / scale))\n"
          ]
        },
        {
          "metadata": {
            "tags": null
          },
          "name": "stdout",
          "output_type": "stream",
          "text": [
            "    best_params: xmid=-16.648, scale=1.0000, deviance=213.087\n"
          ]
        },
        {
          "metadata": {
            "tags": null
          },
          "name": "stderr",
          "output_type": "stream",
          "text": [
            "<ipython-input-35-cfc9933a455f>:12: FutureWarning: Downcasting object dtype arrays on .fillna, .ffill, .bfill is deprecated and will change in a future version. Call result.infer_objects(copy=False) instead. To opt-in to the future behavior, set `pd.set_option('future.no_silent_downcasting', True)`\n",
            "  & (~mut_merged[\"STOP\"].fillna(False).astype(bool))\n",
            "<ipython-input-34-bc8a3a2bcc8a>:11: RuntimeWarning: overflow encountered in exp\n",
            "  return 1.0 / (1.0 + np.exp(-(x - xmid) / scale))\n"
          ]
        },
        {
          "metadata": {
            "tags": null
          },
          "name": "stdout",
          "output_type": "stream",
          "text": [
            "\n",
            "Fitting domain: Q08881_PF00018_172\n",
            "    len: 1120\n",
            "    esm1vfl_score range: -18.87484169006348 2.4104819297790527\n",
            "    scaled_gr_tofit range: -0.21626915608337005 1.195740016373717\n",
            "    best_params: xmid=-9.105, scale=1.0000, deviance=48.950\n",
            "\n",
            "Fitting domain: Q12824_PF04855_181\n",
            "    len: 947\n",
            "    esm1vfl_score range: -20.65476417541504 -0.5301946997642517\n",
            "    scaled_gr_tofit range: -0.2193611259483299 1.504977801401839\n"
          ]
        },
        {
          "metadata": {
            "tags": null
          },
          "name": "stderr",
          "output_type": "stream",
          "text": [
            "<ipython-input-35-cfc9933a455f>:12: FutureWarning: Downcasting object dtype arrays on .fillna, .ffill, .bfill is deprecated and will change in a future version. Call result.infer_objects(copy=False) instead. To opt-in to the future behavior, set `pd.set_option('future.no_silent_downcasting', True)`\n",
            "  & (~mut_merged[\"STOP\"].fillna(False).astype(bool))\n",
            "<ipython-input-34-bc8a3a2bcc8a>:11: RuntimeWarning: overflow encountered in exp\n",
            "  return 1.0 / (1.0 + np.exp(-(x - xmid) / scale))\n"
          ]
        },
        {
          "metadata": {
            "tags": null
          },
          "name": "stdout",
          "output_type": "stream",
          "text": [
            "    best_params: xmid=-10.660, scale=1.0000, deviance=165.087\n",
            "\n",
            "Fitting domain: Q12837_PF00157_256\n",
            "    len: 1197\n",
            "    esm1vfl_score range: -24.015172958374023 -3.2372312545776367\n",
            "    scaled_gr_tofit range: -0.2630659681335701 1.307368972126093\n"
          ]
        },
        {
          "metadata": {
            "tags": null
          },
          "name": "stderr",
          "output_type": "stream",
          "text": [
            "<ipython-input-35-cfc9933a455f>:12: FutureWarning: Downcasting object dtype arrays on .fillna, .ffill, .bfill is deprecated and will change in a future version. Call result.infer_objects(copy=False) instead. To opt-in to the future behavior, set `pd.set_option('future.no_silent_downcasting', True)`\n",
            "  & (~mut_merged[\"STOP\"].fillna(False).astype(bool))\n",
            "<ipython-input-34-bc8a3a2bcc8a>:11: RuntimeWarning: overflow encountered in exp\n",
            "  return 1.0 / (1.0 + np.exp(-(x - xmid) / scale))\n"
          ]
        },
        {
          "metadata": {
            "tags": null
          },
          "name": "stdout",
          "output_type": "stream",
          "text": [
            "    best_params: xmid=-15.928, scale=1.0000, deviance=151.619\n",
            "\n",
            "Fitting domain: Q12873_PF00628_374\n",
            "    len: 968\n",
            "    esm1vfl_score range: -18.9758517742157 0.4031057357788086\n",
            "    scaled_gr_tofit range: -0.3421846318172399 1.557484485911457\n"
          ]
        },
        {
          "metadata": {
            "tags": null
          },
          "name": "stderr",
          "output_type": "stream",
          "text": [
            "<ipython-input-35-cfc9933a455f>:12: FutureWarning: Downcasting object dtype arrays on .fillna, .ffill, .bfill is deprecated and will change in a future version. Call result.infer_objects(copy=False) instead. To opt-in to the future behavior, set `pd.set_option('future.no_silent_downcasting', True)`\n",
            "  & (~mut_merged[\"STOP\"].fillna(False).astype(bool))\n",
            "<ipython-input-34-bc8a3a2bcc8a>:11: RuntimeWarning: overflow encountered in exp\n",
            "  return 1.0 / (1.0 + np.exp(-(x - xmid) / scale))\n"
          ]
        },
        {
          "metadata": {
            "tags": null
          },
          "name": "stdout",
          "output_type": "stream",
          "text": [
            "    best_params: xmid=-11.801, scale=1.0000, deviance=116.914\n",
            "\n",
            "Fitting domain: Q12899_PF00643_97\n",
            "    len: 723\n",
            "    esm1vfl_score range: -16.06903648376465 0.7943811416625977\n",
            "    scaled_gr_tofit range: -0.6313759219772299 1.431527759220369\n"
          ]
        },
        {
          "metadata": {
            "tags": null
          },
          "name": "stderr",
          "output_type": "stream",
          "text": [
            "<ipython-input-35-cfc9933a455f>:12: FutureWarning: Downcasting object dtype arrays on .fillna, .ffill, .bfill is deprecated and will change in a future version. Call result.infer_objects(copy=False) instead. To opt-in to the future behavior, set `pd.set_option('future.no_silent_downcasting', True)`\n",
            "  & (~mut_merged[\"STOP\"].fillna(False).astype(bool))\n",
            "<ipython-input-34-bc8a3a2bcc8a>:11: RuntimeWarning: overflow encountered in exp\n",
            "  return 1.0 / (1.0 + np.exp(-(x - xmid) / scale))\n"
          ]
        },
        {
          "metadata": {
            "tags": null
          },
          "name": "stdout",
          "output_type": "stream",
          "text": [
            "    best_params: xmid=-9.233, scale=1.0000, deviance=149.323\n",
            "\n",
            "Fitting domain: Q12929_PF00018_533\n",
            "    len: 943\n",
            "    esm1vfl_score range: -19.932247161865234 2.4862661361694336\n",
            "    scaled_gr_tofit range: -0.16082869446934 1.276925629455285\n"
          ]
        },
        {
          "metadata": {
            "tags": null
          },
          "name": "stderr",
          "output_type": "stream",
          "text": [
            "<ipython-input-35-cfc9933a455f>:12: FutureWarning: Downcasting object dtype arrays on .fillna, .ffill, .bfill is deprecated and will change in a future version. Call result.infer_objects(copy=False) instead. To opt-in to the future behavior, set `pd.set_option('future.no_silent_downcasting', True)`\n",
            "  & (~mut_merged[\"STOP\"].fillna(False).astype(bool))\n",
            "<ipython-input-34-bc8a3a2bcc8a>:11: RuntimeWarning: overflow encountered in exp\n",
            "  return 1.0 / (1.0 + np.exp(-(x - xmid) / scale))\n"
          ]
        },
        {
          "metadata": {
            "tags": null
          },
          "name": "stdout",
          "output_type": "stream",
          "text": [
            "    best_params: xmid=-11.002, scale=1.0000, deviance=75.805\n"
          ]
        },
        {
          "metadata": {
            "tags": null
          },
          "name": "stderr",
          "output_type": "stream",
          "text": [
            "<ipython-input-35-cfc9933a455f>:12: FutureWarning: Downcasting object dtype arrays on .fillna, .ffill, .bfill is deprecated and will change in a future version. Call result.infer_objects(copy=False) instead. To opt-in to the future behavior, set `pd.set_option('future.no_silent_downcasting', True)`\n",
            "  & (~mut_merged[\"STOP\"].fillna(False).astype(bool))\n",
            "<ipython-input-34-bc8a3a2bcc8a>:11: RuntimeWarning: overflow encountered in exp\n",
            "  return 1.0 / (1.0 + np.exp(-(x - xmid) / scale))\n"
          ]
        },
        {
          "metadata": {
            "tags": null
          },
          "name": "stdout",
          "output_type": "stream",
          "text": [
            "\n",
            "Fitting domain: Q12929_PF18016_720\n",
            "    len: 976\n",
            "    esm1vfl_score range: -20.52441024780273 1.4668850898742676\n",
            "    scaled_gr_tofit range: -0.41780618517824997 1.147052677879192\n",
            "    best_params: xmid=-10.760, scale=1.0000, deviance=151.132\n"
          ]
        },
        {
          "metadata": {
            "tags": null
          },
          "name": "stderr",
          "output_type": "stream",
          "text": [
            "<ipython-input-35-cfc9933a455f>:12: FutureWarning: Downcasting object dtype arrays on .fillna, .ffill, .bfill is deprecated and will change in a future version. Call result.infer_objects(copy=False) instead. To opt-in to the future behavior, set `pd.set_option('future.no_silent_downcasting', True)`\n",
            "  & (~mut_merged[\"STOP\"].fillna(False).astype(bool))\n",
            "<ipython-input-34-bc8a3a2bcc8a>:11: RuntimeWarning: overflow encountered in exp\n",
            "  return 1.0 / (1.0 + np.exp(-(x - xmid) / scale))\n"
          ]
        },
        {
          "metadata": {
            "tags": null
          },
          "name": "stdout",
          "output_type": "stream",
          "text": [
            "\n",
            "Fitting domain: Q12965_PF00018_1051\n",
            "    len: 1000\n",
            "    esm1vfl_score range: -22.646480862477112 3.2713474284786326\n",
            "    scaled_gr_tofit range: -0.15858718798584004 1.247765838644117\n",
            "    best_params: xmid=-9.568, scale=1.0000, deviance=79.058\n"
          ]
        },
        {
          "metadata": {
            "tags": null
          },
          "name": "stderr",
          "output_type": "stream",
          "text": [
            "<ipython-input-35-cfc9933a455f>:12: FutureWarning: Downcasting object dtype arrays on .fillna, .ffill, .bfill is deprecated and will change in a future version. Call result.infer_objects(copy=False) instead. To opt-in to the future behavior, set `pd.set_option('future.no_silent_downcasting', True)`\n",
            "  & (~mut_merged[\"STOP\"].fillna(False).astype(bool))\n",
            "<ipython-input-34-bc8a3a2bcc8a>:11: RuntimeWarning: overflow encountered in exp\n",
            "  return 1.0 / (1.0 + np.exp(-(x - xmid) / scale))\n"
          ]
        },
        {
          "metadata": {
            "tags": null
          },
          "name": "stdout",
          "output_type": "stream",
          "text": [
            "\n",
            "Fitting domain: Q13148_PF18694_5\n",
            "    len: 1226\n",
            "    esm1vfl_score range: -18.12959671020508 0.3034300208091736\n",
            "    scaled_gr_tofit range: -0.2805610337786999 1.250776044197542\n",
            "    best_params: xmid=-7.954, scale=1.0000, deviance=214.039\n",
            "\n",
            "Fitting domain: Q13163_PF00564_15\n",
            "    len: 1786\n",
            "    esm1vfl_score range: -18.32668685913086 0.4555463790893554\n",
            "    scaled_gr_tofit range: -0.47683771343235004 1.742346384921577\n"
          ]
        },
        {
          "metadata": {
            "tags": null
          },
          "name": "stderr",
          "output_type": "stream",
          "text": [
            "<ipython-input-35-cfc9933a455f>:12: FutureWarning: Downcasting object dtype arrays on .fillna, .ffill, .bfill is deprecated and will change in a future version. Call result.infer_objects(copy=False) instead. To opt-in to the future behavior, set `pd.set_option('future.no_silent_downcasting', True)`\n",
            "  & (~mut_merged[\"STOP\"].fillna(False).astype(bool))\n",
            "<ipython-input-34-bc8a3a2bcc8a>:11: RuntimeWarning: overflow encountered in exp\n",
            "  return 1.0 / (1.0 + np.exp(-(x - xmid) / scale))\n"
          ]
        },
        {
          "metadata": {
            "tags": null
          },
          "name": "stdout",
          "output_type": "stream",
          "text": [
            "    best_params: xmid=-8.455, scale=1.0000, deviance=785.839\n",
            "\n",
            "Fitting domain: Q13263_PF00628_620\n",
            "    len: 917\n",
            "    esm1vfl_score range: -17.224367141723633 2.4639296531677246\n",
            "    scaled_gr_tofit range: -0.34184460184538 1.5432318027657441\n"
          ]
        },
        {
          "metadata": {
            "tags": null
          },
          "name": "stderr",
          "output_type": "stream",
          "text": [
            "<ipython-input-35-cfc9933a455f>:12: FutureWarning: Downcasting object dtype arrays on .fillna, .ffill, .bfill is deprecated and will change in a future version. Call result.infer_objects(copy=False) instead. To opt-in to the future behavior, set `pd.set_option('future.no_silent_downcasting', True)`\n",
            "  & (~mut_merged[\"STOP\"].fillna(False).astype(bool))\n",
            "<ipython-input-34-bc8a3a2bcc8a>:11: RuntimeWarning: overflow encountered in exp\n",
            "  return 1.0 / (1.0 + np.exp(-(x - xmid) / scale))\n"
          ]
        },
        {
          "metadata": {
            "tags": null
          },
          "name": "stdout",
          "output_type": "stream",
          "text": [
            "    best_params: xmid=-9.759, scale=1.0000, deviance=167.223\n",
            "\n",
            "Fitting domain: Q13368_PF00595_132\n",
            "    len: 1488\n",
            "    esm1vfl_score range: -22.3774528503418 0.6751656532287598\n",
            "    scaled_gr_tofit range: -0.2415733860576501 1.273005473314365\n"
          ]
        },
        {
          "metadata": {
            "tags": null
          },
          "name": "stderr",
          "output_type": "stream",
          "text": [
            "<ipython-input-35-cfc9933a455f>:12: FutureWarning: Downcasting object dtype arrays on .fillna, .ffill, .bfill is deprecated and will change in a future version. Call result.infer_objects(copy=False) instead. To opt-in to the future behavior, set `pd.set_option('future.no_silent_downcasting', True)`\n",
            "  & (~mut_merged[\"STOP\"].fillna(False).astype(bool))\n",
            "<ipython-input-34-bc8a3a2bcc8a>:11: RuntimeWarning: overflow encountered in exp\n",
            "  return 1.0 / (1.0 + np.exp(-(x - xmid) / scale))\n"
          ]
        },
        {
          "metadata": {
            "tags": null
          },
          "name": "stdout",
          "output_type": "stream",
          "text": [
            "    best_params: xmid=-13.363, scale=1.0000, deviance=150.205\n",
            "\n",
            "Fitting domain: Q13424_PF00595_79\n",
            "    len: 1264\n",
            "    esm1vfl_score range: -23.186094284057617 0.5439615845680237\n",
            "    scaled_gr_tofit range: -0.36700818403901003 1.29007286880678\n"
          ]
        },
        {
          "metadata": {
            "tags": null
          },
          "name": "stderr",
          "output_type": "stream",
          "text": [
            "<ipython-input-35-cfc9933a455f>:12: FutureWarning: Downcasting object dtype arrays on .fillna, .ffill, .bfill is deprecated and will change in a future version. Call result.infer_objects(copy=False) instead. To opt-in to the future behavior, set `pd.set_option('future.no_silent_downcasting', True)`\n",
            "  & (~mut_merged[\"STOP\"].fillna(False).astype(bool))\n",
            "<ipython-input-34-bc8a3a2bcc8a>:11: RuntimeWarning: overflow encountered in exp\n",
            "  return 1.0 / (1.0 + np.exp(-(x - xmid) / scale))\n"
          ]
        },
        {
          "metadata": {
            "tags": null
          },
          "name": "stdout",
          "output_type": "stream",
          "text": [
            "    best_params: xmid=-11.323, scale=1.0000, deviance=150.490\n",
            "\n",
            "Fitting domain: Q13501_PF00569_120\n",
            "    len: 950\n",
            "    esm1vfl_score range: -21.26653480529785 2.0670933723449707\n",
            "    scaled_gr_tofit range: -0.17834585186036 1.327987004338042\n"
          ]
        },
        {
          "metadata": {
            "tags": null
          },
          "name": "stderr",
          "output_type": "stream",
          "text": [
            "<ipython-input-35-cfc9933a455f>:12: FutureWarning: Downcasting object dtype arrays on .fillna, .ffill, .bfill is deprecated and will change in a future version. Call result.infer_objects(copy=False) instead. To opt-in to the future behavior, set `pd.set_option('future.no_silent_downcasting', True)`\n",
            "  & (~mut_merged[\"STOP\"].fillna(False).astype(bool))\n",
            "<ipython-input-34-bc8a3a2bcc8a>:11: RuntimeWarning: overflow encountered in exp\n",
            "  return 1.0 / (1.0 + np.exp(-(x - xmid) / scale))\n"
          ]
        },
        {
          "metadata": {
            "tags": null
          },
          "name": "stdout",
          "output_type": "stream",
          "text": [
            "    best_params: xmid=-11.724, scale=1.0000, deviance=85.250\n",
            "\n",
            "Fitting domain: Q13501_PF16577_389\n",
            "    len: 984\n",
            "    esm1vfl_score range: -22.876686096191406 0.3918662071228027\n",
            "    scaled_gr_tofit range: -0.13713107898589993 1.3696417609540639\n"
          ]
        },
        {
          "metadata": {
            "tags": null
          },
          "name": "stderr",
          "output_type": "stream",
          "text": [
            "<ipython-input-35-cfc9933a455f>:12: FutureWarning: Downcasting object dtype arrays on .fillna, .ffill, .bfill is deprecated and will change in a future version. Call result.infer_objects(copy=False) instead. To opt-in to the future behavior, set `pd.set_option('future.no_silent_downcasting', True)`\n",
            "  & (~mut_merged[\"STOP\"].fillna(False).astype(bool))\n",
            "<ipython-input-34-bc8a3a2bcc8a>:11: RuntimeWarning: overflow encountered in exp\n",
            "  return 1.0 / (1.0 + np.exp(-(x - xmid) / scale))\n"
          ]
        },
        {
          "metadata": {
            "tags": null
          },
          "name": "stdout",
          "output_type": "stream",
          "text": [
            "    best_params: xmid=-12.945, scale=1.0000, deviance=102.654\n",
            "\n",
            "Fitting domain: Q13526_PF00397_1\n",
            "    len: 649\n",
            "    esm1vfl_score range: -19.060157775878903 -0.4412984848022461\n",
            "    scaled_gr_tofit range: -0.8036640657457099 1.282122419803686\n"
          ]
        },
        {
          "metadata": {
            "tags": null
          },
          "name": "stderr",
          "output_type": "stream",
          "text": [
            "<ipython-input-35-cfc9933a455f>:12: FutureWarning: Downcasting object dtype arrays on .fillna, .ffill, .bfill is deprecated and will change in a future version. Call result.infer_objects(copy=False) instead. To opt-in to the future behavior, set `pd.set_option('future.no_silent_downcasting', True)`\n",
            "  & (~mut_merged[\"STOP\"].fillna(False).astype(bool))\n",
            "<ipython-input-34-bc8a3a2bcc8a>:11: RuntimeWarning: overflow encountered in exp\n",
            "  return 1.0 / (1.0 + np.exp(-(x - xmid) / scale))\n"
          ]
        },
        {
          "metadata": {
            "tags": null
          },
          "name": "stdout",
          "output_type": "stream",
          "text": [
            "    best_params: xmid=-12.382, scale=1.0000, deviance=144.039\n"
          ]
        },
        {
          "metadata": {
            "tags": null
          },
          "name": "stderr",
          "output_type": "stream",
          "text": [
            "<ipython-input-35-cfc9933a455f>:12: FutureWarning: Downcasting object dtype arrays on .fillna, .ffill, .bfill is deprecated and will change in a future version. Call result.infer_objects(copy=False) instead. To opt-in to the future behavior, set `pd.set_option('future.no_silent_downcasting', True)`\n",
            "  & (~mut_merged[\"STOP\"].fillna(False).astype(bool))\n",
            "<ipython-input-34-bc8a3a2bcc8a>:11: RuntimeWarning: overflow encountered in exp\n",
            "  return 1.0 / (1.0 + np.exp(-(x - xmid) / scale))\n"
          ]
        },
        {
          "metadata": {
            "tags": null
          },
          "name": "stdout",
          "output_type": "stream",
          "text": [
            "\n",
            "Fitting domain: Q13642_PF00412_160\n",
            "    len: 887\n",
            "    esm1vfl_score range: -17.72239112854004 4.665763854980469\n",
            "    scaled_gr_tofit range: -0.47075239938620994 1.423454041573447\n",
            "    best_params: xmid=-11.566, scale=1.0000, deviance=130.449\n",
            "\n",
            "Fitting domain: Q13642_PF00412_99\n",
            "    len: 1048\n",
            "    esm1vfl_score range: -16.71204948425293 2.087009906768799\n",
            "    scaled_gr_tofit range: -0.5099188458522299 1.7602384951888959\n"
          ]
        },
        {
          "metadata": {
            "tags": null
          },
          "name": "stderr",
          "output_type": "stream",
          "text": [
            "<ipython-input-35-cfc9933a455f>:12: FutureWarning: Downcasting object dtype arrays on .fillna, .ffill, .bfill is deprecated and will change in a future version. Call result.infer_objects(copy=False) instead. To opt-in to the future behavior, set `pd.set_option('future.no_silent_downcasting', True)`\n",
            "  & (~mut_merged[\"STOP\"].fillna(False).astype(bool))\n",
            "<ipython-input-34-bc8a3a2bcc8a>:11: RuntimeWarning: overflow encountered in exp\n",
            "  return 1.0 / (1.0 + np.exp(-(x - xmid) / scale))\n"
          ]
        },
        {
          "metadata": {
            "tags": null
          },
          "name": "stdout",
          "output_type": "stream",
          "text": [
            "    best_params: xmid=-11.806, scale=1.0000, deviance=228.783\n",
            "\n",
            "Fitting domain: Q14151_PF02037_27\n",
            "    len: 717\n",
            "    esm1vfl_score range: -22.839540481567383 2.30964469909668\n",
            "    scaled_gr_tofit range: -0.40910843967337995 1.23195170082621\n"
          ]
        },
        {
          "metadata": {
            "tags": null
          },
          "name": "stderr",
          "output_type": "stream",
          "text": [
            "<ipython-input-35-cfc9933a455f>:12: FutureWarning: Downcasting object dtype arrays on .fillna, .ffill, .bfill is deprecated and will change in a future version. Call result.infer_objects(copy=False) instead. To opt-in to the future behavior, set `pd.set_option('future.no_silent_downcasting', True)`\n",
            "  & (~mut_merged[\"STOP\"].fillna(False).astype(bool))\n",
            "<ipython-input-34-bc8a3a2bcc8a>:11: RuntimeWarning: overflow encountered in exp\n",
            "  return 1.0 / (1.0 + np.exp(-(x - xmid) / scale))\n"
          ]
        },
        {
          "metadata": {
            "tags": null
          },
          "name": "stdout",
          "output_type": "stream",
          "text": [
            "    best_params: xmid=-12.582, scale=1.0000, deviance=100.900\n",
            "\n",
            "Fitting domain: Q14160_PF00595_857\n",
            "    len: 1776\n",
            "    esm1vfl_score range: -15.263228733323322 1.702628747618919\n",
            "    scaled_gr_tofit range: -0.19660123166688992 1.5110200314914208\n"
          ]
        },
        {
          "metadata": {
            "tags": null
          },
          "name": "stderr",
          "output_type": "stream",
          "text": [
            "<ipython-input-35-cfc9933a455f>:12: FutureWarning: Downcasting object dtype arrays on .fillna, .ffill, .bfill is deprecated and will change in a future version. Call result.infer_objects(copy=False) instead. To opt-in to the future behavior, set `pd.set_option('future.no_silent_downcasting', True)`\n",
            "  & (~mut_merged[\"STOP\"].fillna(False).astype(bool))\n",
            "<ipython-input-34-bc8a3a2bcc8a>:11: RuntimeWarning: overflow encountered in exp\n",
            "  return 1.0 / (1.0 + np.exp(-(x - xmid) / scale))\n"
          ]
        },
        {
          "metadata": {
            "tags": null
          },
          "name": "stdout",
          "output_type": "stream",
          "text": [
            "    best_params: xmid=-4.606, scale=1.0000, deviance=236.388\n",
            "\n",
            "Fitting domain: Q14192_PF00412_38\n",
            "    len: 1116\n",
            "    esm1vfl_score range: -21.755273818969727 1.480236530303955\n",
            "    scaled_gr_tofit range: -0.94758397807131 1.365896884580464\n"
          ]
        },
        {
          "metadata": {
            "tags": null
          },
          "name": "stderr",
          "output_type": "stream",
          "text": [
            "<ipython-input-35-cfc9933a455f>:12: FutureWarning: Downcasting object dtype arrays on .fillna, .ffill, .bfill is deprecated and will change in a future version. Call result.infer_objects(copy=False) instead. To opt-in to the future behavior, set `pd.set_option('future.no_silent_downcasting', True)`\n",
            "  & (~mut_merged[\"STOP\"].fillna(False).astype(bool))\n",
            "<ipython-input-34-bc8a3a2bcc8a>:11: RuntimeWarning: overflow encountered in exp\n",
            "  return 1.0 / (1.0 + np.exp(-(x - xmid) / scale))\n"
          ]
        },
        {
          "metadata": {
            "tags": null
          },
          "name": "stdout",
          "output_type": "stream",
          "text": [
            "    best_params: xmid=-14.191, scale=1.0000, deviance=434.125\n",
            "\n",
            "Fitting domain: Q14202_PF06467_350\n",
            "    len: 748\n",
            "    esm1vfl_score range: -15.96985785812154 0.4132372067273135\n",
            "    scaled_gr_tofit range: -0.8245596695897901 1.307888947941777\n"
          ]
        },
        {
          "metadata": {
            "tags": null
          },
          "name": "stderr",
          "output_type": "stream",
          "text": [
            "<ipython-input-35-cfc9933a455f>:12: FutureWarning: Downcasting object dtype arrays on .fillna, .ffill, .bfill is deprecated and will change in a future version. Call result.infer_objects(copy=False) instead. To opt-in to the future behavior, set `pd.set_option('future.no_silent_downcasting', True)`\n",
            "  & (~mut_merged[\"STOP\"].fillna(False).astype(bool))\n",
            "<ipython-input-34-bc8a3a2bcc8a>:11: RuntimeWarning: overflow encountered in exp\n",
            "  return 1.0 / (1.0 + np.exp(-(x - xmid) / scale))\n"
          ]
        },
        {
          "metadata": {
            "tags": null
          },
          "name": "stdout",
          "output_type": "stream",
          "text": [
            "    best_params: xmid=-8.213, scale=1.0000, deviance=80.521\n",
            "\n",
            "Fitting domain: Q14202_PF06467_405\n",
            "    len: 749\n",
            "    esm1vfl_score range: -15.142623675811908 -0.4523745541479824\n",
            "    scaled_gr_tofit range: -0.6622760849407601 1.47967593426514\n"
          ]
        },
        {
          "metadata": {
            "tags": null
          },
          "name": "stderr",
          "output_type": "stream",
          "text": [
            "<ipython-input-35-cfc9933a455f>:12: FutureWarning: Downcasting object dtype arrays on .fillna, .ffill, .bfill is deprecated and will change in a future version. Call result.infer_objects(copy=False) instead. To opt-in to the future behavior, set `pd.set_option('future.no_silent_downcasting', True)`\n",
            "  & (~mut_merged[\"STOP\"].fillna(False).astype(bool))\n",
            "<ipython-input-34-bc8a3a2bcc8a>:11: RuntimeWarning: overflow encountered in exp\n",
            "  return 1.0 / (1.0 + np.exp(-(x - xmid) / scale))\n"
          ]
        },
        {
          "metadata": {
            "tags": null
          },
          "name": "stdout",
          "output_type": "stream",
          "text": [
            "    best_params: xmid=-6.228, scale=1.0000, deviance=154.056\n"
          ]
        },
        {
          "metadata": {
            "tags": null
          },
          "name": "stderr",
          "output_type": "stream",
          "text": [
            "<ipython-input-35-cfc9933a455f>:12: FutureWarning: Downcasting object dtype arrays on .fillna, .ffill, .bfill is deprecated and will change in a future version. Call result.infer_objects(copy=False) instead. To opt-in to the future behavior, set `pd.set_option('future.no_silent_downcasting', True)`\n",
            "  & (~mut_merged[\"STOP\"].fillna(False).astype(bool))\n",
            "<ipython-input-34-bc8a3a2bcc8a>:11: RuntimeWarning: overflow encountered in exp\n",
            "  return 1.0 / (1.0 + np.exp(-(x - xmid) / scale))\n"
          ]
        },
        {
          "metadata": {
            "tags": null
          },
          "name": "stdout",
          "output_type": "stream",
          "text": [
            "\n",
            "Fitting domain: Q14839_PF00628_365\n",
            "    len: 984\n",
            "    esm1vfl_score range: -18.765262842178345 -0.4806461334228517\n",
            "    scaled_gr_tofit range: -0.31349979348492996 1.6537591314660771\n",
            "    best_params: xmid=-11.832, scale=1.0000, deviance=119.828\n",
            "\n",
            "Fitting domain: Q14839_PF00628_444\n",
            "    len: 989\n",
            "    esm1vfl_score range: -18.46776103952017 2.6575652102986185\n",
            "    scaled_gr_tofit range: -0.29958605199559996 1.5065201330664149\n"
          ]
        },
        {
          "metadata": {
            "tags": null
          },
          "name": "stderr",
          "output_type": "stream",
          "text": [
            "<ipython-input-35-cfc9933a455f>:12: FutureWarning: Downcasting object dtype arrays on .fillna, .ffill, .bfill is deprecated and will change in a future version. Call result.infer_objects(copy=False) instead. To opt-in to the future behavior, set `pd.set_option('future.no_silent_downcasting', True)`\n",
            "  & (~mut_merged[\"STOP\"].fillna(False).astype(bool))\n",
            "<ipython-input-34-bc8a3a2bcc8a>:11: RuntimeWarning: overflow encountered in exp\n",
            "  return 1.0 / (1.0 + np.exp(-(x - xmid) / scale))\n"
          ]
        },
        {
          "metadata": {
            "tags": null
          },
          "name": "stdout",
          "output_type": "stream",
          "text": [
            "    best_params: xmid=-10.338, scale=1.0000, deviance=113.087\n",
            "\n",
            "Fitting domain: Q14863_PF00157_139\n",
            "    len: 1711\n",
            "    esm1vfl_score range: -24.7100830078125 -0.4628324806690216\n",
            "    scaled_gr_tofit range: -0.69236241376915 1.603586536564362\n"
          ]
        },
        {
          "metadata": {
            "tags": null
          },
          "name": "stderr",
          "output_type": "stream",
          "text": [
            "<ipython-input-35-cfc9933a455f>:12: FutureWarning: Downcasting object dtype arrays on .fillna, .ffill, .bfill is deprecated and will change in a future version. Call result.infer_objects(copy=False) instead. To opt-in to the future behavior, set `pd.set_option('future.no_silent_downcasting', True)`\n",
            "  & (~mut_merged[\"STOP\"].fillna(False).astype(bool))\n",
            "<ipython-input-34-bc8a3a2bcc8a>:11: RuntimeWarning: overflow encountered in exp\n",
            "  return 1.0 / (1.0 + np.exp(-(x - xmid) / scale))\n"
          ]
        },
        {
          "metadata": {
            "tags": null
          },
          "name": "stdout",
          "output_type": "stream",
          "text": [
            "    best_params: xmid=-15.936, scale=1.0000, deviance=763.481\n"
          ]
        },
        {
          "metadata": {
            "tags": null
          },
          "name": "stderr",
          "output_type": "stream",
          "text": [
            "<ipython-input-35-cfc9933a455f>:12: FutureWarning: Downcasting object dtype arrays on .fillna, .ffill, .bfill is deprecated and will change in a future version. Call result.infer_objects(copy=False) instead. To opt-in to the future behavior, set `pd.set_option('future.no_silent_downcasting', True)`\n",
            "  & (~mut_merged[\"STOP\"].fillna(False).astype(bool))\n",
            "<ipython-input-34-bc8a3a2bcc8a>:11: RuntimeWarning: overflow encountered in exp\n",
            "  return 1.0 / (1.0 + np.exp(-(x - xmid) / scale))\n"
          ]
        },
        {
          "metadata": {
            "tags": null
          },
          "name": "stdout",
          "output_type": "stream",
          "text": [
            "\n",
            "Fitting domain: Q14995_PF00105_103\n",
            "    len: 1031\n",
            "    esm1vfl_score range: -24.08009910583496 -3.0853347778320312\n",
            "    scaled_gr_tofit range: -0.26545019338435005 1.565413544966607\n",
            "    best_params: xmid=-14.650, scale=1.0000, deviance=251.786\n",
            "\n",
            "Fitting domain: Q14CM0_PF00595_75\n",
            "    len: 1428\n",
            "    esm1vfl_score range: -16.334784984588623 1.277378797531128\n",
            "    scaled_gr_tofit range: -0.31956817407172 1.157072566470468\n"
          ]
        },
        {
          "metadata": {
            "tags": null
          },
          "name": "stderr",
          "output_type": "stream",
          "text": [
            "<ipython-input-35-cfc9933a455f>:12: FutureWarning: Downcasting object dtype arrays on .fillna, .ffill, .bfill is deprecated and will change in a future version. Call result.infer_objects(copy=False) instead. To opt-in to the future behavior, set `pd.set_option('future.no_silent_downcasting', True)`\n",
            "  & (~mut_merged[\"STOP\"].fillna(False).astype(bool))\n",
            "<ipython-input-34-bc8a3a2bcc8a>:11: RuntimeWarning: overflow encountered in exp\n",
            "  return 1.0 / (1.0 + np.exp(-(x - xmid) / scale))\n"
          ]
        },
        {
          "metadata": {
            "tags": null
          },
          "name": "stdout",
          "output_type": "stream",
          "text": [
            "    best_params: xmid=-7.128, scale=1.0000, deviance=86.436\n",
            "\n",
            "Fitting domain: Q14CS0_PF00789_256\n",
            "    len: 1293\n",
            "    esm1vfl_score range: -19.42086601257324 1.528266191482544\n",
            "    scaled_gr_tofit range: -0.30522815524639 1.640457348360784\n"
          ]
        },
        {
          "metadata": {
            "tags": null
          },
          "name": "stderr",
          "output_type": "stream",
          "text": [
            "<ipython-input-35-cfc9933a455f>:12: FutureWarning: Downcasting object dtype arrays on .fillna, .ffill, .bfill is deprecated and will change in a future version. Call result.infer_objects(copy=False) instead. To opt-in to the future behavior, set `pd.set_option('future.no_silent_downcasting', True)`\n",
            "  & (~mut_merged[\"STOP\"].fillna(False).astype(bool))\n",
            "<ipython-input-34-bc8a3a2bcc8a>:11: RuntimeWarning: overflow encountered in exp\n",
            "  return 1.0 / (1.0 + np.exp(-(x - xmid) / scale))\n"
          ]
        },
        {
          "metadata": {
            "tags": null
          },
          "name": "stdout",
          "output_type": "stream",
          "text": [
            "    best_params: xmid=-6.824, scale=1.0000, deviance=390.167\n",
            "\n",
            "Fitting domain: Q15319_PF00157_185\n",
            "    len: 907\n",
            "    esm1vfl_score range: -23.68745803833008 -1.6355314254760742\n",
            "    scaled_gr_tofit range: -0.2570349043718201 1.294470399681882\n"
          ]
        },
        {
          "metadata": {
            "tags": null
          },
          "name": "stderr",
          "output_type": "stream",
          "text": [
            "<ipython-input-35-cfc9933a455f>:12: FutureWarning: Downcasting object dtype arrays on .fillna, .ffill, .bfill is deprecated and will change in a future version. Call result.infer_objects(copy=False) instead. To opt-in to the future behavior, set `pd.set_option('future.no_silent_downcasting', True)`\n",
            "  & (~mut_merged[\"STOP\"].fillna(False).astype(bool))\n",
            "<ipython-input-34-bc8a3a2bcc8a>:11: RuntimeWarning: overflow encountered in exp\n",
            "  return 1.0 / (1.0 + np.exp(-(x - xmid) / scale))\n"
          ]
        },
        {
          "metadata": {
            "tags": null
          },
          "name": "stdout",
          "output_type": "stream",
          "text": [
            "    best_params: xmid=-15.866, scale=1.0000, deviance=90.184\n",
            "\n",
            "Fitting domain: Q15365_PF00013_278\n",
            "    len: 1346\n",
            "    esm1vfl_score range: -20.66965103149414 3.8403573036193848\n",
            "    scaled_gr_tofit range: -0.46532070593547004 1.411482304859293\n"
          ]
        },
        {
          "metadata": {
            "tags": null
          },
          "name": "stderr",
          "output_type": "stream",
          "text": [
            "<ipython-input-35-cfc9933a455f>:12: FutureWarning: Downcasting object dtype arrays on .fillna, .ffill, .bfill is deprecated and will change in a future version. Call result.infer_objects(copy=False) instead. To opt-in to the future behavior, set `pd.set_option('future.no_silent_downcasting', True)`\n",
            "  & (~mut_merged[\"STOP\"].fillna(False).astype(bool))\n",
            "<ipython-input-34-bc8a3a2bcc8a>:11: RuntimeWarning: overflow encountered in exp\n",
            "  return 1.0 / (1.0 + np.exp(-(x - xmid) / scale))\n"
          ]
        },
        {
          "metadata": {
            "tags": null
          },
          "name": "stdout",
          "output_type": "stream",
          "text": [
            "    best_params: xmid=-13.480, scale=1.0000, deviance=199.629\n",
            "\n",
            "Fitting domain: Q15424_PF02037_26\n",
            "    len: 1017\n",
            "    esm1vfl_score range: -23.194095611572266 4.553670406341553\n",
            "    scaled_gr_tofit range: -0.7175226165645201 1.0697027621167507\n"
          ]
        },
        {
          "metadata": {
            "tags": null
          },
          "name": "stderr",
          "output_type": "stream",
          "text": [
            "<ipython-input-35-cfc9933a455f>:12: FutureWarning: Downcasting object dtype arrays on .fillna, .ffill, .bfill is deprecated and will change in a future version. Call result.infer_objects(copy=False) instead. To opt-in to the future behavior, set `pd.set_option('future.no_silent_downcasting', True)`\n",
            "  & (~mut_merged[\"STOP\"].fillna(False).astype(bool))\n",
            "<ipython-input-34-bc8a3a2bcc8a>:11: RuntimeWarning: overflow encountered in exp\n",
            "  return 1.0 / (1.0 + np.exp(-(x - xmid) / scale))\n"
          ]
        },
        {
          "metadata": {
            "tags": null
          },
          "name": "stdout",
          "output_type": "stream",
          "text": [
            "    best_params: xmid=-13.267, scale=1.0000, deviance=173.523\n",
            "\n",
            "Fitting domain: Q15475_PF00046_131\n",
            "    len: 885\n",
            "    esm1vfl_score range: -24.26339340209961 -0.4808658957481384\n",
            "    scaled_gr_tofit range: -0.17364499118166 1.397574685771003\n"
          ]
        },
        {
          "metadata": {
            "tags": null
          },
          "name": "stderr",
          "output_type": "stream",
          "text": [
            "<ipython-input-35-cfc9933a455f>:12: FutureWarning: Downcasting object dtype arrays on .fillna, .ffill, .bfill is deprecated and will change in a future version. Call result.infer_objects(copy=False) instead. To opt-in to the future behavior, set `pd.set_option('future.no_silent_downcasting', True)`\n",
            "  & (~mut_merged[\"STOP\"].fillna(False).astype(bool))\n",
            "<ipython-input-34-bc8a3a2bcc8a>:11: RuntimeWarning: overflow encountered in exp\n",
            "  return 1.0 / (1.0 + np.exp(-(x - xmid) / scale))\n"
          ]
        },
        {
          "metadata": {
            "tags": null
          },
          "name": "stdout",
          "output_type": "stream",
          "text": [
            "    best_params: xmid=-14.431, scale=1.0000, deviance=123.587\n",
            "\n",
            "Fitting domain: Q15554_PF00249_489\n",
            "    len: 976\n",
            "    esm1vfl_score range: -22.501922607421875 1.1885061264038086\n",
            "    scaled_gr_tofit range: -0.19798418878648993 1.54403773434841\n"
          ]
        },
        {
          "metadata": {
            "tags": null
          },
          "name": "stderr",
          "output_type": "stream",
          "text": [
            "<ipython-input-35-cfc9933a455f>:12: FutureWarning: Downcasting object dtype arrays on .fillna, .ffill, .bfill is deprecated and will change in a future version. Call result.infer_objects(copy=False) instead. To opt-in to the future behavior, set `pd.set_option('future.no_silent_downcasting', True)`\n",
            "  & (~mut_merged[\"STOP\"].fillna(False).astype(bool))\n",
            "<ipython-input-34-bc8a3a2bcc8a>:11: RuntimeWarning: overflow encountered in exp\n",
            "  return 1.0 / (1.0 + np.exp(-(x - xmid) / scale))\n"
          ]
        },
        {
          "metadata": {
            "tags": null
          },
          "name": "stdout",
          "output_type": "stream",
          "text": [
            "    best_params: xmid=-11.970, scale=1.0000, deviance=184.181\n",
            "\n",
            "Fitting domain: Q15699_PF00046_134\n",
            "    len: 1057\n",
            "    esm1vfl_score range: -23.901552200317383 2.641251564025879\n",
            "    scaled_gr_tofit range: -0.25582445236353 1.457870585739521\n"
          ]
        },
        {
          "metadata": {
            "tags": null
          },
          "name": "stderr",
          "output_type": "stream",
          "text": [
            "<ipython-input-35-cfc9933a455f>:12: FutureWarning: Downcasting object dtype arrays on .fillna, .ffill, .bfill is deprecated and will change in a future version. Call result.infer_objects(copy=False) instead. To opt-in to the future behavior, set `pd.set_option('future.no_silent_downcasting', True)`\n",
            "  & (~mut_merged[\"STOP\"].fillna(False).astype(bool))\n",
            "<ipython-input-34-bc8a3a2bcc8a>:11: RuntimeWarning: overflow encountered in exp\n",
            "  return 1.0 / (1.0 + np.exp(-(x - xmid) / scale))\n"
          ]
        },
        {
          "metadata": {
            "tags": null
          },
          "name": "stdout",
          "output_type": "stream",
          "text": [
            "    best_params: xmid=-13.554, scale=1.0000, deviance=238.473\n",
            "\n",
            "Fitting domain: Q15942_PF00412_504\n",
            "    len: 1214\n",
            "    esm1vfl_score range: -23.18273162841797 0.9594755172729492\n",
            "    scaled_gr_tofit range: -0.5270383324955401 1.208578727493667\n"
          ]
        },
        {
          "metadata": {
            "tags": null
          },
          "name": "stderr",
          "output_type": "stream",
          "text": [
            "<ipython-input-35-cfc9933a455f>:12: FutureWarning: Downcasting object dtype arrays on .fillna, .ffill, .bfill is deprecated and will change in a future version. Call result.infer_objects(copy=False) instead. To opt-in to the future behavior, set `pd.set_option('future.no_silent_downcasting', True)`\n",
            "  & (~mut_merged[\"STOP\"].fillna(False).astype(bool))\n",
            "<ipython-input-34-bc8a3a2bcc8a>:11: RuntimeWarning: overflow encountered in exp\n",
            "  return 1.0 / (1.0 + np.exp(-(x - xmid) / scale))\n"
          ]
        },
        {
          "metadata": {
            "tags": null
          },
          "name": "stdout",
          "output_type": "stream",
          "text": [
            "    best_params: xmid=-14.784, scale=1.0000, deviance=162.200\n",
            "\n",
            "Fitting domain: Q1KMD3_PF02037_1\n",
            "    len: 706\n",
            "    esm1vfl_score range: -22.084861755371094 -0.4968404173851013\n",
            "    scaled_gr_tofit range: -0.6469940250491599 1.347791608122476\n"
          ]
        },
        {
          "metadata": {
            "tags": null
          },
          "name": "stderr",
          "output_type": "stream",
          "text": [
            "<ipython-input-35-cfc9933a455f>:12: FutureWarning: Downcasting object dtype arrays on .fillna, .ffill, .bfill is deprecated and will change in a future version. Call result.infer_objects(copy=False) instead. To opt-in to the future behavior, set `pd.set_option('future.no_silent_downcasting', True)`\n",
            "  & (~mut_merged[\"STOP\"].fillna(False).astype(bool))\n",
            "<ipython-input-34-bc8a3a2bcc8a>:11: RuntimeWarning: overflow encountered in exp\n",
            "  return 1.0 / (1.0 + np.exp(-(x - xmid) / scale))\n"
          ]
        },
        {
          "metadata": {
            "tags": null
          },
          "name": "stdout",
          "output_type": "stream",
          "text": [
            "    best_params: xmid=-12.079, scale=1.0000, deviance=193.492\n",
            "\n",
            "Fitting domain: Q2Q1W2_PF00643_274\n",
            "    len: 761\n",
            "    esm1vfl_score range: -17.454147338867188 -0.1290667057037353\n",
            "    scaled_gr_tofit range: -0.31129046039417996 1.351343842409968\n"
          ]
        },
        {
          "metadata": {
            "tags": null
          },
          "name": "stderr",
          "output_type": "stream",
          "text": [
            "<ipython-input-35-cfc9933a455f>:12: FutureWarning: Downcasting object dtype arrays on .fillna, .ffill, .bfill is deprecated and will change in a future version. Call result.infer_objects(copy=False) instead. To opt-in to the future behavior, set `pd.set_option('future.no_silent_downcasting', True)`\n",
            "  & (~mut_merged[\"STOP\"].fillna(False).astype(bool))\n",
            "<ipython-input-34-bc8a3a2bcc8a>:11: RuntimeWarning: overflow encountered in exp\n",
            "  return 1.0 / (1.0 + np.exp(-(x - xmid) / scale))\n"
          ]
        },
        {
          "metadata": {
            "tags": null
          },
          "name": "stdout",
          "output_type": "stream",
          "text": [
            "    best_params: xmid=-9.825, scale=1.0000, deviance=62.491\n",
            "\n",
            "Fitting domain: Q5F1R6_PF12171_315\n",
            "    len: 473\n",
            "    esm1vfl_score range: -17.41101837158203 0.5698578357696533\n",
            "    scaled_gr_tofit range: -0.56357340914612 1.428974831973971\n"
          ]
        },
        {
          "metadata": {
            "tags": null
          },
          "name": "stderr",
          "output_type": "stream",
          "text": [
            "<ipython-input-35-cfc9933a455f>:12: FutureWarning: Downcasting object dtype arrays on .fillna, .ffill, .bfill is deprecated and will change in a future version. Call result.infer_objects(copy=False) instead. To opt-in to the future behavior, set `pd.set_option('future.no_silent_downcasting', True)`\n",
            "  & (~mut_merged[\"STOP\"].fillna(False).astype(bool))\n",
            "<ipython-input-34-bc8a3a2bcc8a>:11: RuntimeWarning: overflow encountered in exp\n",
            "  return 1.0 / (1.0 + np.exp(-(x - xmid) / scale))\n"
          ]
        },
        {
          "metadata": {
            "tags": null
          },
          "name": "stdout",
          "output_type": "stream",
          "text": [
            "    best_params: xmid=-9.260, scale=1.0000, deviance=167.598\n",
            "\n",
            "Fitting domain: Q5HYK7_PF00018_664\n",
            "    len: 995\n",
            "    esm1vfl_score range: -23.93505859375 3.810248374938965\n",
            "    scaled_gr_tofit range: -0.12578857226616003 1.386485171865014\n"
          ]
        },
        {
          "metadata": {
            "tags": null
          },
          "name": "stderr",
          "output_type": "stream",
          "text": [
            "<ipython-input-35-cfc9933a455f>:12: FutureWarning: Downcasting object dtype arrays on .fillna, .ffill, .bfill is deprecated and will change in a future version. Call result.infer_objects(copy=False) instead. To opt-in to the future behavior, set `pd.set_option('future.no_silent_downcasting', True)`\n",
            "  & (~mut_merged[\"STOP\"].fillna(False).astype(bool))\n",
            "<ipython-input-34-bc8a3a2bcc8a>:11: RuntimeWarning: overflow encountered in exp\n",
            "  return 1.0 / (1.0 + np.exp(-(x - xmid) / scale))\n"
          ]
        },
        {
          "metadata": {
            "tags": null
          },
          "name": "stdout",
          "output_type": "stream",
          "text": [
            "    best_params: xmid=-9.817, scale=1.0000, deviance=112.458\n",
            "\n",
            "Fitting domain: Q5SQQ9_PF00046_102\n",
            "    len: 936\n",
            "    esm1vfl_score range: -24.720996856689453 -2.3151721954345703\n",
            "    scaled_gr_tofit range: -0.20496138710051004 1.555959481837587\n"
          ]
        },
        {
          "metadata": {
            "tags": null
          },
          "name": "stderr",
          "output_type": "stream",
          "text": [
            "<ipython-input-35-cfc9933a455f>:12: FutureWarning: Downcasting object dtype arrays on .fillna, .ffill, .bfill is deprecated and will change in a future version. Call result.infer_objects(copy=False) instead. To opt-in to the future behavior, set `pd.set_option('future.no_silent_downcasting', True)`\n",
            "  & (~mut_merged[\"STOP\"].fillna(False).astype(bool))\n",
            "<ipython-input-34-bc8a3a2bcc8a>:11: RuntimeWarning: overflow encountered in exp\n",
            "  return 1.0 / (1.0 + np.exp(-(x - xmid) / scale))\n"
          ]
        },
        {
          "metadata": {
            "tags": null
          },
          "name": "stdout",
          "output_type": "stream",
          "text": [
            "    best_params: xmid=-15.822, scale=1.0000, deviance=195.507\n",
            "\n",
            "Fitting domain: Q5TCQ9_PF00397_287\n",
            "    len: 691\n",
            "    esm1vfl_score range: -21.1751070022583 3.852726697921753\n",
            "    scaled_gr_tofit range: -0.2733967698303901 1.143828419653808\n"
          ]
        },
        {
          "metadata": {
            "tags": null
          },
          "name": "stderr",
          "output_type": "stream",
          "text": [
            "<ipython-input-35-cfc9933a455f>:12: FutureWarning: Downcasting object dtype arrays on .fillna, .ffill, .bfill is deprecated and will change in a future version. Call result.infer_objects(copy=False) instead. To opt-in to the future behavior, set `pd.set_option('future.no_silent_downcasting', True)`\n",
            "  & (~mut_merged[\"STOP\"].fillna(False).astype(bool))\n",
            "<ipython-input-34-bc8a3a2bcc8a>:11: RuntimeWarning: overflow encountered in exp\n",
            "  return 1.0 / (1.0 + np.exp(-(x - xmid) / scale))\n"
          ]
        },
        {
          "metadata": {
            "tags": null
          },
          "name": "stdout",
          "output_type": "stream",
          "text": [
            "    best_params: xmid=-11.643, scale=1.0000, deviance=40.108\n",
            "\n",
            "Fitting domain: Q5U5Q3_PF00013_325\n",
            "    len: 1237\n",
            "    esm1vfl_score range: -23.237781524658203 -0.3705716133117676\n",
            "    scaled_gr_tofit range: -0.34435146345553 1.475696555574556\n"
          ]
        },
        {
          "metadata": {
            "tags": null
          },
          "name": "stderr",
          "output_type": "stream",
          "text": [
            "<ipython-input-35-cfc9933a455f>:12: FutureWarning: Downcasting object dtype arrays on .fillna, .ffill, .bfill is deprecated and will change in a future version. Call result.infer_objects(copy=False) instead. To opt-in to the future behavior, set `pd.set_option('future.no_silent_downcasting', True)`\n",
            "  & (~mut_merged[\"STOP\"].fillna(False).astype(bool))\n",
            "<ipython-input-34-bc8a3a2bcc8a>:11: RuntimeWarning: overflow encountered in exp\n",
            "  return 1.0 / (1.0 + np.exp(-(x - xmid) / scale))\n"
          ]
        },
        {
          "metadata": {
            "tags": null
          },
          "name": "stdout",
          "output_type": "stream",
          "text": [
            "    best_params: xmid=-13.741, scale=1.0000, deviance=291.937\n",
            "\n",
            "Fitting domain: Q5VTD9_PF00096_221\n",
            "    len: 416\n",
            "    esm1vfl_score range: -23.66216468811035 -0.7558913230895996\n",
            "    scaled_gr_tofit range: -0.28749771451603 1.716679919593499\n"
          ]
        },
        {
          "metadata": {
            "tags": null
          },
          "name": "stderr",
          "output_type": "stream",
          "text": [
            "<ipython-input-35-cfc9933a455f>:12: FutureWarning: Downcasting object dtype arrays on .fillna, .ffill, .bfill is deprecated and will change in a future version. Call result.infer_objects(copy=False) instead. To opt-in to the future behavior, set `pd.set_option('future.no_silent_downcasting', True)`\n",
            "  & (~mut_merged[\"STOP\"].fillna(False).astype(bool))\n",
            "<ipython-input-34-bc8a3a2bcc8a>:11: RuntimeWarning: overflow encountered in exp\n",
            "  return 1.0 / (1.0 + np.exp(-(x - xmid) / scale))\n"
          ]
        },
        {
          "metadata": {
            "tags": null
          },
          "name": "stdout",
          "output_type": "stream",
          "text": [
            "    best_params: xmid=-17.448, scale=1.0000, deviance=151.914\n",
            "\n",
            "Fitting domain: Q5VVJ2_PF00249_120\n",
            "    len: 799\n",
            "    esm1vfl_score range: -16.538257598876953 0.0091023445129394\n",
            "    scaled_gr_tofit range: -0.58427884571713 1.687738608412661\n"
          ]
        },
        {
          "metadata": {
            "tags": null
          },
          "name": "stderr",
          "output_type": "stream",
          "text": [
            "<ipython-input-35-cfc9933a455f>:12: FutureWarning: Downcasting object dtype arrays on .fillna, .ffill, .bfill is deprecated and will change in a future version. Call result.infer_objects(copy=False) instead. To opt-in to the future behavior, set `pd.set_option('future.no_silent_downcasting', True)`\n",
            "  & (~mut_merged[\"STOP\"].fillna(False).astype(bool))\n",
            "<ipython-input-34-bc8a3a2bcc8a>:11: RuntimeWarning: overflow encountered in exp\n",
            "  return 1.0 / (1.0 + np.exp(-(x - xmid) / scale))\n"
          ]
        },
        {
          "metadata": {
            "tags": null
          },
          "name": "stdout",
          "output_type": "stream",
          "text": [
            "    best_params: xmid=-7.949, scale=1.0000, deviance=287.353\n"
          ]
        },
        {
          "metadata": {
            "tags": null
          },
          "name": "stderr",
          "output_type": "stream",
          "text": [
            "<ipython-input-35-cfc9933a455f>:12: FutureWarning: Downcasting object dtype arrays on .fillna, .ffill, .bfill is deprecated and will change in a future version. Call result.infer_objects(copy=False) instead. To opt-in to the future behavior, set `pd.set_option('future.no_silent_downcasting', True)`\n",
            "  & (~mut_merged[\"STOP\"].fillna(False).astype(bool))\n",
            "<ipython-input-34-bc8a3a2bcc8a>:11: RuntimeWarning: overflow encountered in exp\n",
            "  return 1.0 / (1.0 + np.exp(-(x - xmid) / scale))\n"
          ]
        },
        {
          "metadata": {
            "tags": null
          },
          "name": "stdout",
          "output_type": "stream",
          "text": [
            "\n",
            "Fitting domain: Q5VWI1_PF01846_448\n",
            "    len: 1020\n",
            "    esm1vfl_score range: -22.227724075317383 -1.2163047790527344\n",
            "    scaled_gr_tofit range: -0.29847913115983005 2.58399503646466\n",
            "    best_params: xmid=-13.353, scale=1.0000, deviance=911.963\n",
            "\n",
            "Fitting domain: Q61234_PF00595_80\n",
            "    len: 1500\n",
            "    esm1vfl_score range: -23.755613327026367 1.0187397003173828\n",
            "    scaled_gr_tofit range: -0.4545623450374501 1.362677051571251\n"
          ]
        },
        {
          "metadata": {
            "tags": null
          },
          "name": "stderr",
          "output_type": "stream",
          "text": [
            "<ipython-input-35-cfc9933a455f>:12: FutureWarning: Downcasting object dtype arrays on .fillna, .ffill, .bfill is deprecated and will change in a future version. Call result.infer_objects(copy=False) instead. To opt-in to the future behavior, set `pd.set_option('future.no_silent_downcasting', True)`\n",
            "  & (~mut_merged[\"STOP\"].fillna(False).astype(bool))\n",
            "<ipython-input-34-bc8a3a2bcc8a>:11: RuntimeWarning: overflow encountered in exp\n",
            "  return 1.0 / (1.0 + np.exp(-(x - xmid) / scale))\n"
          ]
        },
        {
          "metadata": {
            "tags": null
          },
          "name": "stdout",
          "output_type": "stream",
          "text": [
            "    best_params: xmid=-11.829, scale=1.0000, deviance=330.716\n",
            "\n",
            "Fitting domain: Q68DC2_PF00536_774\n",
            "    len: 1152\n",
            "    esm1vfl_score range: -23.99444580078125 -1.9451971054077148\n",
            "    scaled_gr_tofit range: -0.42332702018241 1.564565750677285\n"
          ]
        },
        {
          "metadata": {
            "tags": null
          },
          "name": "stderr",
          "output_type": "stream",
          "text": [
            "<ipython-input-35-cfc9933a455f>:12: FutureWarning: Downcasting object dtype arrays on .fillna, .ffill, .bfill is deprecated and will change in a future version. Call result.infer_objects(copy=False) instead. To opt-in to the future behavior, set `pd.set_option('future.no_silent_downcasting', True)`\n",
            "  & (~mut_merged[\"STOP\"].fillna(False).astype(bool))\n",
            "<ipython-input-34-bc8a3a2bcc8a>:11: RuntimeWarning: overflow encountered in exp\n",
            "  return 1.0 / (1.0 + np.exp(-(x - xmid) / scale))\n"
          ]
        },
        {
          "metadata": {
            "tags": null
          },
          "name": "stdout",
          "output_type": "stream",
          "text": [
            "    best_params: xmid=-15.726, scale=1.0000, deviance=267.242\n",
            "\n",
            "Fitting domain: Q6NWY9_PF01846_274\n",
            "    len: 1078\n",
            "    esm1vfl_score range: -22.027626037597656 0.384188175201416\n",
            "    scaled_gr_tofit range: -0.5905426400580001 1.342565770139794\n"
          ]
        },
        {
          "metadata": {
            "tags": null
          },
          "name": "stderr",
          "output_type": "stream",
          "text": [
            "<ipython-input-35-cfc9933a455f>:12: FutureWarning: Downcasting object dtype arrays on .fillna, .ffill, .bfill is deprecated and will change in a future version. Call result.infer_objects(copy=False) instead. To opt-in to the future behavior, set `pd.set_option('future.no_silent_downcasting', True)`\n",
            "  & (~mut_merged[\"STOP\"].fillna(False).astype(bool))\n",
            "<ipython-input-34-bc8a3a2bcc8a>:11: RuntimeWarning: overflow encountered in exp\n",
            "  return 1.0 / (1.0 + np.exp(-(x - xmid) / scale))\n"
          ]
        },
        {
          "metadata": {
            "tags": null
          },
          "name": "stdout",
          "output_type": "stream",
          "text": [
            "    best_params: xmid=-12.497, scale=1.0000, deviance=305.882\n",
            "\n",
            "Fitting domain: Q6XZF7_PF00018_146\n",
            "    len: 942\n",
            "    esm1vfl_score range: -18.24033546447754 1.1711266040802002\n",
            "    scaled_gr_tofit range: -0.1984569530815099 1.5120713375608719\n"
          ]
        },
        {
          "metadata": {
            "tags": null
          },
          "name": "stderr",
          "output_type": "stream",
          "text": [
            "<ipython-input-35-cfc9933a455f>:12: FutureWarning: Downcasting object dtype arrays on .fillna, .ffill, .bfill is deprecated and will change in a future version. Call result.infer_objects(copy=False) instead. To opt-in to the future behavior, set `pd.set_option('future.no_silent_downcasting', True)`\n",
            "  & (~mut_merged[\"STOP\"].fillna(False).astype(bool))\n",
            "<ipython-input-34-bc8a3a2bcc8a>:11: RuntimeWarning: overflow encountered in exp\n",
            "  return 1.0 / (1.0 + np.exp(-(x - xmid) / scale))\n"
          ]
        },
        {
          "metadata": {
            "tags": null
          },
          "name": "stdout",
          "output_type": "stream",
          "text": [
            "    best_params: xmid=-5.473, scale=1.0000, deviance=150.281\n",
            "\n",
            "Fitting domain: Q6XZF7_PF00018_242\n",
            "    len: 1197\n",
            "    esm1vfl_score range: -17.778117179870605 1.950288374345098\n",
            "    scaled_gr_tofit range: -0.27379310359172004 1.622498601893192\n"
          ]
        },
        {
          "metadata": {
            "tags": null
          },
          "name": "stderr",
          "output_type": "stream",
          "text": [
            "<ipython-input-35-cfc9933a455f>:12: FutureWarning: Downcasting object dtype arrays on .fillna, .ffill, .bfill is deprecated and will change in a future version. Call result.infer_objects(copy=False) instead. To opt-in to the future behavior, set `pd.set_option('future.no_silent_downcasting', True)`\n",
            "  & (~mut_merged[\"STOP\"].fillna(False).astype(bool))\n",
            "<ipython-input-34-bc8a3a2bcc8a>:11: RuntimeWarning: overflow encountered in exp\n",
            "  return 1.0 / (1.0 + np.exp(-(x - xmid) / scale))\n"
          ]
        },
        {
          "metadata": {
            "tags": null
          },
          "name": "stdout",
          "output_type": "stream",
          "text": [
            "    best_params: xmid=-6.580, scale=1.0000, deviance=187.888\n",
            "\n",
            "Fitting domain: Q6XZF7_PF14604_147\n",
            "    len: 1082\n",
            "    esm1vfl_score range: -18.24033546447754 1.1711266040802002\n",
            "    scaled_gr_tofit range: -0.28848160290037006 1.403932814358604\n"
          ]
        },
        {
          "metadata": {
            "tags": null
          },
          "name": "stderr",
          "output_type": "stream",
          "text": [
            "<ipython-input-35-cfc9933a455f>:12: FutureWarning: Downcasting object dtype arrays on .fillna, .ffill, .bfill is deprecated and will change in a future version. Call result.infer_objects(copy=False) instead. To opt-in to the future behavior, set `pd.set_option('future.no_silent_downcasting', True)`\n",
            "  & (~mut_merged[\"STOP\"].fillna(False).astype(bool))\n",
            "<ipython-input-34-bc8a3a2bcc8a>:11: RuntimeWarning: overflow encountered in exp\n",
            "  return 1.0 / (1.0 + np.exp(-(x - xmid) / scale))\n"
          ]
        },
        {
          "metadata": {
            "tags": null
          },
          "name": "stdout",
          "output_type": "stream",
          "text": [
            "    best_params: xmid=-5.834, scale=1.0000, deviance=142.899\n",
            "\n",
            "Fitting domain: Q6ZN01_PF02037_170\n",
            "    len: 508\n",
            "    esm1vfl_score range: -20.012989044189453 2.1901063919067383\n",
            "    scaled_gr_tofit range: -0.28642121933642994 1.298292676008698\n"
          ]
        },
        {
          "metadata": {
            "tags": null
          },
          "name": "stderr",
          "output_type": "stream",
          "text": [
            "<ipython-input-35-cfc9933a455f>:12: FutureWarning: Downcasting object dtype arrays on .fillna, .ffill, .bfill is deprecated and will change in a future version. Call result.infer_objects(copy=False) instead. To opt-in to the future behavior, set `pd.set_option('future.no_silent_downcasting', True)`\n",
            "  & (~mut_merged[\"STOP\"].fillna(False).astype(bool))\n",
            "<ipython-input-34-bc8a3a2bcc8a>:11: RuntimeWarning: overflow encountered in exp\n",
            "  return 1.0 / (1.0 + np.exp(-(x - xmid) / scale))\n"
          ]
        },
        {
          "metadata": {
            "tags": null
          },
          "name": "stdout",
          "output_type": "stream",
          "text": [
            "    best_params: xmid=-12.018, scale=1.0000, deviance=86.168\n",
            "\n",
            "Fitting domain: Q6ZSG1_PF13639_293\n",
            "    len: 771\n",
            "    esm1vfl_score range: -22.88770866394043 0.3270220756530761\n",
            "    scaled_gr_tofit range: -0.3291349615063299 1.334398774070763\n"
          ]
        },
        {
          "metadata": {
            "tags": null
          },
          "name": "stderr",
          "output_type": "stream",
          "text": [
            "<ipython-input-35-cfc9933a455f>:12: FutureWarning: Downcasting object dtype arrays on .fillna, .ffill, .bfill is deprecated and will change in a future version. Call result.infer_objects(copy=False) instead. To opt-in to the future behavior, set `pd.set_option('future.no_silent_downcasting', True)`\n",
            "  & (~mut_merged[\"STOP\"].fillna(False).astype(bool))\n",
            "<ipython-input-34-bc8a3a2bcc8a>:11: RuntimeWarning: overflow encountered in exp\n",
            "  return 1.0 / (1.0 + np.exp(-(x - xmid) / scale))\n"
          ]
        },
        {
          "metadata": {
            "tags": null
          },
          "name": "stdout",
          "output_type": "stream",
          "text": [
            "    best_params: xmid=-13.197, scale=1.0000, deviance=116.494\n",
            "\n",
            "Fitting domain: Q6ZVD7_PF10264_112\n",
            "    len: 1417\n",
            "    esm1vfl_score range: -21.07477760314941 3.699160575866699\n",
            "    scaled_gr_tofit range: -0.21445402185081996 1.302824659230053\n"
          ]
        },
        {
          "metadata": {
            "tags": null
          },
          "name": "stderr",
          "output_type": "stream",
          "text": [
            "<ipython-input-35-cfc9933a455f>:12: FutureWarning: Downcasting object dtype arrays on .fillna, .ffill, .bfill is deprecated and will change in a future version. Call result.infer_objects(copy=False) instead. To opt-in to the future behavior, set `pd.set_option('future.no_silent_downcasting', True)`\n",
            "  & (~mut_merged[\"STOP\"].fillna(False).astype(bool))\n",
            "<ipython-input-34-bc8a3a2bcc8a>:11: RuntimeWarning: overflow encountered in exp\n",
            "  return 1.0 / (1.0 + np.exp(-(x - xmid) / scale))\n"
          ]
        },
        {
          "metadata": {
            "tags": null
          },
          "name": "stdout",
          "output_type": "stream",
          "text": [
            "    best_params: xmid=-12.777, scale=1.0000, deviance=151.476\n",
            "\n",
            "Fitting domain: Q6ZWJ1_PF00397_493\n",
            "    len: 869\n",
            "    esm1vfl_score range: -20.70670318603516 -0.3187479972839355\n",
            "    scaled_gr_tofit range: -0.37257431160003995 2.09253151423553\n"
          ]
        },
        {
          "metadata": {
            "tags": null
          },
          "name": "stderr",
          "output_type": "stream",
          "text": [
            "<ipython-input-35-cfc9933a455f>:12: FutureWarning: Downcasting object dtype arrays on .fillna, .ffill, .bfill is deprecated and will change in a future version. Call result.infer_objects(copy=False) instead. To opt-in to the future behavior, set `pd.set_option('future.no_silent_downcasting', True)`\n",
            "  & (~mut_merged[\"STOP\"].fillna(False).astype(bool))\n",
            "<ipython-input-34-bc8a3a2bcc8a>:11: RuntimeWarning: overflow encountered in exp\n",
            "  return 1.0 / (1.0 + np.exp(-(x - xmid) / scale))\n"
          ]
        },
        {
          "metadata": {
            "tags": null
          },
          "name": "stdout",
          "output_type": "stream",
          "text": [
            "    best_params: xmid=-10.243, scale=1.0000, deviance=460.777\n",
            "\n",
            "Fitting domain: Q7L590_PF09329_383\n",
            "    len: 680\n",
            "    esm1vfl_score range: -14.787489891052246 0.7321232557296753\n",
            "    scaled_gr_tofit range: -0.3892308501961801 1.429659933908978\n"
          ]
        },
        {
          "metadata": {
            "tags": null
          },
          "name": "stderr",
          "output_type": "stream",
          "text": [
            "<ipython-input-35-cfc9933a455f>:12: FutureWarning: Downcasting object dtype arrays on .fillna, .ffill, .bfill is deprecated and will change in a future version. Call result.infer_objects(copy=False) instead. To opt-in to the future behavior, set `pd.set_option('future.no_silent_downcasting', True)`\n",
            "  & (~mut_merged[\"STOP\"].fillna(False).astype(bool))\n",
            "<ipython-input-34-bc8a3a2bcc8a>:11: RuntimeWarning: overflow encountered in exp\n",
            "  return 1.0 / (1.0 + np.exp(-(x - xmid) / scale))\n"
          ]
        },
        {
          "metadata": {
            "tags": null
          },
          "name": "stdout",
          "output_type": "stream",
          "text": [
            "    best_params: xmid=-7.132, scale=1.0000, deviance=106.088\n"
          ]
        },
        {
          "metadata": {
            "tags": null
          },
          "name": "stderr",
          "output_type": "stream",
          "text": [
            "<ipython-input-35-cfc9933a455f>:12: FutureWarning: Downcasting object dtype arrays on .fillna, .ffill, .bfill is deprecated and will change in a future version. Call result.infer_objects(copy=False) instead. To opt-in to the future behavior, set `pd.set_option('future.no_silent_downcasting', True)`\n",
            "  & (~mut_merged[\"STOP\"].fillna(False).astype(bool))\n",
            "<ipython-input-34-bc8a3a2bcc8a>:11: RuntimeWarning: overflow encountered in exp\n",
            "  return 1.0 / (1.0 + np.exp(-(x - xmid) / scale))\n"
          ]
        },
        {
          "metadata": {
            "tags": null
          },
          "name": "stdout",
          "output_type": "stream",
          "text": [
            "\n",
            "Fitting domain: Q7Z4I7_PF00412_13\n",
            "    len: 1071\n",
            "    esm1vfl_score range: -20.717315673828125 0.3848413825035095\n",
            "    scaled_gr_tofit range: -0.3264104254559901 1.797040575598043\n",
            "    best_params: xmid=-10.717, scale=1.0000, deviance=281.116\n",
            "\n",
            "Fitting domain: Q7Z5Q1_PF16366_513\n",
            "    len: 1180\n",
            "    esm1vfl_score range: -23.90447425842285 -2.516231060028076\n",
            "    scaled_gr_tofit range: -0.49722107134278004 1.367204015752334\n"
          ]
        },
        {
          "metadata": {
            "tags": null
          },
          "name": "stderr",
          "output_type": "stream",
          "text": [
            "<ipython-input-35-cfc9933a455f>:12: FutureWarning: Downcasting object dtype arrays on .fillna, .ffill, .bfill is deprecated and will change in a future version. Call result.infer_objects(copy=False) instead. To opt-in to the future behavior, set `pd.set_option('future.no_silent_downcasting', True)`\n",
            "  & (~mut_merged[\"STOP\"].fillna(False).astype(bool))\n",
            "<ipython-input-34-bc8a3a2bcc8a>:11: RuntimeWarning: overflow encountered in exp\n",
            "  return 1.0 / (1.0 + np.exp(-(x - xmid) / scale))\n"
          ]
        },
        {
          "metadata": {
            "tags": null
          },
          "name": "stdout",
          "output_type": "stream",
          "text": [
            "    best_params: xmid=-17.533, scale=1.0000, deviance=276.008\n",
            "\n",
            "Fitting domain: Q7Z6B7_PF00018_744\n",
            "    len: 996\n",
            "    esm1vfl_score range: -21.28470230102539 -2.5042450326973773\n",
            "    scaled_gr_tofit range: -0.1749978080733301 1.355892067361747\n"
          ]
        },
        {
          "metadata": {
            "tags": null
          },
          "name": "stderr",
          "output_type": "stream",
          "text": [
            "<ipython-input-35-cfc9933a455f>:12: FutureWarning: Downcasting object dtype arrays on .fillna, .ffill, .bfill is deprecated and will change in a future version. Call result.infer_objects(copy=False) instead. To opt-in to the future behavior, set `pd.set_option('future.no_silent_downcasting', True)`\n",
            "  & (~mut_merged[\"STOP\"].fillna(False).astype(bool))\n",
            "<ipython-input-34-bc8a3a2bcc8a>:11: RuntimeWarning: overflow encountered in exp\n",
            "  return 1.0 / (1.0 + np.exp(-(x - xmid) / scale))\n"
          ]
        },
        {
          "metadata": {
            "tags": null
          },
          "name": "stdout",
          "output_type": "stream",
          "text": [
            "    best_params: xmid=-14.714, scale=1.0000, deviance=82.250\n",
            "\n",
            "Fitting domain: Q7Z6G8_PF00536_812\n",
            "    len: 1129\n",
            "    esm1vfl_score range: -21.45676359230369 0.2452827588617401\n",
            "    scaled_gr_tofit range: -0.10754910505370008 1.164799105490497\n"
          ]
        },
        {
          "metadata": {
            "tags": null
          },
          "name": "stderr",
          "output_type": "stream",
          "text": [
            "<ipython-input-35-cfc9933a455f>:12: FutureWarning: Downcasting object dtype arrays on .fillna, .ffill, .bfill is deprecated and will change in a future version. Call result.infer_objects(copy=False) instead. To opt-in to the future behavior, set `pd.set_option('future.no_silent_downcasting', True)`\n",
            "  & (~mut_merged[\"STOP\"].fillna(False).astype(bool))\n",
            "<ipython-input-34-bc8a3a2bcc8a>:11: RuntimeWarning: overflow encountered in exp\n",
            "  return 1.0 / (1.0 + np.exp(-(x - xmid) / scale))\n"
          ]
        },
        {
          "metadata": {
            "tags": null
          },
          "name": "stdout",
          "output_type": "stream",
          "text": [
            "    best_params: xmid=-9.535, scale=1.0000, deviance=51.539\n",
            "\n",
            "Fitting domain: Q7Z6W7_PF00226_3\n",
            "    len: 1133\n",
            "    esm1vfl_score range: -18.46459007263184 3.442410469055176\n",
            "    scaled_gr_tofit range: -0.35707244651268 1.2385186620014461\n"
          ]
        },
        {
          "metadata": {
            "tags": null
          },
          "name": "stderr",
          "output_type": "stream",
          "text": [
            "<ipython-input-35-cfc9933a455f>:12: FutureWarning: Downcasting object dtype arrays on .fillna, .ffill, .bfill is deprecated and will change in a future version. Call result.infer_objects(copy=False) instead. To opt-in to the future behavior, set `pd.set_option('future.no_silent_downcasting', True)`\n",
            "  & (~mut_merged[\"STOP\"].fillna(False).astype(bool))\n",
            "<ipython-input-34-bc8a3a2bcc8a>:11: RuntimeWarning: overflow encountered in exp\n",
            "  return 1.0 / (1.0 + np.exp(-(x - xmid) / scale))\n"
          ]
        },
        {
          "metadata": {
            "tags": null
          },
          "name": "stdout",
          "output_type": "stream",
          "text": [
            "    best_params: xmid=-11.261, scale=1.0000, deviance=127.379\n",
            "\n",
            "Fitting domain: Q86UL8_PF00397_296\n",
            "    len: 511\n",
            "    esm1vfl_score range: -21.91731739044189 3.1257286071777344\n",
            "    scaled_gr_tofit range: -0.57995622509814 1.184605605792905\n"
          ]
        },
        {
          "metadata": {
            "tags": null
          },
          "name": "stderr",
          "output_type": "stream",
          "text": [
            "<ipython-input-35-cfc9933a455f>:12: FutureWarning: Downcasting object dtype arrays on .fillna, .ffill, .bfill is deprecated and will change in a future version. Call result.infer_objects(copy=False) instead. To opt-in to the future behavior, set `pd.set_option('future.no_silent_downcasting', True)`\n",
            "  & (~mut_merged[\"STOP\"].fillna(False).astype(bool))\n",
            "<ipython-input-34-bc8a3a2bcc8a>:11: RuntimeWarning: overflow encountered in exp\n",
            "  return 1.0 / (1.0 + np.exp(-(x - xmid) / scale))\n"
          ]
        },
        {
          "metadata": {
            "tags": null
          },
          "name": "stdout",
          "output_type": "stream",
          "text": [
            "    best_params: xmid=-14.663, scale=1.0000, deviance=64.085\n",
            "\n",
            "Fitting domain: Q86VP1_PF18112_729\n",
            "    len: 495\n",
            "    esm1vfl_score range: -13.774402618408203 2.0607779026031494\n",
            "    scaled_gr_tofit range: -0.33716605529187005 1.7364663620807659\n"
          ]
        },
        {
          "metadata": {
            "tags": null
          },
          "name": "stderr",
          "output_type": "stream",
          "text": [
            "<ipython-input-35-cfc9933a455f>:12: FutureWarning: Downcasting object dtype arrays on .fillna, .ffill, .bfill is deprecated and will change in a future version. Call result.infer_objects(copy=False) instead. To opt-in to the future behavior, set `pd.set_option('future.no_silent_downcasting', True)`\n",
            "  & (~mut_merged[\"STOP\"].fillna(False).astype(bool))\n",
            "<ipython-input-34-bc8a3a2bcc8a>:11: RuntimeWarning: overflow encountered in exp\n",
            "  return 1.0 / (1.0 + np.exp(-(x - xmid) / scale))\n"
          ]
        },
        {
          "metadata": {
            "tags": null
          },
          "name": "stdout",
          "output_type": "stream",
          "text": [
            "    best_params: xmid=-7.569, scale=1.0000, deviance=76.196\n",
            "\n",
            "Fitting domain: Q86WN1_PF14604_467\n",
            "    len: 1173\n",
            "    esm1vfl_score range: -21.685991287231445 1.193864107131958\n",
            "    scaled_gr_tofit range: -0.2357734991546001 1.497253223301273\n"
          ]
        },
        {
          "metadata": {
            "tags": null
          },
          "name": "stderr",
          "output_type": "stream",
          "text": [
            "<ipython-input-35-cfc9933a455f>:12: FutureWarning: Downcasting object dtype arrays on .fillna, .ffill, .bfill is deprecated and will change in a future version. Call result.infer_objects(copy=False) instead. To opt-in to the future behavior, set `pd.set_option('future.no_silent_downcasting', True)`\n",
            "  & (~mut_merged[\"STOP\"].fillna(False).astype(bool))\n",
            "<ipython-input-34-bc8a3a2bcc8a>:11: RuntimeWarning: overflow encountered in exp\n",
            "  return 1.0 / (1.0 + np.exp(-(x - xmid) / scale))\n"
          ]
        },
        {
          "metadata": {
            "tags": null
          },
          "name": "stdout",
          "output_type": "stream",
          "text": [
            "    best_params: xmid=-9.331, scale=1.0000, deviance=208.754\n",
            "\n",
            "Fitting domain: Q86XK2_PF02207_849\n",
            "    len: 863\n",
            "    esm1vfl_score range: -13.687541961669922 1.0335103273391724\n",
            "    scaled_gr_tofit range: -0.33985460655541 1.424992061886813\n"
          ]
        },
        {
          "metadata": {
            "tags": null
          },
          "name": "stderr",
          "output_type": "stream",
          "text": [
            "<ipython-input-35-cfc9933a455f>:12: FutureWarning: Downcasting object dtype arrays on .fillna, .ffill, .bfill is deprecated and will change in a future version. Call result.infer_objects(copy=False) instead. To opt-in to the future behavior, set `pd.set_option('future.no_silent_downcasting', True)`\n",
            "  & (~mut_merged[\"STOP\"].fillna(False).astype(bool))\n",
            "<ipython-input-34-bc8a3a2bcc8a>:11: RuntimeWarning: overflow encountered in exp\n",
            "  return 1.0 / (1.0 + np.exp(-(x - xmid) / scale))\n"
          ]
        },
        {
          "metadata": {
            "tags": null
          },
          "name": "stdout",
          "output_type": "stream",
          "text": [
            "    best_params: xmid=-4.566, scale=1.0000, deviance=225.165\n",
            "\n",
            "Fitting domain: Q86XN8_PF00013_273\n",
            "    len: 1260\n",
            "    esm1vfl_score range: -22.82007598876953 2.1665496826171875\n",
            "    scaled_gr_tofit range: -0.17864853168164996 1.494325511610357\n"
          ]
        },
        {
          "metadata": {
            "tags": null
          },
          "name": "stderr",
          "output_type": "stream",
          "text": [
            "<ipython-input-35-cfc9933a455f>:12: FutureWarning: Downcasting object dtype arrays on .fillna, .ffill, .bfill is deprecated and will change in a future version. Call result.infer_objects(copy=False) instead. To opt-in to the future behavior, set `pd.set_option('future.no_silent_downcasting', True)`\n",
            "  & (~mut_merged[\"STOP\"].fillna(False).astype(bool))\n",
            "<ipython-input-34-bc8a3a2bcc8a>:11: RuntimeWarning: overflow encountered in exp\n",
            "  return 1.0 / (1.0 + np.exp(-(x - xmid) / scale))\n"
          ]
        },
        {
          "metadata": {
            "tags": null
          },
          "name": "stdout",
          "output_type": "stream",
          "text": [
            "    best_params: xmid=-12.791, scale=1.0000, deviance=239.945\n",
            "\n",
            "Fitting domain: Q86YT6_PF18346_247\n",
            "    len: 1065\n",
            "    esm1vfl_score range: -17.95563507080078 2.678093194961548\n",
            "    scaled_gr_tofit range: -0.37718259224069994 1.340190305989232\n"
          ]
        },
        {
          "metadata": {
            "tags": null
          },
          "name": "stderr",
          "output_type": "stream",
          "text": [
            "<ipython-input-35-cfc9933a455f>:12: FutureWarning: Downcasting object dtype arrays on .fillna, .ffill, .bfill is deprecated and will change in a future version. Call result.infer_objects(copy=False) instead. To opt-in to the future behavior, set `pd.set_option('future.no_silent_downcasting', True)`\n",
            "  & (~mut_merged[\"STOP\"].fillna(False).astype(bool))\n",
            "<ipython-input-34-bc8a3a2bcc8a>:11: RuntimeWarning: overflow encountered in exp\n",
            "  return 1.0 / (1.0 + np.exp(-(x - xmid) / scale))\n"
          ]
        },
        {
          "metadata": {
            "tags": null
          },
          "name": "stdout",
          "output_type": "stream",
          "text": [
            "    best_params: xmid=-7.523, scale=1.0000, deviance=194.336\n",
            "\n",
            "Fitting domain: Q8IV48_PF02037_65\n",
            "    len: 942\n",
            "    esm1vfl_score range: -19.397741317749023 1.60893976688385\n",
            "    scaled_gr_tofit range: -0.18767642028013998 1.148980316171248\n"
          ]
        },
        {
          "metadata": {
            "tags": null
          },
          "name": "stderr",
          "output_type": "stream",
          "text": [
            "<ipython-input-35-cfc9933a455f>:12: FutureWarning: Downcasting object dtype arrays on .fillna, .ffill, .bfill is deprecated and will change in a future version. Call result.infer_objects(copy=False) instead. To opt-in to the future behavior, set `pd.set_option('future.no_silent_downcasting', True)`\n",
            "  & (~mut_merged[\"STOP\"].fillna(False).astype(bool))\n",
            "<ipython-input-34-bc8a3a2bcc8a>:11: RuntimeWarning: overflow encountered in exp\n",
            "  return 1.0 / (1.0 + np.exp(-(x - xmid) / scale))\n"
          ]
        },
        {
          "metadata": {
            "tags": null
          },
          "name": "stdout",
          "output_type": "stream",
          "text": [
            "    best_params: xmid=-10.490, scale=1.0000, deviance=60.153\n",
            "\n",
            "Fitting domain: Q8IWR0_PF00642_906\n",
            "    len: 397\n",
            "    esm1vfl_score range: -17.3316650390625 1.9621881246566768\n",
            "    scaled_gr_tofit range: -0.40749232222943 1.259918032750782\n"
          ]
        },
        {
          "metadata": {
            "tags": null
          },
          "name": "stderr",
          "output_type": "stream",
          "text": [
            "<ipython-input-35-cfc9933a455f>:12: FutureWarning: Downcasting object dtype arrays on .fillna, .ffill, .bfill is deprecated and will change in a future version. Call result.infer_objects(copy=False) instead. To opt-in to the future behavior, set `pd.set_option('future.no_silent_downcasting', True)`\n",
            "  & (~mut_merged[\"STOP\"].fillna(False).astype(bool))\n",
            "<ipython-input-34-bc8a3a2bcc8a>:11: RuntimeWarning: overflow encountered in exp\n",
            "  return 1.0 / (1.0 + np.exp(-(x - xmid) / scale))\n"
          ]
        },
        {
          "metadata": {
            "tags": null
          },
          "name": "stdout",
          "output_type": "stream",
          "text": [
            "    best_params: xmid=-9.539, scale=1.0000, deviance=54.391\n",
            "\n",
            "Fitting domain: Q8IX12_PF02037_625\n",
            "    len: 940\n",
            "    esm1vfl_score range: -15.920109987258911 1.153159379959107\n",
            "    scaled_gr_tofit range: -0.21173951742669006 1.256680601960317\n"
          ]
        },
        {
          "metadata": {
            "tags": null
          },
          "name": "stderr",
          "output_type": "stream",
          "text": [
            "<ipython-input-35-cfc9933a455f>:12: FutureWarning: Downcasting object dtype arrays on .fillna, .ffill, .bfill is deprecated and will change in a future version. Call result.infer_objects(copy=False) instead. To opt-in to the future behavior, set `pd.set_option('future.no_silent_downcasting', True)`\n",
            "  & (~mut_merged[\"STOP\"].fillna(False).astype(bool))\n",
            "<ipython-input-34-bc8a3a2bcc8a>:11: RuntimeWarning: overflow encountered in exp\n",
            "  return 1.0 / (1.0 + np.exp(-(x - xmid) / scale))\n"
          ]
        },
        {
          "metadata": {
            "tags": null
          },
          "name": "stdout",
          "output_type": "stream",
          "text": [
            "    best_params: xmid=-5.980, scale=1.0000, deviance=94.835\n",
            "\n",
            "Fitting domain: Q8IYH5_PF00249_653\n",
            "    len: 1056\n",
            "    esm1vfl_score range: -23.664884567260746 -0.4647755026817322\n",
            "    scaled_gr_tofit range: -0.33254072511854993 1.219383068291273\n"
          ]
        },
        {
          "metadata": {
            "tags": null
          },
          "name": "stderr",
          "output_type": "stream",
          "text": [
            "<ipython-input-35-cfc9933a455f>:12: FutureWarning: Downcasting object dtype arrays on .fillna, .ffill, .bfill is deprecated and will change in a future version. Call result.infer_objects(copy=False) instead. To opt-in to the future behavior, set `pd.set_option('future.no_silent_downcasting', True)`\n",
            "  & (~mut_merged[\"STOP\"].fillna(False).astype(bool))\n",
            "<ipython-input-34-bc8a3a2bcc8a>:11: RuntimeWarning: overflow encountered in exp\n",
            "  return 1.0 / (1.0 + np.exp(-(x - xmid) / scale))\n"
          ]
        },
        {
          "metadata": {
            "tags": null
          },
          "name": "stdout",
          "output_type": "stream",
          "text": [
            "    best_params: xmid=-14.347, scale=1.0000, deviance=105.489\n",
            "\n",
            "Fitting domain: Q8IZQ8_PF02037_363\n",
            "    len: 708\n",
            "    esm1vfl_score range: -23.392921447753903 0.255709171295166\n",
            "    scaled_gr_tofit range: -0.37956208424623994 1.465608400237115\n"
          ]
        },
        {
          "metadata": {
            "tags": null
          },
          "name": "stderr",
          "output_type": "stream",
          "text": [
            "<ipython-input-35-cfc9933a455f>:12: FutureWarning: Downcasting object dtype arrays on .fillna, .ffill, .bfill is deprecated and will change in a future version. Call result.infer_objects(copy=False) instead. To opt-in to the future behavior, set `pd.set_option('future.no_silent_downcasting', True)`\n",
            "  & (~mut_merged[\"STOP\"].fillna(False).astype(bool))\n",
            "<ipython-input-34-bc8a3a2bcc8a>:11: RuntimeWarning: overflow encountered in exp\n",
            "  return 1.0 / (1.0 + np.exp(-(x - xmid) / scale))\n"
          ]
        },
        {
          "metadata": {
            "tags": null
          },
          "name": "stdout",
          "output_type": "stream",
          "text": [
            "    best_params: xmid=-13.425, scale=1.0000, deviance=191.858\n",
            "\n",
            "Fitting domain: Q8N157_PF00018_1053\n",
            "    len: 1063\n",
            "    esm1vfl_score range: -16.038485864032364 0.467309950436982\n",
            "    scaled_gr_tofit range: -0.32699004269517995 1.583979458353467\n"
          ]
        },
        {
          "metadata": {
            "tags": null
          },
          "name": "stderr",
          "output_type": "stream",
          "text": [
            "<ipython-input-35-cfc9933a455f>:12: FutureWarning: Downcasting object dtype arrays on .fillna, .ffill, .bfill is deprecated and will change in a future version. Call result.infer_objects(copy=False) instead. To opt-in to the future behavior, set `pd.set_option('future.no_silent_downcasting', True)`\n",
            "  & (~mut_merged[\"STOP\"].fillna(False).astype(bool))\n",
            "<ipython-input-34-bc8a3a2bcc8a>:11: RuntimeWarning: overflow encountered in exp\n",
            "  return 1.0 / (1.0 + np.exp(-(x - xmid) / scale))\n"
          ]
        },
        {
          "metadata": {
            "tags": null
          },
          "name": "stdout",
          "output_type": "stream",
          "text": [
            "    best_params: xmid=-4.675, scale=1.0000, deviance=158.868\n"
          ]
        },
        {
          "metadata": {
            "tags": null
          },
          "name": "stderr",
          "output_type": "stream",
          "text": [
            "<ipython-input-35-cfc9933a455f>:12: FutureWarning: Downcasting object dtype arrays on .fillna, .ffill, .bfill is deprecated and will change in a future version. Call result.infer_objects(copy=False) instead. To opt-in to the future behavior, set `pd.set_option('future.no_silent_downcasting', True)`\n",
            "  & (~mut_merged[\"STOP\"].fillna(False).astype(bool))\n",
            "<ipython-input-34-bc8a3a2bcc8a>:11: RuntimeWarning: overflow encountered in exp\n",
            "  return 1.0 / (1.0 + np.exp(-(x - xmid) / scale))\n"
          ]
        },
        {
          "metadata": {
            "tags": null
          },
          "name": "stdout",
          "output_type": "stream",
          "text": [
            "\n",
            "Fitting domain: Q8N3X1_PF00397_200\n",
            "    len: 1177\n",
            "    esm1vfl_score range: -20.791969299316406 0.1500430107116699\n",
            "    scaled_gr_tofit range: -0.22527345544072008 1.606842912599721\n",
            "    best_params: xmid=-11.747, scale=1.0000, deviance=234.872\n",
            "\n",
            "Fitting domain: Q8N3X1_PF00397_593\n",
            "    len: 630\n",
            "    esm1vfl_score range: -20.47998809814453 1.6931581497192385\n",
            "    scaled_gr_tofit range: -0.5589662168069001 1.291072876945739\n"
          ]
        },
        {
          "metadata": {
            "tags": null
          },
          "name": "stderr",
          "output_type": "stream",
          "text": [
            "<ipython-input-35-cfc9933a455f>:12: FutureWarning: Downcasting object dtype arrays on .fillna, .ffill, .bfill is deprecated and will change in a future version. Call result.infer_objects(copy=False) instead. To opt-in to the future behavior, set `pd.set_option('future.no_silent_downcasting', True)`\n",
            "  & (~mut_merged[\"STOP\"].fillna(False).astype(bool))\n",
            "<ipython-input-34-bc8a3a2bcc8a>:11: RuntimeWarning: overflow encountered in exp\n",
            "  return 1.0 / (1.0 + np.exp(-(x - xmid) / scale))\n"
          ]
        },
        {
          "metadata": {
            "tags": null
          },
          "name": "stdout",
          "output_type": "stream",
          "text": [
            "    best_params: xmid=-9.925, scale=1.0000, deviance=127.111\n",
            "\n",
            "Fitting domain: Q8N5C8_PF02845_12\n",
            "    len: 652\n",
            "    esm1vfl_score range: -22.60881423950196 -1.551806926727295\n",
            "    scaled_gr_tofit range: -0.3241265230055601 1.384197157808666\n"
          ]
        },
        {
          "metadata": {
            "tags": null
          },
          "name": "stderr",
          "output_type": "stream",
          "text": [
            "<ipython-input-35-cfc9933a455f>:12: FutureWarning: Downcasting object dtype arrays on .fillna, .ffill, .bfill is deprecated and will change in a future version. Call result.infer_objects(copy=False) instead. To opt-in to the future behavior, set `pd.set_option('future.no_silent_downcasting', True)`\n",
            "  & (~mut_merged[\"STOP\"].fillna(False).astype(bool))\n",
            "<ipython-input-34-bc8a3a2bcc8a>:11: RuntimeWarning: overflow encountered in exp\n",
            "  return 1.0 / (1.0 + np.exp(-(x - xmid) / scale))\n"
          ]
        },
        {
          "metadata": {
            "tags": null
          },
          "name": "stdout",
          "output_type": "stream",
          "text": [
            "    best_params: xmid=-9.125, scale=1.0000, deviance=109.753\n",
            "\n",
            "Fitting domain: Q8N8B7_PF08711_30\n",
            "    len: 849\n",
            "    esm1vfl_score range: -16.61865234375 0.6999669075012207\n",
            "    scaled_gr_tofit range: -0.32152219810649996 1.510699550821281\n"
          ]
        },
        {
          "metadata": {
            "tags": null
          },
          "name": "stderr",
          "output_type": "stream",
          "text": [
            "<ipython-input-35-cfc9933a455f>:12: FutureWarning: Downcasting object dtype arrays on .fillna, .ffill, .bfill is deprecated and will change in a future version. Call result.infer_objects(copy=False) instead. To opt-in to the future behavior, set `pd.set_option('future.no_silent_downcasting', True)`\n",
            "  & (~mut_merged[\"STOP\"].fillna(False).astype(bool))\n",
            "<ipython-input-34-bc8a3a2bcc8a>:11: RuntimeWarning: overflow encountered in exp\n",
            "  return 1.0 / (1.0 + np.exp(-(x - xmid) / scale))\n"
          ]
        },
        {
          "metadata": {
            "tags": null
          },
          "name": "stdout",
          "output_type": "stream",
          "text": [
            "    best_params: xmid=-7.317, scale=1.0000, deviance=217.435\n",
            "\n",
            "Fitting domain: Q8NB78_PF07496_139\n",
            "    len: 916\n",
            "    esm1vfl_score range: -16.101909637451172 1.326237678527832\n",
            "    scaled_gr_tofit range: -0.28510010283087994 1.6353198539663412\n"
          ]
        },
        {
          "metadata": {
            "tags": null
          },
          "name": "stderr",
          "output_type": "stream",
          "text": [
            "<ipython-input-35-cfc9933a455f>:12: FutureWarning: Downcasting object dtype arrays on .fillna, .ffill, .bfill is deprecated and will change in a future version. Call result.infer_objects(copy=False) instead. To opt-in to the future behavior, set `pd.set_option('future.no_silent_downcasting', True)`\n",
            "  & (~mut_merged[\"STOP\"].fillna(False).astype(bool))\n",
            "<ipython-input-34-bc8a3a2bcc8a>:11: RuntimeWarning: overflow encountered in exp\n",
            "  return 1.0 / (1.0 + np.exp(-(x - xmid) / scale))\n"
          ]
        },
        {
          "metadata": {
            "tags": null
          },
          "name": "stdout",
          "output_type": "stream",
          "text": [
            "    best_params: xmid=-4.921, scale=1.0000, deviance=248.574\n",
            "\n",
            "Fitting domain: Q8ND56_PF12701_7\n",
            "    len: 1261\n",
            "    esm1vfl_score range: -22.318336486816406 -2.2008023262023926\n",
            "    scaled_gr_tofit range: -0.16952010319134003 1.652738585085409\n"
          ]
        },
        {
          "metadata": {
            "tags": null
          },
          "name": "stderr",
          "output_type": "stream",
          "text": [
            "<ipython-input-35-cfc9933a455f>:12: FutureWarning: Downcasting object dtype arrays on .fillna, .ffill, .bfill is deprecated and will change in a future version. Call result.infer_objects(copy=False) instead. To opt-in to the future behavior, set `pd.set_option('future.no_silent_downcasting', True)`\n",
            "  & (~mut_merged[\"STOP\"].fillna(False).astype(bool))\n",
            "<ipython-input-34-bc8a3a2bcc8a>:11: RuntimeWarning: overflow encountered in exp\n",
            "  return 1.0 / (1.0 + np.exp(-(x - xmid) / scale))\n"
          ]
        },
        {
          "metadata": {
            "tags": null
          },
          "name": "stdout",
          "output_type": "stream",
          "text": [
            "    best_params: xmid=-13.894, scale=1.0000, deviance=325.129\n"
          ]
        },
        {
          "metadata": {
            "tags": null
          },
          "name": "stderr",
          "output_type": "stream",
          "text": [
            "<ipython-input-35-cfc9933a455f>:12: FutureWarning: Downcasting object dtype arrays on .fillna, .ffill, .bfill is deprecated and will change in a future version. Call result.infer_objects(copy=False) instead. To opt-in to the future behavior, set `pd.set_option('future.no_silent_downcasting', True)`\n",
            "  & (~mut_merged[\"STOP\"].fillna(False).astype(bool))\n",
            "<ipython-input-34-bc8a3a2bcc8a>:11: RuntimeWarning: overflow encountered in exp\n",
            "  return 1.0 / (1.0 + np.exp(-(x - xmid) / scale))\n"
          ]
        },
        {
          "metadata": {
            "tags": null
          },
          "name": "stdout",
          "output_type": "stream",
          "text": [
            "\n",
            "Fitting domain: Q8NEA6_PF00096_414\n",
            "    len: 431\n",
            "    esm1vfl_score range: -24.775707244873047 1.812832355499268\n",
            "    scaled_gr_tofit range: -0.43710787136928 1.61246088891502\n",
            "    best_params: xmid=-16.604, scale=1.0000, deviance=187.676\n",
            "\n",
            "Fitting domain: Q8NEA6_PF00096_473\n",
            "    len: 440\n",
            "    esm1vfl_score range: -24.45547103881836 -4.199288368225098\n",
            "    scaled_gr_tofit range: -0.21061894626975008 1.6083317328554991\n"
          ]
        },
        {
          "metadata": {
            "tags": null
          },
          "name": "stderr",
          "output_type": "stream",
          "text": [
            "<ipython-input-35-cfc9933a455f>:12: FutureWarning: Downcasting object dtype arrays on .fillna, .ffill, .bfill is deprecated and will change in a future version. Call result.infer_objects(copy=False) instead. To opt-in to the future behavior, set `pd.set_option('future.no_silent_downcasting', True)`\n",
            "  & (~mut_merged[\"STOP\"].fillna(False).astype(bool))\n",
            "<ipython-input-34-bc8a3a2bcc8a>:11: RuntimeWarning: overflow encountered in exp\n",
            "  return 1.0 / (1.0 + np.exp(-(x - xmid) / scale))\n"
          ]
        },
        {
          "metadata": {
            "tags": null
          },
          "name": "stdout",
          "output_type": "stream",
          "text": [
            "    best_params: xmid=-17.009, scale=1.0000, deviance=152.547\n",
            "\n",
            "Fitting domain: Q8NFW5_PF00046_73\n",
            "    len: 970\n",
            "    esm1vfl_score range: -24.462440490722656 -1.2963342666625977\n",
            "    scaled_gr_tofit range: -0.12231392451993006 1.674278667628112\n"
          ]
        },
        {
          "metadata": {
            "tags": null
          },
          "name": "stderr",
          "output_type": "stream",
          "text": [
            "<ipython-input-35-cfc9933a455f>:12: FutureWarning: Downcasting object dtype arrays on .fillna, .ffill, .bfill is deprecated and will change in a future version. Call result.infer_objects(copy=False) instead. To opt-in to the future behavior, set `pd.set_option('future.no_silent_downcasting', True)`\n",
            "  & (~mut_merged[\"STOP\"].fillna(False).astype(bool))\n",
            "<ipython-input-34-bc8a3a2bcc8a>:11: RuntimeWarning: overflow encountered in exp\n",
            "  return 1.0 / (1.0 + np.exp(-(x - xmid) / scale))\n"
          ]
        },
        {
          "output_type": "stream",
          "name": "stdout",
          "text": [
            "    best_params: xmid=-13.554, scale=1.0000, deviance=232.730\n",
            "\n",
            "Fitting domain: Q8TAT5_PF00641_316\n",
            "    len: 536\n",
            "    esm1vfl_score range: -19.81404495239257 3.4091222286224365\n",
            "    scaled_gr_tofit range: -0.32101975205840994 1.390894616736804\n"
          ]
        },
        {
          "output_type": "stream",
          "name": "stderr",
          "text": [
            "<ipython-input-35-cfc9933a455f>:12: FutureWarning: Downcasting object dtype arrays on .fillna, .ffill, .bfill is deprecated and will change in a future version. Call result.infer_objects(copy=False) instead. To opt-in to the future behavior, set `pd.set_option('future.no_silent_downcasting', True)`\n",
            "  & (~mut_merged[\"STOP\"].fillna(False).astype(bool))\n",
            "<ipython-input-34-bc8a3a2bcc8a>:11: RuntimeWarning: overflow encountered in exp\n",
            "  return 1.0 / (1.0 + np.exp(-(x - xmid) / scale))\n"
          ]
        },
        {
          "output_type": "stream",
          "name": "stdout",
          "text": [
            "    best_params: xmid=-13.380, scale=1.0000, deviance=55.395\n",
            "\n",
            "Fitting domain: Q8TDD2_PF00096_325\n",
            "    len: 453\n",
            "    esm1vfl_score range: -22.41826820373535 -0.2685718536376953\n",
            "    scaled_gr_tofit range: -0.51829098126223 1.48846869451245\n"
          ]
        },
        {
          "output_type": "stream",
          "name": "stderr",
          "text": [
            "<ipython-input-35-cfc9933a455f>:12: FutureWarning: Downcasting object dtype arrays on .fillna, .ffill, .bfill is deprecated and will change in a future version. Call result.infer_objects(copy=False) instead. To opt-in to the future behavior, set `pd.set_option('future.no_silent_downcasting', True)`\n",
            "  & (~mut_merged[\"STOP\"].fillna(False).astype(bool))\n",
            "<ipython-input-34-bc8a3a2bcc8a>:11: RuntimeWarning: overflow encountered in exp\n",
            "  return 1.0 / (1.0 + np.exp(-(x - xmid) / scale))\n"
          ]
        },
        {
          "output_type": "stream",
          "name": "stdout",
          "text": [
            "    best_params: xmid=-14.751, scale=1.0000, deviance=166.453\n",
            "\n",
            "Fitting domain: Q8TDI0_PF00628_411\n",
            "    len: 968\n",
            "    esm1vfl_score range: -18.442157745361328 1.995368957519532\n",
            "    scaled_gr_tofit range: -0.4981397920283599 1.5823600399568511\n"
          ]
        },
        {
          "output_type": "stream",
          "name": "stderr",
          "text": [
            "<ipython-input-35-cfc9933a455f>:12: FutureWarning: Downcasting object dtype arrays on .fillna, .ffill, .bfill is deprecated and will change in a future version. Call result.infer_objects(copy=False) instead. To opt-in to the future behavior, set `pd.set_option('future.no_silent_downcasting', True)`\n",
            "  & (~mut_merged[\"STOP\"].fillna(False).astype(bool))\n",
            "<ipython-input-34-bc8a3a2bcc8a>:11: RuntimeWarning: overflow encountered in exp\n",
            "  return 1.0 / (1.0 + np.exp(-(x - xmid) / scale))\n"
          ]
        },
        {
          "output_type": "stream",
          "name": "stdout",
          "text": [
            "    best_params: xmid=-11.354, scale=1.0000, deviance=155.791\n",
            "\n",
            "Fitting domain: Q8WU90_PF18044_104\n",
            "    len: 396\n",
            "    esm1vfl_score range: -22.506715774536133 -2.7282543182373047\n",
            "    scaled_gr_tofit range: -0.2904674217960499 1.224920540299783\n"
          ]
        },
        {
          "output_type": "stream",
          "name": "stderr",
          "text": [
            "<ipython-input-35-cfc9933a455f>:12: FutureWarning: Downcasting object dtype arrays on .fillna, .ffill, .bfill is deprecated and will change in a future version. Call result.infer_objects(copy=False) instead. To opt-in to the future behavior, set `pd.set_option('future.no_silent_downcasting', True)`\n",
            "  & (~mut_merged[\"STOP\"].fillna(False).astype(bool))\n",
            "<ipython-input-34-bc8a3a2bcc8a>:11: RuntimeWarning: overflow encountered in exp\n",
            "  return 1.0 / (1.0 + np.exp(-(x - xmid) / scale))\n"
          ]
        },
        {
          "output_type": "stream",
          "name": "stdout",
          "text": [
            "    best_params: xmid=-13.200, scale=1.0000, deviance=48.264\n"
          ]
        },
        {
          "output_type": "stream",
          "name": "stderr",
          "text": [
            "<ipython-input-35-cfc9933a455f>:12: FutureWarning: Downcasting object dtype arrays on .fillna, .ffill, .bfill is deprecated and will change in a future version. Call result.infer_objects(copy=False) instead. To opt-in to the future behavior, set `pd.set_option('future.no_silent_downcasting', True)`\n",
            "  & (~mut_merged[\"STOP\"].fillna(False).astype(bool))\n",
            "<ipython-input-34-bc8a3a2bcc8a>:11: RuntimeWarning: overflow encountered in exp\n",
            "  return 1.0 / (1.0 + np.exp(-(x - xmid) / scale))\n"
          ]
        },
        {
          "output_type": "stream",
          "name": "stdout",
          "text": [
            "\n",
            "Fitting domain: Q8WWH4_PF07647_273\n",
            "    len: 1137\n",
            "    esm1vfl_score range: -16.595508575439453 1.7868971824645996\n",
            "    scaled_gr_tofit range: -0.19639707861974998 1.380141689312487\n",
            "    best_params: xmid=-7.656, scale=1.0000, deviance=111.970\n"
          ]
        },
        {
          "output_type": "stream",
          "name": "stderr",
          "text": [
            "<ipython-input-35-cfc9933a455f>:12: FutureWarning: Downcasting object dtype arrays on .fillna, .ffill, .bfill is deprecated and will change in a future version. Call result.infer_objects(copy=False) instead. To opt-in to the future behavior, set `pd.set_option('future.no_silent_downcasting', True)`\n",
            "  & (~mut_merged[\"STOP\"].fillna(False).astype(bool))\n",
            "<ipython-input-34-bc8a3a2bcc8a>:11: RuntimeWarning: overflow encountered in exp\n",
            "  return 1.0 / (1.0 + np.exp(-(x - xmid) / scale))\n"
          ]
        },
        {
          "output_type": "stream",
          "name": "stdout",
          "text": [
            "\n",
            "Fitting domain: Q8WXI2_PF00536_9\n",
            "    len: 1156\n",
            "    esm1vfl_score range: -22.16358866197378 0.3701048328119665\n",
            "    scaled_gr_tofit range: -0.35263227773877004 1.277985998063537\n",
            "    best_params: xmid=-13.744, scale=1.0000, deviance=185.821\n",
            "\n",
            "Fitting domain: Q92734_PF00564_6\n",
            "    len: 1589\n",
            "    esm1vfl_score range: -23.23366928100586 -1.671158790588379\n",
            "    scaled_gr_tofit range: -0.3790816836220301 1.506773894861913\n"
          ]
        },
        {
          "output_type": "stream",
          "name": "stderr",
          "text": [
            "<ipython-input-35-cfc9933a455f>:12: FutureWarning: Downcasting object dtype arrays on .fillna, .ffill, .bfill is deprecated and will change in a future version. Call result.infer_objects(copy=False) instead. To opt-in to the future behavior, set `pd.set_option('future.no_silent_downcasting', True)`\n",
            "  & (~mut_merged[\"STOP\"].fillna(False).astype(bool))\n",
            "<ipython-input-34-bc8a3a2bcc8a>:11: RuntimeWarning: overflow encountered in exp\n",
            "  return 1.0 / (1.0 + np.exp(-(x - xmid) / scale))\n"
          ]
        },
        {
          "output_type": "stream",
          "name": "stdout",
          "text": [
            "    best_params: xmid=-15.748, scale=1.0000, deviance=304.934\n",
            "\n",
            "Fitting domain: Q92796_PF00595_222\n",
            "    len: 1730\n",
            "    esm1vfl_score range: -24.84504127502441 0.0405535697937011\n",
            "    scaled_gr_tofit range: -0.18799219959776003 1.198046997357452\n"
          ]
        },
        {
          "output_type": "stream",
          "name": "stderr",
          "text": [
            "<ipython-input-35-cfc9933a455f>:12: FutureWarning: Downcasting object dtype arrays on .fillna, .ffill, .bfill is deprecated and will change in a future version. Call result.infer_objects(copy=False) instead. To opt-in to the future behavior, set `pd.set_option('future.no_silent_downcasting', True)`\n",
            "  & (~mut_merged[\"STOP\"].fillna(False).astype(bool))\n",
            "<ipython-input-34-bc8a3a2bcc8a>:11: RuntimeWarning: overflow encountered in exp\n",
            "  return 1.0 / (1.0 + np.exp(-(x - xmid) / scale))\n"
          ]
        },
        {
          "output_type": "stream",
          "name": "stdout",
          "text": [
            "    best_params: xmid=-16.547, scale=1.0000, deviance=124.334\n",
            "\n",
            "Fitting domain: Q92796_PF00595_383\n",
            "    len: 1579\n",
            "    esm1vfl_score range: -24.918184280395508 0.686558723449707\n",
            "    scaled_gr_tofit range: -0.65185889063282 1.247597672249761\n"
          ]
        },
        {
          "output_type": "stream",
          "name": "stderr",
          "text": [
            "<ipython-input-35-cfc9933a455f>:12: FutureWarning: Downcasting object dtype arrays on .fillna, .ffill, .bfill is deprecated and will change in a future version. Call result.infer_objects(copy=False) instead. To opt-in to the future behavior, set `pd.set_option('future.no_silent_downcasting', True)`\n",
            "  & (~mut_merged[\"STOP\"].fillna(False).astype(bool))\n",
            "<ipython-input-34-bc8a3a2bcc8a>:11: RuntimeWarning: overflow encountered in exp\n",
            "  return 1.0 / (1.0 + np.exp(-(x - xmid) / scale))\n"
          ]
        },
        {
          "output_type": "stream",
          "name": "stdout",
          "text": [
            "    best_params: xmid=-14.383, scale=1.0000, deviance=435.497\n",
            "\n",
            "Fitting domain: Q92945_PF00013_142\n",
            "    len: 1388\n",
            "    esm1vfl_score range: -25.280885696411133 -0.6621503829956055\n",
            "    scaled_gr_tofit range: -0.88549765902907 1.6659635118304381\n"
          ]
        },
        {
          "output_type": "stream",
          "name": "stderr",
          "text": [
            "<ipython-input-35-cfc9933a455f>:12: FutureWarning: Downcasting object dtype arrays on .fillna, .ffill, .bfill is deprecated and will change in a future version. Call result.infer_objects(copy=False) instead. To opt-in to the future behavior, set `pd.set_option('future.no_silent_downcasting', True)`\n",
            "  & (~mut_merged[\"STOP\"].fillna(False).astype(bool))\n",
            "<ipython-input-34-bc8a3a2bcc8a>:11: RuntimeWarning: overflow encountered in exp\n",
            "  return 1.0 / (1.0 + np.exp(-(x - xmid) / scale))\n"
          ]
        },
        {
          "output_type": "stream",
          "name": "stdout",
          "text": [
            "    best_params: xmid=-16.534, scale=1.0000, deviance=750.984\n",
            "\n",
            "Fitting domain: Q92997_PF00778_2\n",
            "    len: 1502\n",
            "    esm1vfl_score range: -21.208118438720703 2.1299448013305664\n",
            "    scaled_gr_tofit range: -0.7476401270676101 1.843160936341794\n"
          ]
        },
        {
          "output_type": "stream",
          "name": "stderr",
          "text": [
            "<ipython-input-35-cfc9933a455f>:12: FutureWarning: Downcasting object dtype arrays on .fillna, .ffill, .bfill is deprecated and will change in a future version. Call result.infer_objects(copy=False) instead. To opt-in to the future behavior, set `pd.set_option('future.no_silent_downcasting', True)`\n",
            "  & (~mut_merged[\"STOP\"].fillna(False).astype(bool))\n",
            "<ipython-input-34-bc8a3a2bcc8a>:11: RuntimeWarning: overflow encountered in exp\n",
            "  return 1.0 / (1.0 + np.exp(-(x - xmid) / scale))\n"
          ]
        },
        {
          "output_type": "stream",
          "name": "stdout",
          "text": [
            "    best_params: xmid=-12.148, scale=1.0000, deviance=1197.275\n",
            "\n",
            "Fitting domain: Q969G3_PF00505_67\n",
            "    len: 1202\n",
            "    esm1vfl_score range: -23.080799102783203 -1.5930843353271484\n",
            "    scaled_gr_tofit range: -0.5646491299752101 1.62436530027141\n"
          ]
        },
        {
          "output_type": "stream",
          "name": "stderr",
          "text": [
            "<ipython-input-35-cfc9933a455f>:12: FutureWarning: Downcasting object dtype arrays on .fillna, .ffill, .bfill is deprecated and will change in a future version. Call result.infer_objects(copy=False) instead. To opt-in to the future behavior, set `pd.set_option('future.no_silent_downcasting', True)`\n",
            "  & (~mut_merged[\"STOP\"].fillna(False).astype(bool))\n",
            "<ipython-input-34-bc8a3a2bcc8a>:11: RuntimeWarning: overflow encountered in exp\n",
            "  return 1.0 / (1.0 + np.exp(-(x - xmid) / scale))\n"
          ]
        },
        {
          "output_type": "stream",
          "name": "stdout",
          "text": [
            "    best_params: xmid=-16.733, scale=1.0000, deviance=491.484\n",
            "\n",
            "Fitting domain: Q96AE4_PF00013_184\n",
            "    len: 1407\n",
            "    esm1vfl_score range: -23.69748878479004 -0.5757040977478027\n",
            "    scaled_gr_tofit range: -0.35322227650820004 1.255699634646807\n"
          ]
        },
        {
          "output_type": "stream",
          "name": "stderr",
          "text": [
            "<ipython-input-35-cfc9933a455f>:12: FutureWarning: Downcasting object dtype arrays on .fillna, .ffill, .bfill is deprecated and will change in a future version. Call result.infer_objects(copy=False) instead. To opt-in to the future behavior, set `pd.set_option('future.no_silent_downcasting', True)`\n",
            "  & (~mut_merged[\"STOP\"].fillna(False).astype(bool))\n",
            "<ipython-input-34-bc8a3a2bcc8a>:11: RuntimeWarning: overflow encountered in exp\n",
            "  return 1.0 / (1.0 + np.exp(-(x - xmid) / scale))\n"
          ]
        },
        {
          "output_type": "stream",
          "name": "stdout",
          "text": [
            "    best_params: xmid=-14.430, scale=1.0000, deviance=176.171\n"
          ]
        },
        {
          "output_type": "stream",
          "name": "stderr",
          "text": [
            "<ipython-input-35-cfc9933a455f>:12: FutureWarning: Downcasting object dtype arrays on .fillna, .ffill, .bfill is deprecated and will change in a future version. Call result.infer_objects(copy=False) instead. To opt-in to the future behavior, set `pd.set_option('future.no_silent_downcasting', True)`\n",
            "  & (~mut_merged[\"STOP\"].fillna(False).astype(bool))\n",
            "<ipython-input-34-bc8a3a2bcc8a>:11: RuntimeWarning: overflow encountered in exp\n",
            "  return 1.0 / (1.0 + np.exp(-(x - xmid) / scale))\n"
          ]
        },
        {
          "output_type": "stream",
          "name": "stdout",
          "text": [
            "\n",
            "Fitting domain: Q96AE4_PF00013_98\n",
            "    len: 1318\n",
            "    esm1vfl_score range: -22.78058624267578 1.7708821296691897\n",
            "    scaled_gr_tofit range: -0.6679653483764201 1.171228397795795\n",
            "    best_params: xmid=-15.146, scale=1.0000, deviance=211.606\n",
            "\n",
            "Fitting domain: Q96CB8_PF00628_155\n",
            "    len: 1121\n",
            "    esm1vfl_score range: -19.731407165527344 5.4022626876831055\n",
            "    scaled_gr_tofit range: -0.38813190141434006 1.244724429107374\n"
          ]
        },
        {
          "output_type": "stream",
          "name": "stderr",
          "text": [
            "<ipython-input-35-cfc9933a455f>:12: FutureWarning: Downcasting object dtype arrays on .fillna, .ffill, .bfill is deprecated and will change in a future version. Call result.infer_objects(copy=False) instead. To opt-in to the future behavior, set `pd.set_option('future.no_silent_downcasting', True)`\n",
            "  & (~mut_merged[\"STOP\"].fillna(False).astype(bool))\n",
            "<ipython-input-34-bc8a3a2bcc8a>:11: RuntimeWarning: overflow encountered in exp\n",
            "  return 1.0 / (1.0 + np.exp(-(x - xmid) / scale))\n"
          ]
        },
        {
          "output_type": "stream",
          "name": "stdout",
          "text": [
            "    best_params: xmid=-13.169, scale=1.0000, deviance=82.160\n"
          ]
        },
        {
          "output_type": "stream",
          "name": "stderr",
          "text": [
            "<ipython-input-35-cfc9933a455f>:12: FutureWarning: Downcasting object dtype arrays on .fillna, .ffill, .bfill is deprecated and will change in a future version. Call result.infer_objects(copy=False) instead. To opt-in to the future behavior, set `pd.set_option('future.no_silent_downcasting', True)`\n",
            "  & (~mut_merged[\"STOP\"].fillna(False).astype(bool))\n",
            "<ipython-input-34-bc8a3a2bcc8a>:11: RuntimeWarning: overflow encountered in exp\n",
            "  return 1.0 / (1.0 + np.exp(-(x - xmid) / scale))\n"
          ]
        },
        {
          "output_type": "stream",
          "name": "stdout",
          "text": [
            "\n",
            "Fitting domain: Q96DX7_PF00643_174\n",
            "    len: 837\n",
            "    esm1vfl_score range: -14.812249183654783 0.6780719757080078\n",
            "    scaled_gr_tofit range: -0.25375197229397006 1.167866596747444\n",
            "    best_params: xmid=-8.437, scale=1.0000, deviance=20.660\n",
            "\n",
            "Fitting domain: Q96FX2_PF05207_6\n",
            "    len: 967\n",
            "    esm1vfl_score range: -19.43620491027832 1.054755926132202\n",
            "    scaled_gr_tofit range: -0.3301302105832 1.282011795231393\n"
          ]
        },
        {
          "output_type": "stream",
          "name": "stderr",
          "text": [
            "<ipython-input-35-cfc9933a455f>:12: FutureWarning: Downcasting object dtype arrays on .fillna, .ffill, .bfill is deprecated and will change in a future version. Call result.infer_objects(copy=False) instead. To opt-in to the future behavior, set `pd.set_option('future.no_silent_downcasting', True)`\n",
            "  & (~mut_merged[\"STOP\"].fillna(False).astype(bool))\n",
            "<ipython-input-34-bc8a3a2bcc8a>:11: RuntimeWarning: overflow encountered in exp\n",
            "  return 1.0 / (1.0 + np.exp(-(x - xmid) / scale))\n"
          ]
        },
        {
          "output_type": "stream",
          "name": "stdout",
          "text": [
            "    best_params: xmid=-14.369, scale=1.0000, deviance=58.497\n",
            "\n",
            "Fitting domain: Q96GE6_PF13499_123\n",
            "    len: 1204\n",
            "    esm1vfl_score range: -17.445470809936523 1.5123980045318604\n",
            "    scaled_gr_tofit range: -0.49832637963932 1.406268344390967\n"
          ]
        },
        {
          "output_type": "stream",
          "name": "stderr",
          "text": [
            "<ipython-input-35-cfc9933a455f>:12: FutureWarning: Downcasting object dtype arrays on .fillna, .ffill, .bfill is deprecated and will change in a future version. Call result.infer_objects(copy=False) instead. To opt-in to the future behavior, set `pd.set_option('future.no_silent_downcasting', True)`\n",
            "  & (~mut_merged[\"STOP\"].fillna(False).astype(bool))\n",
            "<ipython-input-34-bc8a3a2bcc8a>:11: RuntimeWarning: overflow encountered in exp\n",
            "  return 1.0 / (1.0 + np.exp(-(x - xmid) / scale))\n"
          ]
        },
        {
          "output_type": "stream",
          "name": "stdout",
          "text": [
            "    best_params: xmid=-8.451, scale=1.0000, deviance=341.000\n",
            "\n",
            "Fitting domain: Q96GE6_PF13499_48\n",
            "    len: 940\n",
            "    esm1vfl_score range: -18.1215934753418 0.3968508243560791\n",
            "    scaled_gr_tofit range: -0.30178704179832994 1.150668216744344\n"
          ]
        },
        {
          "output_type": "stream",
          "name": "stderr",
          "text": [
            "<ipython-input-35-cfc9933a455f>:12: FutureWarning: Downcasting object dtype arrays on .fillna, .ffill, .bfill is deprecated and will change in a future version. Call result.infer_objects(copy=False) instead. To opt-in to the future behavior, set `pd.set_option('future.no_silent_downcasting', True)`\n",
            "  & (~mut_merged[\"STOP\"].fillna(False).astype(bool))\n",
            "<ipython-input-34-bc8a3a2bcc8a>:11: RuntimeWarning: overflow encountered in exp\n",
            "  return 1.0 / (1.0 + np.exp(-(x - xmid) / scale))\n"
          ]
        },
        {
          "output_type": "stream",
          "name": "stdout",
          "text": [
            "    best_params: xmid=-10.302, scale=1.0000, deviance=48.033\n",
            "\n",
            "Fitting domain: Q96GM8_PF00642_298\n",
            "    len: 433\n",
            "    esm1vfl_score range: -17.171255111694336 -1.430077314376831\n",
            "    scaled_gr_tofit range: -0.32791392139577 1.646551175969282\n"
          ]
        },
        {
          "output_type": "stream",
          "name": "stderr",
          "text": [
            "<ipython-input-35-cfc9933a455f>:12: FutureWarning: Downcasting object dtype arrays on .fillna, .ffill, .bfill is deprecated and will change in a future version. Call result.infer_objects(copy=False) instead. To opt-in to the future behavior, set `pd.set_option('future.no_silent_downcasting', True)`\n",
            "  & (~mut_merged[\"STOP\"].fillna(False).astype(bool))\n",
            "<ipython-input-34-bc8a3a2bcc8a>:11: RuntimeWarning: overflow encountered in exp\n",
            "  return 1.0 / (1.0 + np.exp(-(x - xmid) / scale))\n"
          ]
        },
        {
          "output_type": "stream",
          "name": "stdout",
          "text": [
            "    best_params: xmid=-10.917, scale=1.0000, deviance=75.272\n"
          ]
        },
        {
          "output_type": "stream",
          "name": "stderr",
          "text": [
            "<ipython-input-35-cfc9933a455f>:12: FutureWarning: Downcasting object dtype arrays on .fillna, .ffill, .bfill is deprecated and will change in a future version. Call result.infer_objects(copy=False) instead. To opt-in to the future behavior, set `pd.set_option('future.no_silent_downcasting', True)`\n",
            "  & (~mut_merged[\"STOP\"].fillna(False).astype(bool))\n",
            "<ipython-input-34-bc8a3a2bcc8a>:11: RuntimeWarning: overflow encountered in exp\n",
            "  return 1.0 / (1.0 + np.exp(-(x - xmid) / scale))\n"
          ]
        },
        {
          "output_type": "stream",
          "name": "stdout",
          "text": [
            "\n",
            "Fitting domain: Q96I24_PF00013_75\n",
            "    len: 1443\n",
            "    esm1vfl_score range: -21.29361152648925 -0.0050668716430664\n",
            "    scaled_gr_tofit range: -0.59105146685495 1.221920961172298\n",
            "    best_params: xmid=-13.708, scale=1.0000, deviance=220.972\n",
            "\n",
            "Fitting domain: Q96J02_PF00397_428\n",
            "    len: 925\n",
            "    esm1vfl_score range: -21.33414077758789 1.2748894691467283\n",
            "    scaled_gr_tofit range: -0.6614716418367199 1.601563571116388\n"
          ]
        },
        {
          "output_type": "stream",
          "name": "stderr",
          "text": [
            "<ipython-input-35-cfc9933a455f>:12: FutureWarning: Downcasting object dtype arrays on .fillna, .ffill, .bfill is deprecated and will change in a future version. Call result.infer_objects(copy=False) instead. To opt-in to the future behavior, set `pd.set_option('future.no_silent_downcasting', True)`\n",
            "  & (~mut_merged[\"STOP\"].fillna(False).astype(bool))\n",
            "<ipython-input-34-bc8a3a2bcc8a>:11: RuntimeWarning: overflow encountered in exp\n",
            "  return 1.0 / (1.0 + np.exp(-(x - xmid) / scale))\n"
          ]
        },
        {
          "output_type": "stream",
          "name": "stdout",
          "text": [
            "    best_params: xmid=-13.365, scale=1.0000, deviance=366.809\n",
            "\n",
            "Fitting domain: Q96J02_PF00397_474\n",
            "    len: 1018\n",
            "    esm1vfl_score range: -21.3211727142334 1.2748894691467283\n",
            "    scaled_gr_tofit range: -0.23682837251092992 1.38501435830148\n"
          ]
        },
        {
          "output_type": "stream",
          "name": "stderr",
          "text": [
            "<ipython-input-35-cfc9933a455f>:12: FutureWarning: Downcasting object dtype arrays on .fillna, .ffill, .bfill is deprecated and will change in a future version. Call result.infer_objects(copy=False) instead. To opt-in to the future behavior, set `pd.set_option('future.no_silent_downcasting', True)`\n",
            "  & (~mut_merged[\"STOP\"].fillna(False).astype(bool))\n",
            "<ipython-input-34-bc8a3a2bcc8a>:11: RuntimeWarning: overflow encountered in exp\n",
            "  return 1.0 / (1.0 + np.exp(-(x - xmid) / scale))\n"
          ]
        },
        {
          "output_type": "stream",
          "name": "stdout",
          "text": [
            "    best_params: xmid=-13.670, scale=1.0000, deviance=95.053\n",
            "\n",
            "Fitting domain: Q96JN0_PF05225_353\n",
            "    len: 772\n",
            "    esm1vfl_score range: -22.54257583618164 -0.6299524307250977\n",
            "    scaled_gr_tofit range: -0.2538911268906301 1.225525201178775\n"
          ]
        },
        {
          "output_type": "stream",
          "name": "stderr",
          "text": [
            "<ipython-input-35-cfc9933a455f>:12: FutureWarning: Downcasting object dtype arrays on .fillna, .ffill, .bfill is deprecated and will change in a future version. Call result.infer_objects(copy=False) instead. To opt-in to the future behavior, set `pd.set_option('future.no_silent_downcasting', True)`\n",
            "  & (~mut_merged[\"STOP\"].fillna(False).astype(bool))\n",
            "<ipython-input-34-bc8a3a2bcc8a>:11: RuntimeWarning: overflow encountered in exp\n",
            "  return 1.0 / (1.0 + np.exp(-(x - xmid) / scale))\n"
          ]
        },
        {
          "output_type": "stream",
          "name": "stdout",
          "text": [
            "    best_params: xmid=-13.683, scale=1.0000, deviance=92.768\n"
          ]
        },
        {
          "output_type": "stream",
          "name": "stderr",
          "text": [
            "<ipython-input-35-cfc9933a455f>:12: FutureWarning: Downcasting object dtype arrays on .fillna, .ffill, .bfill is deprecated and will change in a future version. Call result.infer_objects(copy=False) instead. To opt-in to the future behavior, set `pd.set_option('future.no_silent_downcasting', True)`\n",
            "  & (~mut_merged[\"STOP\"].fillna(False).astype(bool))\n",
            "<ipython-input-34-bc8a3a2bcc8a>:11: RuntimeWarning: overflow encountered in exp\n",
            "  return 1.0 / (1.0 + np.exp(-(x - xmid) / scale))\n"
          ]
        },
        {
          "output_type": "stream",
          "name": "stdout",
          "text": [
            "\n",
            "Fitting domain: Q96JY6_PF00412_284\n",
            "    len: 1039\n",
            "    esm1vfl_score range: -20.04111099243164 1.2428112030029297\n",
            "    scaled_gr_tofit range: -0.24806052653074007 1.797354717374841\n",
            "    best_params: xmid=-13.849, scale=1.0000, deviance=333.910\n"
          ]
        },
        {
          "output_type": "stream",
          "name": "stderr",
          "text": [
            "<ipython-input-35-cfc9933a455f>:12: FutureWarning: Downcasting object dtype arrays on .fillna, .ffill, .bfill is deprecated and will change in a future version. Call result.infer_objects(copy=False) instead. To opt-in to the future behavior, set `pd.set_option('future.no_silent_downcasting', True)`\n",
            "  & (~mut_merged[\"STOP\"].fillna(False).astype(bool))\n",
            "<ipython-input-34-bc8a3a2bcc8a>:11: RuntimeWarning: overflow encountered in exp\n",
            "  return 1.0 / (1.0 + np.exp(-(x - xmid) / scale))\n"
          ]
        },
        {
          "output_type": "stream",
          "name": "stdout",
          "text": [
            "\n",
            "Fitting domain: Q96K80_PF00642_138\n",
            "    len: 416\n",
            "    esm1vfl_score range: -19.02698516845703 -0.4082438945770263\n",
            "    scaled_gr_tofit range: -0.1678800870100401 1.387175560177163\n",
            "    best_params: xmid=-10.682, scale=1.0000, deviance=50.002\n",
            "\n",
            "Fitting domain: Q96KC8_PF00249_494\n",
            "    len: 921\n",
            "    esm1vfl_score range: -22.652978897094727 1.5495061874389648\n",
            "    scaled_gr_tofit range: -0.22325029931934992 1.559989615651879\n"
          ]
        },
        {
          "output_type": "stream",
          "name": "stderr",
          "text": [
            "<ipython-input-35-cfc9933a455f>:12: FutureWarning: Downcasting object dtype arrays on .fillna, .ffill, .bfill is deprecated and will change in a future version. Call result.infer_objects(copy=False) instead. To opt-in to the future behavior, set `pd.set_option('future.no_silent_downcasting', True)`\n",
            "  & (~mut_merged[\"STOP\"].fillna(False).astype(bool))\n",
            "<ipython-input-34-bc8a3a2bcc8a>:11: RuntimeWarning: overflow encountered in exp\n",
            "  return 1.0 / (1.0 + np.exp(-(x - xmid) / scale))\n"
          ]
        },
        {
          "output_type": "stream",
          "name": "stdout",
          "text": [
            "    best_params: xmid=-15.189, scale=1.0000, deviance=144.454\n",
            "\n",
            "Fitting domain: Q96PU5_PF00397_184\n",
            "    len: 897\n",
            "    esm1vfl_score range: -21.55805397033692 1.7803077697753906\n",
            "    scaled_gr_tofit range: -0.83316957013831 1.296960231242575\n"
          ]
        },
        {
          "output_type": "stream",
          "name": "stderr",
          "text": [
            "<ipython-input-35-cfc9933a455f>:12: FutureWarning: Downcasting object dtype arrays on .fillna, .ffill, .bfill is deprecated and will change in a future version. Call result.infer_objects(copy=False) instead. To opt-in to the future behavior, set `pd.set_option('future.no_silent_downcasting', True)`\n",
            "  & (~mut_merged[\"STOP\"].fillna(False).astype(bool))\n",
            "<ipython-input-34-bc8a3a2bcc8a>:11: RuntimeWarning: overflow encountered in exp\n",
            "  return 1.0 / (1.0 + np.exp(-(x - xmid) / scale))\n"
          ]
        },
        {
          "output_type": "stream",
          "name": "stdout",
          "text": [
            "    best_params: xmid=-15.167, scale=1.0000, deviance=361.199\n",
            "\n",
            "Fitting domain: Q96PU5_PF00397_381\n",
            "    len: 613\n",
            "    esm1vfl_score range: -23.386001586914062 -0.8114232420921326\n",
            "    scaled_gr_tofit range: -0.5665016328347801 1.4301476895138259\n"
          ]
        },
        {
          "output_type": "stream",
          "name": "stderr",
          "text": [
            "<ipython-input-35-cfc9933a455f>:12: FutureWarning: Downcasting object dtype arrays on .fillna, .ffill, .bfill is deprecated and will change in a future version. Call result.infer_objects(copy=False) instead. To opt-in to the future behavior, set `pd.set_option('future.no_silent_downcasting', True)`\n",
            "  & (~mut_merged[\"STOP\"].fillna(False).astype(bool))\n",
            "<ipython-input-34-bc8a3a2bcc8a>:11: RuntimeWarning: overflow encountered in exp\n",
            "  return 1.0 / (1.0 + np.exp(-(x - xmid) / scale))\n"
          ]
        },
        {
          "output_type": "stream",
          "name": "stdout",
          "text": [
            "    best_params: xmid=-14.314, scale=1.0000, deviance=146.446\n",
            "\n",
            "Fitting domain: Q96PU5_PF00397_539\n",
            "    len: 907\n",
            "    esm1vfl_score range: -21.59943962097168 1.378615379333496\n",
            "    scaled_gr_tofit range: -0.34690542136161007 1.373699540602386\n"
          ]
        },
        {
          "output_type": "stream",
          "name": "stderr",
          "text": [
            "<ipython-input-35-cfc9933a455f>:12: FutureWarning: Downcasting object dtype arrays on .fillna, .ffill, .bfill is deprecated and will change in a future version. Call result.infer_objects(copy=False) instead. To opt-in to the future behavior, set `pd.set_option('future.no_silent_downcasting', True)`\n",
            "  & (~mut_merged[\"STOP\"].fillna(False).astype(bool))\n",
            "<ipython-input-34-bc8a3a2bcc8a>:11: RuntimeWarning: overflow encountered in exp\n",
            "  return 1.0 / (1.0 + np.exp(-(x - xmid) / scale))\n"
          ]
        },
        {
          "output_type": "stream",
          "name": "stdout",
          "text": [
            "    best_params: xmid=-14.280, scale=1.0000, deviance=162.076\n",
            "\n",
            "Fitting domain: Q96QS3_PF00046_330\n",
            "    len: 1033\n",
            "    esm1vfl_score range: -25.594951629638672 -2.0989699363708496\n",
            "    scaled_gr_tofit range: -0.23689887241364005 1.383591482790612\n"
          ]
        },
        {
          "output_type": "stream",
          "name": "stderr",
          "text": [
            "<ipython-input-35-cfc9933a455f>:12: FutureWarning: Downcasting object dtype arrays on .fillna, .ffill, .bfill is deprecated and will change in a future version. Call result.infer_objects(copy=False) instead. To opt-in to the future behavior, set `pd.set_option('future.no_silent_downcasting', True)`\n",
            "  & (~mut_merged[\"STOP\"].fillna(False).astype(bool))\n",
            "<ipython-input-34-bc8a3a2bcc8a>:11: RuntimeWarning: overflow encountered in exp\n",
            "  return 1.0 / (1.0 + np.exp(-(x - xmid) / scale))\n"
          ]
        },
        {
          "output_type": "stream",
          "name": "stdout",
          "text": [
            "    best_params: xmid=-17.133, scale=1.0000, deviance=155.842\n",
            "\n",
            "Fitting domain: Q96QZ7_PF00397_294\n",
            "    len: 861\n",
            "    esm1vfl_score range: -21.95947551727295 0.3354916572570801\n",
            "    scaled_gr_tofit range: -0.2275112311185099 1.19991381406976\n"
          ]
        },
        {
          "output_type": "stream",
          "name": "stderr",
          "text": [
            "<ipython-input-35-cfc9933a455f>:12: FutureWarning: Downcasting object dtype arrays on .fillna, .ffill, .bfill is deprecated and will change in a future version. Call result.infer_objects(copy=False) instead. To opt-in to the future behavior, set `pd.set_option('future.no_silent_downcasting', True)`\n",
            "  & (~mut_merged[\"STOP\"].fillna(False).astype(bool))\n",
            "<ipython-input-34-bc8a3a2bcc8a>:11: RuntimeWarning: overflow encountered in exp\n",
            "  return 1.0 / (1.0 + np.exp(-(x - xmid) / scale))\n"
          ]
        },
        {
          "output_type": "stream",
          "name": "stdout",
          "text": [
            "    best_params: xmid=-12.331, scale=1.0000, deviance=48.283\n",
            "\n",
            "Fitting domain: Q96QZ7_PF00397_352\n",
            "    len: 907\n",
            "    esm1vfl_score range: -20.495569229125977 1.4730777740478516\n",
            "    scaled_gr_tofit range: -0.33693834551659996 1.372437730799881\n"
          ]
        },
        {
          "output_type": "stream",
          "name": "stderr",
          "text": [
            "<ipython-input-35-cfc9933a455f>:12: FutureWarning: Downcasting object dtype arrays on .fillna, .ffill, .bfill is deprecated and will change in a future version. Call result.infer_objects(copy=False) instead. To opt-in to the future behavior, set `pd.set_option('future.no_silent_downcasting', True)`\n",
            "  & (~mut_merged[\"STOP\"].fillna(False).astype(bool))\n",
            "<ipython-input-34-bc8a3a2bcc8a>:11: RuntimeWarning: overflow encountered in exp\n",
            "  return 1.0 / (1.0 + np.exp(-(x - xmid) / scale))\n"
          ]
        },
        {
          "output_type": "stream",
          "name": "stdout",
          "text": [
            "    best_params: xmid=-12.175, scale=1.0000, deviance=139.990\n",
            "\n",
            "Fitting domain: Q96RT1_PF00595_1321\n",
            "    len: 1690\n",
            "    esm1vfl_score range: -19.64292143135306 0.8712676525345078\n",
            "    scaled_gr_tofit range: -0.40875988010949005 1.370451478300112\n"
          ]
        },
        {
          "output_type": "stream",
          "name": "stderr",
          "text": [
            "<ipython-input-35-cfc9933a455f>:12: FutureWarning: Downcasting object dtype arrays on .fillna, .ffill, .bfill is deprecated and will change in a future version. Call result.infer_objects(copy=False) instead. To opt-in to the future behavior, set `pd.set_option('future.no_silent_downcasting', True)`\n",
            "  & (~mut_merged[\"STOP\"].fillna(False).astype(bool))\n",
            "<ipython-input-34-bc8a3a2bcc8a>:11: RuntimeWarning: overflow encountered in exp\n",
            "  return 1.0 / (1.0 + np.exp(-(x - xmid) / scale))\n"
          ]
        },
        {
          "output_type": "stream",
          "name": "stdout",
          "text": [
            "    best_params: xmid=-8.801, scale=1.0000, deviance=233.737\n",
            "\n",
            "Fitting domain: Q96T51_PF01363_639\n",
            "    len: 1069\n",
            "    esm1vfl_score range: -20.07004165649414 1.340475082397461\n",
            "    scaled_gr_tofit range: -0.2534697110067601 1.445443257748774\n"
          ]
        },
        {
          "output_type": "stream",
          "name": "stderr",
          "text": [
            "<ipython-input-35-cfc9933a455f>:12: FutureWarning: Downcasting object dtype arrays on .fillna, .ffill, .bfill is deprecated and will change in a future version. Call result.infer_objects(copy=False) instead. To opt-in to the future behavior, set `pd.set_option('future.no_silent_downcasting', True)`\n",
            "  & (~mut_merged[\"STOP\"].fillna(False).astype(bool))\n",
            "<ipython-input-34-bc8a3a2bcc8a>:11: RuntimeWarning: overflow encountered in exp\n",
            "  return 1.0 / (1.0 + np.exp(-(x - xmid) / scale))\n"
          ]
        },
        {
          "output_type": "stream",
          "name": "stdout",
          "text": [
            "    best_params: xmid=-12.505, scale=1.0000, deviance=199.649\n"
          ]
        },
        {
          "output_type": "stream",
          "name": "stderr",
          "text": [
            "<ipython-input-35-cfc9933a455f>:12: FutureWarning: Downcasting object dtype arrays on .fillna, .ffill, .bfill is deprecated and will change in a future version. Call result.infer_objects(copy=False) instead. To opt-in to the future behavior, set `pd.set_option('future.no_silent_downcasting', True)`\n",
            "  & (~mut_merged[\"STOP\"].fillna(False).astype(bool))\n",
            "<ipython-input-34-bc8a3a2bcc8a>:11: RuntimeWarning: overflow encountered in exp\n",
            "  return 1.0 / (1.0 + np.exp(-(x - xmid) / scale))\n"
          ]
        },
        {
          "output_type": "stream",
          "name": "stdout",
          "text": [
            "\n",
            "Fitting domain: Q99501_PF02187_209\n",
            "    len: 1235\n",
            "    esm1vfl_score range: -21.06744384765625 3.006543636322021\n",
            "    scaled_gr_tofit range: -0.24310109614884 1.383213818990398\n",
            "    best_params: xmid=-10.426, scale=1.0000, deviance=218.163\n"
          ]
        },
        {
          "output_type": "stream",
          "name": "stderr",
          "text": [
            "<ipython-input-35-cfc9933a455f>:12: FutureWarning: Downcasting object dtype arrays on .fillna, .ffill, .bfill is deprecated and will change in a future version. Call result.infer_objects(copy=False) instead. To opt-in to the future behavior, set `pd.set_option('future.no_silent_downcasting', True)`\n",
            "  & (~mut_merged[\"STOP\"].fillna(False).astype(bool))\n",
            "<ipython-input-34-bc8a3a2bcc8a>:11: RuntimeWarning: overflow encountered in exp\n",
            "  return 1.0 / (1.0 + np.exp(-(x - xmid) / scale))\n"
          ]
        },
        {
          "output_type": "stream",
          "name": "stdout",
          "text": [
            "\n",
            "Fitting domain: Q99543_PF00249_451\n",
            "    len: 887\n",
            "    esm1vfl_score range: -20.96573257446289 -0.1460380554199218\n",
            "    scaled_gr_tofit range: -0.17469768918814 1.207652157925282\n",
            "    best_params: xmid=-11.909, scale=1.0000, deviance=68.698\n",
            "\n",
            "Fitting domain: Q99615_PF00226_382\n",
            "    len: 1234\n",
            "    esm1vfl_score range: -23.28801155090332 -0.0019831657409667\n",
            "    scaled_gr_tofit range: -1.39108543746466 1.341148579293995\n"
          ]
        },
        {
          "output_type": "stream",
          "name": "stderr",
          "text": [
            "<ipython-input-35-cfc9933a455f>:12: FutureWarning: Downcasting object dtype arrays on .fillna, .ffill, .bfill is deprecated and will change in a future version. Call result.infer_objects(copy=False) instead. To opt-in to the future behavior, set `pd.set_option('future.no_silent_downcasting', True)`\n",
            "  & (~mut_merged[\"STOP\"].fillna(False).astype(bool))\n",
            "<ipython-input-34-bc8a3a2bcc8a>:11: RuntimeWarning: overflow encountered in exp\n",
            "  return 1.0 / (1.0 + np.exp(-(x - xmid) / scale))\n"
          ]
        },
        {
          "output_type": "stream",
          "name": "stdout",
          "text": [
            "    best_params: xmid=-15.860, scale=1.0000, deviance=853.553\n",
            "\n",
            "Fitting domain: Q99684_PF00096_256\n",
            "    len: 432\n",
            "    esm1vfl_score range: -22.08666038513184 -4.518850326538086\n",
            "    scaled_gr_tofit range: -0.38484628107795005 1.458753351305187\n"
          ]
        },
        {
          "output_type": "stream",
          "name": "stderr",
          "text": [
            "<ipython-input-35-cfc9933a455f>:12: FutureWarning: Downcasting object dtype arrays on .fillna, .ffill, .bfill is deprecated and will change in a future version. Call result.infer_objects(copy=False) instead. To opt-in to the future behavior, set `pd.set_option('future.no_silent_downcasting', True)`\n",
            "  & (~mut_merged[\"STOP\"].fillna(False).astype(bool))\n",
            "<ipython-input-34-bc8a3a2bcc8a>:11: RuntimeWarning: overflow encountered in exp\n",
            "  return 1.0 / (1.0 + np.exp(-(x - xmid) / scale))\n"
          ]
        },
        {
          "output_type": "stream",
          "name": "stdout",
          "text": [
            "    best_params: xmid=-15.542, scale=1.0000, deviance=105.982\n",
            "\n",
            "Fitting domain: Q99684_PF00096_313\n",
            "    len: 413\n",
            "    esm1vfl_score range: -23.880416870117188 -4.880559921264648\n",
            "    scaled_gr_tofit range: -0.16554442958361992 1.491564114938191\n"
          ]
        },
        {
          "output_type": "stream",
          "name": "stderr",
          "text": [
            "<ipython-input-35-cfc9933a455f>:12: FutureWarning: Downcasting object dtype arrays on .fillna, .ffill, .bfill is deprecated and will change in a future version. Call result.infer_objects(copy=False) instead. To opt-in to the future behavior, set `pd.set_option('future.no_silent_downcasting', True)`\n",
            "  & (~mut_merged[\"STOP\"].fillna(False).astype(bool))\n",
            "<ipython-input-34-bc8a3a2bcc8a>:11: RuntimeWarning: overflow encountered in exp\n",
            "  return 1.0 / (1.0 + np.exp(-(x - xmid) / scale))\n"
          ]
        },
        {
          "output_type": "stream",
          "name": "stdout",
          "text": [
            "    best_params: xmid=-16.918, scale=1.0000, deviance=77.813\n",
            "\n",
            "Fitting domain: Q9BRP0_PF00096_215\n",
            "    len: 430\n",
            "    esm1vfl_score range: -18.14947891235352 -1.3046199083328247\n",
            "    scaled_gr_tofit range: -0.4023327379758399 1.315039371972375\n"
          ]
        },
        {
          "output_type": "stream",
          "name": "stderr",
          "text": [
            "<ipython-input-35-cfc9933a455f>:12: FutureWarning: Downcasting object dtype arrays on .fillna, .ffill, .bfill is deprecated and will change in a future version. Call result.infer_objects(copy=False) instead. To opt-in to the future behavior, set `pd.set_option('future.no_silent_downcasting', True)`\n",
            "  & (~mut_merged[\"STOP\"].fillna(False).astype(bool))\n",
            "<ipython-input-34-bc8a3a2bcc8a>:11: RuntimeWarning: overflow encountered in exp\n",
            "  return 1.0 / (1.0 + np.exp(-(x - xmid) / scale))\n"
          ]
        },
        {
          "output_type": "stream",
          "name": "stdout",
          "text": [
            "    best_params: xmid=-11.069, scale=1.0000, deviance=53.309\n",
            "\n",
            "Fitting domain: Q9BTC8_PF00249_265\n",
            "    len: 864\n",
            "    esm1vfl_score range: -21.782344818115234 -1.1897096633911133\n",
            "    scaled_gr_tofit range: -0.47106098226147997 2.1901053910412402\n"
          ]
        },
        {
          "output_type": "stream",
          "name": "stderr",
          "text": [
            "<ipython-input-35-cfc9933a455f>:12: FutureWarning: Downcasting object dtype arrays on .fillna, .ffill, .bfill is deprecated and will change in a future version. Call result.infer_objects(copy=False) instead. To opt-in to the future behavior, set `pd.set_option('future.no_silent_downcasting', True)`\n",
            "  & (~mut_merged[\"STOP\"].fillna(False).astype(bool))\n",
            "<ipython-input-34-bc8a3a2bcc8a>:11: RuntimeWarning: overflow encountered in exp\n",
            "  return 1.0 / (1.0 + np.exp(-(x - xmid) / scale))\n"
          ]
        },
        {
          "output_type": "stream",
          "name": "stdout",
          "text": [
            "    best_params: xmid=-14.103, scale=1.0000, deviance=817.228\n"
          ]
        },
        {
          "output_type": "stream",
          "name": "stderr",
          "text": [
            "<ipython-input-35-cfc9933a455f>:12: FutureWarning: Downcasting object dtype arrays on .fillna, .ffill, .bfill is deprecated and will change in a future version. Call result.infer_objects(copy=False) instead. To opt-in to the future behavior, set `pd.set_option('future.no_silent_downcasting', True)`\n",
            "  & (~mut_merged[\"STOP\"].fillna(False).astype(bool))\n",
            "<ipython-input-34-bc8a3a2bcc8a>:11: RuntimeWarning: overflow encountered in exp\n",
            "  return 1.0 / (1.0 + np.exp(-(x - xmid) / scale))\n"
          ]
        },
        {
          "output_type": "stream",
          "name": "stdout",
          "text": [
            "\n",
            "Fitting domain: Q9BUJ2_PF02037_1\n",
            "    len: 707\n",
            "    esm1vfl_score range: -22.92504119873047 0.3869667053222656\n",
            "    scaled_gr_tofit range: -0.41632431553623994 1.544420175527243\n",
            "    best_params: xmid=-13.380, scale=1.0000, deviance=172.048\n"
          ]
        },
        {
          "output_type": "stream",
          "name": "stderr",
          "text": [
            "<ipython-input-35-cfc9933a455f>:12: FutureWarning: Downcasting object dtype arrays on .fillna, .ffill, .bfill is deprecated and will change in a future version. Call result.infer_objects(copy=False) instead. To opt-in to the future behavior, set `pd.set_option('future.no_silent_downcasting', True)`\n",
            "  & (~mut_merged[\"STOP\"].fillna(False).astype(bool))\n",
            "<ipython-input-34-bc8a3a2bcc8a>:11: RuntimeWarning: overflow encountered in exp\n",
            "  return 1.0 / (1.0 + np.exp(-(x - xmid) / scale))\n"
          ]
        },
        {
          "output_type": "stream",
          "name": "stdout",
          "text": [
            "\n",
            "Fitting domain: Q9BV68_PF14369_11\n",
            "    len: 468\n",
            "    esm1vfl_score range: -17.34844398498535 -0.3510313630104065\n",
            "    scaled_gr_tofit range: -0.56141360551427 1.44056741188516\n",
            "    best_params: xmid=-12.149, scale=1.0000, deviance=105.242\n",
            "\n",
            "Fitting domain: Q9BY11_PF14604_387\n",
            "    len: 1012\n",
            "    esm1vfl_score range: -24.074275970458984 -0.8276243209838867\n",
            "    scaled_gr_tofit range: -0.17766046025277005 1.214852873365133\n"
          ]
        },
        {
          "output_type": "stream",
          "name": "stderr",
          "text": [
            "<ipython-input-35-cfc9933a455f>:12: FutureWarning: Downcasting object dtype arrays on .fillna, .ffill, .bfill is deprecated and will change in a future version. Call result.infer_objects(copy=False) instead. To opt-in to the future behavior, set `pd.set_option('future.no_silent_downcasting', True)`\n",
            "  & (~mut_merged[\"STOP\"].fillna(False).astype(bool))\n",
            "<ipython-input-34-bc8a3a2bcc8a>:11: RuntimeWarning: overflow encountered in exp\n",
            "  return 1.0 / (1.0 + np.exp(-(x - xmid) / scale))\n"
          ]
        },
        {
          "output_type": "stream",
          "name": "stdout",
          "text": [
            "    best_params: xmid=-13.953, scale=1.0000, deviance=78.893\n"
          ]
        },
        {
          "output_type": "stream",
          "name": "stderr",
          "text": [
            "<ipython-input-35-cfc9933a455f>:12: FutureWarning: Downcasting object dtype arrays on .fillna, .ffill, .bfill is deprecated and will change in a future version. Call result.infer_objects(copy=False) instead. To opt-in to the future behavior, set `pd.set_option('future.no_silent_downcasting', True)`\n",
            "  & (~mut_merged[\"STOP\"].fillna(False).astype(bool))\n",
            "<ipython-input-34-bc8a3a2bcc8a>:11: RuntimeWarning: overflow encountered in exp\n",
            "  return 1.0 / (1.0 + np.exp(-(x - xmid) / scale))\n"
          ]
        },
        {
          "output_type": "stream",
          "name": "stdout",
          "text": [
            "\n",
            "Fitting domain: Q9BYM8_PF01485_369\n",
            "    len: 726\n",
            "    esm1vfl_score range: -21.44782257080078 1.4629931449890137\n",
            "    scaled_gr_tofit range: -0.32458177965929 1.304455209435155\n",
            "    best_params: xmid=-12.604, scale=1.0000, deviance=86.314\n"
          ]
        },
        {
          "output_type": "stream",
          "name": "stderr",
          "text": [
            "<ipython-input-35-cfc9933a455f>:12: FutureWarning: Downcasting object dtype arrays on .fillna, .ffill, .bfill is deprecated and will change in a future version. Call result.infer_objects(copy=False) instead. To opt-in to the future behavior, set `pd.set_option('future.no_silent_downcasting', True)`\n",
            "  & (~mut_merged[\"STOP\"].fillna(False).astype(bool))\n",
            "<ipython-input-34-bc8a3a2bcc8a>:11: RuntimeWarning: overflow encountered in exp\n",
            "  return 1.0 / (1.0 + np.exp(-(x - xmid) / scale))\n"
          ]
        },
        {
          "output_type": "stream",
          "name": "stdout",
          "text": [
            "\n",
            "Fitting domain: Q9BZM3_PF00046_204\n",
            "    len: 986\n",
            "    esm1vfl_score range: -24.5465145111084 -0.8368621468544006\n",
            "    scaled_gr_tofit range: -0.1573887392634301 1.581534558400427\n",
            "    best_params: xmid=-14.168, scale=1.0000, deviance=201.900\n"
          ]
        },
        {
          "output_type": "stream",
          "name": "stderr",
          "text": [
            "<ipython-input-35-cfc9933a455f>:12: FutureWarning: Downcasting object dtype arrays on .fillna, .ffill, .bfill is deprecated and will change in a future version. Call result.infer_objects(copy=False) instead. To opt-in to the future behavior, set `pd.set_option('future.no_silent_downcasting', True)`\n",
            "  & (~mut_merged[\"STOP\"].fillna(False).astype(bool))\n",
            "<ipython-input-34-bc8a3a2bcc8a>:11: RuntimeWarning: overflow encountered in exp\n",
            "  return 1.0 / (1.0 + np.exp(-(x - xmid) / scale))\n"
          ]
        },
        {
          "output_type": "stream",
          "name": "stdout",
          "text": [
            "\n",
            "Fitting domain: Q9C030_PF00643_93\n",
            "    len: 597\n",
            "    esm1vfl_score range: -16.45929718017578 -0.1414713859558105\n",
            "    scaled_gr_tofit range: -0.31972231665180995 1.3809718770954351\n",
            "    best_params: xmid=-9.587, scale=1.0000, deviance=83.097\n",
            "\n",
            "Fitting domain: Q9GZV5_PF00397_116\n",
            "    len: 842\n",
            "    esm1vfl_score range: -21.46292495727539 0.827311098575592\n",
            "    scaled_gr_tofit range: -0.15374763259231994 1.36108800256112\n"
          ]
        },
        {
          "output_type": "stream",
          "name": "stderr",
          "text": [
            "<ipython-input-35-cfc9933a455f>:12: FutureWarning: Downcasting object dtype arrays on .fillna, .ffill, .bfill is deprecated and will change in a future version. Call result.infer_objects(copy=False) instead. To opt-in to the future behavior, set `pd.set_option('future.no_silent_downcasting', True)`\n",
            "  & (~mut_merged[\"STOP\"].fillna(False).astype(bool))\n",
            "<ipython-input-34-bc8a3a2bcc8a>:11: RuntimeWarning: overflow encountered in exp\n",
            "  return 1.0 / (1.0 + np.exp(-(x - xmid) / scale))\n"
          ]
        },
        {
          "output_type": "stream",
          "name": "stdout",
          "text": [
            "    best_params: xmid=-12.352, scale=1.0000, deviance=62.475\n",
            "\n",
            "Fitting domain: Q9H000_PF00642_37\n",
            "    len: 318\n",
            "    esm1vfl_score range: -18.897350311279297 0.061711311340332\n",
            "    scaled_gr_tofit range: -0.5577468765650799 1.5312281854042\n"
          ]
        },
        {
          "output_type": "stream",
          "name": "stderr",
          "text": [
            "<ipython-input-35-cfc9933a455f>:12: FutureWarning: Downcasting object dtype arrays on .fillna, .ffill, .bfill is deprecated and will change in a future version. Call result.infer_objects(copy=False) instead. To opt-in to the future behavior, set `pd.set_option('future.no_silent_downcasting', True)`\n",
            "  & (~mut_merged[\"STOP\"].fillna(False).astype(bool))\n",
            "<ipython-input-34-bc8a3a2bcc8a>:11: RuntimeWarning: overflow encountered in exp\n",
            "  return 1.0 / (1.0 + np.exp(-(x - xmid) / scale))\n"
          ]
        },
        {
          "output_type": "stream",
          "name": "stdout",
          "text": [
            "    best_params: xmid=-12.829, scale=1.0000, deviance=96.451\n",
            "\n",
            "Fitting domain: Q9H0A6_PF00612_189\n",
            "    len: 320\n",
            "    esm1vfl_score range: -18.722631454467773 0.4215241074562073\n",
            "    scaled_gr_tofit range: -0.1405335985384999 1.243388382604817\n"
          ]
        },
        {
          "output_type": "stream",
          "name": "stderr",
          "text": [
            "<ipython-input-35-cfc9933a455f>:12: FutureWarning: Downcasting object dtype arrays on .fillna, .ffill, .bfill is deprecated and will change in a future version. Call result.infer_objects(copy=False) instead. To opt-in to the future behavior, set `pd.set_option('future.no_silent_downcasting', True)`\n",
            "  & (~mut_merged[\"STOP\"].fillna(False).astype(bool))\n",
            "<ipython-input-34-bc8a3a2bcc8a>:11: RuntimeWarning: overflow encountered in exp\n",
            "  return 1.0 / (1.0 + np.exp(-(x - xmid) / scale))\n"
          ]
        },
        {
          "output_type": "stream",
          "name": "stdout",
          "text": [
            "    best_params: xmid=-10.868, scale=1.0000, deviance=28.878\n",
            "\n",
            "Fitting domain: Q9H0M0_PF00397_343\n",
            "    len: 889\n",
            "    esm1vfl_score range: -21.97705841064453 0.6926516890525818\n",
            "    scaled_gr_tofit range: -0.47846420822593005 1.452562388192389\n"
          ]
        },
        {
          "output_type": "stream",
          "name": "stderr",
          "text": [
            "<ipython-input-35-cfc9933a455f>:12: FutureWarning: Downcasting object dtype arrays on .fillna, .ffill, .bfill is deprecated and will change in a future version. Call result.infer_objects(copy=False) instead. To opt-in to the future behavior, set `pd.set_option('future.no_silent_downcasting', True)`\n",
            "  & (~mut_merged[\"STOP\"].fillna(False).astype(bool))\n",
            "<ipython-input-34-bc8a3a2bcc8a>:11: RuntimeWarning: overflow encountered in exp\n",
            "  return 1.0 / (1.0 + np.exp(-(x - xmid) / scale))\n"
          ]
        },
        {
          "output_type": "stream",
          "name": "stdout",
          "text": [
            "    best_params: xmid=-12.358, scale=1.0000, deviance=234.424\n",
            "\n",
            "Fitting domain: Q9H161_PF00046_216\n",
            "    len: 979\n",
            "    esm1vfl_score range: -24.745922088623047 -1.8174705505371087\n",
            "    scaled_gr_tofit range: -0.15478561839227 1.382165783891827\n"
          ]
        },
        {
          "output_type": "stream",
          "name": "stderr",
          "text": [
            "<ipython-input-35-cfc9933a455f>:12: FutureWarning: Downcasting object dtype arrays on .fillna, .ffill, .bfill is deprecated and will change in a future version. Call result.infer_objects(copy=False) instead. To opt-in to the future behavior, set `pd.set_option('future.no_silent_downcasting', True)`\n",
            "  & (~mut_merged[\"STOP\"].fillna(False).astype(bool))\n",
            "<ipython-input-34-bc8a3a2bcc8a>:11: RuntimeWarning: overflow encountered in exp\n",
            "  return 1.0 / (1.0 + np.exp(-(x - xmid) / scale))\n"
          ]
        },
        {
          "output_type": "stream",
          "name": "stdout",
          "text": [
            "    best_params: xmid=-15.757, scale=1.0000, deviance=126.504\n"
          ]
        },
        {
          "output_type": "stream",
          "name": "stderr",
          "text": [
            "<ipython-input-35-cfc9933a455f>:12: FutureWarning: Downcasting object dtype arrays on .fillna, .ffill, .bfill is deprecated and will change in a future version. Call result.infer_objects(copy=False) instead. To opt-in to the future behavior, set `pd.set_option('future.no_silent_downcasting', True)`\n",
            "  & (~mut_merged[\"STOP\"].fillna(False).astype(bool))\n",
            "<ipython-input-34-bc8a3a2bcc8a>:11: RuntimeWarning: overflow encountered in exp\n",
            "  return 1.0 / (1.0 + np.exp(-(x - xmid) / scale))\n"
          ]
        },
        {
          "output_type": "stream",
          "name": "stdout",
          "text": [
            "\n",
            "Fitting domain: Q9H2P0_PF00046_770\n",
            "    len: 720\n",
            "    esm1vfl_score range: -15.326695276018109 3.8950998812976056\n",
            "    scaled_gr_tofit range: -0.43147708556950004 1.549667965486756\n",
            "    best_params: xmid=-12.443, scale=1.0000, deviance=263.709\n",
            "\n",
            "Fitting domain: Q9H347_PF00627_613\n",
            "    len: 755\n",
            "    esm1vfl_score range: -18.409448623657227 4.751204013824463\n",
            "    scaled_gr_tofit range: -0.29345830449096 1.363940485284055\n"
          ]
        },
        {
          "output_type": "stream",
          "name": "stderr",
          "text": [
            "<ipython-input-35-cfc9933a455f>:12: FutureWarning: Downcasting object dtype arrays on .fillna, .ffill, .bfill is deprecated and will change in a future version. Call result.infer_objects(copy=False) instead. To opt-in to the future behavior, set `pd.set_option('future.no_silent_downcasting', True)`\n",
            "  & (~mut_merged[\"STOP\"].fillna(False).astype(bool))\n",
            "<ipython-input-34-bc8a3a2bcc8a>:11: RuntimeWarning: overflow encountered in exp\n",
            "  return 1.0 / (1.0 + np.exp(-(x - xmid) / scale))\n"
          ]
        },
        {
          "output_type": "stream",
          "name": "stdout",
          "text": [
            "    best_params: xmid=-12.760, scale=1.0000, deviance=55.332\n"
          ]
        },
        {
          "output_type": "stream",
          "name": "stderr",
          "text": [
            "<ipython-input-35-cfc9933a455f>:12: FutureWarning: Downcasting object dtype arrays on .fillna, .ffill, .bfill is deprecated and will change in a future version. Call result.infer_objects(copy=False) instead. To opt-in to the future behavior, set `pd.set_option('future.no_silent_downcasting', True)`\n",
            "  & (~mut_merged[\"STOP\"].fillna(False).astype(bool))\n",
            "<ipython-input-34-bc8a3a2bcc8a>:11: RuntimeWarning: overflow encountered in exp\n",
            "  return 1.0 / (1.0 + np.exp(-(x - xmid) / scale))\n"
          ]
        },
        {
          "output_type": "stream",
          "name": "stdout",
          "text": [
            "\n",
            "Fitting domain: Q9H3D4_PF07647_545\n",
            "    len: 1234\n",
            "    esm1vfl_score range: -20.63414192199707 1.2709654569625854\n",
            "    scaled_gr_tofit range: -0.14843260233396993 1.112503702606756\n",
            "    best_params: xmid=-9.650, scale=1.0000, deviance=47.389\n",
            "\n",
            "Fitting domain: Q9H3Z4_PF00226_16\n",
            "    len: 1105\n",
            "    esm1vfl_score range: -21.05097198486328 0.0840449333190918\n",
            "    scaled_gr_tofit range: -0.72313319647954 1.521863569666222\n"
          ]
        },
        {
          "output_type": "stream",
          "name": "stderr",
          "text": [
            "<ipython-input-35-cfc9933a455f>:12: FutureWarning: Downcasting object dtype arrays on .fillna, .ffill, .bfill is deprecated and will change in a future version. Call result.infer_objects(copy=False) instead. To opt-in to the future behavior, set `pd.set_option('future.no_silent_downcasting', True)`\n",
            "  & (~mut_merged[\"STOP\"].fillna(False).astype(bool))\n",
            "<ipython-input-34-bc8a3a2bcc8a>:11: RuntimeWarning: overflow encountered in exp\n",
            "  return 1.0 / (1.0 + np.exp(-(x - xmid) / scale))\n"
          ]
        },
        {
          "output_type": "stream",
          "name": "stdout",
          "text": [
            "    best_params: xmid=-14.519, scale=1.0000, deviance=499.117\n",
            "\n",
            "Fitting domain: Q9H4A3_PF12202_481\n",
            "    len: 1592\n",
            "    esm1vfl_score range: -17.59660681473047 1.603894233703613\n",
            "    scaled_gr_tofit range: -0.52562710619999 1.77394574606779\n"
          ]
        },
        {
          "output_type": "stream",
          "name": "stderr",
          "text": [
            "<ipython-input-35-cfc9933a455f>:12: FutureWarning: Downcasting object dtype arrays on .fillna, .ffill, .bfill is deprecated and will change in a future version. Call result.infer_objects(copy=False) instead. To opt-in to the future behavior, set `pd.set_option('future.no_silent_downcasting', True)`\n",
            "  & (~mut_merged[\"STOP\"].fillna(False).astype(bool))\n",
            "<ipython-input-34-bc8a3a2bcc8a>:11: RuntimeWarning: overflow encountered in exp\n",
            "  return 1.0 / (1.0 + np.exp(-(x - xmid) / scale))\n"
          ]
        },
        {
          "output_type": "stream",
          "name": "stdout",
          "text": [
            "    best_params: xmid=-7.272, scale=1.0000, deviance=638.936\n",
            "\n",
            "Fitting domain: Q9H6I2_PF00505_69\n",
            "    len: 1123\n",
            "    esm1vfl_score range: -23.73298454284668 -0.5968084335327148\n",
            "    scaled_gr_tofit range: -0.45060001447244 1.3927819873304599\n"
          ]
        },
        {
          "output_type": "stream",
          "name": "stderr",
          "text": [
            "<ipython-input-35-cfc9933a455f>:12: FutureWarning: Downcasting object dtype arrays on .fillna, .ffill, .bfill is deprecated and will change in a future version. Call result.infer_objects(copy=False) instead. To opt-in to the future behavior, set `pd.set_option('future.no_silent_downcasting', True)`\n",
            "  & (~mut_merged[\"STOP\"].fillna(False).astype(bool))\n",
            "<ipython-input-34-bc8a3a2bcc8a>:11: RuntimeWarning: overflow encountered in exp\n",
            "  return 1.0 / (1.0 + np.exp(-(x - xmid) / scale))\n"
          ]
        },
        {
          "output_type": "stream",
          "name": "stdout",
          "text": [
            "    best_params: xmid=-15.783, scale=1.0000, deviance=290.255\n",
            "\n",
            "Fitting domain: Q9H7E2_PF00567_554\n",
            "    len: 1049\n",
            "    esm1vfl_score range: -20.49856185913086 0.5749349594116211\n",
            "    scaled_gr_tofit range: -0.30656353339295994 1.211232398654399\n"
          ]
        },
        {
          "output_type": "stream",
          "name": "stderr",
          "text": [
            "<ipython-input-35-cfc9933a455f>:12: FutureWarning: Downcasting object dtype arrays on .fillna, .ffill, .bfill is deprecated and will change in a future version. Call result.infer_objects(copy=False) instead. To opt-in to the future behavior, set `pd.set_option('future.no_silent_downcasting', True)`\n",
            "  & (~mut_merged[\"STOP\"].fillna(False).astype(bool))\n",
            "<ipython-input-34-bc8a3a2bcc8a>:11: RuntimeWarning: overflow encountered in exp\n",
            "  return 1.0 / (1.0 + np.exp(-(x - xmid) / scale))\n"
          ]
        },
        {
          "output_type": "stream",
          "name": "stdout",
          "text": [
            "    best_params: xmid=-9.825, scale=1.0000, deviance=107.924\n",
            "\n",
            "Fitting domain: Q9H9D4_PF00096_383\n",
            "    len: 368\n",
            "    esm1vfl_score range: -22.496097564697266 -0.2531185150146484\n",
            "    scaled_gr_tofit range: -0.9209810231136 1.2897948069134069\n"
          ]
        },
        {
          "output_type": "stream",
          "name": "stderr",
          "text": [
            "<ipython-input-35-cfc9933a455f>:12: FutureWarning: Downcasting object dtype arrays on .fillna, .ffill, .bfill is deprecated and will change in a future version. Call result.infer_objects(copy=False) instead. To opt-in to the future behavior, set `pd.set_option('future.no_silent_downcasting', True)`\n",
            "  & (~mut_merged[\"STOP\"].fillna(False).astype(bool))\n",
            "<ipython-input-34-bc8a3a2bcc8a>:11: RuntimeWarning: overflow encountered in exp\n",
            "  return 1.0 / (1.0 + np.exp(-(x - xmid) / scale))\n"
          ]
        },
        {
          "output_type": "stream",
          "name": "stdout",
          "text": [
            "    best_params: xmid=-14.183, scale=1.0000, deviance=192.122\n",
            "\n",
            "Fitting domain: Q9H9L4_PF13891_28\n",
            "    len: 1100\n",
            "    esm1vfl_score range: -20.37533569335937 4.912900447845459\n",
            "    scaled_gr_tofit range: -0.8116656680204499 1.184253940684782\n"
          ]
        },
        {
          "output_type": "stream",
          "name": "stderr",
          "text": [
            "<ipython-input-35-cfc9933a455f>:12: FutureWarning: Downcasting object dtype arrays on .fillna, .ffill, .bfill is deprecated and will change in a future version. Call result.infer_objects(copy=False) instead. To opt-in to the future behavior, set `pd.set_option('future.no_silent_downcasting', True)`\n",
            "  & (~mut_merged[\"STOP\"].fillna(False).astype(bool))\n",
            "<ipython-input-34-bc8a3a2bcc8a>:11: RuntimeWarning: overflow encountered in exp\n",
            "  return 1.0 / (1.0 + np.exp(-(x - xmid) / scale))\n"
          ]
        },
        {
          "output_type": "stream",
          "name": "stdout",
          "text": [
            "    best_params: xmid=-14.379, scale=1.0000, deviance=216.857\n",
            "\n",
            "Fitting domain: Q9HA38_PF12171_246\n",
            "    len: 477\n",
            "    esm1vfl_score range: -23.129207611083984 -2.0683412551879883\n",
            "    scaled_gr_tofit range: -0.6098474673654699 1.615021442253897\n"
          ]
        },
        {
          "output_type": "stream",
          "name": "stderr",
          "text": [
            "<ipython-input-35-cfc9933a455f>:12: FutureWarning: Downcasting object dtype arrays on .fillna, .ffill, .bfill is deprecated and will change in a future version. Call result.infer_objects(copy=False) instead. To opt-in to the future behavior, set `pd.set_option('future.no_silent_downcasting', True)`\n",
            "  & (~mut_merged[\"STOP\"].fillna(False).astype(bool))\n",
            "<ipython-input-34-bc8a3a2bcc8a>:11: RuntimeWarning: overflow encountered in exp\n",
            "  return 1.0 / (1.0 + np.exp(-(x - xmid) / scale))\n"
          ]
        },
        {
          "output_type": "stream",
          "name": "stdout",
          "text": [
            "    best_params: xmid=-13.835, scale=1.0000, deviance=125.423\n",
            "\n",
            "Fitting domain: Q9HAU4_PF00397_150\n",
            "    len: 886\n",
            "    esm1vfl_score range: -20.927305221557617 0.9352989196777344\n",
            "    scaled_gr_tofit range: -0.5287576347818299 1.897804743668296\n"
          ]
        },
        {
          "output_type": "stream",
          "name": "stderr",
          "text": [
            "<ipython-input-35-cfc9933a455f>:12: FutureWarning: Downcasting object dtype arrays on .fillna, .ffill, .bfill is deprecated and will change in a future version. Call result.infer_objects(copy=False) instead. To opt-in to the future behavior, set `pd.set_option('future.no_silent_downcasting', True)`\n",
            "  & (~mut_merged[\"STOP\"].fillna(False).astype(bool))\n",
            "<ipython-input-34-bc8a3a2bcc8a>:11: RuntimeWarning: overflow encountered in exp\n",
            "  return 1.0 / (1.0 + np.exp(-(x - xmid) / scale))\n"
          ]
        },
        {
          "output_type": "stream",
          "name": "stdout",
          "text": [
            "    best_params: xmid=-12.123, scale=1.0000, deviance=414.640\n",
            "\n",
            "Fitting domain: Q9HAZ2_PF00096_282\n",
            "    len: 380\n",
            "    esm1vfl_score range: -22.33820429560187 1.2855743820652292\n",
            "    scaled_gr_tofit range: -0.57552048138903 1.398546441709455\n"
          ]
        },
        {
          "output_type": "stream",
          "name": "stderr",
          "text": [
            "<ipython-input-35-cfc9933a455f>:12: FutureWarning: Downcasting object dtype arrays on .fillna, .ffill, .bfill is deprecated and will change in a future version. Call result.infer_objects(copy=False) instead. To opt-in to the future behavior, set `pd.set_option('future.no_silent_downcasting', True)`\n",
            "  & (~mut_merged[\"STOP\"].fillna(False).astype(bool))\n",
            "<ipython-input-34-bc8a3a2bcc8a>:11: RuntimeWarning: overflow encountered in exp\n",
            "  return 1.0 / (1.0 + np.exp(-(x - xmid) / scale))\n"
          ]
        },
        {
          "output_type": "stream",
          "name": "stdout",
          "text": [
            "    best_params: xmid=-8.536, scale=1.0000, deviance=120.898\n",
            "\n",
            "Fitting domain: Q9HC78_PF00096_635\n",
            "    len: 419\n",
            "    esm1vfl_score range: -22.81045913696289 -1.8211640119552608\n",
            "    scaled_gr_tofit range: -0.27652690016988 1.702821599857115\n"
          ]
        },
        {
          "output_type": "stream",
          "name": "stderr",
          "text": [
            "<ipython-input-35-cfc9933a455f>:12: FutureWarning: Downcasting object dtype arrays on .fillna, .ffill, .bfill is deprecated and will change in a future version. Call result.infer_objects(copy=False) instead. To opt-in to the future behavior, set `pd.set_option('future.no_silent_downcasting', True)`\n",
            "  & (~mut_merged[\"STOP\"].fillna(False).astype(bool))\n",
            "<ipython-input-34-bc8a3a2bcc8a>:11: RuntimeWarning: overflow encountered in exp\n",
            "  return 1.0 / (1.0 + np.exp(-(x - xmid) / scale))\n"
          ]
        },
        {
          "output_type": "stream",
          "name": "stdout",
          "text": [
            "    best_params: xmid=-15.013, scale=1.0000, deviance=82.404\n",
            "\n",
            "Fitting domain: Q9HC78_PF00096_663\n",
            "    len: 395\n",
            "    esm1vfl_score range: -20.73040199279785 1.282508373260498\n",
            "    scaled_gr_tofit range: -0.3501935427763001 1.640249887527679\n"
          ]
        },
        {
          "output_type": "stream",
          "name": "stderr",
          "text": [
            "<ipython-input-35-cfc9933a455f>:12: FutureWarning: Downcasting object dtype arrays on .fillna, .ffill, .bfill is deprecated and will change in a future version. Call result.infer_objects(copy=False) instead. To opt-in to the future behavior, set `pd.set_option('future.no_silent_downcasting', True)`\n",
            "  & (~mut_merged[\"STOP\"].fillna(False).astype(bool))\n",
            "<ipython-input-34-bc8a3a2bcc8a>:11: RuntimeWarning: overflow encountered in exp\n",
            "  return 1.0 / (1.0 + np.exp(-(x - xmid) / scale))\n"
          ]
        },
        {
          "output_type": "stream",
          "name": "stdout",
          "text": [
            "    best_params: xmid=-13.590, scale=1.0000, deviance=83.079\n",
            "\n",
            "Fitting domain: Q9HC78_PF00096_716\n",
            "    len: 414\n",
            "    esm1vfl_score range: -18.374099731445312 -0.5683241486549377\n",
            "    scaled_gr_tofit range: -0.14276515228081998 1.190107081621956\n"
          ]
        },
        {
          "output_type": "stream",
          "name": "stderr",
          "text": [
            "<ipython-input-35-cfc9933a455f>:12: FutureWarning: Downcasting object dtype arrays on .fillna, .ffill, .bfill is deprecated and will change in a future version. Call result.infer_objects(copy=False) instead. To opt-in to the future behavior, set `pd.set_option('future.no_silent_downcasting', True)`\n",
            "  & (~mut_merged[\"STOP\"].fillna(False).astype(bool))\n",
            "<ipython-input-34-bc8a3a2bcc8a>:11: RuntimeWarning: overflow encountered in exp\n",
            "  return 1.0 / (1.0 + np.exp(-(x - xmid) / scale))\n"
          ]
        },
        {
          "output_type": "stream",
          "name": "stdout",
          "text": [
            "    best_params: xmid=-7.012, scale=1.0000, deviance=16.787\n",
            "\n",
            "Fitting domain: Q9NP66_PF00505_104\n",
            "    len: 1050\n",
            "    esm1vfl_score range: -22.296131134033203 1.0813145637512207\n",
            "    scaled_gr_tofit range: -0.6806110626611801 1.6349934577573721\n"
          ]
        },
        {
          "output_type": "stream",
          "name": "stderr",
          "text": [
            "<ipython-input-35-cfc9933a455f>:12: FutureWarning: Downcasting object dtype arrays on .fillna, .ffill, .bfill is deprecated and will change in a future version. Call result.infer_objects(copy=False) instead. To opt-in to the future behavior, set `pd.set_option('future.no_silent_downcasting', True)`\n",
            "  & (~mut_merged[\"STOP\"].fillna(False).astype(bool))\n",
            "<ipython-input-34-bc8a3a2bcc8a>:11: RuntimeWarning: overflow encountered in exp\n",
            "  return 1.0 / (1.0 + np.exp(-(x - xmid) / scale))\n"
          ]
        },
        {
          "output_type": "stream",
          "name": "stdout",
          "text": [
            "    best_params: xmid=-12.923, scale=1.0000, deviance=544.506\n",
            "\n",
            "Fitting domain: Q9NPB3_PF13499_155\n",
            "    len: 1035\n",
            "    esm1vfl_score range: -19.37362670898437 2.3996615409851074\n",
            "    scaled_gr_tofit range: -0.7114493617747999 1.265874675123654\n"
          ]
        },
        {
          "output_type": "stream",
          "name": "stderr",
          "text": [
            "<ipython-input-35-cfc9933a455f>:12: FutureWarning: Downcasting object dtype arrays on .fillna, .ffill, .bfill is deprecated and will change in a future version. Call result.infer_objects(copy=False) instead. To opt-in to the future behavior, set `pd.set_option('future.no_silent_downcasting', True)`\n",
            "  & (~mut_merged[\"STOP\"].fillna(False).astype(bool))\n",
            "<ipython-input-34-bc8a3a2bcc8a>:11: RuntimeWarning: overflow encountered in exp\n",
            "  return 1.0 / (1.0 + np.exp(-(x - xmid) / scale))\n"
          ]
        },
        {
          "output_type": "stream",
          "name": "stdout",
          "text": [
            "    best_params: xmid=-13.974, scale=1.0000, deviance=202.266\n",
            "\n",
            "Fitting domain: Q9NPC8_PF00046_131\n",
            "    len: 933\n",
            "    esm1vfl_score range: -23.90924072265625 -0.4808658957481384\n",
            "    scaled_gr_tofit range: -0.26761865143096 1.416265666582461\n"
          ]
        },
        {
          "output_type": "stream",
          "name": "stderr",
          "text": [
            "<ipython-input-35-cfc9933a455f>:12: FutureWarning: Downcasting object dtype arrays on .fillna, .ffill, .bfill is deprecated and will change in a future version. Call result.infer_objects(copy=False) instead. To opt-in to the future behavior, set `pd.set_option('future.no_silent_downcasting', True)`\n",
            "  & (~mut_merged[\"STOP\"].fillna(False).astype(bool))\n",
            "<ipython-input-34-bc8a3a2bcc8a>:11: RuntimeWarning: overflow encountered in exp\n",
            "  return 1.0 / (1.0 + np.exp(-(x - xmid) / scale))\n"
          ]
        },
        {
          "output_type": "stream",
          "name": "stdout",
          "text": [
            "    best_params: xmid=-15.699, scale=1.0000, deviance=151.509\n",
            "\n",
            "Fitting domain: Q9NQ86_PF00643_208\n",
            "    len: 761\n",
            "    esm1vfl_score range: -18.369197845458984 0.5817366242408752\n",
            "    scaled_gr_tofit range: -0.60039413116003 1.342722661358134\n"
          ]
        },
        {
          "output_type": "stream",
          "name": "stderr",
          "text": [
            "<ipython-input-35-cfc9933a455f>:12: FutureWarning: Downcasting object dtype arrays on .fillna, .ffill, .bfill is deprecated and will change in a future version. Call result.infer_objects(copy=False) instead. To opt-in to the future behavior, set `pd.set_option('future.no_silent_downcasting', True)`\n",
            "  & (~mut_merged[\"STOP\"].fillna(False).astype(bool))\n",
            "<ipython-input-34-bc8a3a2bcc8a>:11: RuntimeWarning: overflow encountered in exp\n",
            "  return 1.0 / (1.0 + np.exp(-(x - xmid) / scale))\n"
          ]
        },
        {
          "output_type": "stream",
          "name": "stdout",
          "text": [
            "    best_params: xmid=-12.473, scale=1.0000, deviance=69.292\n",
            "\n",
            "Fitting domain: Q9NQV8_PF00096_668\n",
            "    len: 396\n",
            "    esm1vfl_score range: -22.94287109375 -6.055628776550293\n",
            "    scaled_gr_tofit range: -0.3595008702089999 1.6519811007122631\n"
          ]
        },
        {
          "output_type": "stream",
          "name": "stderr",
          "text": [
            "<ipython-input-35-cfc9933a455f>:12: FutureWarning: Downcasting object dtype arrays on .fillna, .ffill, .bfill is deprecated and will change in a future version. Call result.infer_objects(copy=False) instead. To opt-in to the future behavior, set `pd.set_option('future.no_silent_downcasting', True)`\n",
            "  & (~mut_merged[\"STOP\"].fillna(False).astype(bool))\n",
            "<ipython-input-34-bc8a3a2bcc8a>:11: RuntimeWarning: overflow encountered in exp\n",
            "  return 1.0 / (1.0 + np.exp(-(x - xmid) / scale))\n"
          ]
        },
        {
          "output_type": "stream",
          "name": "stdout",
          "text": [
            "    best_params: xmid=-15.939, scale=1.0000, deviance=149.142\n"
          ]
        },
        {
          "output_type": "stream",
          "name": "stderr",
          "text": [
            "<ipython-input-35-cfc9933a455f>:12: FutureWarning: Downcasting object dtype arrays on .fillna, .ffill, .bfill is deprecated and will change in a future version. Call result.infer_objects(copy=False) instead. To opt-in to the future behavior, set `pd.set_option('future.no_silent_downcasting', True)`\n",
            "  & (~mut_merged[\"STOP\"].fillna(False).astype(bool))\n",
            "<ipython-input-34-bc8a3a2bcc8a>:11: RuntimeWarning: overflow encountered in exp\n",
            "  return 1.0 / (1.0 + np.exp(-(x - xmid) / scale))\n"
          ]
        },
        {
          "output_type": "stream",
          "name": "stdout",
          "text": [
            "\n",
            "Fitting domain: Q9NQX1_PF00096_433\n",
            "    len: 438\n",
            "    esm1vfl_score range: -22.118698120117188 -0.929060697555542\n",
            "    scaled_gr_tofit range: -0.5409014551799001 1.5612238449310971\n",
            "    best_params: xmid=-12.484, scale=1.0000, deviance=116.082\n"
          ]
        },
        {
          "output_type": "stream",
          "name": "stderr",
          "text": [
            "<ipython-input-35-cfc9933a455f>:12: FutureWarning: Downcasting object dtype arrays on .fillna, .ffill, .bfill is deprecated and will change in a future version. Call result.infer_objects(copy=False) instead. To opt-in to the future behavior, set `pd.set_option('future.no_silent_downcasting', True)`\n",
            "  & (~mut_merged[\"STOP\"].fillna(False).astype(bool))\n",
            "<ipython-input-34-bc8a3a2bcc8a>:11: RuntimeWarning: overflow encountered in exp\n",
            "  return 1.0 / (1.0 + np.exp(-(x - xmid) / scale))\n"
          ]
        },
        {
          "output_type": "stream",
          "name": "stdout",
          "text": [
            "\n",
            "Fitting domain: Q9NW38_PF11793_305\n",
            "    len: 770\n",
            "    esm1vfl_score range: -17.50389289855957 1.255366325378418\n",
            "    scaled_gr_tofit range: -0.23351860450709006 1.431222607049948\n",
            "    best_params: xmid=-6.502, scale=1.0000, deviance=85.473\n",
            "\n",
            "Fitting domain: Q9NWH9_PF02037_19\n",
            "    len: 844\n",
            "    esm1vfl_score range: -22.399525291550432 0.7995817329553505\n",
            "    scaled_gr_tofit range: -0.3315441432335 1.381503161845526\n"
          ]
        },
        {
          "output_type": "stream",
          "name": "stderr",
          "text": [
            "<ipython-input-35-cfc9933a455f>:12: FutureWarning: Downcasting object dtype arrays on .fillna, .ffill, .bfill is deprecated and will change in a future version. Call result.infer_objects(copy=False) instead. To opt-in to the future behavior, set `pd.set_option('future.no_silent_downcasting', True)`\n",
            "  & (~mut_merged[\"STOP\"].fillna(False).astype(bool))\n",
            "<ipython-input-34-bc8a3a2bcc8a>:11: RuntimeWarning: overflow encountered in exp\n",
            "  return 1.0 / (1.0 + np.exp(-(x - xmid) / scale))\n"
          ]
        },
        {
          "output_type": "stream",
          "name": "stdout",
          "text": [
            "    best_params: xmid=-11.195, scale=1.0000, deviance=117.860\n",
            "\n",
            "Fitting domain: Q9NYL2_PF00536_330\n",
            "    len: 1463\n",
            "    esm1vfl_score range: -17.563499450683594 2.214297294616699\n",
            "    scaled_gr_tofit range: -0.56029961987959 1.544364822455706\n"
          ]
        },
        {
          "output_type": "stream",
          "name": "stderr",
          "text": [
            "<ipython-input-35-cfc9933a455f>:12: FutureWarning: Downcasting object dtype arrays on .fillna, .ffill, .bfill is deprecated and will change in a future version. Call result.infer_objects(copy=False) instead. To opt-in to the future behavior, set `pd.set_option('future.no_silent_downcasting', True)`\n",
            "  & (~mut_merged[\"STOP\"].fillna(False).astype(bool))\n",
            "<ipython-input-34-bc8a3a2bcc8a>:11: RuntimeWarning: overflow encountered in exp\n",
            "  return 1.0 / (1.0 + np.exp(-(x - xmid) / scale))\n"
          ]
        },
        {
          "output_type": "stream",
          "name": "stdout",
          "text": [
            "    best_params: xmid=-6.593, scale=1.0000, deviance=376.984\n",
            "\n",
            "Fitting domain: Q9P0J7_PF05605_76\n",
            "    len: 1070\n",
            "    esm1vfl_score range: -21.221887588500977 -2.122108459472656\n",
            "    scaled_gr_tofit range: -0.4358204094325999 1.173708810072047\n"
          ]
        },
        {
          "output_type": "stream",
          "name": "stderr",
          "text": [
            "<ipython-input-35-cfc9933a455f>:12: FutureWarning: Downcasting object dtype arrays on .fillna, .ffill, .bfill is deprecated and will change in a future version. Call result.infer_objects(copy=False) instead. To opt-in to the future behavior, set `pd.set_option('future.no_silent_downcasting', True)`\n",
            "  & (~mut_merged[\"STOP\"].fillna(False).astype(bool))\n",
            "<ipython-input-34-bc8a3a2bcc8a>:11: RuntimeWarning: overflow encountered in exp\n",
            "  return 1.0 / (1.0 + np.exp(-(x - xmid) / scale))\n"
          ]
        },
        {
          "output_type": "stream",
          "name": "stdout",
          "text": [
            "    best_params: xmid=-15.269, scale=1.0000, deviance=117.731\n",
            "\n",
            "Fitting domain: Q9P2F5_PF10264_64\n",
            "    len: 1414\n",
            "    esm1vfl_score range: -20.633708953857425 3.174140930175781\n",
            "    scaled_gr_tofit range: -0.27806573328721007 1.234597454386138\n"
          ]
        },
        {
          "output_type": "stream",
          "name": "stderr",
          "text": [
            "<ipython-input-35-cfc9933a455f>:12: FutureWarning: Downcasting object dtype arrays on .fillna, .ffill, .bfill is deprecated and will change in a future version. Call result.infer_objects(copy=False) instead. To opt-in to the future behavior, set `pd.set_option('future.no_silent_downcasting', True)`\n",
            "  & (~mut_merged[\"STOP\"].fillna(False).astype(bool))\n",
            "<ipython-input-34-bc8a3a2bcc8a>:11: RuntimeWarning: overflow encountered in exp\n",
            "  return 1.0 / (1.0 + np.exp(-(x - xmid) / scale))\n"
          ]
        },
        {
          "output_type": "stream",
          "name": "stdout",
          "text": [
            "    best_params: xmid=-13.777, scale=1.0000, deviance=83.129\n",
            "\n",
            "Fitting domain: Q9P2K3_PF00249_87\n",
            "    len: 840\n",
            "    esm1vfl_score range: -23.416105270385746 0.8514785766601562\n",
            "    scaled_gr_tofit range: -0.2891928770559 1.745209078531905\n"
          ]
        },
        {
          "output_type": "stream",
          "name": "stderr",
          "text": [
            "<ipython-input-35-cfc9933a455f>:12: FutureWarning: Downcasting object dtype arrays on .fillna, .ffill, .bfill is deprecated and will change in a future version. Call result.infer_objects(copy=False) instead. To opt-in to the future behavior, set `pd.set_option('future.no_silent_downcasting', True)`\n",
            "  & (~mut_merged[\"STOP\"].fillna(False).astype(bool))\n",
            "<ipython-input-34-bc8a3a2bcc8a>:11: RuntimeWarning: overflow encountered in exp\n",
            "  return 1.0 / (1.0 + np.exp(-(x - xmid) / scale))\n"
          ]
        },
        {
          "output_type": "stream",
          "name": "stdout",
          "text": [
            "    best_params: xmid=-14.219, scale=1.0000, deviance=302.883\n",
            "\n",
            "Fitting domain: Q9UBF6_PF12678_48\n",
            "    len: 1044\n",
            "    esm1vfl_score range: -21.15011215209961 -1.0413827896118164\n",
            "    scaled_gr_tofit range: -0.2592909173640201 1.535004085757269\n"
          ]
        },
        {
          "output_type": "stream",
          "name": "stderr",
          "text": [
            "<ipython-input-35-cfc9933a455f>:12: FutureWarning: Downcasting object dtype arrays on .fillna, .ffill, .bfill is deprecated and will change in a future version. Call result.infer_objects(copy=False) instead. To opt-in to the future behavior, set `pd.set_option('future.no_silent_downcasting', True)`\n",
            "  & (~mut_merged[\"STOP\"].fillna(False).astype(bool))\n",
            "<ipython-input-34-bc8a3a2bcc8a>:11: RuntimeWarning: overflow encountered in exp\n",
            "  return 1.0 / (1.0 + np.exp(-(x - xmid) / scale))\n"
          ]
        },
        {
          "output_type": "stream",
          "name": "stdout",
          "text": [
            "    best_params: xmid=-12.354, scale=1.0000, deviance=248.805\n",
            "\n",
            "Fitting domain: Q9UBS4_PF00226_25\n",
            "    len: 1007\n",
            "    esm1vfl_score range: -19.31998634338379 3.6588308811187744\n",
            "    scaled_gr_tofit range: -0.2164229112056799 1.154064872866641\n"
          ]
        },
        {
          "output_type": "stream",
          "name": "stderr",
          "text": [
            "<ipython-input-35-cfc9933a455f>:12: FutureWarning: Downcasting object dtype arrays on .fillna, .ffill, .bfill is deprecated and will change in a future version. Call result.infer_objects(copy=False) instead. To opt-in to the future behavior, set `pd.set_option('future.no_silent_downcasting', True)`\n",
            "  & (~mut_merged[\"STOP\"].fillna(False).astype(bool))\n",
            "<ipython-input-34-bc8a3a2bcc8a>:11: RuntimeWarning: overflow encountered in exp\n",
            "  return 1.0 / (1.0 + np.exp(-(x - xmid) / scale))\n"
          ]
        },
        {
          "output_type": "stream",
          "name": "stdout",
          "text": [
            "    best_params: xmid=-10.988, scale=1.0000, deviance=49.969\n",
            "\n",
            "Fitting domain: Q9UBX0_PF00046_110\n",
            "    len: 1038\n",
            "    esm1vfl_score range: -19.5986557006836 -0.0018723011016845\n",
            "    scaled_gr_tofit range: -0.3530186174108201 2.00413625547839\n"
          ]
        },
        {
          "output_type": "stream",
          "name": "stderr",
          "text": [
            "<ipython-input-35-cfc9933a455f>:12: FutureWarning: Downcasting object dtype arrays on .fillna, .ffill, .bfill is deprecated and will change in a future version. Call result.infer_objects(copy=False) instead. To opt-in to the future behavior, set `pd.set_option('future.no_silent_downcasting', True)`\n",
            "  & (~mut_merged[\"STOP\"].fillna(False).astype(bool))\n",
            "<ipython-input-34-bc8a3a2bcc8a>:11: RuntimeWarning: overflow encountered in exp\n",
            "  return 1.0 / (1.0 + np.exp(-(x - xmid) / scale))\n"
          ]
        },
        {
          "output_type": "stream",
          "name": "stdout",
          "text": [
            "    best_params: xmid=-10.794, scale=1.0000, deviance=519.487\n"
          ]
        },
        {
          "output_type": "stream",
          "name": "stderr",
          "text": [
            "<ipython-input-35-cfc9933a455f>:12: FutureWarning: Downcasting object dtype arrays on .fillna, .ffill, .bfill is deprecated and will change in a future version. Call result.infer_objects(copy=False) instead. To opt-in to the future behavior, set `pd.set_option('future.no_silent_downcasting', True)`\n",
            "  & (~mut_merged[\"STOP\"].fillna(False).astype(bool))\n",
            "<ipython-input-34-bc8a3a2bcc8a>:11: RuntimeWarning: overflow encountered in exp\n",
            "  return 1.0 / (1.0 + np.exp(-(x - xmid) / scale))\n"
          ]
        },
        {
          "output_type": "stream",
          "name": "stdout",
          "text": [
            "\n",
            "Fitting domain: Q9UDY2_PF00595_26\n",
            "    len: 1743\n",
            "    esm1vfl_score range: -24.76136589050293 0.925631046295166\n",
            "    scaled_gr_tofit range: -0.3624118242260199 1.387188637625503\n",
            "    best_params: xmid=-11.589, scale=1.0000, deviance=195.985\n"
          ]
        },
        {
          "output_type": "stream",
          "name": "stderr",
          "text": [
            "<ipython-input-35-cfc9933a455f>:12: FutureWarning: Downcasting object dtype arrays on .fillna, .ffill, .bfill is deprecated and will change in a future version. Call result.infer_objects(copy=False) instead. To opt-in to the future behavior, set `pd.set_option('future.no_silent_downcasting', True)`\n",
            "  & (~mut_merged[\"STOP\"].fillna(False).astype(bool))\n",
            "<ipython-input-34-bc8a3a2bcc8a>:11: RuntimeWarning: overflow encountered in exp\n",
            "  return 1.0 / (1.0 + np.exp(-(x - xmid) / scale))\n"
          ]
        },
        {
          "output_type": "stream",
          "name": "stdout",
          "text": [
            "\n",
            "Fitting domain: Q9UDY2_PF00595_509\n",
            "    len: 1797\n",
            "    esm1vfl_score range: -21.28637868041445 1.797099232673645\n",
            "    scaled_gr_tofit range: -0.3633370703796801 1.693206805978225\n",
            "    best_params: xmid=-7.482, scale=1.0000, deviance=616.616\n",
            "\n",
            "Fitting domain: Q9UHC7_PF00642_89\n",
            "    len: 401\n",
            "    esm1vfl_score range: -18.9411678314209 3.959443092346192\n",
            "    scaled_gr_tofit range: -0.3967857623578299 1.497517865367326\n"
          ]
        },
        {
          "output_type": "stream",
          "name": "stderr",
          "text": [
            "<ipython-input-35-cfc9933a455f>:12: FutureWarning: Downcasting object dtype arrays on .fillna, .ffill, .bfill is deprecated and will change in a future version. Call result.infer_objects(copy=False) instead. To opt-in to the future behavior, set `pd.set_option('future.no_silent_downcasting', True)`\n",
            "  & (~mut_merged[\"STOP\"].fillna(False).astype(bool))\n",
            "<ipython-input-34-bc8a3a2bcc8a>:11: RuntimeWarning: overflow encountered in exp\n",
            "  return 1.0 / (1.0 + np.exp(-(x - xmid) / scale))\n"
          ]
        },
        {
          "output_type": "stream",
          "name": "stdout",
          "text": [
            "    best_params: xmid=-12.371, scale=1.0000, deviance=83.600\n",
            "\n",
            "Fitting domain: Q9UHD4_PF02017_36\n",
            "    len: 1167\n",
            "    esm1vfl_score range: -16.857807159423828 4.076956272125244\n",
            "    scaled_gr_tofit range: -0.23999033731289998 1.339899573593807\n"
          ]
        },
        {
          "output_type": "stream",
          "name": "stderr",
          "text": [
            "<ipython-input-35-cfc9933a455f>:12: FutureWarning: Downcasting object dtype arrays on .fillna, .ffill, .bfill is deprecated and will change in a future version. Call result.infer_objects(copy=False) instead. To opt-in to the future behavior, set `pd.set_option('future.no_silent_downcasting', True)`\n",
            "  & (~mut_merged[\"STOP\"].fillna(False).astype(bool))\n",
            "<ipython-input-34-bc8a3a2bcc8a>:11: RuntimeWarning: overflow encountered in exp\n",
            "  return 1.0 / (1.0 + np.exp(-(x - xmid) / scale))\n"
          ]
        },
        {
          "output_type": "stream",
          "name": "stdout",
          "text": [
            "    best_params: xmid=-4.962, scale=1.0000, deviance=169.464\n"
          ]
        },
        {
          "output_type": "stream",
          "name": "stderr",
          "text": [
            "<ipython-input-35-cfc9933a455f>:12: FutureWarning: Downcasting object dtype arrays on .fillna, .ffill, .bfill is deprecated and will change in a future version. Call result.infer_objects(copy=False) instead. To opt-in to the future behavior, set `pd.set_option('future.no_silent_downcasting', True)`\n",
            "  & (~mut_merged[\"STOP\"].fillna(False).astype(bool))\n",
            "<ipython-input-34-bc8a3a2bcc8a>:11: RuntimeWarning: overflow encountered in exp\n",
            "  return 1.0 / (1.0 + np.exp(-(x - xmid) / scale))\n"
          ]
        },
        {
          "output_type": "stream",
          "name": "stdout",
          "text": [
            "\n",
            "Fitting domain: Q9UJQ4_PF00096_383\n",
            "    len: 379\n",
            "    esm1vfl_score range: -22.601685523986816 2.0444436073303223\n",
            "    scaled_gr_tofit range: -0.30516135350527995 1.4040756704676651\n",
            "    best_params: xmid=-15.926, scale=1.0000, deviance=48.971\n",
            "\n",
            "Fitting domain: Q9UJQ4_PF00096_899\n",
            "    len: 394\n",
            "    esm1vfl_score range: -17.932614692821986 3.3034945147807613\n",
            "    scaled_gr_tofit range: -0.32346393356946 1.407463735153772\n"
          ]
        },
        {
          "output_type": "stream",
          "name": "stderr",
          "text": [
            "<ipython-input-35-cfc9933a455f>:12: FutureWarning: Downcasting object dtype arrays on .fillna, .ffill, .bfill is deprecated and will change in a future version. Call result.infer_objects(copy=False) instead. To opt-in to the future behavior, set `pd.set_option('future.no_silent_downcasting', True)`\n",
            "  & (~mut_merged[\"STOP\"].fillna(False).astype(bool))\n",
            "<ipython-input-34-bc8a3a2bcc8a>:11: RuntimeWarning: overflow encountered in exp\n",
            "  return 1.0 / (1.0 + np.exp(-(x - xmid) / scale))\n"
          ]
        },
        {
          "output_type": "stream",
          "name": "stdout",
          "text": [
            "    best_params: xmid=-12.335, scale=1.0000, deviance=54.517\n",
            "\n",
            "Fitting domain: Q9UJV3_PF00643_191\n",
            "    len: 768\n",
            "    esm1vfl_score range: -19.86918258666992 2.150815010070801\n",
            "    scaled_gr_tofit range: -0.9153091760885701 1.516702895375881\n"
          ]
        },
        {
          "output_type": "stream",
          "name": "stderr",
          "text": [
            "<ipython-input-35-cfc9933a455f>:12: FutureWarning: Downcasting object dtype arrays on .fillna, .ffill, .bfill is deprecated and will change in a future version. Call result.infer_objects(copy=False) instead. To opt-in to the future behavior, set `pd.set_option('future.no_silent_downcasting', True)`\n",
            "  & (~mut_merged[\"STOP\"].fillna(False).astype(bool))\n",
            "<ipython-input-34-bc8a3a2bcc8a>:11: RuntimeWarning: overflow encountered in exp\n",
            "  return 1.0 / (1.0 + np.exp(-(x - xmid) / scale))\n"
          ]
        },
        {
          "output_type": "stream",
          "name": "stdout",
          "text": [
            "    best_params: xmid=-14.841, scale=1.0000, deviance=318.125\n",
            "\n",
            "Fitting domain: Q9UKI9_PF00157_186\n",
            "    len: 691\n",
            "    esm1vfl_score range: -21.89798164367676 -1.952064752578736\n",
            "    scaled_gr_tofit range: -0.3808504483145101 1.142022257540701\n"
          ]
        },
        {
          "output_type": "stream",
          "name": "stderr",
          "text": [
            "<ipython-input-35-cfc9933a455f>:12: FutureWarning: Downcasting object dtype arrays on .fillna, .ffill, .bfill is deprecated and will change in a future version. Call result.infer_objects(copy=False) instead. To opt-in to the future behavior, set `pd.set_option('future.no_silent_downcasting', True)`\n",
            "  & (~mut_merged[\"STOP\"].fillna(False).astype(bool))\n",
            "<ipython-input-34-bc8a3a2bcc8a>:11: RuntimeWarning: overflow encountered in exp\n",
            "  return 1.0 / (1.0 + np.exp(-(x - xmid) / scale))\n"
          ]
        },
        {
          "output_type": "stream",
          "name": "stdout",
          "text": [
            "    best_params: xmid=-14.908, scale=1.0000, deviance=52.015\n",
            "\n",
            "Fitting domain: Q9UKL0_PF00249_383\n",
            "    len: 1055\n",
            "    esm1vfl_score range: -21.735595703125 -0.5901565551757812\n",
            "    scaled_gr_tofit range: -0.2518876747271901 1.472981255170742\n"
          ]
        },
        {
          "output_type": "stream",
          "name": "stderr",
          "text": [
            "<ipython-input-35-cfc9933a455f>:12: FutureWarning: Downcasting object dtype arrays on .fillna, .ffill, .bfill is deprecated and will change in a future version. Call result.infer_objects(copy=False) instead. To opt-in to the future behavior, set `pd.set_option('future.no_silent_downcasting', True)`\n",
            "  & (~mut_merged[\"STOP\"].fillna(False).astype(bool))\n",
            "<ipython-input-34-bc8a3a2bcc8a>:11: RuntimeWarning: overflow encountered in exp\n",
            "  return 1.0 / (1.0 + np.exp(-(x - xmid) / scale))\n"
          ]
        },
        {
          "output_type": "stream",
          "name": "stdout",
          "text": [
            "    best_params: xmid=-13.245, scale=1.0000, deviance=196.216\n",
            "\n",
            "Fitting domain: Q9UKS6_PF14604_365\n",
            "    len: 1040\n",
            "    esm1vfl_score range: -20.86039352416992 2.213874340057373\n",
            "    scaled_gr_tofit range: -0.14884760845133993 1.228551368437144\n"
          ]
        },
        {
          "output_type": "stream",
          "name": "stderr",
          "text": [
            "<ipython-input-35-cfc9933a455f>:12: FutureWarning: Downcasting object dtype arrays on .fillna, .ffill, .bfill is deprecated and will change in a future version. Call result.infer_objects(copy=False) instead. To opt-in to the future behavior, set `pd.set_option('future.no_silent_downcasting', True)`\n",
            "  & (~mut_merged[\"STOP\"].fillna(False).astype(bool))\n",
            "<ipython-input-34-bc8a3a2bcc8a>:11: RuntimeWarning: overflow encountered in exp\n",
            "  return 1.0 / (1.0 + np.exp(-(x - xmid) / scale))\n"
          ]
        },
        {
          "output_type": "stream",
          "name": "stdout",
          "text": [
            "    best_params: xmid=-10.079, scale=1.0000, deviance=95.234\n",
            "\n",
            "Fitting domain: Q9UKW6_PF02198_47\n",
            "    len: 1417\n",
            "    esm1vfl_score range: -20.402013778686523 1.440680742263794\n",
            "    scaled_gr_tofit range: -0.43470243753295 1.46225576937922\n"
          ]
        },
        {
          "output_type": "stream",
          "name": "stderr",
          "text": [
            "<ipython-input-35-cfc9933a455f>:12: FutureWarning: Downcasting object dtype arrays on .fillna, .ffill, .bfill is deprecated and will change in a future version. Call result.infer_objects(copy=False) instead. To opt-in to the future behavior, set `pd.set_option('future.no_silent_downcasting', True)`\n",
            "  & (~mut_merged[\"STOP\"].fillna(False).astype(bool))\n",
            "<ipython-input-34-bc8a3a2bcc8a>:11: RuntimeWarning: overflow encountered in exp\n",
            "  return 1.0 / (1.0 + np.exp(-(x - xmid) / scale))\n"
          ]
        },
        {
          "output_type": "stream",
          "name": "stdout",
          "text": [
            "    best_params: xmid=-6.861, scale=1.0000, deviance=235.805\n",
            "\n",
            "Fitting domain: Q9UKY1_PF18387_100\n",
            "    len: 927\n",
            "    esm1vfl_score range: -19.251365661621094 2.337618350982666\n",
            "    scaled_gr_tofit range: -0.19492462876184002 1.629511453278887\n"
          ]
        },
        {
          "output_type": "stream",
          "name": "stderr",
          "text": [
            "<ipython-input-35-cfc9933a455f>:12: FutureWarning: Downcasting object dtype arrays on .fillna, .ffill, .bfill is deprecated and will change in a future version. Call result.infer_objects(copy=False) instead. To opt-in to the future behavior, set `pd.set_option('future.no_silent_downcasting', True)`\n",
            "  & (~mut_merged[\"STOP\"].fillna(False).astype(bool))\n",
            "<ipython-input-34-bc8a3a2bcc8a>:11: RuntimeWarning: overflow encountered in exp\n",
            "  return 1.0 / (1.0 + np.exp(-(x - xmid) / scale))\n"
          ]
        },
        {
          "output_type": "stream",
          "name": "stdout",
          "text": [
            "    best_params: xmid=-12.000, scale=1.0000, deviance=161.485\n",
            "\n",
            "Fitting domain: Q9ULJ8_PF07647_987\n",
            "    len: 1185\n",
            "    esm1vfl_score range: -19.27767368471204 1.4186224642471943\n",
            "    scaled_gr_tofit range: -0.4456951853153801 1.289104035413033\n"
          ]
        },
        {
          "output_type": "stream",
          "name": "stderr",
          "text": [
            "<ipython-input-35-cfc9933a455f>:12: FutureWarning: Downcasting object dtype arrays on .fillna, .ffill, .bfill is deprecated and will change in a future version. Call result.infer_objects(copy=False) instead. To opt-in to the future behavior, set `pd.set_option('future.no_silent_downcasting', True)`\n",
            "  & (~mut_merged[\"STOP\"].fillna(False).astype(bool))\n",
            "<ipython-input-34-bc8a3a2bcc8a>:11: RuntimeWarning: overflow encountered in exp\n",
            "  return 1.0 / (1.0 + np.exp(-(x - xmid) / scale))\n"
          ]
        },
        {
          "output_type": "stream",
          "name": "stdout",
          "text": [
            "    best_params: xmid=-7.321, scale=1.0000, deviance=173.638\n"
          ]
        },
        {
          "output_type": "stream",
          "name": "stderr",
          "text": [
            "<ipython-input-35-cfc9933a455f>:12: FutureWarning: Downcasting object dtype arrays on .fillna, .ffill, .bfill is deprecated and will change in a future version. Call result.infer_objects(copy=False) instead. To opt-in to the future behavior, set `pd.set_option('future.no_silent_downcasting', True)`\n",
            "  & (~mut_merged[\"STOP\"].fillna(False).astype(bool))\n",
            "<ipython-input-34-bc8a3a2bcc8a>:11: RuntimeWarning: overflow encountered in exp\n",
            "  return 1.0 / (1.0 + np.exp(-(x - xmid) / scale))\n"
          ]
        },
        {
          "output_type": "stream",
          "name": "stdout",
          "text": [
            "\n",
            "Fitting domain: Q9ULL8_PF00595_7\n",
            "    len: 1596\n",
            "    esm1vfl_score range: -19.528538703918457 1.085886001586914\n",
            "    scaled_gr_tofit range: -0.4454437854398401 1.34160410903858\n",
            "    best_params: xmid=-6.703, scale=1.0000, deviance=239.729\n",
            "\n",
            "Fitting domain: Q9UNF0_PF00018_428\n",
            "    len: 1064\n",
            "    esm1vfl_score range: -23.42646026611328 2.090569972991944\n",
            "    scaled_gr_tofit range: -0.73537012960434 1.2703391431298319\n"
          ]
        },
        {
          "output_type": "stream",
          "name": "stderr",
          "text": [
            "<ipython-input-35-cfc9933a455f>:12: FutureWarning: Downcasting object dtype arrays on .fillna, .ffill, .bfill is deprecated and will change in a future version. Call result.infer_objects(copy=False) instead. To opt-in to the future behavior, set `pd.set_option('future.no_silent_downcasting', True)`\n",
            "  & (~mut_merged[\"STOP\"].fillna(False).astype(bool))\n",
            "<ipython-input-34-bc8a3a2bcc8a>:11: RuntimeWarning: overflow encountered in exp\n",
            "  return 1.0 / (1.0 + np.exp(-(x - xmid) / scale))\n"
          ]
        },
        {
          "output_type": "stream",
          "name": "stdout",
          "text": [
            "    best_params: xmid=-15.972, scale=1.0000, deviance=259.147\n"
          ]
        },
        {
          "output_type": "stream",
          "name": "stderr",
          "text": [
            "<ipython-input-35-cfc9933a455f>:12: FutureWarning: Downcasting object dtype arrays on .fillna, .ffill, .bfill is deprecated and will change in a future version. Call result.infer_objects(copy=False) instead. To opt-in to the future behavior, set `pd.set_option('future.no_silent_downcasting', True)`\n",
            "  & (~mut_merged[\"STOP\"].fillna(False).astype(bool))\n",
            "<ipython-input-34-bc8a3a2bcc8a>:11: RuntimeWarning: overflow encountered in exp\n",
            "  return 1.0 / (1.0 + np.exp(-(x - xmid) / scale))\n"
          ]
        },
        {
          "output_type": "stream",
          "name": "stdout",
          "text": [
            "\n",
            "Fitting domain: Q9UPQ7_PF00595_244\n",
            "    len: 1519\n",
            "    esm1vfl_score range: -18.797444840745406 0.6490548710686289\n",
            "    scaled_gr_tofit range: -0.16622925146788003 1.329518322654046\n",
            "    best_params: xmid=-7.581, scale=1.0000, deviance=119.068\n"
          ]
        },
        {
          "output_type": "stream",
          "name": "stderr",
          "text": [
            "<ipython-input-35-cfc9933a455f>:12: FutureWarning: Downcasting object dtype arrays on .fillna, .ffill, .bfill is deprecated and will change in a future version. Call result.infer_objects(copy=False) instead. To opt-in to the future behavior, set `pd.set_option('future.no_silent_downcasting', True)`\n",
            "  & (~mut_merged[\"STOP\"].fillna(False).astype(bool))\n",
            "<ipython-input-34-bc8a3a2bcc8a>:11: RuntimeWarning: overflow encountered in exp\n",
            "  return 1.0 / (1.0 + np.exp(-(x - xmid) / scale))\n"
          ]
        },
        {
          "output_type": "stream",
          "name": "stdout",
          "text": [
            "\n",
            "Fitting domain: Q9UPQ7_PF00595_414\n",
            "    len: 1673\n",
            "    esm1vfl_score range: -21.492226600646973 0.9211964607238772\n",
            "    scaled_gr_tofit range: -0.36989918287861 1.43126381980727\n",
            "    best_params: xmid=-14.621, scale=1.0000, deviance=193.341\n",
            "\n",
            "Fitting domain: Q9UPW6_PF02376_358\n",
            "    len: 1371\n",
            "    esm1vfl_score range: -24.65487670898437 1.7680436372756958\n",
            "    scaled_gr_tofit range: -0.2373459854859299 1.197981211691233\n"
          ]
        },
        {
          "output_type": "stream",
          "name": "stderr",
          "text": [
            "<ipython-input-35-cfc9933a455f>:12: FutureWarning: Downcasting object dtype arrays on .fillna, .ffill, .bfill is deprecated and will change in a future version. Call result.infer_objects(copy=False) instead. To opt-in to the future behavior, set `pd.set_option('future.no_silent_downcasting', True)`\n",
            "  & (~mut_merged[\"STOP\"].fillna(False).astype(bool))\n",
            "<ipython-input-34-bc8a3a2bcc8a>:11: RuntimeWarning: overflow encountered in exp\n",
            "  return 1.0 / (1.0 + np.exp(-(x - xmid) / scale))\n"
          ]
        },
        {
          "output_type": "stream",
          "name": "stdout",
          "text": [
            "    best_params: xmid=-14.635, scale=1.0000, deviance=118.710\n"
          ]
        },
        {
          "output_type": "stream",
          "name": "stderr",
          "text": [
            "<ipython-input-35-cfc9933a455f>:12: FutureWarning: Downcasting object dtype arrays on .fillna, .ffill, .bfill is deprecated and will change in a future version. Call result.infer_objects(copy=False) instead. To opt-in to the future behavior, set `pd.set_option('future.no_silent_downcasting', True)`\n",
            "  & (~mut_merged[\"STOP\"].fillna(False).astype(bool))\n",
            "<ipython-input-34-bc8a3a2bcc8a>:11: RuntimeWarning: overflow encountered in exp\n",
            "  return 1.0 / (1.0 + np.exp(-(x - xmid) / scale))\n"
          ]
        },
        {
          "output_type": "stream",
          "name": "stdout",
          "text": [
            "\n",
            "Fitting domain: Q9UPW6_PF02376_482\n",
            "    len: 1220\n",
            "    esm1vfl_score range: -22.90127754211425 0.6369876861572266\n",
            "    scaled_gr_tofit range: -0.2854421527217099 1.488882080402165\n",
            "    best_params: xmid=-16.153, scale=1.0000, deviance=177.301\n"
          ]
        },
        {
          "output_type": "stream",
          "name": "stderr",
          "text": [
            "<ipython-input-35-cfc9933a455f>:12: FutureWarning: Downcasting object dtype arrays on .fillna, .ffill, .bfill is deprecated and will change in a future version. Call result.infer_objects(copy=False) instead. To opt-in to the future behavior, set `pd.set_option('future.no_silent_downcasting', True)`\n",
            "  & (~mut_merged[\"STOP\"].fillna(False).astype(bool))\n",
            "<ipython-input-34-bc8a3a2bcc8a>:11: RuntimeWarning: overflow encountered in exp\n",
            "  return 1.0 / (1.0 + np.exp(-(x - xmid) / scale))\n"
          ]
        },
        {
          "output_type": "stream",
          "name": "stdout",
          "text": [
            "\n",
            "Fitting domain: Q9UQR1_PF00096_172\n",
            "    len: 410\n",
            "    esm1vfl_score range: -22.761817932128903 1.972430229187012\n",
            "    scaled_gr_tofit range: -0.25000085058604005 1.48800288305889\n",
            "    best_params: xmid=-14.457, scale=1.0000, deviance=77.607\n",
            "\n",
            "Fitting domain: Q9Y222_PF00249_226\n",
            "    len: 740\n",
            "    esm1vfl_score range: -21.759464263916016 0.2929465770721435\n",
            "    scaled_gr_tofit range: -0.67725608707294 1.403414520732282\n"
          ]
        },
        {
          "output_type": "stream",
          "name": "stderr",
          "text": [
            "<ipython-input-35-cfc9933a455f>:12: FutureWarning: Downcasting object dtype arrays on .fillna, .ffill, .bfill is deprecated and will change in a future version. Call result.infer_objects(copy=False) instead. To opt-in to the future behavior, set `pd.set_option('future.no_silent_downcasting', True)`\n",
            "  & (~mut_merged[\"STOP\"].fillna(False).astype(bool))\n",
            "<ipython-input-34-bc8a3a2bcc8a>:11: RuntimeWarning: overflow encountered in exp\n",
            "  return 1.0 / (1.0 + np.exp(-(x - xmid) / scale))\n"
          ]
        },
        {
          "output_type": "stream",
          "name": "stdout",
          "text": [
            "    best_params: xmid=-14.068, scale=1.0000, deviance=258.432\n"
          ]
        },
        {
          "output_type": "stream",
          "name": "stderr",
          "text": [
            "<ipython-input-35-cfc9933a455f>:12: FutureWarning: Downcasting object dtype arrays on .fillna, .ffill, .bfill is deprecated and will change in a future version. Call result.infer_objects(copy=False) instead. To opt-in to the future behavior, set `pd.set_option('future.no_silent_downcasting', True)`\n",
            "  & (~mut_merged[\"STOP\"].fillna(False).astype(bool))\n",
            "<ipython-input-34-bc8a3a2bcc8a>:11: RuntimeWarning: overflow encountered in exp\n",
            "  return 1.0 / (1.0 + np.exp(-(x - xmid) / scale))\n"
          ]
        },
        {
          "output_type": "stream",
          "name": "stdout",
          "text": [
            "\n",
            "Fitting domain: Q9Y2G7_PF00096_411\n",
            "    len: 416\n",
            "    esm1vfl_score range: -16.616514205932617 0.25958251953125\n",
            "    scaled_gr_tofit range: -0.5807382895328601 1.750426979978446\n",
            "    best_params: xmid=-9.854, scale=1.0000, deviance=204.142\n",
            "\n",
            "Fitting domain: Q9Y2T7_PF00313_86\n",
            "    len: 981\n",
            "    esm1vfl_score range: -22.06769180297852 2.4490561485290527\n",
            "    scaled_gr_tofit range: -0.14997292052714006 1.17394425872392\n"
          ]
        },
        {
          "output_type": "stream",
          "name": "stderr",
          "text": [
            "<ipython-input-35-cfc9933a455f>:12: FutureWarning: Downcasting object dtype arrays on .fillna, .ffill, .bfill is deprecated and will change in a future version. Call result.infer_objects(copy=False) instead. To opt-in to the future behavior, set `pd.set_option('future.no_silent_downcasting', True)`\n",
            "  & (~mut_merged[\"STOP\"].fillna(False).astype(bool))\n",
            "<ipython-input-34-bc8a3a2bcc8a>:11: RuntimeWarning: overflow encountered in exp\n",
            "  return 1.0 / (1.0 + np.exp(-(x - xmid) / scale))\n"
          ]
        },
        {
          "output_type": "stream",
          "name": "stdout",
          "text": [
            "    best_params: xmid=-9.751, scale=1.0000, deviance=64.720\n"
          ]
        },
        {
          "output_type": "stream",
          "name": "stderr",
          "text": [
            "<ipython-input-35-cfc9933a455f>:12: FutureWarning: Downcasting object dtype arrays on .fillna, .ffill, .bfill is deprecated and will change in a future version. Call result.infer_objects(copy=False) instead. To opt-in to the future behavior, set `pd.set_option('future.no_silent_downcasting', True)`\n",
            "  & (~mut_merged[\"STOP\"].fillna(False).astype(bool))\n",
            "<ipython-input-34-bc8a3a2bcc8a>:11: RuntimeWarning: overflow encountered in exp\n",
            "  return 1.0 / (1.0 + np.exp(-(x - xmid) / scale))\n"
          ]
        },
        {
          "output_type": "stream",
          "name": "stdout",
          "text": [
            "\n",
            "Fitting domain: Q9Y3R0_PF00595_666\n",
            "    len: 1262\n",
            "    esm1vfl_score range: -21.207059144973755 -0.5156922340393068\n",
            "    scaled_gr_tofit range: -0.43005025286353993 1.763048272902022\n",
            "    best_params: xmid=-14.267, scale=1.0000, deviance=349.712\n"
          ]
        },
        {
          "output_type": "stream",
          "name": "stderr",
          "text": [
            "<ipython-input-35-cfc9933a455f>:12: FutureWarning: Downcasting object dtype arrays on .fillna, .ffill, .bfill is deprecated and will change in a future version. Call result.infer_objects(copy=False) instead. To opt-in to the future behavior, set `pd.set_option('future.no_silent_downcasting', True)`\n",
            "  & (~mut_merged[\"STOP\"].fillna(False).astype(bool))\n",
            "<ipython-input-34-bc8a3a2bcc8a>:11: RuntimeWarning: overflow encountered in exp\n",
            "  return 1.0 / (1.0 + np.exp(-(x - xmid) / scale))\n"
          ]
        },
        {
          "output_type": "stream",
          "name": "stdout",
          "text": [
            "\n",
            "Fitting domain: Q9Y462_PF00096_506\n",
            "    len: 414\n",
            "    esm1vfl_score range: -24.49887466430664 -2.2977609634399414\n",
            "    scaled_gr_tofit range: -0.71434961065394 1.49704058608362\n",
            "    best_params: xmid=-16.348, scale=1.0000, deviance=222.767\n",
            "\n",
            "Fitting domain: Q9Y4I5_PF03638_368\n",
            "    len: 590\n",
            "    esm1vfl_score range: -19.09625625610352 2.842326641082764\n",
            "    scaled_gr_tofit range: -0.91345394566211 1.898928205072197\n"
          ]
        },
        {
          "output_type": "stream",
          "name": "stderr",
          "text": [
            "<ipython-input-35-cfc9933a455f>:12: FutureWarning: Downcasting object dtype arrays on .fillna, .ffill, .bfill is deprecated and will change in a future version. Call result.infer_objects(copy=False) instead. To opt-in to the future behavior, set `pd.set_option('future.no_silent_downcasting', True)`\n",
            "  & (~mut_merged[\"STOP\"].fillna(False).astype(bool))\n",
            "<ipython-input-34-bc8a3a2bcc8a>:11: RuntimeWarning: overflow encountered in exp\n",
            "  return 1.0 / (1.0 + np.exp(-(x - xmid) / scale))\n"
          ]
        },
        {
          "output_type": "stream",
          "name": "stdout",
          "text": [
            "    best_params: xmid=-14.983, scale=1.0000, deviance=565.444\n",
            "\n",
            "Fitting domain: Q9Y4J8_PF00569_235\n",
            "    len: 1111\n",
            "    esm1vfl_score range: -22.2082748413086 -1.112675666809082\n",
            "    scaled_gr_tofit range: -0.59460284274516 1.370241476702129\n"
          ]
        },
        {
          "output_type": "stream",
          "name": "stderr",
          "text": [
            "<ipython-input-35-cfc9933a455f>:12: FutureWarning: Downcasting object dtype arrays on .fillna, .ffill, .bfill is deprecated and will change in a future version. Call result.infer_objects(copy=False) instead. To opt-in to the future behavior, set `pd.set_option('future.no_silent_downcasting', True)`\n",
            "  & (~mut_merged[\"STOP\"].fillna(False).astype(bool))\n",
            "<ipython-input-34-bc8a3a2bcc8a>:11: RuntimeWarning: overflow encountered in exp\n",
            "  return 1.0 / (1.0 + np.exp(-(x - xmid) / scale))\n"
          ]
        },
        {
          "output_type": "stream",
          "name": "stdout",
          "text": [
            "    best_params: xmid=-15.206, scale=1.0000, deviance=329.479\n",
            "\n",
            "Fitting domain: Q9Y5K6_PF00018_271\n",
            "    len: 1120\n",
            "    esm1vfl_score range: -23.16112327575684 0.7989935278892517\n",
            "    scaled_gr_tofit range: -0.1788732332779499 1.2751434752264679\n"
          ]
        },
        {
          "output_type": "stream",
          "name": "stderr",
          "text": [
            "<ipython-input-35-cfc9933a455f>:12: FutureWarning: Downcasting object dtype arrays on .fillna, .ffill, .bfill is deprecated and will change in a future version. Call result.infer_objects(copy=False) instead. To opt-in to the future behavior, set `pd.set_option('future.no_silent_downcasting', True)`\n",
            "  & (~mut_merged[\"STOP\"].fillna(False).astype(bool))\n",
            "<ipython-input-34-bc8a3a2bcc8a>:11: RuntimeWarning: overflow encountered in exp\n",
            "  return 1.0 / (1.0 + np.exp(-(x - xmid) / scale))\n"
          ]
        },
        {
          "output_type": "stream",
          "name": "stdout",
          "text": [
            "    best_params: xmid=-11.171, scale=1.0000, deviance=123.492\n",
            "\n",
            "Fitting domain: Q9Y5K6_PF14604_1\n",
            "    len: 803\n",
            "    esm1vfl_score range: -24.63763427734375 0.070475161075592\n",
            "    scaled_gr_tofit range: -0.20338728620462 1.228842278228882\n"
          ]
        },
        {
          "output_type": "stream",
          "name": "stderr",
          "text": [
            "<ipython-input-35-cfc9933a455f>:12: FutureWarning: Downcasting object dtype arrays on .fillna, .ffill, .bfill is deprecated and will change in a future version. Call result.infer_objects(copy=False) instead. To opt-in to the future behavior, set `pd.set_option('future.no_silent_downcasting', True)`\n",
            "  & (~mut_merged[\"STOP\"].fillna(False).astype(bool))\n",
            "<ipython-input-34-bc8a3a2bcc8a>:11: RuntimeWarning: overflow encountered in exp\n",
            "  return 1.0 / (1.0 + np.exp(-(x - xmid) / scale))\n"
          ]
        },
        {
          "output_type": "stream",
          "name": "stdout",
          "text": [
            "    best_params: xmid=-11.692, scale=1.0000, deviance=84.219\n",
            "\n",
            "Fitting domain: Q9Y5K6_PF14604_109\n",
            "    len: 999\n",
            "    esm1vfl_score range: -24.283981323242188 -0.0240602493286132\n",
            "    scaled_gr_tofit range: -0.2986037838709401 1.5034904337846489\n"
          ]
        },
        {
          "output_type": "stream",
          "name": "stderr",
          "text": [
            "<ipython-input-35-cfc9933a455f>:12: FutureWarning: Downcasting object dtype arrays on .fillna, .ffill, .bfill is deprecated and will change in a future version. Call result.infer_objects(copy=False) instead. To opt-in to the future behavior, set `pd.set_option('future.no_silent_downcasting', True)`\n",
            "  & (~mut_merged[\"STOP\"].fillna(False).astype(bool))\n",
            "<ipython-input-34-bc8a3a2bcc8a>:11: RuntimeWarning: overflow encountered in exp\n",
            "  return 1.0 / (1.0 + np.exp(-(x - xmid) / scale))\n"
          ]
        },
        {
          "output_type": "stream",
          "name": "stdout",
          "text": [
            "    best_params: xmid=-11.921, scale=1.0000, deviance=228.761\n",
            "\n",
            "Fitting domain: Q9Y6N9_PF00595_207\n",
            "    len: 1167\n",
            "    esm1vfl_score range: -21.31966590881348 4.071150302886963\n",
            "    scaled_gr_tofit range: -0.23835981213285007 1.308185321598652\n"
          ]
        },
        {
          "output_type": "stream",
          "name": "stderr",
          "text": [
            "<ipython-input-35-cfc9933a455f>:12: FutureWarning: Downcasting object dtype arrays on .fillna, .ffill, .bfill is deprecated and will change in a future version. Call result.infer_objects(copy=False) instead. To opt-in to the future behavior, set `pd.set_option('future.no_silent_downcasting', True)`\n",
            "  & (~mut_merged[\"STOP\"].fillna(False).astype(bool))\n",
            "<ipython-input-34-bc8a3a2bcc8a>:11: RuntimeWarning: overflow encountered in exp\n",
            "  return 1.0 / (1.0 + np.exp(-(x - xmid) / scale))\n"
          ]
        },
        {
          "output_type": "stream",
          "name": "stdout",
          "text": [
            "    best_params: xmid=-11.358, scale=1.0000, deviance=147.041\n",
            "\n",
            "All done fitting. df_res shape: (390130, 115)\n"
          ]
        }
      ]
    },
    {
      "cell_type": "code",
      "source": [
        "df_res.head()"
      ],
      "metadata": {
        "colab": {
          "base_uri": "https://localhost:8080/",
          "height": 256
        },
        "id": "9VcLSvYD65QN",
        "outputId": "a2042cf9-c488-4b91-898a-75ae50e53e89"
      },
      "execution_count": null,
      "outputs": [
        {
          "output_type": "execute_result",
          "data": {
            "text/plain": [
              "                                                   wt_seq  \\\n",
              "127973  EQYVVVANYQKQESSEISLSVGQVVDIIEKNESGWWFVSTAEEQGW...   \n",
              "128137  EQYVVVANYQKQESSEISLSVGQVVDIIEKNESGWWFVSTAEEQGW...   \n",
              "128423  EQYVVVANYQKQESSEISLSVGQVVDIIEKNESGWWFVSTAEEQGW...   \n",
              "128271  EQYVVVANYQKQESSEISLSVGQVVDIIEKNESGWWFVSTAEEQGW...   \n",
              "127750  EQYVVVANYQKQESSEISLSVGQVVDIIEKNESGWWFVSTAEEQGW...   \n",
              "\n",
              "                                                   aa_seq              dom_ID  \\\n",
              "127973  EQYVVVANYQKQESSEISLSVGQVVDIIEKNESGWPFVSTAEEQGW...  A1X283_PF00018_155   \n",
              "128137  EQYVVVANYQKQESSEISLSVGQVVDIIEKNESGWWFVSTAEEQGW...  A1X283_PF00018_155   \n",
              "128423  EQYVVVANYQKQESSEISLSVGQVVDIIPKNESGWWFVSTAEEQGW...  A1X283_PF00018_155   \n",
              "128271  EQYVVVANYQKQESSEISLSVGQVVDIIEKNESGWWFVSTAEEQPW...  A1X283_PF00018_155   \n",
              "127750  EQYVVVANYQKQESSEDSLSVGQVVDIIEKNESGWWFVSTAEEQGW...  A1X283_PF00018_155   \n",
              "\n",
              "                     variant_ID   pos  pos_in_uniprot     WT wt_aa mut_aa  \\\n",
              "127973  A1X283_PF00018_155_W36P  36.0           190.0  False     W      P   \n",
              "128137  A1X283_PF00018_155_L52D  52.0           206.0  False     L      D   \n",
              "128423  A1X283_PF00018_155_E29P  29.0           183.0  False     E      P   \n",
              "128271  A1X283_PF00018_155_G45P  45.0           199.0  False     G      P   \n",
              "127750  A1X283_PF00018_155_I17D  17.0           171.0  False     I      D   \n",
              "\n",
              "        nt_seq  ...  scaled_gr_sigma             dom_ID_lib  proline     core  \\\n",
              "127973     NaN  ...         0.183676  A1X283_PF00018_155_C6     True     core   \n",
              "128137     NaN  ...         0.170263  A1X283_PF00018_155_C6    False     core   \n",
              "128423     NaN  ...         0.260948  A1X283_PF00018_155_C6     True  surface   \n",
              "128271     NaN  ...         0.260798  A1X283_PF00018_155_C6     True     core   \n",
              "127750     NaN  ...         0.367817  A1X283_PF00018_155_C6    False     core   \n",
              "\n",
              "       mut_class esm1vfl_score   entropy  scaled_gr_tofit  sigmoid_pred  \\\n",
              "127973   proline    -21.380838  0.000766         0.157790      0.000187   \n",
              "128137     polar    -20.501884  0.002225         0.057796      0.000451   \n",
              "128423   proline    -20.393944  0.001451         0.025570      0.000502   \n",
              "128271   proline    -20.335192  0.000789        -0.190262      0.000533   \n",
              "127750     polar    -20.023136  0.027543         0.111198      0.000728   \n",
              "\n",
              "        esm1v_residual  \n",
              "127973        0.157602  \n",
              "128137        0.057345  \n",
              "128423        0.025067  \n",
              "128271       -0.190795  \n",
              "127750        0.110470  \n",
              "\n",
              "[5 rows x 115 columns]"
            ],
            "text/html": [
              "\n",
              "  <div id=\"df-0cfc44a5-e681-4acf-910e-1d1b18ed7ccf\" class=\"colab-df-container\">\n",
              "    <div>\n",
              "<style scoped>\n",
              "    .dataframe tbody tr th:only-of-type {\n",
              "        vertical-align: middle;\n",
              "    }\n",
              "\n",
              "    .dataframe tbody tr th {\n",
              "        vertical-align: top;\n",
              "    }\n",
              "\n",
              "    .dataframe thead th {\n",
              "        text-align: right;\n",
              "    }\n",
              "</style>\n",
              "<table border=\"1\" class=\"dataframe\">\n",
              "  <thead>\n",
              "    <tr style=\"text-align: right;\">\n",
              "      <th></th>\n",
              "      <th>wt_seq</th>\n",
              "      <th>aa_seq</th>\n",
              "      <th>dom_ID</th>\n",
              "      <th>variant_ID</th>\n",
              "      <th>pos</th>\n",
              "      <th>pos_in_uniprot</th>\n",
              "      <th>WT</th>\n",
              "      <th>wt_aa</th>\n",
              "      <th>mut_aa</th>\n",
              "      <th>nt_seq</th>\n",
              "      <th>...</th>\n",
              "      <th>scaled_gr_sigma</th>\n",
              "      <th>dom_ID_lib</th>\n",
              "      <th>proline</th>\n",
              "      <th>core</th>\n",
              "      <th>mut_class</th>\n",
              "      <th>esm1vfl_score</th>\n",
              "      <th>entropy</th>\n",
              "      <th>scaled_gr_tofit</th>\n",
              "      <th>sigmoid_pred</th>\n",
              "      <th>esm1v_residual</th>\n",
              "    </tr>\n",
              "  </thead>\n",
              "  <tbody>\n",
              "    <tr>\n",
              "      <th>127973</th>\n",
              "      <td>EQYVVVANYQKQESSEISLSVGQVVDIIEKNESGWWFVSTAEEQGW...</td>\n",
              "      <td>EQYVVVANYQKQESSEISLSVGQVVDIIEKNESGWPFVSTAEEQGW...</td>\n",
              "      <td>A1X283_PF00018_155</td>\n",
              "      <td>A1X283_PF00018_155_W36P</td>\n",
              "      <td>36.0</td>\n",
              "      <td>190.0</td>\n",
              "      <td>False</td>\n",
              "      <td>W</td>\n",
              "      <td>P</td>\n",
              "      <td>NaN</td>\n",
              "      <td>...</td>\n",
              "      <td>0.183676</td>\n",
              "      <td>A1X283_PF00018_155_C6</td>\n",
              "      <td>True</td>\n",
              "      <td>core</td>\n",
              "      <td>proline</td>\n",
              "      <td>-21.380838</td>\n",
              "      <td>0.000766</td>\n",
              "      <td>0.157790</td>\n",
              "      <td>0.000187</td>\n",
              "      <td>0.157602</td>\n",
              "    </tr>\n",
              "    <tr>\n",
              "      <th>128137</th>\n",
              "      <td>EQYVVVANYQKQESSEISLSVGQVVDIIEKNESGWWFVSTAEEQGW...</td>\n",
              "      <td>EQYVVVANYQKQESSEISLSVGQVVDIIEKNESGWWFVSTAEEQGW...</td>\n",
              "      <td>A1X283_PF00018_155</td>\n",
              "      <td>A1X283_PF00018_155_L52D</td>\n",
              "      <td>52.0</td>\n",
              "      <td>206.0</td>\n",
              "      <td>False</td>\n",
              "      <td>L</td>\n",
              "      <td>D</td>\n",
              "      <td>NaN</td>\n",
              "      <td>...</td>\n",
              "      <td>0.170263</td>\n",
              "      <td>A1X283_PF00018_155_C6</td>\n",
              "      <td>False</td>\n",
              "      <td>core</td>\n",
              "      <td>polar</td>\n",
              "      <td>-20.501884</td>\n",
              "      <td>0.002225</td>\n",
              "      <td>0.057796</td>\n",
              "      <td>0.000451</td>\n",
              "      <td>0.057345</td>\n",
              "    </tr>\n",
              "    <tr>\n",
              "      <th>128423</th>\n",
              "      <td>EQYVVVANYQKQESSEISLSVGQVVDIIEKNESGWWFVSTAEEQGW...</td>\n",
              "      <td>EQYVVVANYQKQESSEISLSVGQVVDIIPKNESGWWFVSTAEEQGW...</td>\n",
              "      <td>A1X283_PF00018_155</td>\n",
              "      <td>A1X283_PF00018_155_E29P</td>\n",
              "      <td>29.0</td>\n",
              "      <td>183.0</td>\n",
              "      <td>False</td>\n",
              "      <td>E</td>\n",
              "      <td>P</td>\n",
              "      <td>NaN</td>\n",
              "      <td>...</td>\n",
              "      <td>0.260948</td>\n",
              "      <td>A1X283_PF00018_155_C6</td>\n",
              "      <td>True</td>\n",
              "      <td>surface</td>\n",
              "      <td>proline</td>\n",
              "      <td>-20.393944</td>\n",
              "      <td>0.001451</td>\n",
              "      <td>0.025570</td>\n",
              "      <td>0.000502</td>\n",
              "      <td>0.025067</td>\n",
              "    </tr>\n",
              "    <tr>\n",
              "      <th>128271</th>\n",
              "      <td>EQYVVVANYQKQESSEISLSVGQVVDIIEKNESGWWFVSTAEEQGW...</td>\n",
              "      <td>EQYVVVANYQKQESSEISLSVGQVVDIIEKNESGWWFVSTAEEQPW...</td>\n",
              "      <td>A1X283_PF00018_155</td>\n",
              "      <td>A1X283_PF00018_155_G45P</td>\n",
              "      <td>45.0</td>\n",
              "      <td>199.0</td>\n",
              "      <td>False</td>\n",
              "      <td>G</td>\n",
              "      <td>P</td>\n",
              "      <td>NaN</td>\n",
              "      <td>...</td>\n",
              "      <td>0.260798</td>\n",
              "      <td>A1X283_PF00018_155_C6</td>\n",
              "      <td>True</td>\n",
              "      <td>core</td>\n",
              "      <td>proline</td>\n",
              "      <td>-20.335192</td>\n",
              "      <td>0.000789</td>\n",
              "      <td>-0.190262</td>\n",
              "      <td>0.000533</td>\n",
              "      <td>-0.190795</td>\n",
              "    </tr>\n",
              "    <tr>\n",
              "      <th>127750</th>\n",
              "      <td>EQYVVVANYQKQESSEISLSVGQVVDIIEKNESGWWFVSTAEEQGW...</td>\n",
              "      <td>EQYVVVANYQKQESSEDSLSVGQVVDIIEKNESGWWFVSTAEEQGW...</td>\n",
              "      <td>A1X283_PF00018_155</td>\n",
              "      <td>A1X283_PF00018_155_I17D</td>\n",
              "      <td>17.0</td>\n",
              "      <td>171.0</td>\n",
              "      <td>False</td>\n",
              "      <td>I</td>\n",
              "      <td>D</td>\n",
              "      <td>NaN</td>\n",
              "      <td>...</td>\n",
              "      <td>0.367817</td>\n",
              "      <td>A1X283_PF00018_155_C6</td>\n",
              "      <td>False</td>\n",
              "      <td>core</td>\n",
              "      <td>polar</td>\n",
              "      <td>-20.023136</td>\n",
              "      <td>0.027543</td>\n",
              "      <td>0.111198</td>\n",
              "      <td>0.000728</td>\n",
              "      <td>0.110470</td>\n",
              "    </tr>\n",
              "  </tbody>\n",
              "</table>\n",
              "<p>5 rows × 115 columns</p>\n",
              "</div>\n",
              "    <div class=\"colab-df-buttons\">\n",
              "\n",
              "  <div class=\"colab-df-container\">\n",
              "    <button class=\"colab-df-convert\" onclick=\"convertToInteractive('df-0cfc44a5-e681-4acf-910e-1d1b18ed7ccf')\"\n",
              "            title=\"Convert this dataframe to an interactive table.\"\n",
              "            style=\"display:none;\">\n",
              "\n",
              "  <svg xmlns=\"http://www.w3.org/2000/svg\" height=\"24px\" viewBox=\"0 -960 960 960\">\n",
              "    <path d=\"M120-120v-720h720v720H120Zm60-500h600v-160H180v160Zm220 220h160v-160H400v160Zm0 220h160v-160H400v160ZM180-400h160v-160H180v160Zm440 0h160v-160H620v160ZM180-180h160v-160H180v160Zm440 0h160v-160H620v160Z\"/>\n",
              "  </svg>\n",
              "    </button>\n",
              "\n",
              "  <style>\n",
              "    .colab-df-container {\n",
              "      display:flex;\n",
              "      gap: 12px;\n",
              "    }\n",
              "\n",
              "    .colab-df-convert {\n",
              "      background-color: #E8F0FE;\n",
              "      border: none;\n",
              "      border-radius: 50%;\n",
              "      cursor: pointer;\n",
              "      display: none;\n",
              "      fill: #1967D2;\n",
              "      height: 32px;\n",
              "      padding: 0 0 0 0;\n",
              "      width: 32px;\n",
              "    }\n",
              "\n",
              "    .colab-df-convert:hover {\n",
              "      background-color: #E2EBFA;\n",
              "      box-shadow: 0px 1px 2px rgba(60, 64, 67, 0.3), 0px 1px 3px 1px rgba(60, 64, 67, 0.15);\n",
              "      fill: #174EA6;\n",
              "    }\n",
              "\n",
              "    .colab-df-buttons div {\n",
              "      margin-bottom: 4px;\n",
              "    }\n",
              "\n",
              "    [theme=dark] .colab-df-convert {\n",
              "      background-color: #3B4455;\n",
              "      fill: #D2E3FC;\n",
              "    }\n",
              "\n",
              "    [theme=dark] .colab-df-convert:hover {\n",
              "      background-color: #434B5C;\n",
              "      box-shadow: 0px 1px 3px 1px rgba(0, 0, 0, 0.15);\n",
              "      filter: drop-shadow(0px 1px 2px rgba(0, 0, 0, 0.3));\n",
              "      fill: #FFFFFF;\n",
              "    }\n",
              "  </style>\n",
              "\n",
              "    <script>\n",
              "      const buttonEl =\n",
              "        document.querySelector('#df-0cfc44a5-e681-4acf-910e-1d1b18ed7ccf button.colab-df-convert');\n",
              "      buttonEl.style.display =\n",
              "        google.colab.kernel.accessAllowed ? 'block' : 'none';\n",
              "\n",
              "      async function convertToInteractive(key) {\n",
              "        const element = document.querySelector('#df-0cfc44a5-e681-4acf-910e-1d1b18ed7ccf');\n",
              "        const dataTable =\n",
              "          await google.colab.kernel.invokeFunction('convertToInteractive',\n",
              "                                                    [key], {});\n",
              "        if (!dataTable) return;\n",
              "\n",
              "        const docLinkHtml = 'Like what you see? Visit the ' +\n",
              "          '<a target=\"_blank\" href=https://colab.research.google.com/notebooks/data_table.ipynb>data table notebook</a>'\n",
              "          + ' to learn more about interactive tables.';\n",
              "        element.innerHTML = '';\n",
              "        dataTable['output_type'] = 'display_data';\n",
              "        await google.colab.output.renderOutput(dataTable, element);\n",
              "        const docLink = document.createElement('div');\n",
              "        docLink.innerHTML = docLinkHtml;\n",
              "        element.appendChild(docLink);\n",
              "      }\n",
              "    </script>\n",
              "  </div>\n",
              "\n",
              "\n",
              "<div id=\"df-500547a0-6dd4-48f8-8786-1d176b7c07fe\">\n",
              "  <button class=\"colab-df-quickchart\" onclick=\"quickchart('df-500547a0-6dd4-48f8-8786-1d176b7c07fe')\"\n",
              "            title=\"Suggest charts\"\n",
              "            style=\"display:none;\">\n",
              "\n",
              "<svg xmlns=\"http://www.w3.org/2000/svg\" height=\"24px\"viewBox=\"0 0 24 24\"\n",
              "     width=\"24px\">\n",
              "    <g>\n",
              "        <path d=\"M19 3H5c-1.1 0-2 .9-2 2v14c0 1.1.9 2 2 2h14c1.1 0 2-.9 2-2V5c0-1.1-.9-2-2-2zM9 17H7v-7h2v7zm4 0h-2V7h2v10zm4 0h-2v-4h2v4z\"/>\n",
              "    </g>\n",
              "</svg>\n",
              "  </button>\n",
              "\n",
              "<style>\n",
              "  .colab-df-quickchart {\n",
              "      --bg-color: #E8F0FE;\n",
              "      --fill-color: #1967D2;\n",
              "      --hover-bg-color: #E2EBFA;\n",
              "      --hover-fill-color: #174EA6;\n",
              "      --disabled-fill-color: #AAA;\n",
              "      --disabled-bg-color: #DDD;\n",
              "  }\n",
              "\n",
              "  [theme=dark] .colab-df-quickchart {\n",
              "      --bg-color: #3B4455;\n",
              "      --fill-color: #D2E3FC;\n",
              "      --hover-bg-color: #434B5C;\n",
              "      --hover-fill-color: #FFFFFF;\n",
              "      --disabled-bg-color: #3B4455;\n",
              "      --disabled-fill-color: #666;\n",
              "  }\n",
              "\n",
              "  .colab-df-quickchart {\n",
              "    background-color: var(--bg-color);\n",
              "    border: none;\n",
              "    border-radius: 50%;\n",
              "    cursor: pointer;\n",
              "    display: none;\n",
              "    fill: var(--fill-color);\n",
              "    height: 32px;\n",
              "    padding: 0;\n",
              "    width: 32px;\n",
              "  }\n",
              "\n",
              "  .colab-df-quickchart:hover {\n",
              "    background-color: var(--hover-bg-color);\n",
              "    box-shadow: 0 1px 2px rgba(60, 64, 67, 0.3), 0 1px 3px 1px rgba(60, 64, 67, 0.15);\n",
              "    fill: var(--button-hover-fill-color);\n",
              "  }\n",
              "\n",
              "  .colab-df-quickchart-complete:disabled,\n",
              "  .colab-df-quickchart-complete:disabled:hover {\n",
              "    background-color: var(--disabled-bg-color);\n",
              "    fill: var(--disabled-fill-color);\n",
              "    box-shadow: none;\n",
              "  }\n",
              "\n",
              "  .colab-df-spinner {\n",
              "    border: 2px solid var(--fill-color);\n",
              "    border-color: transparent;\n",
              "    border-bottom-color: var(--fill-color);\n",
              "    animation:\n",
              "      spin 1s steps(1) infinite;\n",
              "  }\n",
              "\n",
              "  @keyframes spin {\n",
              "    0% {\n",
              "      border-color: transparent;\n",
              "      border-bottom-color: var(--fill-color);\n",
              "      border-left-color: var(--fill-color);\n",
              "    }\n",
              "    20% {\n",
              "      border-color: transparent;\n",
              "      border-left-color: var(--fill-color);\n",
              "      border-top-color: var(--fill-color);\n",
              "    }\n",
              "    30% {\n",
              "      border-color: transparent;\n",
              "      border-left-color: var(--fill-color);\n",
              "      border-top-color: var(--fill-color);\n",
              "      border-right-color: var(--fill-color);\n",
              "    }\n",
              "    40% {\n",
              "      border-color: transparent;\n",
              "      border-right-color: var(--fill-color);\n",
              "      border-top-color: var(--fill-color);\n",
              "    }\n",
              "    60% {\n",
              "      border-color: transparent;\n",
              "      border-right-color: var(--fill-color);\n",
              "    }\n",
              "    80% {\n",
              "      border-color: transparent;\n",
              "      border-right-color: var(--fill-color);\n",
              "      border-bottom-color: var(--fill-color);\n",
              "    }\n",
              "    90% {\n",
              "      border-color: transparent;\n",
              "      border-bottom-color: var(--fill-color);\n",
              "    }\n",
              "  }\n",
              "</style>\n",
              "\n",
              "  <script>\n",
              "    async function quickchart(key) {\n",
              "      const quickchartButtonEl =\n",
              "        document.querySelector('#' + key + ' button');\n",
              "      quickchartButtonEl.disabled = true;  // To prevent multiple clicks.\n",
              "      quickchartButtonEl.classList.add('colab-df-spinner');\n",
              "      try {\n",
              "        const charts = await google.colab.kernel.invokeFunction(\n",
              "            'suggestCharts', [key], {});\n",
              "      } catch (error) {\n",
              "        console.error('Error during call to suggestCharts:', error);\n",
              "      }\n",
              "      quickchartButtonEl.classList.remove('colab-df-spinner');\n",
              "      quickchartButtonEl.classList.add('colab-df-quickchart-complete');\n",
              "    }\n",
              "    (() => {\n",
              "      let quickchartButtonEl =\n",
              "        document.querySelector('#df-500547a0-6dd4-48f8-8786-1d176b7c07fe button');\n",
              "      quickchartButtonEl.style.display =\n",
              "        google.colab.kernel.accessAllowed ? 'block' : 'none';\n",
              "    })();\n",
              "  </script>\n",
              "</div>\n",
              "\n",
              "    </div>\n",
              "  </div>\n"
            ],
            "application/vnd.google.colaboratory.intrinsic+json": {
              "type": "dataframe",
              "variable_name": "df_res"
            }
          },
          "metadata": {},
          "execution_count": 36
        }
      ]
    },
    {
      "cell_type": "code",
      "source": [
        "import pandas as pd\n",
        "import numpy as np\n",
        "from scipy.stats import norm\n",
        "from statsmodels.stats.multitest import fdrcorrection\n",
        "\n",
        "# Load\n",
        "df_res = pd.read_csv(\"/content/mutation_level_residuals_debug (1).csv\")\n",
        "\n",
        "#Drop NAs\n",
        "df_res = df_res.dropna(subset=[\"dom_ID\", \"esm1v_residual\"])\n",
        "\n",
        "#Drop NAs in key columns\n",
        "df_res = df_res.dropna(subset=[\"esm1v_residual\", \"scaled_gr_sigma\"])\n",
        "\n",
        "#Avoid division by zero\n",
        "df_res[\"scaled_gr_sigma\"] = df_res[\"scaled_gr_sigma\"].replace(0, 1e-9)\n",
        "\n",
        "#Compute z using experimental error\n",
        "df_res[\"z_scaled_sigma\"] = df_res[\"esm1v_residual\"] / df_res[\"scaled_gr_sigma\"]\n",
        "\n",
        "#Two-sided p-value\n",
        "df_res[\"pval_sigma\"] = 2 * (1 - norm.cdf(np.abs(df_res[\"z_scaled_sigma\"])))\n",
        "\n",
        "#FDR correction globally\n",
        "df_res[\"fdr_sigma\"] = fdrcorrection(df_res[\"pval_sigma\"])[1]\n",
        "\n",
        "#Apply threshold\n",
        "df_res[\"significant_sigma\"] = (df_res[\"fdr_sigma\"] < 0.1) & (df_res[\"esm1v_residual\"] > 0.3)\n",
        "\n",
        "print(\"\\nResidual stats:\\n\", df_res[\"esm1v_residual\"].describe())\n",
        "\n",
        "print(\"Significant hits (residual > 0.3, FDR < 0.1 using sigma):\", df_res[\"significant_sigma\"].sum())"
      ],
      "metadata": {
        "colab": {
          "base_uri": "https://localhost:8080/"
        },
        "id": "U8-zavFFQ2_c",
        "outputId": "a87d8335-b47b-4238-823b-a5edc63e5b86"
      },
      "execution_count": null,
      "outputs": [
        {
          "output_type": "stream",
          "name": "stderr",
          "text": [
            "<ipython-input-8-1167c84fc6f3>:7: DtypeWarning: Columns (107) have mixed types. Specify dtype option on import or set low_memory=False.\n",
            "  df_res = pd.read_csv(\"/content/mutation_level_residuals_debug (1).csv\")\n"
          ]
        },
        {
          "output_type": "stream",
          "name": "stdout",
          "text": [
            "\n",
            "Residual stats:\n",
            " count    390130.000000\n",
            "mean          0.121375\n",
            "std           0.381859\n",
            "min          -4.115280\n",
            "25%          -0.101810\n",
            "50%           0.060201\n",
            "75%           0.344690\n",
            "max           2.306678\n",
            "Name: esm1v_residual, dtype: float64\n",
            "Significant hits (residual > 0.3, FDR < 0.1 using sigma): 102784\n"
          ]
        }
      ]
    },
    {
      "cell_type": "code",
      "source": [
        "# Plot distribution of residuals\n",
        "plt.figure(figsize=(7,5))\n",
        "sns.histplot(df_res[\"esm1v_residual\"], bins=50, kde=True)\n",
        "plt.axvline(0.3, color=\"red\", linestyle=\"--\", label=\"res=0.3\")\n",
        "plt.title(\"Histogram of Residuals\")\n",
        "plt.legend()\n",
        "plt.show()"
      ],
      "metadata": {
        "colab": {
          "base_uri": "https://localhost:8080/",
          "height": 487
        },
        "id": "EnINZoe-U6Pi",
        "outputId": "8c1ec21d-c614-4ba8-d876-e510f7c3fade"
      },
      "execution_count": null,
      "outputs": [
        {
          "output_type": "display_data",
          "data": {
            "text/plain": [
              "<Figure size 700x500 with 1 Axes>"
            ],
            "image/png": "[encoded data removed]"
          },
          "metadata": {}
        }
      ]
    },
    {
      "cell_type": "code",
      "source": [
        "#Output\n",
        "\n",
        "df_res.to_csv(\"mutation_level_residuals_debug.csv\", index=False)\n",
        "print(\"Saved final residuals to mutation_level_residuals.csv\")"
      ],
      "metadata": {
        "colab": {
          "base_uri": "https://localhost:8080/"
        },
        "id": "LR0dmp6FEKOr",
        "outputId": "19de48bf-dd27-4d83-f393-8171c0ca4114"
      },
      "execution_count": null,
      "outputs": [
        {
          "output_type": "stream",
          "name": "stdout",
          "text": [
            "Saved final residuals to mutation_level_residuals.csv\n"
          ]
        }
      ]
    },
    {
      "cell_type": "code",
      "source": [
        "#Residue-Level Aggregation & Save\n",
        "\n",
        "if \"uniprot_ID\" not in df_res.columns:\n",
        "  df_res[\"uniprot_ID\"] = df_res[\"dom_ID\"].str.split(\"_\", n=1, expand=True)[0]\n",
        "\n",
        "df_res['residue_key'] = df_res['uniprot_ID'] + '_' + df_res['pos_in_uniprot'].astype(str)\n",
        "\n",
        "residue_agg = df_res.groupby('residue_key').agg(merged_residual=('esm1v_residual', 'mean'), n_mutations=('variant_ID', 'count'), dom_ID=('dom_ID', 'first'),\n",
        "  pos_in_uniprot=('pos_in_uniprot', 'first'), uniprot_ID=('uniprot_ID', 'first')).reset_index()\n",
        "\n",
        "#define 'likely_functional'\n",
        "residue_agg['likely_functional'] = residue_agg['merged_residual'] > 0.3\n",
        "\n",
        "residue_agg.to_csv(\"residue_level_functional_sites.csv\", index=False)\n",
        "print(\"Also saved residue-level file to residue_level_functional_sites.csv\")"
      ],
      "metadata": {
        "colab": {
          "base_uri": "https://localhost:8080/"
        },
        "id": "HwYML2e2TdJD",
        "outputId": "a66fd3bf-ae0b-4a35-a071-3432f331f73e"
      },
      "execution_count": null,
      "outputs": [
        {
          "output_type": "stream",
          "name": "stdout",
          "text": [
            "Also saved residue-level file to residue_level_functional_sites.csv\n"
          ]
        }
      ]
    },
    {
      "cell_type": "code",
      "source": [
        "# Number of likely functional sites (X)\n",
        "X = residue_agg[\"likely_functional\"].sum()\n",
        "\n",
        "# Number of unique domains where these occur (Y)\n",
        "Y = residue_agg.loc[residue_agg[\"likely_functional\"], \"dom_ID\"].nunique()\n",
        "\n",
        "print(f\"Likely functional residues: {X}\")\n",
        "print(f\"Across domains: {Y}\")"
      ],
      "metadata": {
        "id": "cNcQEoNPe2iM",
        "outputId": "e41d6d44-d84a-4954-d164-1f5fb39d0e2d",
        "colab": {
          "base_uri": "https://localhost:8080/"
        }
      },
      "execution_count": null,
      "outputs": [
        {
          "output_type": "stream",
          "name": "stdout",
          "text": [
            "Likely functional residues: 5079\n",
            "Across domains: 389\n"
          ]
        }
      ]
    }
  ]
}